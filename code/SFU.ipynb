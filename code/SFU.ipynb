{
 "cells": [
  {
   "cell_type": "code",
   "execution_count": 9,
   "metadata": {},
   "outputs": [],
   "source": [
    "# Gensim\n",
    "import gensim\n",
    "import gensim.corpora as corpora\n",
    "from gensim.utils import simple_preprocess\n",
    "from gensim.models import CoherenceModel\n",
    "# spacy for lemmatization\n",
    "import spacy\n",
    "import re\n",
    "import numpy as np\n",
    "import pandas as pd\n",
    "from pprint import pprint\n",
    "import glob\n",
    "\n",
    "from sklearn import tree\n",
    "import matplotlib.pyplot as plt"
   ]
  },
  {
   "cell_type": "code",
   "execution_count": 2,
   "metadata": {},
   "outputs": [
    {
     "name": "stdout",
     "output_type": "stream",
     "text": [
      "Column names are article_id, comment_counter, comment_author, timestamp, post_time, comment_text, TotalVotes, posVotes, negVotes, vote, reactions, replies, comment_id, parentID, threadID, streamId, edited, isModerator, highlightGroups, moderatorEdit, descendantsCount, threadTimestamp, flagCount, sender_isSelf, sender_loginProvider, data_type, is_empty, status\n",
      "Processed 801 lines.\n"
     ]
    }
   ],
   "source": [
    "import csv\n",
    "comments=[]\n",
    "with open('../SOCC/raw/gnm_comments.csv') as csv_file:\n",
    "    csv_reader = csv.reader(csv_file, delimiter=',')\n",
    "    line_count = 0\n",
    "    for row in csv_reader:\n",
    "        if line_count == 0:\n",
    "            print(f'Column names are {\", \".join(row)}')\n",
    "            line_count += 1\n",
    "        else:\n",
    "            comments.append(row[5])\n",
    "            line_count += 1\n",
    "        if line_count>800:\n",
    "            break\n",
    "    print(f'Processed {line_count} lines.')"
   ]
  },
  {
   "cell_type": "code",
   "execution_count": 30,
   "metadata": {},
   "outputs": [
    {
     "data": {
      "text/plain": [
       "663173"
      ]
     },
     "execution_count": 30,
     "metadata": {},
     "output_type": "execute_result"
    }
   ],
   "source": [
    "len(comments)"
   ]
  },
  {
   "cell_type": "code",
   "execution_count": 3,
   "metadata": {},
   "outputs": [],
   "source": [
    "def preprocess(input):\n",
    "    from nltk.corpus import stopwords\n",
    "    stop_words = stopwords.words('english')\n",
    "\n",
    "    bigram = gensim.models.Phrases(input, min_count=5, threshold=100) # higher threshold fewer phrases.\n",
    "    \n",
    "    # Faster way to get a sentence clubbed as a trigram/bigram\n",
    "    bigram_mod = gensim.models.phrases.Phraser(bigram)\n",
    "   \n",
    "    # See trigram example\n",
    "    def remove_stopwords(texts):\n",
    "        return [[word for word in simple_preprocess(str(doc)) if word not in stop_words] for doc in texts]\n",
    "\n",
    "    def make_bigrams(texts):\n",
    "        return [bigram_mod[doc] for doc in texts]\n",
    "\n",
    "   \n",
    "    def lemmatization(texts, allowed_postags=['NOUN', 'ADJ', 'VERB', 'ADV']):\n",
    "        \"\"\"https://spacy.io/api/annotation\"\"\"\n",
    "        texts_out = []\n",
    "        for sent in texts:\n",
    "            doc = nlp(\" \".join(sent)) \n",
    "            texts_out.append([token.lemma_ for token in doc if token.pos_ in allowed_postags])\n",
    "        return texts_out\n",
    "\n",
    "    # Remove Stop Words\n",
    "    data_words_nostops = remove_stopwords(input)\n",
    "\n",
    "    # Form Bigrams\n",
    "    data_words_bigrams = make_bigrams(data_words_nostops)\n",
    "\n",
    "    # Initialize spacy 'en' model, keeping only tagger component (for efficiency)\n",
    "    # python3 -m spacy download en\n",
    "    nlp = spacy.load('en', disable=['parser', 'ner'])\n",
    "    nlp.max_length = 9297925\n",
    "    # Do lemmatization keeping only noun, adj, vb, adv\n",
    "    data_lemmatized = lemmatization(data_words_bigrams, allowed_postags=['NOUN', 'ADJ', 'VERB', 'ADV'])\n",
    "    return data_lemmatized"
   ]
  },
  {
   "cell_type": "code",
   "execution_count": 4,
   "metadata": {},
   "outputs": [],
   "source": [
    "def sent_to_words(sentences):\n",
    "    for sentence in sentences:\n",
    "        yield(gensim.utils.simple_preprocess(str(sentence), deacc=True))  # deacc=True removes punctuations\n",
    "data_words = list(sent_to_words(comments))"
   ]
  },
  {
   "cell_type": "code",
   "execution_count": 5,
   "metadata": {},
   "outputs": [
    {
     "name": "stderr",
     "output_type": "stream",
     "text": [
      "WARNING:root:random_state not set so using default value\n",
      "WARNING:root:failed to load state from ./models/model-050.state: [Errno 2] No such file or directory: './models/model-050.state'\n"
     ]
    }
   ],
   "source": [
    "mallet_path = 'mallet-2.0.8/bin/mallet' # update this path\n",
    "\n",
    "mallet_model=gensim.models.LdaModel.load('./models/model-050')\n",
    "\n",
    "##pprint(mallet_model.print_topics(50,30))\n",
    "\n",
    "##unwrap the model\n",
    "model=gensim.models.wrappers.ldamallet.malletmodel2ldamodel(mallet_model, gamma_threshold=0.001, iterations=50)"
   ]
  },
  {
   "cell_type": "code",
   "execution_count": 6,
   "metadata": {},
   "outputs": [
    {
     "name": "stdout",
     "output_type": "stream",
     "text": [
      "[[(6, 1), (77, 1), (95, 1), (164, 1), (170, 1), (195, 1), (245, 1), (264, 1), (338, 1), (380, 1), (381, 1), (477, 1), (504, 1), (573, 1), (614, 2), (695, 1), (744, 1), (796, 1), (811, 1), (822, 1), (838, 1), (934, 1), (1006, 1), (1277, 1), (1387, 1), (1765, 1), (1796, 4), (2009, 1), (2111, 1), (2156, 1), (2164, 1), (2368, 1), (2410, 1), (2430, 1), (3087, 2), (4784, 1), (5258, 3), (5442, 1), (6214, 1), (9141, 1), (10538, 1), (11765, 1), (19024, 1), (60072, 1), (137671, 1)]]\n"
     ]
    }
   ],
   "source": [
    "# Create Dictionary\n",
    "id2word = mallet_model.id2word\n",
    "# Create Corpus\n",
    "texts = preprocess(data_words)\n",
    "# Term Document Frequency\n",
    "corpus = [id2word.doc2bow(text) for text in texts]\n",
    "# View\n",
    "print(corpus[:1])\n",
    "X=np.asarray(model.inference(corpus)[0])\n",
    "num_topics=len(X[0])\n",
    "##normalize it\n",
    "X=(X.T/np.sum(X,axis=1)).T\n",
    "Y=np.asarray([len(text) for text in texts])\n",
    "useless_topics=[6,12,19,21,30,35,38,44]##remove non-topical features\n",
    "for useless_topic in useless_topics:\n",
    "    X[:,useless_topic]=0"
   ]
  },
  {
   "cell_type": "code",
   "execution_count": 7,
   "metadata": {},
   "outputs": [],
   "source": [
    "import pickle\n",
    "f=open(\"./models/forest.pkl\",\"rb\")\n",
    "forest=pickle.loads(f.read())\n",
    "f.close()"
   ]
  },
  {
   "cell_type": "code",
   "execution_count": 10,
   "metadata": {},
   "outputs": [
    {
     "name": "stdout",
     "output_type": "stream",
     "text": [
      "predictions:   [51 25 16 45 39 48 45 29 51  2 25 99  4  4  1 59  7 16]\n",
      "actual length: [ 58  25  17  41  40  45  54  26  46   2  29 132   5   7   1  63   7  17]\n"
     ]
    },
    {
     "data": {
      "image/png": "[encoded data removed]",
      "text/plain": [
       "<Figure size 432x288 with 1 Axes>"
      ]
     },
     "metadata": {
      "needs_background": "light"
     },
     "output_type": "display_data"
    }
   ],
   "source": [
    "from scipy.stats.stats import pearsonr\n",
    "correlations=[]\n",
    "for size in range (1,101):\n",
    "    predictions=forest[0].predict(X)\n",
    "    for i in range(1,size):\n",
    "        predictions+=forest[i].predict(X)\n",
    "    correlations.append(pearsonr(predictions/size,Y)[0])\n",
    "print(\"predictions:  \",np.asarray(predictions[0:18]/100,dtype=int))\n",
    "print(\"actual length:\",Y[0:18])\n",
    "plt.plot(correlations)\n",
    "plt.xlabel(\"Number of Trees in Random Forest\")\n",
    "plt.ylabel(\"Correlation\")\n",
    "plt.show()"
   ]
  },
  {
   "cell_type": "code",
   "execution_count": 11,
   "metadata": {},
   "outputs": [
    {
     "data": {
      "text/plain": [
       "[0.9169849019785585,\n",
       " 0.9355079217459671,\n",
       " 0.9407786012054822,\n",
       " 0.9414464918551256,\n",
       " 0.9456573513828723,\n",
       " 0.9472207426568469,\n",
       " 0.9501605291210498,\n",
       " 0.952704778509728,\n",
       " 0.9532228291846607,\n",
       " 0.9525815302160444,\n",
       " 0.9523016859538135,\n",
       " 0.9532334017042638,\n",
       " 0.9534774654781749,\n",
       " 0.9543288664921058,\n",
       " 0.9548646789211653,\n",
       " 0.9551425384372996,\n",
       " 0.9555172256842647,\n",
       " 0.9562332310933185,\n",
       " 0.9571698070363589,\n",
       " 0.957840683499449,\n",
       " 0.9584339728431689,\n",
       " 0.9586646524735537,\n",
       " 0.9581143091235196,\n",
       " 0.9587171772408192,\n",
       " 0.9587972939790388,\n",
       " 0.9582391417016506,\n",
       " 0.958288034464286,\n",
       " 0.9582976451026399,\n",
       " 0.9586418684147812,\n",
       " 0.9592095633583612,\n",
       " 0.9592380810742406,\n",
       " 0.9594861865398593,\n",
       " 0.9593799573564755,\n",
       " 0.9597473216489344,\n",
       " 0.9597389925832043,\n",
       " 0.9594743039110027,\n",
       " 0.9589152324436249,\n",
       " 0.9594447349530735,\n",
       " 0.9593530527124858,\n",
       " 0.959469193058314,\n",
       " 0.9593467353729067,\n",
       " 0.959708925376372,\n",
       " 0.9596470477260147,\n",
       " 0.9597157564744127,\n",
       " 0.959510706012119,\n",
       " 0.959356901367087,\n",
       " 0.9593629399352855,\n",
       " 0.9593645533563508,\n",
       " 0.9589550949022128,\n",
       " 0.958925998736921,\n",
       " 0.959012431252871,\n",
       " 0.959084030311459,\n",
       " 0.95918664058157,\n",
       " 0.9594015589095802,\n",
       " 0.9594696840680125,\n",
       " 0.9596313101105203,\n",
       " 0.9598979575041352,\n",
       " 0.9598667685611393,\n",
       " 0.9598388555482888,\n",
       " 0.9599224987689468,\n",
       " 0.9600814495417734,\n",
       " 0.9602685558682652,\n",
       " 0.9603918967799463,\n",
       " 0.9606289471835134,\n",
       " 0.9607355102733828,\n",
       " 0.9608691308063345,\n",
       " 0.960703052167883,\n",
       " 0.9607272242730829,\n",
       " 0.9607848819408562,\n",
       " 0.9608779259484419,\n",
       " 0.960839940526346,\n",
       " 0.9608217979731599,\n",
       " 0.9605603943869467,\n",
       " 0.9604630200967093,\n",
       " 0.9607222888515421,\n",
       " 0.9607547347079096,\n",
       " 0.9606506304874282,\n",
       " 0.960522550568435,\n",
       " 0.9606692784612079,\n",
       " 0.9605509436027069,\n",
       " 0.9605287755102426,\n",
       " 0.9605763620226183,\n",
       " 0.9605837738878011,\n",
       " 0.9608267543964631,\n",
       " 0.960820293533696,\n",
       " 0.9610666730448743,\n",
       " 0.9609507988321603,\n",
       " 0.9609911370677524,\n",
       " 0.9610429480108035,\n",
       " 0.9611692113843381,\n",
       " 0.9613519987295693,\n",
       " 0.961214875482583,\n",
       " 0.9612537342276961,\n",
       " 0.9612863521558915,\n",
       " 0.9612788079662339,\n",
       " 0.9612149607017912,\n",
       " 0.9611106231948082,\n",
       " 0.9612221027919443,\n",
       " 0.9611561774275098,\n",
       " 0.9610951050860106]"
      ]
     },
     "execution_count": 11,
     "metadata": {},
     "output_type": "execute_result"
    }
   ],
   "source": [
    "correlations"
   ]
  },
  {
   "cell_type": "code",
   "execution_count": null,
   "metadata": {},
   "outputs": [],
   "source": []
  }
 ],
 "metadata": {
  "kernelspec": {
   "display_name": "Python 3",
   "language": "python",
   "name": "python3"
  },
  "language_info": {
   "codemirror_mode": {
    "name": "ipython",
    "version": 3
   },
   "file_extension": ".py",
   "mimetype": "text/x-python",
   "name": "python",
   "nbconvert_exporter": "python",
   "pygments_lexer": "ipython3",
   "version": "3.6.8"
  }
 },
 "nbformat": 4,
 "nbformat_minor": 2
}
