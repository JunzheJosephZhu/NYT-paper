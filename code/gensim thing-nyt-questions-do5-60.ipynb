{
 "cells": [
  {
   "cell_type": "markdown",
   "metadata": {},
   "source": [
    "https://www.machinelearningplus.com/nlp/topic-modeling-gensim-python/\n"
   ]
  },
  {
   "cell_type": "code",
   "execution_count": null,
   "metadata": {
    "collapsed": true
   },
   "outputs": [],
   "source": []
  },
  {
   "cell_type": "code",
   "execution_count": 1,
   "metadata": {
    "collapsed": true
   },
   "outputs": [],
   "source": [
    "import re\n",
    "import numpy as np\n",
    "import pandas as pd\n",
    "from pprint import pprint\n",
    "import glob\n",
    "\n",
    "# Gensim\n",
    "import gensim\n",
    "import gensim.corpora as corpora\n",
    "from gensim.utils import simple_preprocess\n",
    "from gensim.models import CoherenceModel\n",
    "\n",
    "# spacy for lemmatization\n",
    "import spacy\n",
    "\n",
    "# Plotting tools\n",
    "import pyLDAvis\n",
    "import pyLDAvis.gensim  # don't skip this\n",
    "import matplotlib.pyplot as plt\n",
    "%matplotlib inline\n",
    "\n",
    "import logging\n",
    "logging.basicConfig(format='%(asctime)s : %(levelname)s : %(message)s', level=logging.ERROR)\n",
    "\n",
    "import warnings\n",
    "warnings.filterwarnings(\"ignore\",category=DeprecationWarning)"
   ]
  },
  {
   "cell_type": "code",
   "execution_count": 2,
   "metadata": {
    "collapsed": true
   },
   "outputs": [],
   "source": [
    "files = glob.glob('../documents/questions/*.txt')"
   ]
  },
  {
   "cell_type": "code",
   "execution_count": 3,
   "metadata": {},
   "outputs": [
    {
     "name": "stdout",
     "output_type": "stream",
     "text": [
      "126172\n"
     ]
    }
   ],
   "source": [
    "print(len(files))"
   ]
  },
  {
   "cell_type": "code",
   "execution_count": 4,
   "metadata": {
    "collapsed": true
   },
   "outputs": [],
   "source": [
    "from nltk.corpus import stopwords\n",
    "stop_words = stopwords.words('english')"
   ]
  },
  {
   "cell_type": "code",
   "execution_count": 5,
   "metadata": {
    "collapsed": true
   },
   "outputs": [],
   "source": [
    "def sent_to_words(sentences):\n",
    "    for sentence in sentences:\n",
    "        yield(gensim.utils.simple_preprocess(str(sentence), deacc=True))  # deacc=True removes punctuations"
   ]
  },
  {
   "cell_type": "code",
   "execution_count": null,
   "metadata": {
    "collapsed": true
   },
   "outputs": [],
   "source": []
  },
  {
   "cell_type": "code",
   "execution_count": 6,
   "metadata": {
    "collapsed": true
   },
   "outputs": [],
   "source": [
    "data = []\n",
    "\n",
    "for f in files:\n",
    "    with open(f, 'r') as fin:\n",
    "        data.append(fin.read())"
   ]
  },
  {
   "cell_type": "code",
   "execution_count": 7,
   "metadata": {
    "collapsed": true
   },
   "outputs": [],
   "source": [
    "\n",
    "data_words = list(sent_to_words(data))\n",
    "\n"
   ]
  },
  {
   "cell_type": "code",
   "execution_count": 8,
   "metadata": {},
   "outputs": [
    {
     "name": "stderr",
     "output_type": "stream",
     "text": [
      "/Users/wickes1/anaconda/lib/python3.6/site-packages/gensim/models/phrases.py:494: UserWarning: For a faster implementation, use the gensim.models.phrases.Phraser class\n",
      "  warnings.warn(\"For a faster implementation, use the gensim.models.phrases.Phraser class\")\n"
     ]
    },
    {
     "name": "stdout",
     "output_type": "stream",
     "text": [
      "['darth', 'vader', 'has', 'he', 'been', 'forgotten', 'so', 'quickly', 'surely', 'his', 'death', 'star', 'has', 'an', 'appeal', 'to', 'the', 'billionaires', 'who', 'vote', 'sorry', 'buy', 'the', 'offices', 'in', 'the', 'us', 'think', 'of', 'the', 'profits', 'to', 'be', 'made', 'in', 'financing', 'that', 'project']\n"
     ]
    }
   ],
   "source": [
    "# Build the bigram and trigram models\n",
    "bigram = gensim.models.Phrases(data_words, min_count=5, threshold=100) # higher threshold fewer phrases.\n",
    "trigram = gensim.models.Phrases(bigram[data_words], threshold=100)  \n",
    "\n",
    "# Faster way to get a sentence clubbed as a trigram/bigram\n",
    "bigram_mod = gensim.models.phrases.Phraser(bigram)\n",
    "trigram_mod = gensim.models.phrases.Phraser(trigram)\n",
    "\n",
    "# See trigram example\n",
    "print(trigram_mod[bigram_mod[data_words[0]]])"
   ]
  },
  {
   "cell_type": "code",
   "execution_count": 9,
   "metadata": {
    "collapsed": true
   },
   "outputs": [],
   "source": [
    "# Define functions for stopwords, bigrams, trigrams and lemmatization\n",
    "def remove_stopwords(texts):\n",
    "    return [[word for word in simple_preprocess(str(doc)) if word not in stop_words] for doc in texts]\n",
    "\n",
    "def make_bigrams(texts):\n",
    "    return [bigram_mod[doc] for doc in texts]\n",
    "\n",
    "def make_trigrams(texts):\n",
    "    return [trigram_mod[bigram_mod[doc]] for doc in texts]\n",
    "\n",
    "def lemmatization(texts, allowed_postags=['NOUN', 'ADJ', 'VERB', 'ADV']):\n",
    "    \"\"\"https://spacy.io/api/annotation\"\"\"\n",
    "    texts_out = []\n",
    "    for sent in texts:\n",
    "        doc = nlp(\" \".join(sent)) \n",
    "        texts_out.append([token.lemma_ for token in doc if token.pos_ in allowed_postags])\n",
    "    return texts_out\n",
    "\n"
   ]
  },
  {
   "cell_type": "code",
   "execution_count": 10,
   "metadata": {},
   "outputs": [
    {
     "name": "stdout",
     "output_type": "stream",
     "text": [
      "[['darth', 'vader', 'forget', 'quickly', 'surely', 'death', 'star', 'appeal', 'billionaire', 'vote', 'sorry', 'buy', 'office', 'think', 'profit', 'make', 'financing', 'project']]\n"
     ]
    }
   ],
   "source": [
    "# Remove Stop Words\n",
    "data_words_nostops = remove_stopwords(data_words)\n",
    "\n",
    "# Form Bigrams\n",
    "data_words_bigrams = make_bigrams(data_words_nostops)\n",
    "\n",
    "# Initialize spacy 'en' model, keeping only tagger component (for efficiency)\n",
    "# python3 -m spacy download en\n",
    "nlp = spacy.load('en', disable=['parser', 'ner'])\n",
    "nlp.max_length = 9297925\n",
    "# Do lemmatization keeping only noun, adj, vb, adv\n",
    "data_lemmatized = lemmatization(data_words_bigrams, allowed_postags=['NOUN', 'ADJ', 'VERB', 'ADV'])\n",
    "\n",
    "print(data_lemmatized[:1])"
   ]
  },
  {
   "cell_type": "code",
   "execution_count": 11,
   "metadata": {},
   "outputs": [
    {
     "name": "stdout",
     "output_type": "stream",
     "text": [
      "[[(0, 1), (1, 1), (2, 1), (3, 1), (4, 1), (5, 1), (6, 1), (7, 1), (8, 1), (9, 1), (10, 1), (11, 1), (12, 1), (13, 1), (14, 1), (15, 1), (16, 1), (17, 1)]]\n"
     ]
    }
   ],
   "source": [
    "# Create Dictionary\n",
    "id2word = corpora.Dictionary(data_lemmatized)\n",
    "\n",
    "# Create Corpus\n",
    "texts = data_lemmatized\n",
    "\n",
    "# Term Document Frequency\n",
    "corpus = [id2word.doc2bow(text) for text in texts]\n",
    "\n",
    "# View\n",
    "print(corpus[:1])"
   ]
  },
  {
   "cell_type": "code",
   "execution_count": 12,
   "metadata": {},
   "outputs": [
    {
     "data": {
      "text/plain": [
       "'appeal'"
      ]
     },
     "execution_count": 12,
     "metadata": {},
     "output_type": "execute_result"
    }
   ],
   "source": [
    "id2word[0]"
   ]
  },
  {
   "cell_type": "code",
   "execution_count": 13,
   "metadata": {
    "collapsed": true
   },
   "outputs": [],
   "source": [
    "# Build LDA model\n",
    "lda_model = gensim.models.ldamodel.LdaModel(corpus=corpus,\n",
    "                                           id2word=id2word,\n",
    "                                           num_topics=30, \n",
    "                                           random_state=100,\n",
    "                                           update_every=1,\n",
    "                                           chunksize=100,\n",
    "                                           passes=10,\n",
    "                                           alpha='auto',\n",
    "                                           per_word_topics=True)"
   ]
  },
  {
   "cell_type": "code",
   "execution_count": 14,
   "metadata": {},
   "outputs": [
    {
     "name": "stdout",
     "output_type": "stream",
     "text": [
      "[(0,\n",
      "  '0.062*\"change\" + 0.038*\"college\" + 0.033*\"benefit\" + 0.030*\"group\" + '\n",
      "  '0.027*\"small\" + 0.023*\"employee\" + 0.022*\"datum\" + 0.021*\"break\" + '\n",
      "  '0.020*\"decade\" + 0.018*\"rise\"'),\n",
      " (1,\n",
      "  '0.044*\"price\" + 0.036*\"choice\" + 0.035*\"voter\" + 0.033*\"easy\" + '\n",
      "  '0.032*\"technology\" + 0.024*\"isis\" + 0.023*\"ignore\" + 0.022*\"wait\" + '\n",
      "  '0.022*\"strong\" + 0.017*\"bush\"'),\n",
      " (2,\n",
      "  '0.111*\"right\" + 0.075*\"look\" + 0.074*\"man\" + 0.040*\"family\" + 0.040*\"must\" '\n",
      "  '+ 0.033*\"idea\" + 0.022*\"rest\" + 0.021*\"situation\" + 0.019*\"thank\" + '\n",
      "  '0.017*\"die\"'),\n",
      " (3,\n",
      "  '0.061*\"know\" + 0.052*\"even\" + 0.029*\"never\" + 0.026*\"day\" + 0.023*\"call\" + '\n",
      "  '0.022*\"believe\" + 0.022*\"school\" + 0.021*\"anyone\" + 0.019*\"public\" + '\n",
      "  '0.019*\"nothing\"'),\n",
      " (4,\n",
      "  '0.118*\"pay\" + 0.065*\"greece\" + 0.046*\"worker\" + 0.038*\"cost\" + 0.034*\"debt\" '\n",
      "  '+ 0.027*\"economy\" + 0.026*\"bank\" + 0.021*\"provide\" + 0.019*\"service\" + '\n",
      "  '0.018*\"wage\"'),\n",
      " (5,\n",
      "  '0.070*\"seem\" + 0.063*\"question\" + 0.041*\"talk\" + 0.026*\"ai\" + '\n",
      "  '0.024*\"accept\" + 0.021*\"new_york\" + 0.017*\"clearly\" + 0.017*\"standard\" + '\n",
      "  '0.017*\"wall_street\" + 0.016*\"single\"'),\n",
      " (6,\n",
      "  '0.049*\"white\" + 0.043*\"wrong\" + 0.041*\"party\" + 0.032*\"bring\" + '\n",
      "  '0.025*\"community\" + 0.020*\"lie\" + 0.017*\"police\" + 0.016*\"middle_class\" + '\n",
      "  '0.016*\"male\" + 0.016*\"sort\"'),\n",
      " (7,\n",
      "  '0.033*\"word\" + 0.030*\"move\" + 0.028*\"hear\" + 0.025*\"europe\" + 0.025*\"ago\" + '\n",
      "  '0.024*\"almost\" + 0.024*\"mention\" + 0.023*\"aot\" + 0.020*\"european\" + '\n",
      "  '0.020*\"animal\"'),\n",
      " (8,\n",
      "  '0.057*\"gun\" + 0.044*\"remember\" + 0.040*\"line\" + 0.030*\"congress\" + '\n",
      "  '0.028*\"full\" + 0.026*\"union\" + 0.024*\"threat\" + 0.020*\"default\" + '\n",
      "  '0.018*\"freedom\" + 0.018*\"regulation\"'),\n",
      " (9,\n",
      "  '0.034*\"free\" + 0.033*\"war\" + 0.031*\"america\" + 0.029*\"force\" + '\n",
      "  '0.023*\"president\" + 0.020*\"kill\" + 0.020*\"iraq\" + 0.019*\"iran\" + '\n",
      "  '0.019*\"level\" + 0.019*\"act\"'),\n",
      " (10,\n",
      "  '0.052*\"money\" + 0.049*\"way\" + 0.044*\"may\" + 0.038*\"come\" + 0.036*\"life\" + '\n",
      "  '0.027*\"still\" + 0.024*\"long\" + 0.024*\"keep\" + 0.022*\"poor\" + 0.020*\"lot\"'),\n",
      " (11,\n",
      "  '0.092*\"woman\" + 0.052*\"child\" + 0.037*\"part\" + 0.033*\"anything\" + '\n",
      "  '0.023*\"result\" + 0.020*\"parent\" + 0.019*\"young\" + 0.017*\"individual\" + '\n",
      "  '0.016*\"science\" + 0.016*\"form\"'),\n",
      " (12,\n",
      "  '0.067*\"place\" + 0.060*\"black\" + 0.055*\"trump\" + 0.048*\"control\" + '\n",
      "  '0.044*\"able\" + 0.042*\"fight\" + 0.034*\"author\" + 0.026*\"list\" + '\n",
      "  '0.019*\"enjoy\" + 0.016*\"prevent\"'),\n",
      " (13,\n",
      "  '0.061*\"team\" + 0.046*\"probably\" + 0.037*\"speak\" + 0.032*\"concern\" + '\n",
      "  '0.029*\"amount\" + 0.026*\"doubt\" + 0.019*\"common\" + 0.017*\"oppose\" + '\n",
      "  '0.016*\"space\" + 0.015*\"forward\"'),\n",
      " (14,\n",
      "  '0.042*\"guy\" + 0.039*\"fail\" + 0.038*\"sport\" + 0.029*\"especially\" + '\n",
      "  '0.028*\"whatev\" + 0.026*\"second\" + 0.021*\"book\" + 0.019*\"sit\" + 0.018*\"walk\" '\n",
      "  '+ 0.017*\"cover\"'),\n",
      " (15,\n",
      "  '0.040*\"include\" + 0.039*\"matter\" + 0.032*\"soccer\" + 0.031*\"wonder\" + '\n",
      "  '0.029*\"player\" + 0.027*\"name\" + 0.026*\"head\" + 0.026*\"week\" + '\n",
      "  '0.025*\"simple\" + 0.025*\"labor\"'),\n",
      " (16,\n",
      "  '0.082*\"government\" + 0.051*\"great\" + 0.043*\"end\" + 0.034*\"citizen\" + '\n",
      "  '0.034*\"nation\" + 0.033*\"economic\" + 0.028*\"continue\" + 0.022*\"non\" + '\n",
      "  '0.020*\"drug\" + 0.020*\"security\"'),\n",
      " (17,\n",
      "  '0.084*\"tax\" + 0.049*\"agree\" + 0.039*\"expect\" + 0.037*\"follow\" + '\n",
      "  '0.034*\"argument\" + 0.033*\"exactly\" + 0.030*\"eat\" + 0.030*\"cut\" + '\n",
      "  '0.029*\"fund\" + 0.025*\"like\"'),\n",
      " (18,\n",
      "  '0.047*\"fact\" + 0.046*\"support\" + 0.040*\"ever\" + 0.037*\"republican\" + '\n",
      "  '0.036*\"last\" + 0.024*\"political\" + 0.022*\"obama\" + 0.021*\"lead\" + '\n",
      "  '0.019*\"risk\" + 0.019*\"conservative\"'),\n",
      " (19,\n",
      "  '0.048*\"get\" + 0.040*\"go\" + 0.035*\"time\" + 0.034*\"good\" + 0.032*\"work\" + '\n",
      "  '0.032*\"want\" + 0.031*\"year\" + 0.028*\"many\" + 0.028*\"take\" + 0.024*\"see\"'),\n",
      " (20,\n",
      "  '0.080*\"high\" + 0.060*\"leave\" + 0.051*\"low\" + 0.045*\"hand\" + '\n",
      "  '0.035*\"increase\" + 0.034*\"medium\" + 0.028*\"income\" + 0.021*\"foreign\" + '\n",
      "  '0.020*\"return\" + 0.019*\"bit\"'),\n",
      " (21,\n",
      "  '0.112*\"american\" + 0.059*\"company\" + 0.053*\"new\" + 0.039*\"law\" + '\n",
      "  '0.038*\"actually\" + 0.035*\"germany\" + 0.030*\"power\" + 0.027*\"turn\" + '\n",
      "  '0.022*\"corporation\" + 0.022*\"side\"'),\n",
      " (22,\n",
      "  '0.040*\"grow\" + 0.034*\"fix\" + 0.031*\"cheap\" + 0.022*\"local\" + '\n",
      "  '0.020*\"austerity\" + 0.016*\"http\" + 0.012*\"analysis\" + 0.012*\"bottom\" + '\n",
      "  '0.011*\"burn\" + 0.011*\"manager\"'),\n",
      " (23,\n",
      "  '0.277*\"people\" + 0.081*\"live\" + 0.033*\"society\" + 0.024*\"order\" + '\n",
      "  '0.021*\"city\" + 0.017*\"banker\" + 0.016*\"national\" + 0.014*\"whose\" + '\n",
      "  '0.012*\"sometimes\" + 0.012*\"moral\"'),\n",
      " (24,\n",
      "  '0.046*\"kid\" + 0.036*\"market\" + 0.035*\"human\" + 0.035*\"answer\" + '\n",
      "  '0.029*\"program\" + 0.024*\"drive\" + 0.019*\"hope\" + 0.017*\"worth\" + '\n",
      "  '0.015*\"replace\" + 0.014*\"tech\"'),\n",
      " (25,\n",
      "  '0.080*\"issue\" + 0.052*\"not\" + 0.048*\"different\" + 0.047*\"aos\" + 0.047*\"can\" '\n",
      "  '+ 0.038*\"value\" + 0.029*\"likely\" + 0.023*\"position\" + 0.020*\"female\" + '\n",
      "  '0.019*\"treat\"'),\n",
      " (26,\n",
      "  '0.109*\"point\" + 0.060*\"perhaps\" + 0.052*\"interest\" + 0.050*\"rate\" + '\n",
      "  '0.036*\"set\" + 0.028*\"usa\" + 0.026*\"prove\" + 0.026*\"forget\" + 0.015*\"french\" '\n",
      "  '+ 0.015*\"suspect\"'),\n",
      " (27,\n",
      "  '0.213*\"say\" + 0.096*\"greek\" + 0.054*\"show\" + 0.035*\"true\" + 0.026*\"smart\" + '\n",
      "  '0.022*\"computer\" + 0.015*\"tv\" + 0.014*\"politic\" + 0.012*\"response\" + '\n",
      "  '0.012*\"plant\"'),\n",
      " (28,\n",
      "  '0.088*\"mean\" + 0.085*\"vote\" + 0.065*\"business\" + 0.050*\"buy\" + 0.040*\"hold\" '\n",
      "  '+ 0.040*\"profit\" + 0.022*\"save\" + 0.021*\"election\" + 0.020*\"close\" + '\n",
      "  '0.019*\"death\"'),\n",
      " (29,\n",
      "  '0.071*\"would\" + 0.056*\"make\" + 0.043*\"think\" + 0.032*\"need\" + 0.028*\"much\" '\n",
      "  '+ 0.026*\"use\" + 0.025*\"really\" + 0.024*\"could\" + 0.023*\"job\" + '\n",
      "  '0.020*\"also\"')]\n"
     ]
    }
   ],
   "source": [
    "# Print the Keyword in the 10 topics\n",
    "pprint(lda_model.print_topics(30))\n",
    "doc_lda = lda_model[corpus]"
   ]
  },
  {
   "cell_type": "markdown",
   "metadata": {
    "collapsed": true
   },
   "source": []
  },
  {
   "cell_type": "code",
   "execution_count": null,
   "metadata": {
    "collapsed": true
   },
   "outputs": [],
   "source": []
  },
  {
   "cell_type": "code",
   "execution_count": null,
   "metadata": {
    "collapsed": true
   },
   "outputs": [],
   "source": []
  },
  {
   "cell_type": "code",
   "execution_count": null,
   "metadata": {
    "collapsed": true
   },
   "outputs": [],
   "source": []
  },
  {
   "cell_type": "code",
   "execution_count": null,
   "metadata": {
    "collapsed": true
   },
   "outputs": [],
   "source": []
  },
  {
   "cell_type": "code",
   "execution_count": null,
   "metadata": {
    "collapsed": true
   },
   "outputs": [],
   "source": []
  },
  {
   "cell_type": "code",
   "execution_count": 15,
   "metadata": {},
   "outputs": [
    {
     "name": "stdout",
     "output_type": "stream",
     "text": [
      "\n",
      "Perplexity:  -9.027667963174588\n",
      "\n",
      "Coherence Score:  0.391873697162595\n"
     ]
    }
   ],
   "source": [
    "# Compute Perplexity\n",
    "print('\\nPerplexity: ', lda_model.log_perplexity(corpus))  # a measure of how good the model is. lower the better.\n",
    "\n",
    "# Compute Coherence Score\n",
    "coherence_model_lda = CoherenceModel(model=lda_model, texts=data_lemmatized, dictionary=id2word, coherence='c_v')\n",
    "coherence_lda = coherence_model_lda.get_coherence()\n",
    "print('\\nCoherence Score: ', coherence_lda)"
   ]
  },
  {
   "cell_type": "code",
   "execution_count": 16,
   "metadata": {},
   "outputs": [
    {
     "data": {
      "text/html": [
       "\n",
       "<link rel=\"stylesheet\" type=\"text/css\" href=\"https://cdn.rawgit.com/bmabey/pyLDAvis/files/ldavis.v1.0.0.css\">\n",
       "\n",
       "\n",
       "<div id=\"ldavis_el987191132346570962973803867\"></div>\n",
       "<script type=\"text/javascript\">\n",
       "\n",
       "var ldavis_el987191132346570962973803867_data = {\"mdsDat\": {\"Freq\": [13.164618356634254, 11.172977125819745, 6.598396488167214, 6.336488920120635, 3.99189934509043, 3.5886032821971914, 3.5721862368510546, 3.0652319971410384, 3.041180038132943, 3.0379306538503905, 3.016767075313771, 2.9135995441505096, 2.7844646391993773, 2.62004816605781, 2.5661979917728144, 2.3999806026876125, 2.3823331768781895, 2.1798928397651878, 2.0550635400652544, 2.028534348950492, 2.024143659734937, 1.9929473044908526, 1.9790524874242044, 1.9239501852123493, 1.8140258987578004, 1.691116738422057, 1.6845807604215988, 1.5765762059573383, 1.5128001574560606, 1.2844122332769043], \"cluster\": [1, 1, 1, 1, 1, 1, 1, 1, 1, 1, 1, 1, 1, 1, 1, 1, 1, 1, 1, 1, 1, 1, 1, 1, 1, 1, 1, 1, 1, 1], \"topics\": [1, 2, 3, 4, 5, 6, 7, 8, 9, 10, 11, 12, 13, 14, 15, 16, 17, 18, 19, 20, 21, 22, 23, 24, 25, 26, 27, 28, 29, 30], \"x\": [-0.28193569046292877, -0.2527455263866105, -0.15021581089065866, -0.1432877043906872, -0.05048295458734714, -0.023417911982591955, -0.024741805662210844, -0.00281744383929878, -0.02138984717737777, -0.08010904974484075, 0.006799059156515792, -0.0006887085563435771, 0.021543414029125938, 0.028747787146801942, 0.031776838730405293, 0.027911086659130196, 0.0302255984008184, 0.0509738948986766, 0.033947751581002106, 0.05657210661259325, 0.05854447386526965, 0.045942549202091565, 0.06379564303832613, 0.0715668492195537, 0.06694487724836617, 0.07837064516488326, 0.0771138984959207, 0.08734243797412565, 0.08978530364961661, 0.10392823860767286], \"y\": [-0.3465604023013505, 0.3359446486882034, 0.027501861669297644, 0.02688155144183409, 0.0018750059358235958, 0.002105166076019763, 0.00437179507145056, 0.0005843579641766304, 0.0014598126401752438, 0.005891240700366266, 0.0012868430246469622, -0.0010569875013567117, -0.0006085091716555925, -0.0025905792619011917, -0.0003665118175426057, -0.0008339405097212055, -0.002276467577340377, -0.003699756471297931, -0.0020178059134844284, -0.003427166349733708, -0.0030150064894637263, -0.00372628875324274, -0.003752063549637044, -0.004450608394651859, -0.004722114572218222, -0.005100490848104069, -0.0036912251444479, -0.004434106492967945, -0.004918817736208128, -0.00665343435566886]}, \"tinfo\": {\"Category\": [\"Default\", \"Default\", \"Default\", \"Default\", \"Default\", \"Default\", \"Default\", \"Default\", \"Default\", \"Default\", \"Default\", \"Default\", \"Default\", \"Default\", \"Default\", \"Default\", \"Default\", \"Default\", \"Default\", \"Default\", \"Default\", \"Default\", \"Default\", \"Default\", \"Default\", \"Default\", \"Default\", \"Default\", \"Default\", \"Default\", \"Topic1\", \"Topic1\", \"Topic1\", \"Topic1\", \"Topic1\", \"Topic1\", \"Topic1\", \"Topic1\", \"Topic1\", \"Topic1\", \"Topic1\", \"Topic1\", \"Topic1\", \"Topic1\", \"Topic1\", \"Topic1\", \"Topic1\", \"Topic1\", \"Topic1\", \"Topic1\", \"Topic1\", \"Topic1\", \"Topic1\", \"Topic1\", \"Topic1\", \"Topic1\", \"Topic1\", \"Topic1\", \"Topic1\", \"Topic1\", \"Topic2\", \"Topic2\", \"Topic2\", \"Topic2\", \"Topic2\", \"Topic2\", \"Topic2\", \"Topic2\", \"Topic2\", \"Topic2\", \"Topic2\", \"Topic2\", \"Topic2\", \"Topic2\", \"Topic2\", \"Topic2\", \"Topic2\", \"Topic2\", \"Topic2\", \"Topic2\", \"Topic2\", \"Topic2\", \"Topic2\", \"Topic2\", \"Topic2\", \"Topic2\", \"Topic2\", \"Topic2\", \"Topic2\", \"Topic2\", \"Topic3\", \"Topic3\", \"Topic3\", \"Topic3\", \"Topic3\", \"Topic3\", \"Topic3\", \"Topic3\", \"Topic3\", \"Topic3\", \"Topic3\", \"Topic3\", \"Topic3\", \"Topic3\", \"Topic3\", \"Topic3\", \"Topic3\", \"Topic3\", \"Topic3\", \"Topic3\", \"Topic3\", \"Topic3\", \"Topic3\", \"Topic3\", \"Topic3\", \"Topic3\", \"Topic3\", \"Topic3\", \"Topic3\", \"Topic3\", \"Topic4\", \"Topic4\", \"Topic4\", \"Topic4\", \"Topic4\", \"Topic4\", \"Topic4\", \"Topic4\", \"Topic4\", \"Topic4\", \"Topic4\", \"Topic4\", \"Topic4\", \"Topic4\", \"Topic4\", \"Topic4\", \"Topic4\", \"Topic4\", \"Topic4\", \"Topic4\", \"Topic4\", \"Topic4\", \"Topic4\", \"Topic4\", \"Topic4\", \"Topic4\", \"Topic4\", \"Topic4\", \"Topic4\", \"Topic4\", \"Topic5\", \"Topic5\", \"Topic5\", \"Topic5\", \"Topic5\", \"Topic5\", \"Topic5\", \"Topic5\", \"Topic5\", \"Topic5\", \"Topic5\", \"Topic5\", \"Topic5\", \"Topic5\", \"Topic5\", \"Topic5\", \"Topic5\", \"Topic5\", \"Topic5\", \"Topic5\", \"Topic5\", \"Topic5\", \"Topic5\", \"Topic5\", \"Topic5\", \"Topic5\", \"Topic5\", \"Topic5\", \"Topic5\", \"Topic5\", \"Topic6\", \"Topic6\", \"Topic6\", \"Topic6\", \"Topic6\", \"Topic6\", \"Topic6\", \"Topic6\", \"Topic6\", \"Topic6\", \"Topic6\", \"Topic6\", \"Topic6\", \"Topic6\", \"Topic6\", \"Topic6\", \"Topic6\", \"Topic6\", \"Topic6\", \"Topic6\", \"Topic6\", \"Topic6\", \"Topic6\", \"Topic6\", \"Topic6\", \"Topic6\", \"Topic6\", \"Topic6\", \"Topic6\", \"Topic6\", \"Topic7\", \"Topic7\", \"Topic7\", \"Topic7\", \"Topic7\", \"Topic7\", \"Topic7\", \"Topic7\", \"Topic7\", \"Topic7\", \"Topic7\", \"Topic7\", \"Topic7\", \"Topic7\", \"Topic7\", \"Topic7\", \"Topic7\", \"Topic7\", \"Topic7\", \"Topic7\", \"Topic7\", \"Topic7\", \"Topic7\", \"Topic7\", \"Topic7\", \"Topic7\", \"Topic7\", \"Topic7\", \"Topic7\", \"Topic7\", \"Topic8\", \"Topic8\", \"Topic8\", \"Topic8\", \"Topic8\", \"Topic8\", \"Topic8\", \"Topic8\", \"Topic8\", \"Topic8\", \"Topic8\", \"Topic8\", \"Topic8\", \"Topic8\", \"Topic8\", \"Topic8\", \"Topic8\", \"Topic8\", \"Topic8\", \"Topic8\", \"Topic8\", \"Topic8\", \"Topic8\", \"Topic8\", \"Topic8\", \"Topic8\", \"Topic8\", \"Topic8\", \"Topic8\", \"Topic8\", \"Topic9\", \"Topic9\", \"Topic9\", \"Topic9\", \"Topic9\", \"Topic9\", \"Topic9\", \"Topic9\", \"Topic9\", \"Topic9\", \"Topic9\", \"Topic9\", \"Topic9\", \"Topic9\", \"Topic9\", \"Topic9\", \"Topic9\", \"Topic9\", \"Topic9\", \"Topic9\", \"Topic9\", \"Topic9\", \"Topic9\", \"Topic9\", \"Topic9\", \"Topic9\", \"Topic9\", \"Topic9\", \"Topic9\", \"Topic9\", \"Topic10\", \"Topic10\", \"Topic10\", \"Topic10\", \"Topic10\", \"Topic10\", \"Topic10\", \"Topic10\", \"Topic10\", \"Topic10\", \"Topic10\", \"Topic10\", \"Topic10\", \"Topic10\", \"Topic10\", \"Topic10\", \"Topic10\", \"Topic10\", \"Topic10\", \"Topic10\", \"Topic10\", \"Topic10\", \"Topic10\", \"Topic10\", \"Topic10\", \"Topic10\", \"Topic10\", \"Topic10\", \"Topic10\", \"Topic10\", \"Topic11\", \"Topic11\", \"Topic11\", \"Topic11\", \"Topic11\", \"Topic11\", \"Topic11\", \"Topic11\", \"Topic11\", \"Topic11\", \"Topic11\", \"Topic11\", \"Topic11\", \"Topic11\", \"Topic11\", \"Topic11\", \"Topic11\", \"Topic11\", \"Topic11\", \"Topic11\", \"Topic11\", \"Topic11\", \"Topic11\", \"Topic11\", \"Topic11\", \"Topic11\", \"Topic11\", \"Topic11\", \"Topic11\", \"Topic11\", \"Topic12\", \"Topic12\", \"Topic12\", \"Topic12\", \"Topic12\", \"Topic12\", \"Topic12\", \"Topic12\", \"Topic12\", \"Topic12\", \"Topic12\", \"Topic12\", \"Topic12\", \"Topic12\", \"Topic12\", \"Topic12\", \"Topic12\", \"Topic12\", \"Topic12\", \"Topic12\", \"Topic12\", \"Topic12\", \"Topic12\", \"Topic12\", \"Topic12\", \"Topic12\", \"Topic12\", \"Topic12\", \"Topic12\", \"Topic12\", \"Topic13\", \"Topic13\", \"Topic13\", \"Topic13\", \"Topic13\", \"Topic13\", \"Topic13\", \"Topic13\", \"Topic13\", \"Topic13\", \"Topic13\", \"Topic13\", \"Topic13\", \"Topic13\", \"Topic13\", \"Topic13\", \"Topic13\", \"Topic13\", \"Topic13\", \"Topic13\", \"Topic13\", \"Topic13\", \"Topic13\", \"Topic13\", \"Topic13\", \"Topic13\", \"Topic13\", \"Topic13\", \"Topic13\", \"Topic13\", \"Topic14\", \"Topic14\", \"Topic14\", \"Topic14\", \"Topic14\", \"Topic14\", \"Topic14\", \"Topic14\", \"Topic14\", \"Topic14\", \"Topic14\", \"Topic14\", \"Topic14\", \"Topic14\", \"Topic14\", \"Topic14\", \"Topic14\", \"Topic14\", \"Topic14\", \"Topic14\", \"Topic14\", \"Topic14\", \"Topic14\", \"Topic14\", \"Topic14\", \"Topic14\", \"Topic14\", \"Topic14\", \"Topic14\", \"Topic14\", \"Topic15\", \"Topic15\", \"Topic15\", \"Topic15\", \"Topic15\", \"Topic15\", \"Topic15\", \"Topic15\", \"Topic15\", \"Topic15\", \"Topic15\", \"Topic15\", \"Topic15\", \"Topic15\", \"Topic15\", \"Topic15\", \"Topic15\", \"Topic15\", \"Topic15\", \"Topic15\", \"Topic15\", \"Topic15\", \"Topic15\", \"Topic15\", \"Topic15\", \"Topic15\", \"Topic15\", \"Topic15\", \"Topic15\", \"Topic15\", \"Topic16\", \"Topic16\", \"Topic16\", \"Topic16\", \"Topic16\", \"Topic16\", \"Topic16\", \"Topic16\", \"Topic16\", \"Topic16\", \"Topic16\", \"Topic16\", \"Topic16\", \"Topic16\", \"Topic16\", \"Topic16\", \"Topic16\", \"Topic16\", \"Topic16\", \"Topic16\", \"Topic16\", \"Topic16\", \"Topic16\", \"Topic16\", \"Topic16\", \"Topic16\", \"Topic16\", \"Topic16\", \"Topic16\", \"Topic16\", \"Topic17\", \"Topic17\", \"Topic17\", \"Topic17\", \"Topic17\", \"Topic17\", \"Topic17\", \"Topic17\", \"Topic17\", \"Topic17\", \"Topic17\", \"Topic17\", \"Topic17\", \"Topic17\", \"Topic17\", \"Topic17\", \"Topic17\", \"Topic17\", \"Topic17\", \"Topic17\", \"Topic17\", \"Topic17\", \"Topic17\", \"Topic17\", \"Topic17\", \"Topic17\", \"Topic17\", \"Topic17\", \"Topic17\", \"Topic17\", \"Topic18\", \"Topic18\", \"Topic18\", \"Topic18\", \"Topic18\", \"Topic18\", \"Topic18\", \"Topic18\", \"Topic18\", \"Topic18\", \"Topic18\", \"Topic18\", \"Topic18\", \"Topic18\", \"Topic18\", \"Topic18\", \"Topic18\", \"Topic18\", \"Topic18\", \"Topic18\", \"Topic18\", \"Topic18\", \"Topic18\", \"Topic18\", \"Topic18\", \"Topic18\", \"Topic18\", \"Topic18\", \"Topic18\", \"Topic18\", \"Topic19\", \"Topic19\", \"Topic19\", \"Topic19\", \"Topic19\", \"Topic19\", \"Topic19\", \"Topic19\", \"Topic19\", \"Topic19\", \"Topic19\", \"Topic19\", \"Topic19\", \"Topic19\", \"Topic19\", \"Topic19\", \"Topic19\", \"Topic19\", \"Topic19\", \"Topic19\", \"Topic19\", \"Topic19\", \"Topic19\", \"Topic19\", \"Topic19\", \"Topic19\", \"Topic19\", \"Topic19\", \"Topic19\", \"Topic19\", \"Topic20\", \"Topic20\", \"Topic20\", \"Topic20\", \"Topic20\", \"Topic20\", \"Topic20\", \"Topic20\", \"Topic20\", \"Topic20\", \"Topic20\", \"Topic20\", \"Topic20\", \"Topic20\", \"Topic20\", \"Topic20\", \"Topic20\", \"Topic20\", \"Topic20\", \"Topic20\", \"Topic20\", \"Topic20\", \"Topic20\", \"Topic20\", \"Topic20\", \"Topic20\", \"Topic20\", \"Topic20\", \"Topic20\", \"Topic20\", \"Topic21\", \"Topic21\", \"Topic21\", \"Topic21\", \"Topic21\", \"Topic21\", \"Topic21\", \"Topic21\", \"Topic21\", \"Topic21\", \"Topic21\", \"Topic21\", \"Topic21\", \"Topic21\", \"Topic21\", \"Topic21\", \"Topic21\", \"Topic21\", \"Topic21\", \"Topic21\", \"Topic21\", \"Topic21\", \"Topic21\", \"Topic21\", \"Topic21\", \"Topic21\", \"Topic21\", \"Topic21\", \"Topic21\", \"Topic21\", \"Topic22\", \"Topic22\", \"Topic22\", \"Topic22\", \"Topic22\", \"Topic22\", \"Topic22\", \"Topic22\", \"Topic22\", \"Topic22\", \"Topic22\", \"Topic22\", \"Topic22\", \"Topic22\", \"Topic22\", \"Topic22\", \"Topic22\", \"Topic22\", \"Topic22\", \"Topic22\", \"Topic22\", \"Topic22\", \"Topic22\", \"Topic22\", \"Topic22\", \"Topic22\", \"Topic22\", \"Topic22\", \"Topic22\", \"Topic22\", \"Topic23\", \"Topic23\", \"Topic23\", \"Topic23\", \"Topic23\", \"Topic23\", \"Topic23\", \"Topic23\", \"Topic23\", \"Topic23\", \"Topic23\", \"Topic23\", \"Topic23\", \"Topic23\", \"Topic23\", \"Topic23\", \"Topic23\", \"Topic23\", \"Topic23\", \"Topic23\", \"Topic23\", \"Topic23\", \"Topic23\", \"Topic23\", \"Topic23\", \"Topic23\", \"Topic23\", \"Topic23\", \"Topic23\", \"Topic23\", \"Topic24\", \"Topic24\", \"Topic24\", \"Topic24\", \"Topic24\", \"Topic24\", \"Topic24\", \"Topic24\", \"Topic24\", \"Topic24\", \"Topic24\", \"Topic24\", \"Topic24\", \"Topic24\", \"Topic24\", \"Topic24\", \"Topic24\", \"Topic24\", \"Topic24\", \"Topic24\", \"Topic24\", \"Topic24\", \"Topic24\", \"Topic24\", \"Topic24\", \"Topic24\", \"Topic24\", \"Topic24\", \"Topic24\", \"Topic24\", \"Topic25\", \"Topic25\", \"Topic25\", \"Topic25\", \"Topic25\", \"Topic25\", \"Topic25\", \"Topic25\", \"Topic25\", \"Topic25\", \"Topic25\", \"Topic25\", \"Topic25\", \"Topic25\", \"Topic25\", \"Topic25\", \"Topic25\", \"Topic25\", \"Topic25\", \"Topic25\", \"Topic25\", \"Topic25\", \"Topic25\", \"Topic25\", \"Topic25\", \"Topic25\", \"Topic25\", \"Topic25\", \"Topic25\", \"Topic25\", \"Topic26\", \"Topic26\", \"Topic26\", \"Topic26\", \"Topic26\", \"Topic26\", \"Topic26\", \"Topic26\", \"Topic26\", \"Topic26\", \"Topic26\", \"Topic26\", \"Topic26\", \"Topic26\", \"Topic26\", \"Topic26\", \"Topic26\", \"Topic26\", \"Topic26\", \"Topic26\", \"Topic26\", \"Topic26\", \"Topic26\", \"Topic26\", \"Topic26\", \"Topic26\", \"Topic26\", \"Topic26\", \"Topic26\", \"Topic26\", \"Topic27\", \"Topic27\", \"Topic27\", \"Topic27\", \"Topic27\", \"Topic27\", \"Topic27\", \"Topic27\", \"Topic27\", \"Topic27\", \"Topic27\", \"Topic27\", \"Topic27\", \"Topic27\", \"Topic27\", \"Topic27\", \"Topic27\", \"Topic27\", \"Topic27\", \"Topic27\", \"Topic27\", \"Topic27\", \"Topic27\", \"Topic27\", \"Topic27\", \"Topic27\", \"Topic27\", \"Topic27\", \"Topic27\", \"Topic27\", \"Topic28\", \"Topic28\", \"Topic28\", \"Topic28\", \"Topic28\", \"Topic28\", \"Topic28\", \"Topic28\", \"Topic28\", \"Topic28\", \"Topic28\", \"Topic28\", \"Topic28\", \"Topic28\", \"Topic28\", \"Topic28\", \"Topic28\", \"Topic28\", \"Topic28\", \"Topic28\", \"Topic28\", \"Topic28\", \"Topic28\", \"Topic28\", \"Topic28\", \"Topic28\", \"Topic28\", \"Topic28\", \"Topic28\", \"Topic28\", \"Topic29\", \"Topic29\", \"Topic29\", \"Topic29\", \"Topic29\", \"Topic29\", \"Topic29\", \"Topic29\", \"Topic29\", \"Topic29\", \"Topic29\", \"Topic29\", \"Topic29\", \"Topic29\", \"Topic29\", \"Topic29\", \"Topic29\", \"Topic29\", \"Topic29\", \"Topic29\", \"Topic29\", \"Topic29\", \"Topic29\", \"Topic29\", \"Topic29\", \"Topic29\", \"Topic29\", \"Topic29\", \"Topic29\", \"Topic29\", \"Topic30\", \"Topic30\", \"Topic30\", \"Topic30\", \"Topic30\", \"Topic30\", \"Topic30\", \"Topic30\", \"Topic30\", \"Topic30\", \"Topic30\", \"Topic30\", \"Topic30\", \"Topic30\", \"Topic30\", \"Topic30\", \"Topic30\", \"Topic30\", \"Topic30\", \"Topic30\", \"Topic30\", \"Topic30\", \"Topic30\", \"Topic30\", \"Topic30\", \"Topic30\", \"Topic30\", \"Topic30\", \"Topic30\", \"Topic30\"], \"Freq\": [44287.0, 41189.0, 22589.0, 32661.0, 32628.0, 18771.0, 17691.0, 17401.0, 17109.0, 20976.0, 27404.0, 24834.0, 23951.0, 17810.0, 17228.0, 23450.0, 12906.0, 16266.0, 22122.0, 21952.0, 12438.0, 21436.0, 11835.0, 11694.0, 18570.0, 14452.0, 10176.0, 19166.0, 18920.0, 8961.0, 32627.85068290564, 27404.012773142287, 23950.31895194397, 23449.951659552386, 22121.6496050932, 21951.282898033583, 21435.984309145584, 19165.36547197703, 18919.294584368967, 16608.58946318639, 16536.394239653848, 14677.620523333391, 13531.74201876099, 12763.119247959352, 10703.91986815154, 10049.787853444217, 9995.847393534355, 9397.788972467855, 9109.758992580622, 8173.455280397422, 7888.787144854997, 6979.603333779066, 6657.308254311232, 6522.7820316536145, 6414.531411295209, 6391.125785323079, 6390.144607768868, 6133.615928106471, 6062.19720362922, 5902.23711899921, 41189.058032341454, 32660.19514456573, 24833.87627172887, 18570.00354510268, 16566.699314732898, 15153.8658468555, 14369.707020406868, 13992.333516588977, 13245.948628868166, 11748.239969566092, 11391.421081981676, 8710.512083038495, 8508.89075366824, 8233.257280238828, 8136.440933804438, 7928.852012625219, 7725.308980807612, 7695.181680688093, 7661.315746457019, 7517.36557609785, 7260.304759682909, 7041.9076193718365, 6812.505746853785, 6573.709789349459, 6419.823223059128, 6223.834001850248, 5977.243206650579, 5674.652699285979, 5415.282582811425, 5125.822080275662, 20975.79552603107, 17809.481092624344, 10130.385353840962, 8968.579987003348, 7788.242491864652, 7656.869752019772, 7492.147773092592, 7203.6376145970935, 6519.011308608401, 6370.182346468366, 6301.666754107822, 5782.256779567506, 5768.228324559399, 5542.985671023678, 5360.065941019547, 5189.802853806793, 5107.9381404150645, 4715.681917925243, 4214.503997782091, 4169.545168654344, 4098.9640034701515, 3935.786956319653, 3912.5937441627557, 3621.9631916496237, 3459.1506573503575, 3445.451129506159, 3304.7203156705427, 2972.2156681145857, 2837.9107958709646, 2798.0599555371336, 17227.61945344273, 16265.707334201268, 14451.87769378526, 12576.84169966211, 11939.084843131803, 8910.018701801177, 7884.42559668939, 7860.283309432304, 7193.341309855792, 6662.18636086761, 6416.715041799387, 6331.530801628285, 5372.9873593126185, 5283.498527588192, 5090.062522477292, 5011.14552377744, 4495.449175209476, 3626.948108861755, 3537.322584343045, 3462.9186029211346, 3406.3554940864883, 3299.8521038735767, 3236.832415575598, 2737.7257695138874, 2534.0077878329585, 2423.3358831276987, 2410.919620980255, 2405.440210276059, 2351.282925407473, 2323.919121485105, 7001.894723463387, 6821.177527022192, 6428.4269195123, 5957.650713433334, 4815.561570198901, 4193.7916510811965, 4149.473303494033, 4055.584008826679, 4041.5384158096936, 3931.2590401749926, 3490.5953845756194, 3339.034944717642, 2806.782261417435, 2729.8396890491244, 2665.381980500533, 2617.3833997186207, 2534.9081616262843, 2530.3448664164794, 2215.358992461329, 2201.96546500433, 2160.7018564325704, 2155.4005750669808, 2101.400353390297, 1977.98676369946, 1699.0631020674912, 1665.329473656623, 1553.6806051846033, 1502.0888755138421, 1448.4069285498108, 1425.0221740680806, 8891.934297427813, 8551.841876003633, 7495.223728118351, 7002.338768611393, 6742.8264871248875, 4469.749445357246, 4040.34717704276, 3958.201311123726, 3617.5635009612733, 3526.8762336642053, 3094.7592266493025, 2849.2682131185707, 2799.2117093947472, 2669.96835262824, 2405.3726924127286, 2146.6181665069566, 2129.7479049503618, 2066.762305603419, 2061.691480579385, 2054.588524562843, 2025.987348779998, 1766.9542003666302, 1738.2137133299875, 1711.948572814206, 1574.041241689164, 1475.1979020139281, 1325.809161548975, 1306.2197151881192, 1239.132890169295, 1166.7337556627194, 17108.689851660707, 9635.84334389841, 6839.521425136194, 6106.307371313838, 4266.157691072779, 3685.8744345575224, 3460.7113516253007, 3194.5108499509956, 3045.2709662011957, 3005.2547707907756, 2863.0219994762638, 2846.7931570475603, 2781.6957235538684, 2738.5641374562706, 2560.5974010614073, 2494.5795822298824, 2414.254049633518, 2248.81031600426, 2064.0652184234514, 2062.952529303925, 2014.0740453548606, 1914.9561984384497, 1813.3588823656592, 1780.449943146878, 1760.9528042262389, 1696.2549044017328, 1656.732832517017, 1627.6840272410502, 1626.0037989824114, 1543.5922563209117, 44286.65808120341, 12905.88609678513, 5224.900882516136, 3794.6542540517653, 3369.277411324763, 2775.3789287320014, 2486.98740718051, 2302.129818708422, 1965.1559395790616, 1856.6482470356632, 1653.874282510712, 1452.1236045467422, 1418.0700992091781, 1363.992137296163, 1319.2731295477843, 1246.3060661892332, 1104.6825955432032, 1067.9273813564512, 1001.3779376290784, 963.222946061062, 960.2710376161166, 890.2068852816751, 878.3626151325151, 854.0475333464858, 851.3313784492096, 846.5771393448259, 844.9004297324241, 777.3475813762324, 771.6674548392153, 699.6776591874263, 17690.54606063557, 9305.124966337102, 8465.393391042726, 6246.987246748294, 5990.1944216932, 5617.862940706792, 4767.077459657697, 4274.700650830885, 3508.3846818121133, 3419.3112719672527, 3388.8130716812357, 3276.65013464943, 3132.0072437694866, 2792.3303686376607, 2747.3056133114364, 2475.578416348297, 2451.804909349314, 2387.919362684217, 2183.669012738647, 1989.6999328949223, 1908.7361683306658, 1367.567026461632, 1309.3578177657007, 1307.257413136596, 1150.3584433002175, 1060.4551409052785, 1026.5035739791542, 1013.5610771750581, 916.3789086080021, 890.581905921838, 18771.052705108938, 10252.758123731337, 7309.3261298724965, 6029.792181563004, 5456.03423482185, 4316.037475246437, 4143.372525253204, 3261.147357227713, 3032.8435912383975, 2817.9922586885727, 2699.544423584453, 2101.870252407621, 2046.866714813158, 2025.0725623059382, 2002.197226180721, 1566.8359486082848, 1248.6016171027732, 1197.229601848978, 1136.5677469854465, 1116.3397978052667, 1103.124265349651, 1088.418027917931, 1001.285255641208, 967.324946095731, 950.1778905208013, 944.4426726831355, 884.1796380429253, 881.7621409934552, 864.2826860318047, 863.2829786400374, 17400.58093324687, 11834.271458093759, 11693.642884465742, 6305.615567882332, 6267.400312910066, 5142.324820334312, 3384.1015091343056, 3383.618402552677, 3063.415770655178, 2704.980294953558, 2387.785499876935, 2251.1660073231624, 2138.1055824509317, 2130.0535618011204, 2093.7648702114175, 2051.017559564405, 2023.9144888375956, 1933.1789819450516, 1901.351990702673, 1700.5707847179171, 1630.5471533503191, 1621.6452989746936, 1442.7372711381374, 1390.166158179078, 1275.810902135091, 1217.0121701104233, 972.7672017277444, 955.3475890921355, 915.049669854589, 804.1970098142102, 12437.976765227684, 7698.247755361, 6512.311410235371, 5162.995472229816, 5130.473798594082, 5018.202281401277, 4312.244027661889, 3405.026137841515, 3092.216379772862, 3034.909911139863, 2937.194269255763, 2569.522519085181, 1864.2477221845709, 1821.1144892920886, 1731.5451206565958, 1665.4682360239194, 1477.1581818072295, 1400.8515281195826, 1350.3329127217469, 1280.5672297657777, 1270.859679492549, 1231.134104641294, 1207.43777269982, 1136.4549476767825, 1099.1082358013418, 1086.076548517308, 1081.993290276606, 1072.7858752584311, 1067.170006109481, 1046.7408328487359, 7141.2699808978205, 6237.1888944315, 5904.573655531301, 4717.663984004533, 3683.450448438035, 2889.264246812721, 2410.661748291661, 2329.8933168206236, 2311.5768262460597, 2288.964165535697, 2274.9825371443826, 2123.1270738514463, 2026.1251638848505, 2023.868984600472, 1871.8231726685049, 1812.6574853546201, 1728.3492726893771, 1644.6265816373013, 1557.4535340181699, 1492.9499675986644, 1482.379733153197, 1413.2052519425151, 1322.083450893364, 1316.6867219952924, 1266.3410627706955, 1254.8679236934634, 1149.858924494678, 1072.8038472838562, 1053.1262354176854, 1043.2050397751686, 4486.825664222457, 4060.0144547796713, 3891.086814626832, 3415.22266023882, 3389.660869159582, 3279.97234440136, 3254.9093087998986, 3206.7858974173882, 2749.5824284523574, 2741.9676874698084, 2494.161066526156, 2401.651981979224, 2319.0668329954597, 2304.3900810672435, 2147.114071562917, 1767.4644061238575, 1736.6166726099113, 1591.737881000993, 1492.5180020380483, 1303.4862389016084, 1154.0389591389282, 1117.5643778381848, 1088.3834907321007, 1079.263445123542, 1014.6391581224641, 1009.0319143028892, 970.436794781421, 967.6194246348801, 925.2053504596877, 885.7146860719212, 9423.493586092492, 8376.372356898204, 5470.611968277331, 3527.1321211409254, 3247.7287461294422, 2837.8071441934553, 2328.7647634840373, 2278.891671373301, 2223.599645533942, 2167.5126465812027, 2088.480648866071, 1990.0845224977475, 1974.1449125917452, 1727.7844154956497, 1719.5656203752367, 1603.3109017941313, 1554.335271488619, 1547.8616518180133, 1461.6664176991987, 1420.661963849863, 1335.7349961220925, 1258.9366783514708, 1225.2575476447444, 1219.612066527945, 1105.2806941273593, 1057.7207044632069, 1022.2362391901097, 1006.501232621475, 1000.2906921963574, 990.5409254857329, 5741.878057608176, 4464.118334084566, 4380.125477241621, 4342.659899958946, 3601.066286546916, 3014.9859527177287, 2327.351399452754, 2126.2173370348064, 1871.2398878363288, 1802.0445930485532, 1779.6285638543743, 1766.219082197502, 1659.6176792973413, 1644.6703948605002, 1631.0569689313982, 1453.9224481243702, 1418.243744499584, 1412.5538275712136, 1381.5626938398711, 1287.4823498349372, 1247.2172905124162, 1206.4811420762255, 1183.1657291360734, 1077.7565081909017, 1053.5901030845218, 949.5182388335769, 948.5745447254267, 908.4764655045825, 901.6549435505672, 874.7638592920688, 7689.580761686297, 4737.257326726919, 4064.0364198069356, 3731.3938349656933, 3299.926782773508, 2862.851007075193, 2758.1840036565723, 2588.56225015675, 2506.110681051412, 2185.5832908597395, 2166.018966897794, 1944.5417542031137, 1820.4188834414438, 1808.917620389127, 1745.5656438424594, 1744.9304144673224, 1666.0267773602895, 1656.9364459141552, 1649.770669646666, 1628.268595143691, 1623.584935989984, 1577.0756820390818, 1531.2925202657004, 1501.3307137400145, 1463.7850463070804, 1438.2457696584415, 1294.5792939687453, 1187.2123342082066, 952.4211166164538, 932.0766457907284, 4569.826598611454, 4461.880954402309, 3589.9105480147996, 3543.341041998088, 3259.232697131069, 3044.5594077830265, 2974.5530577436216, 2956.3546688526258, 2798.250551975076, 2795.8321353863753, 2543.827915925941, 2372.8634234739648, 2034.0679794823939, 1738.4725265144132, 1604.8248777507993, 1577.9708579018009, 1554.3328851630727, 1425.3061130460583, 1358.4239835783233, 1232.8377940523555, 1220.193375008732, 1149.4404444957459, 1147.226122186033, 1125.2247165458691, 1059.547135202129, 1027.1985626777937, 1013.056534342577, 995.1132897785573, 991.7017273392713, 988.2023630539647, 9385.022725243345, 9072.508174521829, 7009.196269776949, 5337.105473465883, 4311.520277475706, 4297.678553532281, 2362.984808758575, 2198.572949948156, 2146.928386377263, 2060.808716216864, 1703.9864305259118, 1697.5408448762314, 1681.2171001737556, 1517.130546039215, 1510.9406710325443, 1449.9782951986133, 1309.1135824018277, 1199.8455590072483, 1192.9270933867392, 1155.3600946568852, 946.9930640478495, 911.3272704540918, 896.6706872535013, 856.3388983225809, 748.4202203515193, 733.8470601272016, 718.019060579955, 627.9870974598848, 622.2995575742528, 603.2949448868172, 22589.029922623307, 10175.2930232183, 5687.242871478366, 3685.220774288093, 2743.7265557545943, 2314.435436315716, 1628.3272289085965, 1458.4509172947733, 1281.213528815377, 1269.302573759191, 1097.2009967916797, 773.330714694902, 736.6526686094396, 700.9426198519624, 624.4689090404199, 611.2320396072666, 592.3886408249882, 588.4445555963932, 558.0370801976624, 553.8707443989299, 552.8581983979061, 544.1881100257776, 542.9118201109231, 529.1896461068796, 528.2024790512263, 524.6976713353158, 521.6429333438103, 514.6415475894202, 499.8874114591568, 462.51822030802253, 8429.970928518369, 5509.1883055457, 5021.036522705391, 4968.941633883676, 4936.50762077118, 4005.6956213236904, 3114.415046292358, 2426.604806707288, 2087.626510632738, 1968.6569502551386, 1471.8616636171964, 1363.7961809235226, 1101.7182104416777, 1030.7866810861121, 961.3947534093908, 887.198442390932, 887.1171105104846, 877.6012804981377, 837.7878006610329, 810.6321479130272, 743.9801309851147, 731.7253736807963, 724.2488889391842, 707.1560648964498, 697.2089890609326, 647.9412927823398, 642.8584928099535, 633.8605019953042, 632.2485670660741, 623.8240299332733, 8369.084605319478, 6248.299158744921, 5296.600398182353, 4674.689402319856, 3664.8911118245387, 3515.2659597699885, 2884.573260471814, 2176.2314480709365, 2096.3474993124382, 2009.2094366895728, 1938.2278415065741, 1750.3381974341703, 1603.5040723702032, 1513.3716398244685, 1244.6048620142983, 1192.656455783213, 1131.607097712761, 1065.1731219653968, 993.2086057797128, 953.0072239168467, 922.8838082679994, 854.2632181887817, 852.4541439012067, 830.6536513008107, 765.4659740684268, 754.5084528423015, 717.7584783501104, 711.2979829014672, 688.2560332844787, 671.0839163128252, 6885.334837041021, 6200.683317739716, 5689.315181607016, 4965.027855743044, 4550.9734478818955, 4293.664939445466, 3551.7728107830394, 2659.6373519197, 1977.347588529954, 1698.7251993481395, 1508.4955780842088, 1501.9610854436348, 1306.0489036853894, 1228.1154778827984, 1214.209752924817, 1155.3376838881225, 901.8734471455356, 847.0012283819891, 775.5740256882564, 743.9045539320722, 739.2943606229895, 731.6784622394242, 715.3207400245935, 661.443676085845, 657.7411847474946, 634.5731977255583, 633.111595627453, 607.8843559142878, 525.279341918259, 519.364278948814, 4206.560517969988, 3874.8012270522795, 3771.0257031011533, 2947.4864680730775, 2835.2843077131884, 2644.185139591176, 2090.7596753333337, 1920.28878152344, 1815.3832997160682, 1665.2501516761674, 1654.4555393893088, 1519.1385056989361, 1493.227061456366, 1177.2325895773847, 1158.0070409097752, 1139.6680342928469, 1134.269139029335, 1097.1767393645769, 993.7752194987287, 985.733897971124, 979.7998431504476, 968.8580035618362, 890.2579742998201, 865.4560163077284, 860.2951151459706, 830.4517204312576, 805.2548193598609, 789.2663083001214, 731.2242581559902, 723.2222907198383, 4138.938242352332, 3406.495401105546, 3273.9989433375567, 3086.8199248233195, 3016.2307805037317, 2232.084579833566, 2143.407465255206, 2119.4908297729576, 2118.022470088945, 1605.569170936706, 1541.0438409184424, 1384.8298487802206, 1340.636540996398, 1337.3020600885202, 1320.2802811321187, 1319.3269931163757, 1258.447972130962, 1255.5607856646427, 1169.3947776743498, 1160.1971700402078, 1086.7476328523762, 1083.2489530194496, 1060.6850416926766, 778.2526667355589, 696.4899309921702, 695.5677993478737, 660.0081997229041, 639.0409312446144, 630.2090914789388, 595.405088947069, 5038.708715158494, 3844.527910568966, 3490.5513174519992, 2648.2168927553735, 2491.46455367878, 2249.962660069512, 2083.608996604859, 1788.3216429593729, 1606.092689922556, 1545.1118649068665, 1352.1624983779345, 1324.9497351689076, 1294.0774191254056, 1258.8687560513852, 1162.801283183373, 1077.6730295552072, 1063.451313273728, 971.3778053292885, 960.6186920597864, 933.2313279442898, 927.8420347413427, 903.3786811945715, 860.4128901304756, 796.3244976401531, 779.9559707778532, 745.1653638977708, 701.9972001124348, 684.1915640009064, 601.1782408821682, 535.9514093990962, 7353.714398872546, 4275.005813379515, 3471.1680271592827, 3278.9948357571775, 2954.356257721333, 2888.7266173250023, 2630.2262805063665, 2602.7495590429407, 2553.5781560887513, 2179.0811465679076, 1702.7227039598058, 1536.2710946579284, 1321.206201004624, 1124.825798788937, 1122.271745262142, 1000.98092597209, 812.3792352812562, 744.2392479623065, 705.7577928699219, 660.2141199099041, 645.7620483384653, 645.3789607713394, 578.9312538792448, 554.0505737477495, 540.7564816442515, 535.7450774985904, 512.4178643095262, 491.44941633721265, 479.81748475357216, 479.6176948269929, 8960.508497165685, 4917.064080897824, 4309.089949688034, 4072.20987231004, 2954.415356251123, 2319.544043729317, 2150.828647791594, 2130.188003724772, 1238.98710022367, 1223.3579365154458, 1149.778015958779, 904.6196967454642, 875.5976306029963, 857.476361520802, 705.2429174245917, 663.602604950633, 655.785495295533, 633.4293552582571, 626.2422808493889, 586.6474955748675, 534.3350371299972, 530.0478483544687, 521.4283150857636, 519.0417645530467, 505.7971214767461, 486.611801378697, 482.4243841421614, 440.22741925065054, 436.14498235514355, 417.78196357846804, 4781.627418584757, 3669.6705103122695, 2903.674044958575, 2561.4357122614265, 2314.7388920584826, 2064.4333007721602, 1522.4364274135946, 1340.7915684864195, 1270.8655832569052, 1223.0073603596497, 943.9441310293109, 923.8869991297748, 915.6586658933484, 862.9212004438929, 816.5728430318865, 710.6383814634312, 647.120761634677, 619.0351467691065, 597.5905659438423, 585.532810461214, 583.1257502994147, 572.4821614965738, 543.0296045921598, 497.8759754699978, 481.91717063984464, 471.848105426014, 467.87171715713873, 466.2876520220328, 464.27507380256293, 419.2267354168248, 2708.3381717806765, 2264.750207121375, 2054.6208161889313, 1505.999857731678, 1347.3247705965725, 1067.9286074000274, 817.8988602528001, 777.0927599173909, 768.1039016509579, 727.0623477832958, 724.739950963048, 721.7350946069619, 686.9410783683595, 677.4571623570649, 668.4519540176262, 650.2575678150062, 634.9321825908643, 631.3117647075734, 626.8073819993782, 597.842978050451, 593.6881249563957, 575.2267707678284, 563.2550226556069, 533.3831896548667, 529.0127277736567, 524.2767606344543, 471.80288625403904, 468.14009547162283, 467.59208720406923, 433.77358371823095], \"Term\": [\"people\", \"would\", \"say\", \"make\", \"get\", \"pay\", \"american\", \"right\", \"woman\", \"know\", \"go\", \"think\", \"time\", \"even\", \"money\", \"good\", \"live\", \"way\", \"work\", \"want\", \"government\", \"year\", \"look\", \"man\", \"need\", \"may\", \"greek\", \"many\", \"take\", \"point\", \"get\", \"go\", \"time\", \"good\", \"work\", \"want\", \"year\", \"many\", \"take\", \"see\", \"country\", \"thing\", \"world\", \"give\", \"well\", \"state\", \"find\", \"let\", \"first\", \"back\", \"bad\", \"put\", \"real\", \"maybe\", \"german\", \"run\", \"become\", \"loan\", \"stop\", \"enough\", \"would\", \"make\", \"think\", \"need\", \"much\", \"use\", \"really\", \"could\", \"job\", \"also\", \"problem\", \"article\", \"tell\", \"try\", \"ask\", \"something\", \"system\", \"big\", \"help\", \"happen\", \"less\", \"someone\", \"read\", \"care\", \"sure\", \"person\", \"always\", \"comment\", \"allow\", \"other\", \"know\", \"even\", \"never\", \"day\", \"call\", \"believe\", \"school\", \"anyone\", \"public\", \"nothing\", \"little\", \"watch\", \"hard\", \"play\", \"write\", \"course\", \"else\", \"game\", \"love\", \"rather\", \"student\", \"hour\", \"learn\", \"kind\", \"rule\", \"friend\", \"one\", \"class\", \"however\", \"exist\", \"money\", \"way\", \"may\", \"come\", \"life\", \"still\", \"long\", \"keep\", \"poor\", \"lot\", \"deal\", \"feel\", \"do\", \"create\", \"lose\", \"already\", \"today\", \"story\", \"choose\", \"history\", \"win\", \"mind\", \"self\", \"dollar\", \"carry\", \"gay\", \"major\", \"suffer\", \"fear\", \"open\", \"free\", \"war\", \"america\", \"force\", \"president\", \"kill\", \"iraq\", \"iran\", \"level\", \"act\", \"china\", \"military\", \"entire\", \"news\", \"million\", \"willing\", \"goal\", \"member\", \"russia\", \"effect\", \"illegal\", \"crime\", \"destroy\", \"thousand\", \"because\", \"criminal\", \"loss\", \"fit\", \"apple\", \"chinese\", \"fact\", \"support\", \"ever\", \"republican\", \"last\", \"political\", \"obama\", \"lead\", \"risk\", \"conservative\", \"democrat\", \"blame\", \"candidate\", \"leader\", \"majority\", \"gop\", \"imagine\", \"energy\", \"sign\", \"democratic\", \"elect\", \"favor\", \"campaign\", \"teach\", \"somehow\", \"climate_change\", \"fault\", \"message\", \"israel\", \"clinton\", \"woman\", \"child\", \"part\", \"anything\", \"result\", \"parent\", \"young\", \"individual\", \"science\", \"form\", \"decision\", \"explain\", \"age\", \"personal\", \"study\", \"chance\", \"voting\", \"liberal\", \"bear\", \"united_state\", \"attention\", \"access\", \"available\", \"research\", \"process\", \"adult\", \"privacy\", \"subject\", \"responsibility\", \"responsible\", \"people\", \"live\", \"society\", \"order\", \"city\", \"banker\", \"national\", \"whose\", \"sometimes\", \"moral\", \"religion\", \"poverty\", \"victim\", \"survive\", \"nyc\", \"various\", \"christian\", \"personally\", \"crisis\", \"complex\", \"god\", \"title\", \"compromise\", \"store\", \"physical\", \"normal\", \"bunch\", \"joke\", \"capitalism\", \"enable\", \"american\", \"company\", \"new\", \"law\", \"actually\", \"germany\", \"power\", \"turn\", \"corporation\", \"side\", \"better\", \"top\", \"industry\", \"corporate\", \"suppose\", \"pretty\", \"view\", \"food\", \"certainly\", \"girl\", \"bill\", \"absolutely\", \"match\", \"anti\", \"fill\", \"foot\", \"percent\", \"former\", \"airline\", \"finance\", \"pay\", \"greece\", \"worker\", \"cost\", \"debt\", \"economy\", \"bank\", \"provide\", \"service\", \"wage\", \"rich\", \"raise\", \"ceo\", \"doctor\", \"plan\", \"afford\", \"salary\", \"wealth\", \"trade\", \"student_loan\", \"consumer\", \"south\", \"cash\", \"credit\", \"retire\", \"customer\", \"fee\", \"competition\", \"bet\", \"creditor\", \"right\", \"look\", \"man\", \"family\", \"must\", \"idea\", \"rest\", \"situation\", \"thank\", \"die\", \"serve\", \"information\", \"miss\", \"charge\", \"com\", \"scientist\", \"practice\", \"folk\", \"remain\", \"http_www\", \"sex\", \"agreement\", \"church\", \"video\", \"engage\", \"link\", \"cancer\", \"concerned\", \"commenter\", \"physician\", \"government\", \"great\", \"end\", \"citizen\", \"nation\", \"economic\", \"continue\", \"non\", \"drug\", \"security\", \"send\", \"population\", \"feed\", \"safe\", \"federal\", \"late\", \"lend\", \"west\", \"france\", \"abuse\", \"century\", \"repay\", \"administration\", \"massive\", \"damage\", \"activity\", \"muslim\", \"honest\", \"troop\", \"anywhere\", \"white\", \"wrong\", \"party\", \"bring\", \"community\", \"lie\", \"police\", \"middle_class\", \"male\", \"sort\", \"race\", \"fair\", \"truth\", \"produce\", \"neighborhood\", \"arm\", \"violence\", \"apply\", \"justice\", \"racist\", \"minority\", \"officer\", \"movement\", \"racism\", \"promise\", \"institution\", \"cop\", \"department\", \"belief\", \"pain\", \"word\", \"move\", \"hear\", \"europe\", \"ago\", \"almost\", \"mention\", \"aot\", \"european\", \"animal\", \"stand\", \"current\", \"stay\", \"early\", \"taxpayer\", \"compare\", \"immigrant\", \"health\", \"necessary\", \"immigration\", \"restaurant\", \"define\", \"bailout\", \"forgiveness\", \"ne\", \"mexico\", \"center\", \"achieve\", \"honestly\", \"twice\", \"seem\", \"question\", \"talk\", \"ai\", \"accept\", \"new_york\", \"clearly\", \"standard\", \"wall_street\", \"single\", \"behavior\", \"note\", \"interesting\", \"serious\", \"attempt\", \"difficult\", \"nobody\", \"wear\", \"model\", \"describe\", \"device\", \"combat\", \"site\", \"organization\", \"bernie_sander\", \"publish\", \"feature\", \"racial\", \"theory\", \"page\", \"kid\", \"market\", \"human\", \"answer\", \"program\", \"drive\", \"hope\", \"worth\", \"replace\", \"tech\", \"nice\", \"assume\", \"improve\", \"condition\", \"certain\", \"account\", \"minute\", \"investment\", \"disney\", \"seek\", \"impact\", \"software\", \"reach\", \"success\", \"infrastructure\", \"extreme\", \"nature\", \"long_term\", \"lender\", \"function\", \"change\", \"college\", \"benefit\", \"group\", \"small\", \"employee\", \"datum\", \"break\", \"decade\", \"rise\", \"due\", \"climate\", \"reduce\", \"throw\", \"earn\", \"global\", \"appear\", \"source\", \"fine\", \"hate\", \"travel\", \"paper\", \"option\", \"ad\", \"apparently\", \"warm\", \"soon\", \"discuss\", \"room\", \"alternative\", \"include\", \"matter\", \"soccer\", \"wonder\", \"player\", \"name\", \"head\", \"week\", \"simple\", \"labor\", \"whole\", \"average\", \"board\", \"develop\", \"regard\", \"none\", \"step\", \"otherwise\", \"short\", \"approach\", \"nearly\", \"draw\", \"baby\", \"planet\", \"join\", \"catch\", \"total\", \"firm\", \"brother\", \"son\", \"mean\", \"vote\", \"business\", \"buy\", \"hold\", \"profit\", \"save\", \"election\", \"close\", \"death\", \"office\", \"sorry\", \"worry\", \"bail\", \"correct\", \"mistake\", \"owner\", \"reader\", \"surely\", \"eliminate\", \"bond\", \"project\", \"appeal\", \"detail\", \"own\", \"district\", \"star\", \"domestic\", \"socialist\", \"competitive\", \"say\", \"greek\", \"show\", \"true\", \"smart\", \"computer\", \"tv\", \"politic\", \"response\", \"plant\", \"safety\", \"shall\", \"collapse\", \"north\", \"warming\", \"employ\", \"gov\", \"reference\", \"solar\", \"varoufaki\", \"criticize\", \"quote\", \"victory\", \"remark\", \"aspect\", \"code\", \"original\", \"shot\", \"capacity\", \"fantasy\", \"issue\", \"not\", \"different\", \"aos\", \"can\", \"value\", \"likely\", \"position\", \"female\", \"treat\", \"billion\", \"world_cup\", \"totally\", \"anymore\", \"reasonable\", \"inequality\", \"perform\", \"fifa\", \"professor\", \"document\", \"decent\", \"budget\", \"status\", \"crash\", \"press\", \"expand\", \"productive\", \"few\", \"quit\", \"blog\", \"high\", \"leave\", \"low\", \"hand\", \"increase\", \"medium\", \"income\", \"foreign\", \"return\", \"bit\", \"add\", \"water\", \"several\", \"employer\", \"housing\", \"growth\", \"welfare\", \"pension\", \"final\", \"vacation\", \"payment\", \"negotiate\", \"decline\", \"tuition\", \"reagan\", \"gas\", \"cry\", \"reward\", \"vietnam\", \"left\", \"place\", \"black\", \"trump\", \"control\", \"able\", \"fight\", \"author\", \"list\", \"enjoy\", \"prevent\", \"court\", \"obviously\", \"sun\", \"prison\", \"bother\", \"connect\", \"remove\", \"wonderful\", \"overseas\", \"innocent\", \"manufacturer\", \"imply\", \"hot\", \"camera\", \"trial\", \"manipulate\", \"plain\", \"mexican\", \"bankrupt\", \"irresponsible\", \"guy\", \"fail\", \"sport\", \"especially\", \"whatev\", \"second\", \"book\", \"sit\", \"walk\", \"cover\", \"event\", \"actual\", \"present\", \"pressure\", \"main\", \"modern\", \"vegan\", \"around\", \"football\", \"fast\", \"hack\", \"basis\", \"movie\", \"shut\", \"funny\", \"character\", \"logic\", \"welcome\", \"danger\", \"ratio\", \"price\", \"choice\", \"voter\", \"easy\", \"technology\", \"isis\", \"ignore\", \"wait\", \"strong\", \"bush\", \"user\", \"oil\", \"seat\", \"hit\", \"cat\", \"complain\", \"fan\", \"debate\", \"supply\", \"ground\", \"primary\", \"husband\", \"machine\", \"slow\", \"deliver\", \"season\", \"worldwide\", \"handle\", \"reddit\", \"advertising\", \"gun\", \"remember\", \"line\", \"congress\", \"full\", \"union\", \"threat\", \"default\", \"freedom\", \"regulation\", \"basic\", \"measure\", \"ball\", \"indian\", \"plenty\", \"staff\", \"powerful\", \"pool\", \"progressive\", \"league\", \"health_care\", \"summer\", \"constitution\", \"iranian\", \"migrant\", \"kick\", \"dress\", \"https_www\", \"effectively\", \"fresh\", \"tax\", \"agree\", \"expect\", \"follow\", \"argument\", \"exactly\", \"eat\", \"cut\", \"fund\", \"like\", \"bag\", \"half\", \"light\", \"land\", \"daughter\", \"color\", \"collect\", \"blood\", \"coach\", \"social_security\", \"unit\", \"rational\", \"meat\", \"ocean\", \"milk\", \"beach\", \"gift\", \"funding\", \"swim\", \"somewhat\", \"point\", \"perhaps\", \"interest\", \"rate\", \"set\", \"usa\", \"prove\", \"forget\", \"french\", \"suspect\", \"relationship\", \"review\", \"impose\", \"wine\", \"percentage\", \"demonstrate\", \"reveal\", \"penalty\", \"iphone\", \"unfair\", \"capitalist\", \"previous\", \"fuel\", \"starve\", \"fiscal\", \"lock\", \"priority\", \"morality\", \"restriction\", \"basketball\", \"team\", \"probably\", \"speak\", \"concern\", \"amount\", \"doubt\", \"common\", \"oppose\", \"space\", \"forward\", \"highly\", \"grant\", \"music\", \"performance\", \"athlete\", \"prodigy\", \"bagel\", \"cheat\", \"sexual\", \"punishment\", \"tactic\", \"florida\", \"relevant\", \"limited\", \"efficient\", \"mouth\", \"enforce\", \"incredibly\", \"opposite\", \"cup\", \"grow\", \"fix\", \"cheap\", \"local\", \"austerity\", \"http\", \"analysis\", \"bottom\", \"burn\", \"manager\", \"gdp\", \"ranger\", \"property\", \"operate\", \"ruin\", \"spending\", \"new_orlean\", \"sick\", \"photo\", \"fashion\", \"taste\", \"release\", \"horse\", \"fossil_fuel\", \"ray\", \"youth\", \"banking\", \"kurt\", \"smoke\", \"disappear\"], \"Total\": [44287.0, 41189.0, 22589.0, 32661.0, 32628.0, 18771.0, 17691.0, 17401.0, 17109.0, 20976.0, 27404.0, 24834.0, 23951.0, 17810.0, 17228.0, 23450.0, 12906.0, 16266.0, 22122.0, 21952.0, 12438.0, 21436.0, 11835.0, 11694.0, 18570.0, 14452.0, 10176.0, 19166.0, 18920.0, 8961.0, 32628.78490476132, 27404.94699499797, 23951.25317379965, 23450.886593510222, 22122.58382694888, 21952.217119889265, 21436.918531001265, 19166.299693832712, 18920.228806224648, 16609.52368504207, 16537.32846150953, 14678.55474518906, 13532.676240616658, 12764.05346981502, 10704.85409000721, 10050.722075299886, 9996.781615390024, 9398.723194323524, 9110.69321443629, 8174.389502253096, 7889.721366710671, 6980.53755563474, 6658.242476166906, 6523.716253509288, 6415.465633150883, 6392.060007178753, 6391.078829624542, 6134.550149962145, 6063.131425484894, 5903.171340854884, 41189.99158831714, 32661.128700541427, 24834.80982770457, 18570.93710107838, 16567.632870708596, 15154.799402831184, 14370.640576382551, 13993.26707256466, 13246.88218484385, 11749.173525541775, 11392.35463795736, 8711.445639014179, 8509.824309643924, 8234.190836214511, 8137.374489780128, 7929.785568600909, 7726.242536783302, 7696.115236663783, 7662.249302432709, 7518.29913207354, 7261.238315658599, 7042.841175347527, 6813.439302829475, 6574.643345325149, 6420.7567790348185, 6224.767557825938, 5978.176762626269, 5675.586255261669, 5416.216138787115, 5126.755636251352, 20976.72938177961, 17810.414948372883, 10131.319209589488, 8969.513842751874, 7789.176347613184, 7657.803607768304, 7493.081628841123, 7204.571470345625, 6519.945164356933, 6371.116202216897, 6302.600609856354, 5783.1906353160375, 5769.162180307931, 5543.91952677221, 5360.999796768078, 5190.7367095553245, 5108.871996163596, 4716.615773673775, 4215.437853530622, 4170.479024402875, 4099.897859218683, 3936.720812068184, 3913.5275999112864, 3622.8970473981544, 3460.0845130988882, 3446.3849852546896, 3305.6541714190735, 2973.1495238631164, 2838.8446516194954, 2798.9938112856644, 17228.552314687855, 16266.640195446385, 14452.810555030377, 12577.774560907228, 11940.01770437692, 8910.951563046294, 7885.358457934511, 7861.216170677425, 7194.274171100913, 6663.119222112731, 6417.647903044508, 6332.463662873406, 5373.920220557739, 5284.431388833313, 5090.995383722413, 5012.078385022561, 4496.382036454597, 3627.8809701068744, 3538.2554455881645, 3463.851464166254, 3407.288355331608, 3300.784965118696, 3237.7652768207176, 2738.658630759007, 2534.940649078078, 2424.268744372818, 2411.8524822253744, 2406.3730715211786, 2352.2157866525927, 2324.8519827302243, 7002.825890964018, 6822.1086945228235, 6429.358087012931, 5958.581880933965, 4816.492737699532, 4194.722818581828, 4150.404470994664, 4056.51517632731, 4042.4695833103247, 3932.1902076756237, 3491.5265520762505, 3339.966112218273, 2807.7134289180663, 2730.7708565497555, 2666.313148001164, 2618.314567219252, 2535.8393291269153, 2531.2760339171105, 2216.29015996196, 2202.896632504961, 2161.6330239332015, 2156.331742567612, 2102.331520890928, 1978.917931200092, 1699.9942695681232, 1666.260641157255, 1554.6117726852353, 1503.0200430144741, 1449.3380960504428, 1425.9533415687126, 8892.864692570787, 8552.772271146607, 7496.154123261327, 7003.269163754369, 6743.756882267864, 4470.679840500223, 4041.2775721857365, 3959.1317062667026, 3618.49389610425, 3527.806628807182, 3095.689621792279, 2850.198608261547, 2800.1421045377238, 2670.8987477712167, 2406.303087555705, 2147.548561649933, 2130.6783000933383, 2067.6927007463955, 2062.6218757223614, 2055.5189197058194, 2026.9177439229752, 1767.8845955096074, 1739.1441084729647, 1712.8789679571832, 1574.9716368321413, 1476.1282971569053, 1326.7395566919522, 1307.1501103310964, 1240.0632853122722, 1167.6641508056966, 17109.620817961262, 9636.774310198956, 6840.452391436742, 6107.238337614386, 4267.088657373327, 3686.8054008580702, 3461.6423179258486, 3195.4418162515435, 3046.2019325017436, 3006.1857370913235, 2863.9529657768117, 2847.724123348108, 2782.6266898544163, 2739.4951037568185, 2561.528367361955, 2495.5105485304302, 2415.185015934066, 2249.741282304808, 2064.9961847239992, 2063.883495604473, 2015.0050116554091, 1915.8871647389983, 1814.2898486662077, 1781.3809094474266, 1761.8837705267874, 1697.1858707022814, 1657.6637988175655, 1628.6149935415988, 1626.93476528296, 1544.5232226214603, 44287.58896517652, 12906.816980758245, 5225.831766489253, 3795.585138024883, 3370.2082952978803, 2776.309812705119, 2487.9182911536277, 2303.0607026815396, 1966.0868235521793, 1857.579131008781, 1654.8051664838297, 1453.05448851986, 1419.0009831822958, 1364.9230212692808, 1320.204013520902, 1247.236950162351, 1105.613479516321, 1068.858265329569, 1002.3088216021957, 964.1538300341794, 961.201921589234, 891.1377692547925, 879.2934991056325, 854.9784173196032, 852.262262422327, 847.5080233179433, 845.8313137055414, 778.2784653493497, 772.5983388123327, 700.6085431605437, 17691.481188045396, 9306.060093746915, 8466.32851845254, 6247.922374158109, 5991.129549103015, 5618.798068116607, 4768.012587067512, 4275.6357782407, 3509.3198092219295, 3420.246399377069, 3389.748199091052, 3277.5852620592464, 3132.942371179303, 2793.265496047477, 2748.2407407212527, 2476.5135437581134, 2452.7400367591304, 2388.8544900940333, 2184.604140148463, 1990.6350603047392, 1909.6712957404827, 1368.5021538714489, 1310.2929451755176, 1308.1925405464128, 1151.2935707100344, 1061.3902683150955, 1027.4387013889711, 1014.4962045848746, 917.3140360178186, 891.5170333316545, 18771.99354317015, 10253.69896179254, 7310.266967933699, 6030.7330196242065, 5456.975072883052, 4316.978313307639, 4144.313363314406, 3262.0881952889167, 3033.784429299601, 2818.9330967497763, 2700.4852616456565, 2102.8110904688247, 2047.8075528743618, 2026.013400367142, 2003.1380642419247, 1567.7767866694885, 1249.542455163977, 1198.1704399101818, 1137.5085850466503, 1117.2806358664704, 1104.0651034108548, 1089.3588659791349, 1002.2260937024114, 968.2657841569344, 951.1187285820047, 945.3835107443389, 885.1204761041287, 882.7029790546586, 865.2235240930081, 864.2238167012408, 17401.512515224313, 11835.203040071192, 11694.574466443175, 6306.547149859766, 6268.3318948875, 5143.256402311747, 3385.033091111741, 3384.5499845301124, 3064.347352632614, 2705.9118769309935, 2388.7170818543705, 2252.097589300598, 2139.0371644283673, 2130.985143778556, 2094.696452188853, 2051.9491415418406, 2024.8460708150315, 1934.1105639224875, 1902.2835726801088, 1701.502366695353, 1631.478735327755, 1622.5768809521294, 1443.6688531155733, 1391.0977401565137, 1276.7424841125269, 1217.9437520878591, 973.6987837051797, 956.2791710695709, 915.9812518320243, 805.1285917916456, 12438.909444767762, 7699.180434901077, 6513.244089775449, 5163.928151769894, 5131.406478134159, 5019.134960941355, 4313.176707201967, 3405.9588173815937, 3093.149059312941, 3035.842590679942, 2938.126948795842, 2570.45519862526, 1865.18040172465, 1822.0471688321677, 1732.477800196675, 1666.4009155639985, 1478.0908613473086, 1401.7842076596617, 1351.265592261826, 1281.4999093058568, 1271.7923590326282, 1232.0667841813731, 1208.3704522398991, 1137.3876272168616, 1100.040915341421, 1087.0092280573872, 1082.9259698166852, 1073.7185547985102, 1068.10268564956, 1047.673512388815, 7142.198560793167, 6238.117474326847, 5905.5022354266475, 4718.59256389988, 3684.3790283333838, 2890.19282670807, 2411.5903281870096, 2330.8218967159723, 2312.5054061414085, 2289.8927454310456, 2275.9111170397314, 2124.055653746795, 2027.0537437801988, 2024.7975644958203, 1872.7517525638532, 1813.5860652499684, 1729.2778525847255, 1645.5551615326497, 1558.3821139135182, 1493.8785474940128, 1483.3083130485454, 1414.1338318378635, 1323.0120307887123, 1317.6153018906407, 1267.2696426660439, 1255.7965035888117, 1150.7875043900262, 1073.7324271792045, 1054.0548153130337, 1044.133619670517, 4487.759306265908, 4060.9480968231233, 3892.020456670284, 3416.156302282272, 3390.594511203034, 3280.905986444812, 3255.8429508433505, 3207.71953946084, 2750.5160704958093, 2742.9013295132604, 2495.094708569608, 2402.585624022676, 2320.0004750389116, 2305.3237231106955, 2148.047713606369, 1768.3980481673093, 1737.550314653363, 1592.6715230444447, 1493.4516440815, 1304.4198809450602, 1154.97260118238, 1118.4980198816365, 1089.3171327755524, 1080.1970871669937, 1015.5728001659157, 1009.9655563463408, 971.3704368248726, 968.5530666783318, 926.1389925031393, 886.6483281153728, 9424.42553335624, 8377.304304161951, 5471.543915541079, 3528.064068404675, 3248.6606933931917, 2838.7390914572047, 2329.6967107477867, 2279.8236186370505, 2224.5315927976912, 2168.444593844952, 2089.4125961298205, 1991.0164697614966, 1975.0768598554944, 1728.7163627593989, 1720.4975676389859, 1604.2428490578804, 1555.267218752368, 1548.7935990817625, 1462.598364962948, 1421.5939111136122, 1336.6669433858417, 1259.86862561522, 1226.1894949084935, 1220.5440137916942, 1106.2126413911085, 1058.652651726956, 1023.1681864538587, 1007.4331798852239, 1001.2226394601064, 991.4728727494819, 5742.813236908778, 4465.053513385168, 4381.060656542223, 4343.595079259548, 3602.001465847519, 3015.9211320183313, 2328.2865787533565, 2127.152516335409, 1872.1750671369314, 1802.9797723491558, 1780.563743154977, 1767.1542614981047, 1660.552858597944, 1645.6055741611028, 1631.9921482320008, 1454.8576274249729, 1419.1789238001866, 1413.4890068718162, 1382.4978731404738, 1288.4175291355398, 1248.1524698130188, 1207.4163213768281, 1184.100908436676, 1078.6916874915044, 1054.5252823851245, 950.4534181341792, 949.509724026029, 909.4116448051848, 902.5901228511694, 875.6990385926711, 7690.515982790897, 4738.19254783152, 4064.971640911537, 3732.329056070295, 3300.8620038781096, 2863.7862281797948, 2759.119224761174, 2589.4974712613516, 2507.0459021560137, 2186.518511964341, 2166.9541880023958, 1945.4769753077155, 1821.3541045460456, 1809.8528414937289, 1746.5008649470612, 1745.8656355719243, 1666.9619984648914, 1657.871667018757, 1650.7058907512678, 1629.203816248293, 1624.5201570945858, 1578.0109031436837, 1532.2277413703023, 1502.2659348446164, 1464.7202674116822, 1439.1809907630434, 1295.5145150733472, 1188.1475553128084, 953.3563377210552, 933.0118668953298, 4570.7604951533185, 4462.8148509441735, 3590.8444445566643, 3544.2749385399525, 3260.1665936729337, 3045.493304324891, 2975.4869542854863, 2957.2885653944904, 2799.184448516941, 2796.76603192824, 2544.7618124678056, 2373.7973200158294, 2035.0018760242588, 1739.406423056278, 1605.7587742926642, 1578.9047544436658, 1555.2667817049376, 1426.2400095879232, 1359.3578801201882, 1233.7716905942204, 1221.1272715505968, 1150.3743410376107, 1148.160018727898, 1126.158613087734, 1060.481031743994, 1028.1324592196586, 1013.9904308844416, 996.0471863204218, 992.6356238811359, 989.1362595958293, 9385.957574509424, 9073.443023787908, 7010.131119043031, 5338.040322731965, 4312.455126741788, 4298.613402798363, 2363.919658024657, 2199.507799214238, 2147.863235643345, 2061.743565482946, 1704.921279791994, 1698.4756941423136, 1682.1519494398378, 1518.0653953052972, 1511.8755202986265, 1450.9131444646955, 1310.0484316679099, 1200.7804082733305, 1193.8619426528214, 1156.2949439229674, 947.9279133139313, 912.2621197201736, 897.6055365195831, 857.2737475886627, 749.3550696176011, 734.7819093932834, 718.9539098460367, 628.9219467259666, 623.2344068403346, 604.229794152899, 22589.963996756873, 10176.227097351864, 5688.176945611932, 3686.154848421658, 2744.6606298881593, 2315.369510449281, 1629.2613030421621, 1459.384991428339, 1282.1476029489427, 1270.2366478927568, 1098.1350709252454, 774.2647888284673, 737.586742743005, 701.8766939855277, 625.4029831739853, 612.166113740832, 593.3227149585535, 589.3786297299586, 558.9711543312277, 554.8048185324952, 553.7922725314714, 545.122184159343, 543.8458942444885, 530.123720240445, 529.1365531847916, 525.6317454688811, 522.5770074773757, 515.5756217229855, 500.8214855927221, 463.45229444158787, 8430.903171218497, 5510.12054824583, 5021.968765405521, 4969.873876583806, 4937.43986347131, 4006.62786402382, 3115.347288992488, 2427.5370494074177, 2088.5587533328676, 1969.5891929552688, 1472.7939063173267, 1364.7284236236528, 1102.650453141808, 1031.7189237862424, 962.3269961095208, 888.130685091062, 888.0493532106146, 878.5335231982677, 838.7200433611629, 811.5643906131572, 744.9123736852447, 732.6576163809264, 725.1811316393142, 708.0883075965799, 698.1412317610626, 648.8735354824698, 643.7907355100836, 634.7927446954342, 633.1808097662041, 624.7562726334033, 8370.019738563356, 6249.2342919888015, 5297.535531426233, 4675.624535563736, 3665.826245068419, 3516.201093013869, 2885.5083937156946, 2177.166581314817, 2097.2826325563187, 2010.1445699334538, 1939.162974750455, 1751.2733306780513, 1604.4392056140841, 1514.3067730683495, 1245.5399952581793, 1193.591589027094, 1132.542230956642, 1066.1082552092778, 994.1437390235933, 953.9423571607272, 923.8189415118799, 855.1983514326622, 853.3892771450872, 831.5887845446912, 766.4011073123073, 755.443586086182, 718.6936115939909, 712.2331161453477, 689.1911665283592, 672.0190495567057, 6886.264813114992, 6201.613293813686, 5690.245157680986, 4965.957831817014, 4551.903423955866, 4294.594915519437, 3552.7027868570094, 2660.56732799367, 1978.2775646039245, 1699.65517542211, 1509.4255541581792, 1502.8910615176053, 1306.9788797593599, 1229.0454539567688, 1215.1397289987874, 1156.267659962093, 902.8034232195057, 847.9312044559592, 776.5040017622265, 744.8345300060423, 740.2243366969597, 732.6084383133943, 716.2507160985637, 662.3736521598152, 658.6711608214647, 635.5031737995284, 634.0415717014231, 608.8143319882579, 526.2093179922291, 520.2942550227841, 4207.493269190688, 3875.7339782729796, 3771.9584543218534, 2948.4192192937776, 2836.2170589338884, 2645.117890811876, 2091.692426554034, 1921.2215327441406, 1816.3160509367688, 1666.182902896868, 1655.3882906100093, 1520.0712569196367, 1494.1598126770666, 1178.1653407980853, 1158.9397921304758, 1140.6007855135474, 1135.2018902500356, 1098.1094905852774, 994.7079707194289, 986.6666491918241, 980.7325943711478, 969.7907547825364, 891.1907255205203, 866.3887675284286, 861.2278663666708, 831.3844716519578, 806.1875705805611, 790.1990595208216, 732.1570093766904, 724.1550419405385, 4139.8721952287815, 3407.4293539819955, 3274.932896214006, 3087.753877699769, 3017.164733380181, 2233.0185327100153, 2144.3414181316552, 2120.424782649407, 2118.9564229653943, 1606.503123813156, 1541.9777937948922, 1385.7638016566705, 1341.570493872848, 1338.23601296497, 1321.2142340085686, 1320.2609459928256, 1259.3819250074118, 1256.4947385410926, 1170.3287305507997, 1161.1311229166577, 1087.6815857288261, 1084.1829058958995, 1061.6189945691265, 779.1866196120084, 697.4238838686197, 696.5017522243231, 660.9421525993536, 639.9748841210638, 631.1430443553883, 596.3390418235184, 5039.641003914612, 3845.460199325085, 3491.483606208118, 2649.1491815114923, 2492.3968424348986, 2250.8949488256308, 2084.541285360978, 1789.2539317154917, 1607.0249786786749, 1546.0441536629853, 1353.0947871340534, 1325.8820239250265, 1295.0097078815245, 1259.801044807504, 1163.7335719394919, 1078.605318311326, 1064.3836020298468, 972.3100940854073, 961.5509808159052, 934.1636167004085, 928.7743234974614, 904.3109699506903, 861.3451788865943, 797.2567863962719, 780.8882595339719, 746.0976526538896, 702.9294888685536, 685.1238527570251, 602.110529638287, 536.8836981552149, 7354.647823098798, 4275.939237605767, 3472.101451385535, 3279.9282599834296, 2955.289681947585, 2889.6600415512544, 2631.1597047326186, 2603.682983269193, 2554.5115803150034, 2180.0145707941597, 1703.6561281860581, 1537.2045188841807, 1322.1396252308764, 1125.7592230151893, 1123.2051694883944, 1001.914350198342, 813.3126595075083, 745.1726721885586, 706.691217096174, 661.1475441361562, 646.6954725647174, 646.3123849975915, 579.8646781054969, 554.9839979740016, 541.6899058705036, 536.6785017248425, 513.3512885357783, 492.38284056346487, 480.7509089798244, 480.5511190532451, 8961.441572882326, 4917.997156614464, 4310.023025404674, 4073.1429480266797, 2955.3484319677627, 2320.4771194459568, 2151.761723508234, 2131.121079441412, 1239.9201759403102, 1224.291012232086, 1150.711091675419, 905.5527724621044, 876.5307063196365, 858.4094372374421, 706.1759931412319, 664.5356806672731, 656.7185710121731, 634.3624309748973, 627.175356566029, 587.5805712915077, 535.2681128466373, 530.9809240711088, 522.3613908024038, 519.9748402696869, 506.73019719338623, 487.54487709533714, 483.3574598588015, 441.1604949672907, 437.0780580717837, 418.71503929510817, 4782.5623709536185, 3670.6054626811315, 2904.608997327437, 2562.3706646302885, 2315.6738444273446, 2065.3682531410223, 1523.3713797824566, 1341.7265208552815, 1271.8005356257672, 1223.9423127285118, 944.8790833981728, 924.8219514986367, 916.5936182622103, 863.8561528127548, 817.5077954007484, 711.6025777383162, 648.0557140035389, 619.9700991379684, 598.5255183127042, 586.4677628300759, 584.0607026682766, 573.4171138654357, 543.9645569610217, 498.81092783885975, 482.8521230087066, 472.78305779487596, 468.8066695260007, 467.22260439089473, 465.2100261714249, 420.16168778568675, 2709.2732712402476, 2265.685306580946, 2055.5559156485024, 1506.9349571912494, 1348.2598700561439, 1068.8637068595988, 818.8339597123714, 778.0278593769623, 769.0390011105293, 727.9974472428671, 725.6750504226194, 722.6701940665332, 687.8761778279309, 678.3922618166363, 669.3870534771976, 651.1926672745775, 635.8672820504356, 632.2468641671447, 627.7424814589496, 598.7780775100224, 594.623224415967, 576.1618702273997, 564.1901221151783, 534.318289114438, 529.947827233228, 525.2118600940256, 472.7379857136103, 469.0751949311941, 468.5271866636405, 434.70868317780224], \"loglift\": [30.0, 29.0, 28.0, 27.0, 26.0, 25.0, 24.0, 23.0, 22.0, 21.0, 20.0, 19.0, 18.0, 17.0, 16.0, 15.0, 14.0, 13.0, 12.0, 11.0, 10.0, 9.0, 8.0, 7.0, 6.0, 5.0, 4.0, 3.0, 2.0, 1.0, 2.0276, 2.0276, 2.0276, 2.0276, 2.0276, 2.0276, 2.0276, 2.0276, 2.0276, 2.0276, 2.0276, 2.0276, 2.0276, 2.0276, 2.0276, 2.0275, 2.0275, 2.0275, 2.0275, 2.0275, 2.0275, 2.0275, 2.0275, 2.0275, 2.0275, 2.0275, 2.0275, 2.0275, 2.0275, 2.0275, 2.1916, 2.1916, 2.1916, 2.1916, 2.1916, 2.1916, 2.1916, 2.1916, 2.1916, 2.1916, 2.1916, 2.1916, 2.1916, 2.1916, 2.1916, 2.1916, 2.1916, 2.1916, 2.1916, 2.1915, 2.1915, 2.1915, 2.1915, 2.1915, 2.1915, 2.1915, 2.1915, 2.1915, 2.1915, 2.1915, 2.7183, 2.7183, 2.7183, 2.7182, 2.7182, 2.7182, 2.7182, 2.7182, 2.7182, 2.7182, 2.7182, 2.7182, 2.7182, 2.7182, 2.7182, 2.7182, 2.7182, 2.7181, 2.7181, 2.7181, 2.7181, 2.7181, 2.7181, 2.7181, 2.7181, 2.7181, 2.7181, 2.718, 2.718, 2.718, 2.7588, 2.7588, 2.7588, 2.7588, 2.7588, 2.7587, 2.7587, 2.7587, 2.7587, 2.7587, 2.7587, 2.7587, 2.7587, 2.7587, 2.7587, 2.7587, 2.7586, 2.7586, 2.7586, 2.7586, 2.7586, 2.7586, 2.7586, 2.7585, 2.7585, 2.7585, 2.7585, 2.7585, 2.7584, 2.7584, 3.2208, 3.2208, 3.2208, 3.2207, 3.2207, 3.2207, 3.2207, 3.2207, 3.2207, 3.2207, 3.2206, 3.2206, 3.2206, 3.2206, 3.2206, 3.2205, 3.2205, 3.2205, 3.2205, 3.2205, 3.2205, 3.2205, 3.2205, 3.2204, 3.2204, 3.2203, 3.2203, 3.2203, 3.2203, 3.2202, 3.3273, 3.3273, 3.3273, 3.3273, 3.3273, 3.3272, 3.3272, 3.3272, 3.3271, 3.3271, 3.3271, 3.3271, 3.3271, 3.3271, 3.327, 3.327, 3.327, 3.327, 3.327, 3.327, 3.3269, 3.3269, 3.3269, 3.3269, 3.3268, 3.3268, 3.3267, 3.3267, 3.3267, 3.3266, 3.3319, 3.3319, 3.3319, 3.3318, 3.3318, 3.3317, 3.3317, 3.3317, 3.3317, 3.3317, 3.3317, 3.3317, 3.3317, 3.3317, 3.3316, 3.3316, 3.3316, 3.3316, 3.3315, 3.3315, 3.3315, 3.3315, 3.3315, 3.3315, 3.3315, 3.3314, 3.3314, 3.3314, 3.3314, 3.3314, 3.485, 3.485, 3.4849, 3.4848, 3.4848, 3.4847, 3.4847, 3.4846, 3.4846, 3.4845, 3.4845, 3.4844, 3.4844, 3.4844, 3.4843, 3.4843, 3.4842, 3.4842, 3.4841, 3.4841, 3.4841, 3.484, 3.484, 3.484, 3.484, 3.4839, 3.4839, 3.4839, 3.4838, 3.4837, 3.4929, 3.4928, 3.4928, 3.4928, 3.4928, 3.4928, 3.4927, 3.4927, 3.4927, 3.4927, 3.4926, 3.4926, 3.4926, 3.4926, 3.4926, 3.4925, 3.4925, 3.4925, 3.4925, 3.4925, 3.4924, 3.4922, 3.4922, 3.4922, 3.4921, 3.492, 3.492, 3.492, 3.4919, 3.4919, 3.4939, 3.4939, 3.4939, 3.4938, 3.4938, 3.4938, 3.4938, 3.4937, 3.4937, 3.4937, 3.4936, 3.4935, 3.4935, 3.4935, 3.4935, 3.4934, 3.4932, 3.4932, 3.4932, 3.4932, 3.4931, 3.4931, 3.4931, 3.493, 3.493, 3.493, 3.4929, 3.4929, 3.4929, 3.4929, 3.5009, 3.5009, 3.5009, 3.5008, 3.5008, 3.5008, 3.5007, 3.5007, 3.5007, 3.5006, 3.5006, 3.5006, 3.5005, 3.5005, 3.5005, 3.5005, 3.5005, 3.5005, 3.5005, 3.5004, 3.5004, 3.5004, 3.5003, 3.5003, 3.5003, 3.5002, 3.5, 3.5, 3.5, 3.4998, 3.5357, 3.5357, 3.5356, 3.5356, 3.5356, 3.5356, 3.5356, 3.5355, 3.5355, 3.5355, 3.5355, 3.5354, 3.5353, 3.5353, 3.5352, 3.5352, 3.5351, 3.5351, 3.5351, 3.5351, 3.535, 3.535, 3.535, 3.535, 3.5349, 3.5349, 3.5349, 3.5349, 3.5349, 3.5349, 3.581, 3.581, 3.581, 3.5809, 3.5809, 3.5808, 3.5807, 3.5807, 3.5807, 3.5807, 3.5807, 3.5807, 3.5807, 3.5807, 3.5806, 3.5806, 3.5806, 3.5806, 3.5805, 3.5805, 3.5805, 3.5805, 3.5804, 3.5804, 3.5804, 3.5804, 3.5803, 3.5802, 3.5802, 3.5802, 3.6418, 3.6417, 3.6417, 3.6417, 3.6417, 3.6417, 3.6417, 3.6417, 3.6416, 3.6416, 3.6416, 3.6416, 3.6416, 3.6416, 3.6415, 3.6414, 3.6414, 3.6414, 3.6414, 3.6413, 3.6412, 3.6411, 3.6411, 3.6411, 3.6411, 3.6411, 3.641, 3.641, 3.641, 3.6409, 3.6626, 3.6626, 3.6626, 3.6625, 3.6625, 3.6624, 3.6623, 3.6623, 3.6623, 3.6623, 3.6623, 3.6623, 3.6623, 3.6622, 3.6622, 3.6622, 3.6621, 3.6621, 3.6621, 3.6621, 3.662, 3.662, 3.662, 3.662, 3.6619, 3.6619, 3.6618, 3.6618, 3.6618, 3.6618, 3.7295, 3.7295, 3.7295, 3.7295, 3.7294, 3.7294, 3.7293, 3.7293, 3.7292, 3.7292, 3.7292, 3.7292, 3.7291, 3.7291, 3.7291, 3.7291, 3.7291, 3.729, 3.729, 3.729, 3.729, 3.7289, 3.7289, 3.7288, 3.7288, 3.7287, 3.7287, 3.7287, 3.7287, 3.7286, 3.737, 3.7369, 3.7369, 3.7368, 3.7368, 3.7368, 3.7368, 3.7367, 3.7367, 3.7367, 3.7367, 3.7366, 3.7366, 3.7366, 3.7366, 3.7366, 3.7365, 3.7365, 3.7365, 3.7365, 3.7365, 3.7365, 3.7365, 3.7365, 3.7365, 3.7364, 3.7364, 3.7363, 3.7361, 3.7361, 3.8257, 3.8257, 3.8256, 3.8256, 3.8256, 3.8256, 3.8256, 3.8256, 3.8256, 3.8256, 3.8255, 3.8255, 3.8254, 3.8254, 3.8253, 3.8253, 3.8253, 3.8252, 3.8252, 3.8251, 3.8251, 3.8251, 3.8251, 3.8251, 3.825, 3.825, 3.825, 3.825, 3.825, 3.8249, 3.8848, 3.8848, 3.8847, 3.8847, 3.8846, 3.8846, 3.8845, 3.8844, 3.8844, 3.8844, 3.8843, 3.8843, 3.8843, 3.8842, 3.8842, 3.8842, 3.8841, 3.8841, 3.8841, 3.8841, 3.8839, 3.8838, 3.8838, 3.8838, 3.8836, 3.8836, 3.8836, 3.8834, 3.8834, 3.8833, 3.8978, 3.8978, 3.8977, 3.8976, 3.8975, 3.8975, 3.8973, 3.8972, 3.8971, 3.8971, 3.897, 3.8966, 3.8966, 3.8965, 3.8964, 3.8963, 3.8963, 3.8963, 3.8962, 3.8962, 3.8962, 3.8961, 3.8961, 3.8961, 3.8961, 3.8961, 3.8961, 3.896, 3.896, 3.8958, 3.8999, 3.8999, 3.8998, 3.8998, 3.8998, 3.8998, 3.8997, 3.8996, 3.8996, 3.8996, 3.8994, 3.8993, 3.8992, 3.8991, 3.8991, 3.899, 3.899, 3.899, 3.8989, 3.8989, 3.8988, 3.8988, 3.8987, 3.8987, 3.8987, 3.8986, 3.8986, 3.8986, 3.8986, 3.8985, 3.9154, 3.9154, 3.9154, 3.9154, 3.9153, 3.9153, 3.9152, 3.9151, 3.9151, 3.9151, 3.9151, 3.915, 3.915, 3.9149, 3.9148, 3.9148, 3.9147, 3.9147, 3.9146, 3.9146, 3.9145, 3.9145, 3.9145, 3.9144, 3.9143, 3.9143, 3.9143, 3.9142, 3.9142, 3.9142, 3.9224, 3.9224, 3.9224, 3.9224, 3.9223, 3.9223, 3.9223, 3.9222, 3.9221, 3.922, 3.9219, 3.9219, 3.9218, 3.9218, 3.9218, 3.9217, 3.9215, 3.9215, 3.9214, 3.9213, 3.9213, 3.9213, 3.9213, 3.9211, 3.9211, 3.9211, 3.9211, 3.921, 3.9208, 3.9208, 3.9506, 3.9505, 3.9505, 3.9505, 3.9505, 3.9504, 3.9503, 3.9503, 3.9503, 3.9502, 3.9502, 3.9502, 3.9502, 3.95, 3.95, 3.95, 3.95, 3.9499, 3.9499, 3.9498, 3.9498, 3.9498, 3.9497, 3.9497, 3.9497, 3.9497, 3.9496, 3.9496, 3.9495, 3.9495, 4.0094, 4.0093, 4.0093, 4.0093, 4.0093, 4.0092, 4.0092, 4.0092, 4.0092, 4.009, 4.009, 4.0089, 4.0089, 4.0089, 4.0089, 4.0089, 4.0089, 4.0089, 4.0088, 4.0088, 4.0088, 4.0088, 4.0087, 4.0084, 4.0083, 4.0083, 4.0082, 4.0082, 4.0081, 4.0081, 4.0796, 4.0795, 4.0795, 4.0794, 4.0794, 4.0794, 4.0793, 4.0793, 4.0792, 4.0792, 4.0791, 4.0791, 4.0791, 4.079, 4.079, 4.0789, 4.0789, 4.0788, 4.0788, 4.0788, 4.0788, 4.0787, 4.0787, 4.0786, 4.0786, 4.0785, 4.0785, 4.0784, 4.0782, 4.078, 4.0835, 4.0834, 4.0834, 4.0834, 4.0833, 4.0833, 4.0833, 4.0833, 4.0833, 4.0832, 4.0831, 4.083, 4.0829, 4.0828, 4.0828, 4.0827, 4.0825, 4.0824, 4.0823, 4.0822, 4.0822, 4.0822, 4.082, 4.082, 4.0819, 4.0819, 4.0818, 4.0818, 4.0817, 4.0817, 4.1498, 4.1497, 4.1497, 4.1497, 4.1496, 4.1495, 4.1495, 4.1495, 4.1492, 4.1492, 4.1491, 4.1489, 4.1488, 4.1488, 4.1486, 4.1485, 4.1485, 4.1484, 4.1484, 4.1483, 4.1482, 4.1482, 4.1481, 4.1481, 4.1481, 4.148, 4.148, 4.1478, 4.1478, 4.1477, 4.191, 4.191, 4.1909, 4.1908, 4.1908, 4.1908, 4.1906, 4.1905, 4.1905, 4.1904, 4.1902, 4.1902, 4.1902, 4.1901, 4.1901, 4.1899, 4.1898, 4.1897, 4.1896, 4.1896, 4.1896, 4.1896, 4.1895, 4.1893, 4.1893, 4.1892, 4.1892, 4.1892, 4.1892, 4.189, 4.3545, 4.3545, 4.3544, 4.3542, 4.3542, 4.354, 4.3537, 4.3537, 4.3537, 4.3536, 4.3536, 4.3536, 4.3535, 4.3535, 4.3535, 4.3534, 4.3534, 4.3534, 4.3534, 4.3533, 4.3533, 4.3532, 4.3532, 4.3531, 4.3531, 4.3531, 4.3529, 4.3529, 4.3529, 4.3527], \"logprob\": [30.0, 29.0, 28.0, 27.0, 26.0, 25.0, 24.0, 23.0, 22.0, 21.0, 20.0, 19.0, 18.0, 17.0, 16.0, 15.0, 14.0, 13.0, 12.0, 11.0, 10.0, 9.0, 8.0, 7.0, 6.0, 5.0, 4.0, 3.0, 2.0, 1.0, -3.0469000339508057, -3.221299886703491, -3.3559999465942383, -3.37719988822937, -3.435499906539917, -3.44320011138916, -3.4670000076293945, -3.578900098800659, -3.5917999744415283, -3.722100019454956, -3.7265000343322754, -3.8457000255584717, -3.927000045776367, -3.9855000972747803, -4.161399841308594, -4.2245001792907715, -4.229899883270264, -4.291500091552734, -4.322700023651123, -4.431099891662598, -4.466599941253662, -4.589000225067139, -4.636300086975098, -4.656700134277344, -4.673500061035156, -4.67710018157959, -4.677299976348877, -4.718200206756592, -4.730000019073486, -4.756700038909912, -2.6498000621795654, -2.8817999362945557, -3.1558001041412354, -3.4463999271392822, -3.5606000423431396, -3.6496999263763428, -3.702899932861328, -3.7295000553131104, -3.7843000888824463, -3.9042999744415283, -3.9351000785827637, -4.203499794006348, -4.226900100708008, -4.259799957275391, -4.271599769592285, -4.297500133514404, -4.323500156402588, -4.327400207519531, -4.3317999839782715, -4.350800037384033, -4.3856000900268555, -4.416100025177002, -4.44920015335083, -4.484899997711182, -4.508600234985352, -4.539599895477295, -4.579999923706055, -4.631999969482422, -4.678800106048584, -4.733699798583984, -2.7978999614715576, -2.9616000652313232, -3.5257999897003174, -3.647599935531616, -3.7887001037597656, -3.8057000637054443, -3.827500104904175, -3.8666999340057373, -3.966599941253662, -3.9897000789642334, -4.000500202178955, -4.08650016784668, -4.089000225067139, -4.128799915313721, -4.162300109863281, -4.1946001052856445, -4.2104997634887695, -4.29040002822876, -4.4028000831604, -4.41349983215332, -4.430600166320801, -4.471199989318848, -4.477099895477295, -4.554299831390381, -4.600299835205078, -4.604300022125244, -4.645999908447266, -4.751999855041504, -4.798299789428711, -4.812399864196777, -2.9542999267578125, -3.0118000507354736, -3.130000114440918, -3.2690000534057617, -3.321000099182129, -3.613600015640259, -3.7358999252319336, -3.739000082015991, -3.827699899673462, -3.904400110244751, -3.9419000148773193, -3.9553000926971436, -4.1194000244140625, -4.136199951171875, -4.173500061035156, -4.189199924468994, -4.297800064086914, -4.512400150299072, -4.537399768829346, -4.558700084686279, -4.575200080871582, -4.606900215148926, -4.626200199127197, -4.793700218200684, -4.870999813079834, -4.9156999588012695, -4.92080020904541, -4.923099994659424, -4.945899963378906, -4.957600116729736, -3.3926000595092773, -3.4186999797821045, -3.4779999256134033, -3.5541000366210938, -3.766900062561035, -3.9052000045776367, -3.915800094604492, -3.938699960708618, -3.9421000480651855, -3.9697999954223633, -4.088699817657471, -4.1331000328063965, -4.306700229644775, -4.334499835968018, -4.358399868011475, -4.3765997886657715, -4.408599853515625, -4.410399913787842, -4.543300151824951, -4.5493998527526855, -4.568299770355225, -4.570799827575684, -4.596199989318848, -4.656700134277344, -4.808700084686279, -4.828700065612793, -4.898099899291992, -4.9319000244140625, -4.968299865722656, -4.984600067138672, -3.047100067138672, -3.0861001014709473, -3.2179999351501465, -3.2860000133514404, -3.3238000869750977, -3.7348999977111816, -3.835900068283081, -3.8564999103546143, -3.946500062942505, -3.9718000888824463, -4.102499961853027, -4.185200214385986, -4.202899932861328, -4.250199794769287, -4.354599952697754, -4.468400001525879, -4.47629976272583, -4.50629997253418, -4.508699893951416, -4.512199878692627, -4.526199817657471, -4.663000106811523, -4.6793999671936035, -4.6946001052856445, -4.778600215911865, -4.843500137329102, -4.950200080871582, -4.965099811553955, -5.0177998542785645, -5.078000068664551, -2.3880999088287354, -2.9621999263763428, -3.305000066757202, -3.418299913406372, -3.7769999504089355, -3.9231998920440674, -3.9862000942230225, -4.066199779510498, -4.114099979400635, -4.127299785614014, -4.17579984664917, -4.18149995803833, -4.204599857330322, -4.220200061798096, -4.287399768829346, -4.313499927520752, -4.34630012512207, -4.417300224304199, -4.502999782562256, -4.503499984741211, -4.527500152587891, -4.578000068664551, -4.632500171661377, -4.6508002281188965, -4.661799907684326, -4.69920015335083, -4.722799777984619, -4.740499973297119, -4.741499900817871, -4.793600082397461, -1.2839000225067139, -2.516900062561035, -3.4212000370025635, -3.740999937057495, -3.8598999977111816, -4.053800106048584, -4.16349983215332, -4.240799903869629, -4.39900016784668, -4.4558000564575195, -4.571499824523926, -4.701600074768066, -4.725299835205078, -4.764200210571289, -4.797500133514404, -4.854400157928467, -4.975100040435791, -5.008900165557861, -5.073200225830078, -5.112100124359131, -5.115200042724609, -5.190899848937988, -5.2042999267578125, -5.232399940490723, -5.235599994659424, -5.241199970245361, -5.243199825286865, -5.326499938964844, -5.333799839019775, -5.43179988861084, -2.193700075149536, -2.836199998855591, -2.930799961090088, -3.234600067138672, -3.276599884033203, -3.3408000469207764, -3.505000114440918, -3.614000082015991, -3.8115999698638916, -3.8373000621795654, -3.846299886703491, -3.8798999786376953, -3.925100088119507, -4.039899826049805, -4.056099891662598, -4.160299777984619, -4.169899940490723, -4.196300029754639, -4.285699844360352, -4.378799915313721, -4.420300006866455, -4.753699779510498, -4.7972002029418945, -4.798799991607666, -4.926700115203857, -5.007999897003174, -5.040599822998047, -5.053299903869629, -5.154099941253662, -5.182600021362305, -2.1333999633789062, -2.738100051879883, -3.0764999389648438, -3.2690000534057617, -3.3689000606536865, -3.603300094604492, -3.644200086593628, -3.8835999965667725, -3.956199884414673, -4.029600143432617, -4.0725998878479, -4.322800159454346, -4.349400043487549, -4.360099792480469, -4.371399879455566, -4.616600036621094, -4.843599796295166, -4.885700225830078, -4.937699794769287, -4.955599784851074, -4.96750020980835, -4.980899810791016, -5.0644001960754395, -5.098899841308594, -5.116799831390381, -5.122799873352051, -5.188799858093262, -5.191500186920166, -5.21150016784668, -5.212699890136719, -2.202199935913086, -2.5876998901367188, -2.599600076675415, -3.2172000408172607, -3.223299980163574, -3.4212000370025635, -3.839600086212158, -3.8396999835968018, -3.9391000270843506, -4.063600063323975, -4.188300132751465, -4.247200012207031, -4.298799991607666, -4.302499771118164, -4.319699764251709, -4.3403000831604, -4.353600025177002, -4.399499893188477, -4.416100025177002, -4.527699947357178, -4.569799900054932, -4.575200080871582, -4.6921000480651855, -4.729300022125244, -4.815100193023682, -4.862299919128418, -5.086299896240234, -5.104400157928467, -5.147500038146973, -5.276599884033203, -2.5030999183654785, -2.9828999042510986, -3.1501998901367188, -3.3824000358581543, -3.388700008392334, -3.410799980163574, -3.5624001026153564, -3.7985999584198, -3.8949999809265137, -3.9137001037597656, -3.9463999271392822, -4.0802001953125, -4.401000022888184, -4.4243998527526855, -4.474899768829346, -4.513800144195557, -4.633800029754639, -4.686800003051758, -4.723499774932861, -4.776599884033203, -4.784200191497803, -4.815899848937988, -4.835400104522705, -4.895999908447266, -4.9293999671936035, -4.941299915313721, -4.945099830627441, -4.95359992980957, -4.958899974822998, -4.9781999588012695, -3.012700080871582, -3.1480000019073486, -3.2028000354766846, -3.4272000789642334, -3.6747000217437744, -3.9175000190734863, -4.098599910736084, -4.132699966430664, -4.140600204467773, -4.150400161743164, -4.156599998474121, -4.2256999015808105, -4.27239990234375, -4.273499965667725, -4.351600170135498, -4.383800029754639, -4.431399822235107, -4.480999946594238, -4.5355000495910645, -4.5777997970581055, -4.58489990234375, -4.632699966430664, -4.6992998123168945, -4.703400135040283, -4.742400169372559, -4.751500129699707, -4.838900089263916, -4.908299922943115, -4.926799774169922, -4.936200141906738, -3.4165000915527344, -3.5164999961853027, -3.559000015258789, -3.6893999576568604, -3.697000026702881, -3.72979998588562, -3.737499952316284, -3.7523999214172363, -3.9061999320983887, -3.9089999198913574, -4.003699779510498, -4.041500091552734, -4.076499938964844, -4.082900047302246, -4.153600215911865, -4.348100185394287, -4.365699768066406, -4.452899932861328, -4.517199993133545, -4.652599811553955, -4.774400234222412, -4.80649995803833, -4.833000183105469, -4.841400146484375, -4.903200149536133, -4.908699989318848, -4.947700023651123, -4.9506001472473145, -4.9953999519348145, -5.039000034332275, -2.653700113296509, -2.7715001106262207, -3.197499990463257, -3.636399984359741, -3.7190001010894775, -3.8538999557495117, -4.051599979400635, -4.073200225830078, -4.097799777984619, -4.123300075531006, -4.1605000495910645, -4.208700180053711, -4.216800212860107, -4.350100040435791, -4.354800224304199, -4.424799919128418, -4.455900192260742, -4.460000038146973, -4.517300128936768, -4.54580020904541, -4.607399940490723, -4.666600227355957, -4.69379997253418, -4.698400020599365, -4.796800136566162, -4.840799808502197, -4.874899864196777, -4.890399932861328, -4.896599769592285, -4.906400203704834, -3.082200050354004, -3.333899974822998, -3.3529000282287598, -3.3615000247955322, -3.5487000942230225, -3.7263998985290527, -3.9851999282836914, -4.0756001472473145, -4.203400135040283, -4.241000175476074, -4.253499984741211, -4.261099815368652, -4.323400020599365, -4.332399845123291, -4.340700149536133, -4.455699920654297, -4.480500221252441, -4.484600067138672, -4.506700038909912, -4.577300071716309, -4.609000205993652, -4.642199993133545, -4.661799907684326, -4.755099773406982, -4.777699947357178, -4.881800174713135, -4.882699966430664, -4.925899982452393, -4.933499813079834, -4.963799953460693, -2.7827000617980957, -3.2671000957489014, -3.4203999042510986, -3.5058000087738037, -3.628700017929077, -3.7708001136779785, -3.808000087738037, -3.871500015258789, -3.9038000106811523, -4.0406999588012695, -4.049699783325195, -4.15749979019165, -4.223499774932861, -4.229800224304199, -4.265500068664551, -4.265900135040283, -4.312099933624268, -4.317599773406982, -4.321899890899658, -4.335100173950195, -4.337900161743164, -4.367000102996826, -4.396500110626221, -4.416200160980225, -4.441500186920166, -4.459099769592285, -4.5644001960754395, -4.651000022888184, -4.871300220489502, -4.892899990081787, -3.2142999172210693, -3.2381999492645264, -3.4556000232696533, -3.4686999320983887, -3.552299976348877, -3.6203999519348145, -3.643699884414673, -3.6498000621795654, -3.7047998905181885, -3.7056000232696533, -3.800100088119507, -3.8696999549865723, -4.02370023727417, -4.180799961090088, -4.260799884796143, -4.277599811553955, -4.292699813842773, -4.37939977645874, -4.4274001121521, -4.524400234222412, -4.534800052642822, -4.5945000648498535, -4.596399784088135, -4.615799903869629, -4.675899982452393, -4.706900119781494, -4.720799922943115, -4.738699913024902, -4.742099761962891, -4.74560022354126, -2.435699939727783, -2.4695000648498535, -2.72760009765625, -3.0000998973846436, -3.2135000228881836, -3.2167000770568848, -3.8148999214172363, -3.88700008392334, -3.910799980163574, -3.95169997215271, -4.1417999267578125, -4.145599842071533, -4.155300140380859, -4.257999897003174, -4.2621002197265625, -4.303199768066406, -4.405399799346924, -4.492599964141846, -4.4984002113342285, -4.530399799346924, -4.729300022125244, -4.7677001953125, -4.783899784088135, -4.829899787902832, -4.964600086212158, -4.984300136566162, -5.006100177764893, -5.139999866485596, -5.149099826812744, -5.180099964141846, -1.5442999601364136, -2.3417999744415283, -2.9235999584198, -3.3575000762939453, -3.6524999141693115, -3.8225998878479004, -4.174300193786621, -4.28439998626709, -4.414000034332275, -4.423299789428711, -4.568999767303467, -4.918900012969971, -4.967400074005127, -5.017099857330322, -5.132699966430664, -5.154099941253662, -5.185400009155273, -5.1921000480651855, -5.245100021362305, -5.252600193023682, -5.254499912261963, -5.270299911499023, -5.272600173950195, -5.2982001304626465, -5.300099849700928, -5.306700229644775, -5.312600135803223, -5.326099872589111, -5.355199813842773, -5.4328999519348145, -2.5278000831604004, -2.953200101852417, -3.0460000038146973, -3.0564000606536865, -3.062999963760376, -3.271899938583374, -3.5236001014709473, -3.773099899291992, -3.9235999584198, -3.982300043106079, -4.273099899291992, -4.349400043487549, -4.56279993057251, -4.629300117492676, -4.698999881744385, -4.779300212860107, -4.779399871826172, -4.790200233459473, -4.836599826812744, -4.86959981918335, -4.955399990081787, -4.9720001220703125, -4.9822998046875, -5.006100177764893, -5.020299911499023, -5.093599796295166, -5.101500034332275, -5.115600109100342, -5.118100166320801, -5.131499767303467, -2.5195999145507812, -2.811800003051758, -2.9769999980926514, -3.101900100708008, -3.3452999591827393, -3.38700008392334, -3.584700107574463, -3.866499900817871, -3.903899908065796, -3.9463999271392822, -3.982300043106079, -4.0843000411987305, -4.171899795532227, -4.229800224304199, -4.425300121307373, -4.467899799346924, -4.520500183105469, -4.580999851226807, -4.650899887084961, -4.692200183868408, -4.724400043487549, -4.801599979400635, -4.803699970245361, -4.829599857330322, -4.911399841308594, -4.92579984664917, -4.9756999015808105, -4.984799861907959, -5.0177001953125, -5.043000221252441, -2.70770001411438, -2.8125, -2.8984999656677246, -3.0346999168395996, -3.121799945831299, -3.180000066757202, -3.3696999549865723, -3.658900022506714, -3.955399990081787, -4.1072001457214355, -4.22599983215332, -4.230299949645996, -4.370100021362305, -4.431600093841553, -4.442999839782715, -4.492700099945068, -4.7403998374938965, -4.803199768066406, -4.891300201416016, -4.933000087738037, -4.939199924468994, -4.94950008392334, -4.972099781036377, -5.0503997802734375, -5.056099891662598, -5.091899871826172, -5.094200134277344, -5.134900093078613, -5.280900001525879, -5.292300224304199, -3.1721999645233154, -3.2544000148773193, -3.2815001010894775, -3.527899980545044, -3.566699981689453, -3.6364998817443848, -3.871299982070923, -3.956399917602539, -4.012599945068359, -4.098899841308594, -4.105400085449219, -4.190700054168701, -4.207900047302246, -4.445700168609619, -4.462200164794922, -4.478099822998047, -4.482900142669678, -4.51609992980957, -4.615099906921387, -4.623199939727783, -4.629300117492676, -4.640500068664551, -4.725100040435791, -4.753399848937988, -4.759399890899658, -4.7947001457214355, -4.825500011444092, -4.8454999923706055, -4.921899795532227, -4.9328999519348145, -3.1296000480651855, -3.324399948120117, -3.364000082015991, -3.4228999614715576, -3.446000099182129, -3.7471001148223877, -3.787600040435791, -3.7988998889923096, -3.7995998859405518, -4.076600074768066, -4.117599964141846, -4.2245001792907715, -4.256899833679199, -4.259399890899658, -4.272200107574463, -4.272900104522705, -4.320199966430664, -4.322500228881836, -4.393599987030029, -4.401400089263916, -4.466899871826172, -4.470099925994873, -4.491099834442139, -4.8007001876831055, -4.9116997718811035, -4.913099765777588, -4.9654998779296875, -4.997799873352051, -5.01170015335083, -5.068600177764893, -2.8626999855041504, -3.13319993019104, -3.22979998588562, -3.50600004196167, -3.566999912261963, -3.6689999103546143, -3.745800018310547, -3.8986001014709473, -4.006100177764893, -4.0447998046875, -4.178199768066406, -4.198500156402588, -4.222099781036377, -4.24970006942749, -4.328999996185303, -4.405099868774414, -4.418399810791016, -4.508900165557861, -4.520100116729736, -4.548999786376953, -4.554800033569336, -4.581500053405762, -4.630199909210205, -4.707600116729736, -4.728400230407715, -4.77400016784668, -4.833700180053711, -4.859399795532227, -4.988699913024902, -5.103600025177002, -2.480799913406372, -3.023200035095215, -3.2314999103546143, -3.2885000705718994, -3.392699956893921, -3.4151999950408936, -3.5088999271392822, -3.519399881362915, -3.5385000705718994, -3.6970999240875244, -3.9437999725341797, -4.046599864959717, -4.197500228881836, -4.358399868011475, -4.3607001304626465, -4.474999904632568, -4.683800220489502, -4.771399974822998, -4.82450008392334, -4.891200065612793, -4.913300037384033, -4.913899898529053, -5.022600173950195, -5.066500186920166, -5.090799808502197, -5.100100040435791, -5.144599914550781, -5.186399936676025, -5.210400104522705, -5.2108001708984375, -2.216900110244751, -2.816999912261963, -2.9489998817443848, -3.0055999755859375, -3.3264000415802, -3.5683999061584473, -3.643899917602539, -3.6535000801086426, -4.195499897003174, -4.208099842071533, -4.270199775695801, -4.510000228881836, -4.542600154876709, -4.563499927520752, -4.758999824523926, -4.819799900054932, -4.831699848175049, -4.866399765014648, -4.877799987792969, -4.9430999755859375, -5.036499977111816, -5.04449987411499, -5.0609002113342285, -5.065499782562256, -5.091400146484375, -5.130000114440918, -5.138700008392334, -5.230199813842773, -5.239500045776367, -5.28249979019165, -2.8036999702453613, -3.0683999061584473, -3.302500009536743, -3.4279000759124756, -3.5292000770568848, -3.6435999870300293, -3.9481000900268555, -4.075200080871582, -4.128799915313721, -4.167099952697754, -4.42609977722168, -4.4475998878479, -4.456600189208984, -4.515900135040283, -4.571100234985352, -4.710000038146973, -4.803699970245361, -4.8480000495910645, -4.883299827575684, -4.90369987487793, -4.907800197601318, -4.926199913024902, -4.979000091552734, -5.065899848937988, -5.098400115966797, -5.11959981918335, -5.127999782562256, -5.131400108337402, -5.135700225830078, -5.237800121307373, -3.2084999084472656, -3.3873000144958496, -3.4846999645233154, -3.795300006866455, -3.9066998958587646, -4.139100074768066, -4.405799865722656, -4.456999778747559, -4.468599796295166, -4.523499965667725, -4.526700019836426, -4.530900001525879, -4.5802998542785645, -4.594200134277344, -4.607600212097168, -4.635200023651123, -4.658999919891357, -4.664700031280518, -4.671899795532227, -4.719200134277344, -4.726200103759766, -4.757800102233887, -4.778800010681152, -4.8333001136779785, -4.8414998054504395, -4.850500106811523, -4.955999851226807, -4.963799953460693, -4.965000152587891, -5.039999961853027]}, \"token.table\": {\"Topic\": [23, 9, 12, 15, 7, 16, 14, 5, 12, 24, 9, 17, 22, 12, 7, 25, 10, 7, 14, 27, 11, 15, 9, 2, 14, 4, 2, 17, 2, 5, 9, 29, 30, 14, 16, 9, 21, 3, 7, 12, 21, 14, 17, 19, 17, 5, 13, 18, 27, 13, 24, 2, 2, 20, 16, 29, 15, 7, 30, 23, 7, 18, 18, 1, 1, 27, 29, 19, 14, 26, 10, 8, 30, 23, 26, 24, 28, 27, 7, 5, 1, 15, 13, 3, 17, 15, 10, 9, 2, 9, 21, 22, 23, 6, 21, 27, 18, 19, 24, 23, 30, 17, 13, 18, 21, 8, 30, 25, 19, 19, 3, 23, 6, 21, 11, 6, 20, 8, 28, 2, 4, 10, 25, 18, 14, 12, 10, 16, 9, 7, 17, 24, 11, 30, 29, 7, 5, 5, 25, 4, 8, 11, 12, 8, 3, 15, 17, 6, 6, 19, 27, 20, 20, 27, 17, 27, 11, 15, 4, 2, 11, 29, 13, 9, 14, 10, 19, 25, 8, 8, 20, 29, 11, 16, 26, 23, 6, 26, 10, 12, 23, 13, 9, 9, 19, 10, 2, 1, 3, 23, 24, 21, 4, 10, 10, 5, 5, 8, 20, 22, 29, 14, 10, 27, 12, 24, 17, 27, 3, 4, 19, 25, 10, 17, 21, 7, 22, 26, 14, 25, 6, 6, 28, 13, 15, 5, 19, 18, 15, 11, 21, 15, 30, 17, 16, 19, 4, 10, 21, 4, 19, 29, 18, 26, 16, 12, 17, 14, 17, 25, 27, 12, 10, 5, 26, 29, 6, 19, 19, 3, 20, 17, 22, 8, 12, 6, 29, 11, 23, 1, 5, 24, 14, 14, 3, 24, 6, 27, 3, 21, 27, 7, 16, 6, 24, 13, 11, 25, 20, 30, 24, 6, 6, 4, 15, 12, 10, 12, 4, 21, 21, 21, 23, 9, 22, 9, 1, 17, 18, 1, 28, 5, 30, 29, 11, 27, 9, 9, 24, 5, 22, 28, 14, 7, 9, 29, 30, 12, 5, 26, 28, 26, 3, 28, 26, 16, 27, 27, 24, 3, 22, 4, 30, 1, 9, 1, 27, 9, 1, 17, 1, 5, 8, 1, 6, 20, 12, 29, 12, 10, 20, 25, 17, 30, 22, 26, 24, 24, 27, 22, 25, 2, 3, 17, 18, 14, 26, 14, 2, 22, 29, 4, 25, 19, 12, 14, 16, 30, 23, 3, 22, 3, 30, 11, 26, 16, 25, 11, 25, 5, 6, 14, 14, 16, 23, 28, 16, 18, 22, 22, 29, 26, 7, 9, 21, 11, 16, 23, 13, 28, 15, 16, 28, 5, 26, 5, 23, 25, 6, 21, 2, 18, 8, 13, 4, 26, 16, 5, 3, 3, 30, 18, 27, 6, 12, 9, 6, 6, 26, 3, 22, 22, 12, 16, 2, 1, 5, 7, 13, 4, 27, 27, 21, 29, 26, 11, 23, 3, 8, 1, 30, 28, 24, 4, 16, 11, 4, 5, 4, 3, 22, 25, 24, 4, 6, 2, 13, 11, 30, 23, 23, 1, 16, 12, 9, 18, 4, 1, 19, 26, 27, 22, 5, 14, 6, 23, 14, 13, 26, 5, 27, 5, 4, 13, 16, 11, 19, 15, 24, 4, 8, 28, 29, 14, 13, 24, 2, 29, 12, 11, 18, 12, 8, 16, 14, 18, 14, 2, 22, 13, 3, 9, 30, 15, 5, 16, 15, 12, 18, 8, 20, 21, 15, 3, 8, 6, 23, 27, 19, 13, 25, 3, 4, 30, 29, 29, 17, 8, 15, 20, 2, 18, 23, 19, 19, 15, 13, 17, 7, 7, 13, 10, 22, 28, 22, 8, 9, 28, 21, 29, 28, 2, 7, 8, 30, 8, 11, 23, 23, 10, 18, 20, 3, 18, 26, 28, 13, 20, 6, 26, 4, 12, 21, 8, 9, 26, 11, 24, 5, 21, 24, 9, 23, 28, 25, 25, 28, 23, 7, 29, 2, 7, 29, 13, 21, 21, 19, 16, 26, 19, 13, 30, 28, 10, 3, 15, 29, 1, 15, 21, 20, 13, 15, 13, 13, 10, 30, 28, 3, 24, 27, 30, 16, 2, 19, 22, 1, 2, 21, 25, 17, 20, 18, 26, 28, 30, 29, 8, 11, 20, 26, 23, 12, 16, 6, 7, 20, 7, 7, 11, 14, 28, 7, 10, 22, 28, 28, 22, 10, 11, 17, 6, 17, 30, 3, 1, 5, 12, 20, 10, 19, 20, 3, 7, 11, 25, 25, 24, 12, 1, 16, 15, 4, 12, 15, 11, 10, 28, 22, 11, 29, 20, 18, 20, 20, 24, 30, 9, 6, 18, 15, 24, 15, 11, 25, 17, 20, 30, 18, 27, 19, 8, 16, 20, 6, 2, 2, 8, 27, 18, 17, 19, 13, 17, 10, 29, 29, 30, 24, 26, 14, 15, 19, 28, 1, 21, 14, 18, 4, 1, 8, 4, 25, 3, 10, 7, 7, 16, 4, 26, 23, 25, 6, 9, 2, 19, 8, 28, 27, 2, 29, 1, 15, 30, 27, 14, 6, 29, 16, 25, 2, 11, 15, 1, 2, 5, 26, 17, 1, 8, 4, 9, 18, 21, 10, 17, 21, 23, 12, 20, 23, 13, 2, 22, 9, 20, 14, 28, 26, 27, 7, 28, 2, 25, 22, 21, 8, 20, 24, 8, 20, 11, 22, 9, 13, 19, 25, 7, 10, 25, 24, 15, 1, 5, 17, 20, 3, 22, 4, 10, 15, 18, 24, 22, 1, 12, 24, 13, 18, 8, 5, 4, 28, 7, 18, 23, 14, 1, 10, 1, 21, 25, 19, 16, 2, 3, 13, 1, 7, 30], \"Freq\": [0.9998015283120658, 0.9996330631486197, 0.9996099029721137, 0.9997966259158627, 0.9995369431168358, 0.9994105076615016, 0.9994289763799639, 0.9996973168608934, 0.9990715552073179, 0.9992952587487197, 0.9998114630815846, 0.9991573164143223, 0.9994002697217315, 0.9988658674685741, 0.9993012723457386, 0.9977545628751325, 0.9995045298054587, 0.9997747847899607, 0.9998246587136652, 0.9997803435564504, 0.9996444661828345, 0.9996983987864041, 0.9985675178115414, 0.9997754633943787, 0.9997238608943521, 0.999784842745919, 0.9999001184603135, 0.9989154833596094, 0.9998031569368062, 0.9997887678684947, 0.9999728011442184, 0.9997090071950476, 0.9989815276925442, 0.9996713955753486, 0.9998629984497429, 0.9990884059422058, 0.999303178637449, 0.9999206794813574, 0.9997972344379031, 0.9993571352326363, 0.9998241652392984, 0.9997756850460308, 0.999508255994194, 0.9993253868264549, 0.9994229031820897, 0.999076753689088, 0.9996626296427933, 0.9993745272321423, 0.9995636021891651, 0.999676847291012, 0.9989896357377933, 0.9999488444246059, 0.9998310892804732, 0.9978520607243048, 0.9993468247095043, 0.9993788494695645, 0.9997108001497098, 0.9995012361509794, 0.9990655584400866, 0.9998021824793198, 0.9992890614103607, 0.9996641162204092, 0.9989896715536366, 0.9998300176113809, 0.9999085687976619, 0.9996148705274481, 0.9983709517858936, 0.9992981887943747, 0.9987908638027234, 0.9992203086390941, 0.9996830926623377, 0.9995282181047933, 0.9984389117525719, 0.9977018309047752, 0.9991909013733087, 0.9991846129913728, 0.9982923009015585, 0.9987357389523489, 0.9995175851987677, 0.9994151335766703, 0.9998311975719121, 0.9993239266708562, 0.9989992785026836, 0.9998950602797533, 0.999760972277947, 0.9989037899715343, 0.9985858866998667, 0.9997792759086789, 0.9998550909608954, 0.9996484757654471, 0.9994609521984568, 0.9994306031762225, 0.9999011073756731, 0.999579465003571, 0.9987894917321669, 0.9984263081131055, 0.9995076780832183, 0.9990211140521358, 0.9996689634932729, 0.9990620593075938, 0.9986788912960194, 0.9998078888792622, 0.999874419354531, 0.9993596604173336, 0.9991024233335964, 0.9990171637156592, 0.9986489617444253, 0.9996868205198619, 0.9998386450946748, 0.999805111488661, 0.9998489766362082, 0.9979261672692806, 0.9993421428003633, 0.9999109126422857, 0.9992823409899716, 0.9995921262224967, 0.9983597237411852, 0.9992255499626721, 0.9976308828861609, 0.9999021474943418, 0.9996289265871293, 0.9987766296346546, 0.9990809711420648, 0.998898527899296, 0.9985891717794582, 0.9993769745296859, 0.9996056500166589, 0.9993920631094484, 0.9997234555508889, 0.9997954131948146, 0.9999329066096407, 0.9983347395829911, 0.9995377049992901, 0.9997295545967539, 0.9984352485074405, 0.9999196504790886, 0.9998491914443735, 0.9993314356501568, 0.999580518381012, 0.9996451794938294, 0.9994451229768027, 0.999536699074632, 0.9998202624547409, 0.9996414775610261, 0.9996133649337545, 0.9997009435843848, 0.9997548286030782, 0.9992356374719742, 0.9994312141849706, 0.9995980956193953, 0.9990218965802147, 0.9987981215474008, 0.9992045101830018, 0.9983860333511798, 0.999748311656928, 0.9990873968436912, 0.9996675164135952, 0.9993105427045651, 0.9999384182866788, 0.9998967057788742, 0.9989287424496279, 0.999099773173727, 0.9996257094281618, 0.9998860856542687, 0.9992094267640941, 0.9992036063417261, 0.9979646913065201, 0.9990449266891877, 0.9988032718449726, 0.9985289336189246, 0.9994085132230082, 0.9994650794870514, 0.9986623455699237, 0.9996320052808453, 0.9995662073244073, 0.9989036621830845, 0.9997713511844456, 0.998438281284243, 0.9990352893071575, 0.99972718316873, 0.999807120428837, 0.9993156821854408, 0.9995469474529838, 0.999623913096076, 0.9994209045077642, 0.9998784526488205, 0.9999094512698079, 0.9999196689167407, 0.9998580722551448, 0.9990555651093542, 0.999290052193663, 0.9984630340807719, 0.9997291309645278, 0.9986927306761785, 0.9985839123180935, 0.9993824036713265, 0.9992434309938574, 0.9986941932725848, 0.9985693687493149, 0.9990348994581257, 0.997235141091019, 0.9997562525902011, 0.9985365613757642, 0.999737685703835, 0.9990537485225285, 0.9984197250564119, 0.9995943543319442, 0.9989270264052085, 0.9999427123073912, 0.9998990435352179, 0.9996393511320251, 0.9996062549838712, 0.9998213162292242, 0.9995828149157084, 0.9987751932744371, 0.9996672550882646, 0.9983720475727854, 0.9992991873913115, 0.9995547422768891, 0.9979583666382038, 0.9997772316102285, 0.9997475480761356, 0.9991939023248003, 0.9993178680640868, 0.9995822216816145, 0.9993666456133599, 0.9985141880382487, 0.9991914350564448, 0.9995010399642619, 0.9996630056807216, 0.9998070944980395, 0.9992252737429309, 0.9983697515020367, 0.999034164310925, 0.9996398742087445, 0.9989358619431322, 0.9998287617753946, 0.9994998056938033, 0.9993045645919348, 0.9997595060765845, 0.9985340840293998, 0.9993375258194555, 0.9988053097252055, 0.9986776925946731, 0.9996945768877866, 0.9996285147301642, 0.9995596639708958, 0.9994257972980432, 0.9997132180366389, 0.9997558491610314, 0.9995592419834749, 0.9997738731972368, 0.9997733800735984, 0.9995929756795073, 0.9981556050199718, 0.9982352298600305, 0.9995472219207086, 0.9997691305234656, 0.9988800920303482, 0.9998293172809476, 0.9980951024327268, 0.9997254584954498, 0.9991370486538196, 0.9991314077361968, 0.9998089907643103, 0.9996649885419892, 0.99827931303363, 0.9994184542914752, 0.9993542035623397, 0.9998015743085793, 0.9997459039406521, 0.9995186507792072, 0.9996615195032208, 0.9998123732119419, 0.999920555002397, 0.9991613504711346, 0.9998460379492804, 0.9997715850509183, 0.9996449398059912, 0.9986537662045034, 0.9996827709671054, 0.9997457185749943, 0.9995229454431662, 0.9999027655765965, 0.9998106221229077, 0.9995030009006907, 0.9999132409784999, 0.9989026958542352, 0.9990240755154037, 0.9987005577871889, 0.9993243420233467, 0.9994425758331981, 0.9994996305121645, 0.9994831313268572, 0.9988582654647352, 0.9997242099167905, 0.9987340976348661, 0.9993671380400746, 0.9999267800183167, 0.9997324694208501, 0.9987511755575995, 0.9993927116220614, 0.9998614734262161, 0.9988764197569204, 0.9988495234856917, 0.999420052211765, 0.9999218132975096, 0.9995723703688084, 0.9989486579202234, 0.9999239119987936, 0.9985590020144239, 0.9993213377165427, 0.9996975279051529, 0.9975286509049532, 0.999425801221914, 0.9997169877174588, 0.9996423013215846, 0.9986901440906346, 0.9992882627461839, 0.99990234573501, 0.9994641745262723, 0.9994739484995824, 0.9988917881919741, 0.9996055675879593, 0.9995108857158538, 0.999230100374248, 0.9975327643816518, 0.9990634022881412, 0.9998820631875078, 0.9993621887075348, 0.9992578748550387, 0.9983540231185052, 0.9995981339111518, 0.99739377598273, 0.9994395585762602, 0.9992017364849521, 0.9997997345876427, 0.9971915338034884, 0.9985742839791624, 0.9998694458689614, 0.9994128137502892, 0.9994766486282665, 0.9990697621170437, 0.9999274202096139, 0.999857964620381, 0.9999759444072585, 0.997367711806797, 0.9996809760274985, 0.9999174658882845, 0.9995041797293635, 0.9999654443776833, 0.9996690132859465, 0.9987495638926245, 0.9999621936037818, 0.9997445637971922, 0.9977706652295523, 0.9999268870979566, 0.9991112327110048, 0.9998466804472167, 0.9999318332052517, 0.9998794152940844, 0.9990258439427441, 0.9996439070482992, 0.9995300321847325, 0.9995043622688593, 0.9998728076237744, 0.9998827641165109, 0.9992530131298251, 0.9992164224933094, 0.9998664273491198, 0.998476683780485, 0.9998272039924565, 0.9997985530183399, 0.9992611015047429, 0.999836344674681, 0.9995783668918993, 0.9991662953229095, 0.9997378079890266, 0.9998369535650176, 0.9998781677229913, 0.9990696339736813, 0.9997541857163731, 0.9990763864124149, 0.9998944622660614, 0.9993307791922762, 0.9987701710948798, 0.9994474139201346, 0.9978905654875408, 0.9982538012591787, 0.9998169003842045, 0.9995664569100671, 0.9997024664174514, 0.9991919392022989, 0.9997047511039737, 0.9983596356301089, 0.9997578995988929, 0.9989089424953421, 0.9997557185149895, 0.9993744381746709, 0.9997071547639249, 0.9996816506305487, 0.9996832813135124, 0.9989114847406102, 0.9990766594299241, 0.9991694904377636, 0.9993945376747099, 0.9996670635354477, 0.9998336173697736, 0.9998238113890773, 0.9997746087748892, 0.9973832507686811, 0.9993641497514185, 0.9998617354729176, 0.9996992057089936, 0.9987268933389617, 0.9995126368831384, 0.9995018778649514, 0.9988795766409547, 0.9993657383289924, 0.9997626403852964, 0.9994547757217037, 0.9996540426777719, 0.9981259522496796, 0.9998730002711893, 0.9984236115418311, 0.9996616062351322, 0.9975124556723629, 0.9995438762844574, 0.9991425556059387, 0.9998928737289285, 0.9999334043413733, 0.9995464023121631, 0.9983573162996667, 0.9991131097429966, 0.9998452948435687, 0.9985288083269191, 0.9998583905003995, 0.9998276838272542, 0.9997523950069741, 0.9999652290037053, 0.9977078409968964, 0.9997261008180538, 0.9993255902330911, 0.9998877654872383, 0.9991593166140788, 0.9998523710598703, 0.9997141529126421, 0.9996635036157897, 0.998754375914876, 0.9998651855907957, 0.9998024890840813, 0.9984836001935096, 0.9992619795062434, 0.9993461895535647, 0.9998294621929804, 0.9999230539820599, 0.9998838375154971, 0.9996705033104746, 0.9995872847316459, 0.9999147652539454, 0.9991380447199913, 0.9995346036637773, 0.9995675316850714, 0.9983742781210244, 0.9998614897669122, 0.9992251267053661, 0.9997867642785428, 0.9999047044397174, 0.9999367016081917, 0.9999103194286955, 0.999379563672083, 0.998882406274919, 0.9985269301786607, 0.9998277240100425, 0.9984477383666148, 0.9998983507028043, 0.9998044815114947, 0.9996064788032715, 0.9998320273020154, 0.999896130948709, 0.99989890932811, 0.9994169334080372, 0.9991890932239472, 0.9996465446242434, 0.9994584690671577, 0.9999654420840206, 0.9997814465038368, 0.9999508775248879, 0.9986298753565075, 0.9992082277158113, 0.9983459923751995, 0.999932188588644, 0.9997640535814386, 0.9987799874170804, 0.999013239611586, 0.9998174132310237, 0.9999439171345054, 0.9998902077464048, 0.9998979779631623, 0.9993347643990108, 0.9985088277693998, 0.999658411739802, 0.9994958930199581, 0.9997410959754272, 0.9991201390551808, 0.9986624296678456, 0.9990439710143841, 0.9996473790137589, 0.9988625011029081, 0.9997107419100036, 0.9987263822658927, 0.9995075042096431, 0.9997621883500466, 0.9991179763255985, 0.9991692916372872, 0.9995151255688236, 0.9993706415382759, 0.9995908890798172, 0.9994732727513624, 0.9999679418979746, 0.9996882334652056, 0.9973694494848713, 0.9983437270393566, 0.9997665331345, 0.9992350554906829, 0.9986638937250779, 0.9999618007766388, 0.9993523648317171, 0.9991449371032796, 0.999787520043636, 0.9998380215368753, 0.9997259078694793, 0.9996308997940596, 0.9994631713471372, 0.9994359831556909, 0.9990768599007985, 0.9996975837260684, 0.9999495393757849, 0.9985987444542489, 0.9995985839752525, 0.9998697889621088, 0.9998430821046403, 0.9986360643566391, 0.9997396409344456, 0.9997177146709667, 0.9996833906356096, 0.9991852083442069, 0.9997184882633634, 0.9994269733870144, 0.9994005681315506, 0.9987509287699105, 0.9997966381613581, 0.9994894719471515, 0.9998248027219298, 0.9990880094980995, 0.999683869231223, 0.9994071017251872, 0.9982269795568994, 0.999459634997279, 0.9991982146156635, 0.9994488226234822, 0.9998021053064989, 0.9996335324844106, 0.997947703865448, 0.9994585179289603, 0.9973989679857437, 0.9991987213537824, 0.9998458372020111, 0.9995542858057169, 0.9988958422029299, 0.9998526092708595, 0.9991305743916962, 0.9993509347523223, 0.9981916855272727, 0.9991997000701912, 0.9995230603252204, 0.9989142963609632, 0.9993593813948498, 0.999781545058526, 0.9999338652751523, 0.9999149546631894, 0.9999470731135793, 0.9991135259572188, 0.9978522830035765, 0.9989604665343669, 0.9999867013492881, 0.9995730145376283, 0.9983347024641821, 0.9988183616070201, 0.999008917387499, 0.9997972433527899, 0.9998766929337027, 0.9998192718957083, 0.9991970260628482, 0.9988172196706778, 0.9985189272387359, 0.9985982465370729, 0.9998163281329839, 0.9983572501427185, 0.9994318593100294, 0.9989711812578893, 0.999026442911399, 0.9998341377850509, 0.9996421674661664, 0.9993696392738165, 0.9999507252400481, 0.9997552120772298, 0.9990509759683198, 0.9998479335303628, 0.9986525964366958, 0.9998228909448529, 0.9998229112783201, 0.9997787677812996, 0.9992742952668389, 0.9997876291119159, 0.998700090806352, 0.9995821554896314, 0.9992237693269312, 0.9998976978215548, 0.9983653282328221, 0.9990108851807711, 0.9997926343833622, 0.9996145245038028, 0.9981526189988372, 0.9997893183200711, 0.999373359135827, 0.9971916025477334, 0.9991493773046366, 0.9995995576316264, 0.9998350510052668, 0.9998810923640977, 0.9994983945356831, 0.9991532102929821, 0.9996061016124251, 0.998771750715771, 0.9991414973722611, 0.9998573021714483, 0.9997219696168882, 0.9994269874121103, 0.9986164944341208, 0.9989981274518872, 0.9987262564743883, 0.9996460000659404, 0.9996664114445194, 0.9998550349223642, 0.9993835072099508, 0.999202406577612, 0.9999229922294013, 0.9998443050276563, 0.9981351144128324, 0.9979414080146572, 0.9995996693223607, 0.9995700162612539, 0.9995330185603053, 0.9994119016599532, 0.9996142827700971, 0.9990726142131835, 0.9997193940793967, 0.9998851392369863, 0.9984049797713991, 0.9979694261969058, 0.998211470668393, 0.9990702579241075, 0.9999355240708914, 0.9993500824397588, 0.9981718354802215, 0.9998133927727394, 0.9999554246465808, 0.9986210548858283, 0.9981889298066245, 0.9992565396576834, 0.9976608759455866, 0.9995274668245245, 0.9993246288209096, 0.9993820415214876, 0.9979834308942708, 0.9982268018225113, 0.9995134372915088, 0.9993252464046144, 0.997880267949649, 0.9998803265925973, 0.9991100795601322, 0.9991341506847927, 0.9993723518929625, 0.9998187755283007, 0.9992248095620072, 0.9991049369461806, 0.9994254439065986, 0.9996612400423658, 0.9996948062001362, 0.9991579010780132, 0.9975334884653335, 0.9997448711614075, 0.9988237760982033, 0.9993884312317242, 0.9989058159097501, 0.9993895745461621, 0.9982686621593483, 0.9998203057603948, 0.9999705476622297, 0.9997628595589272, 0.9998635078244068, 0.9985773024551371, 0.9979278752554409, 0.9996865645637317, 0.9998341681433587, 0.9994178740738613, 0.9994252789663843, 0.9989663649260477, 0.999565876964216, 0.9996109605410932, 0.9999573263261061, 0.9998556496652913, 0.9996054324275356, 0.9995374439245958, 0.9992796109662025, 0.9995747566934027, 0.9995773758078008, 0.9997224524477887, 0.9999684707971161, 0.998899790554316, 0.9998487405570563, 0.9997636404262544, 0.9996164397197664, 0.9995856100081939, 0.9996998046106768, 0.9997414353861055, 0.9995437316449131, 0.9997262559949001, 0.9997065635503617, 0.9991219784342935, 0.9983664647460192, 0.999001087101457, 0.9988835358020578, 0.9997930891350277, 0.9983970619420767, 0.9980278839835968, 0.9996355819927781, 0.9996985023141269, 0.9995768594250485, 0.9997949710837832, 0.999364189541226, 0.9990299257060734, 0.999837501430729, 0.9984771047369894, 0.9997388549181708, 0.9997593036162776, 0.9988748002706213, 0.9997648339910841, 0.9982643146052134, 0.9980193538309401, 0.9998408355786371, 0.9988269817528944, 0.9982626038504803, 0.9993830766158459, 0.9998805630672929, 0.9999009344459427, 0.9994472148741551, 0.9988531520760354, 0.9988512607997067, 0.9996028488547517, 0.9997199287902946, 0.9996101365739392, 0.9994742252756363, 0.9987526002481162, 0.9993705493877832, 0.9997903341454918, 0.9981684878615584, 0.999745900085205, 0.9994387953581818, 0.9995612557047041, 0.9996387358081925, 0.9986731974985142, 0.9981252164639711, 0.9999281568732599, 0.9983712598304313, 0.9995687608473895, 0.9991854891264708, 0.9998932142050643, 0.9998133925515554, 0.998855623370388, 0.9997571667554329, 0.9995486349058298, 0.9997810044909621, 0.9988537921222654, 0.9997937296464535, 0.9996223824881647, 0.9993587718348763, 0.9994294020584635, 0.9985503106848723, 0.999251036283356, 0.9988646518571117, 0.9999097051666848, 0.9995485327384649, 0.9998821355393356, 0.9992780215014593, 0.9993237558053476, 0.9989455021566056, 0.9984380497971022, 0.999839179681794, 0.9981839170767169, 0.9999350533105476, 0.9999005919445271, 0.9989519003120352, 0.9999119165030903, 0.9995122484478661, 0.9994868475977426, 0.9998824122070976, 0.9994565816188391, 0.9996139642733805, 0.9999031343522581, 0.9995603133465087, 0.9987788535617156, 0.99996220709745, 0.9999673914271868, 0.999536144887254, 0.999740333585725, 0.9995287785425554, 0.9999476781531823, 0.9987232397794743, 0.9996926336678262, 0.9998214349856825, 0.9990232344859727, 0.9994101003269399, 0.9995528956411089, 0.9996798087778017, 0.9997008549004147, 0.9989810380939896, 0.9989676220607109, 0.9996867064816465, 0.9997811767952905, 0.9994801599200652, 0.9998553790848186, 0.9992919763281638, 0.9998513020580622, 0.9992258436140311, 0.9992687877540458, 0.9990119290530122, 0.9996024031125497, 0.9989245748668082, 0.99957192564098, 0.9997943873516535, 0.9999472508470791, 0.999365883348757, 0.9990121445455762, 0.9998432936511379, 0.9990082476612083, 0.998549366361626, 0.9989412541853935, 0.9992945859839709, 0.99844460672878, 0.9992108820790765, 0.9982716456823447, 0.9996982816164618, 0.9992610484296578, 0.9999511735747117, 0.9997151403575064, 0.999509347761663, 0.9996689893950118, 0.9993280673471346, 0.9992754284497514, 0.9997610315810248, 0.999944555947009, 0.9998374850691379, 0.9991794008046082, 0.9977566733582481, 0.9997941213784711, 0.9992729115120149, 0.9999606436585126, 0.9990231440609822, 0.9994876017810036, 0.999564274717872, 0.9984825854873217, 0.9995212267217762, 0.999920214698862, 0.9994405646351439, 0.999570886533506, 0.9998321860162573, 0.9997006350598028, 0.9995394378097353, 0.9994979338098983, 0.9996218825067764, 0.9983580827792644, 0.9999637152706149, 0.999640282268712, 0.9989017924436963, 0.999830805037862, 0.9999736094592997, 0.9998266865027972, 0.999950029055256, 0.9994662501263668, 0.9985745309243051, 0.9993151929941755, 0.9994581881992202, 0.9999759264743957, 0.9998135055388957, 0.9998208635327172, 0.9999571519106192, 0.999814447055225, 0.9976926261836344], \"Term\": [\"able\", \"absolutely\", \"abuse\", \"accept\", \"access\", \"account\", \"achieve\", \"act\", \"activity\", \"actual\", \"actually\", \"ad\", \"add\", \"administration\", \"adult\", \"advertising\", \"afford\", \"age\", \"ago\", \"agree\", \"agreement\", \"ai\", \"airline\", \"allow\", \"almost\", \"already\", \"also\", \"alternative\", \"always\", \"america\", \"american\", \"amount\", \"analysis\", \"animal\", \"answer\", \"anti\", \"anymore\", \"anyone\", \"anything\", \"anywhere\", \"aos\", \"aot\", \"apparently\", \"appeal\", \"appear\", \"apple\", \"apply\", \"approach\", \"argument\", \"arm\", \"around\", \"article\", \"ask\", \"aspect\", \"assume\", \"athlete\", \"attempt\", \"attention\", \"austerity\", \"author\", \"available\", \"average\", \"baby\", \"back\", \"bad\", \"bag\", \"bagel\", \"bail\", \"bailout\", \"ball\", \"bank\", \"banker\", \"banking\", \"bankrupt\", \"basic\", \"basis\", \"basketball\", \"beach\", \"bear\", \"because\", \"become\", \"behavior\", \"belief\", \"believe\", \"benefit\", \"bernie_sander\", \"bet\", \"better\", \"big\", \"bill\", \"billion\", \"bit\", \"black\", \"blame\", \"blog\", \"blood\", \"board\", \"bond\", \"book\", \"bother\", \"bottom\", \"break\", \"bring\", \"brother\", \"budget\", \"bunch\", \"burn\", \"bush\", \"business\", \"buy\", \"call\", \"camera\", \"campaign\", \"can\", \"cancer\", \"candidate\", \"capacity\", \"capitalism\", \"capitalist\", \"care\", \"carry\", \"cash\", \"cat\", \"catch\", \"center\", \"century\", \"ceo\", \"certain\", \"certainly\", \"chance\", \"change\", \"character\", \"charge\", \"cheap\", \"cheat\", \"child\", \"china\", \"chinese\", \"choice\", \"choose\", \"christian\", \"church\", \"citizen\", \"city\", \"class\", \"clearly\", \"climate\", \"climate_change\", \"clinton\", \"close\", \"coach\", \"code\", \"collapse\", \"collect\", \"college\", \"color\", \"com\", \"combat\", \"come\", \"comment\", \"commenter\", \"common\", \"community\", \"company\", \"compare\", \"competition\", \"competitive\", \"complain\", \"complex\", \"compromise\", \"computer\", \"concern\", \"concerned\", \"condition\", \"congress\", \"connect\", \"conservative\", \"constitution\", \"consumer\", \"continue\", \"control\", \"cop\", \"corporate\", \"corporation\", \"correct\", \"cost\", \"could\", \"country\", \"course\", \"court\", \"cover\", \"crash\", \"create\", \"credit\", \"creditor\", \"crime\", \"criminal\", \"crisis\", \"criticize\", \"cry\", \"cup\", \"current\", \"customer\", \"cut\", \"damage\", \"danger\", \"datum\", \"daughter\", \"day\", \"deal\", \"death\", \"debate\", \"debt\", \"decade\", \"decent\", \"decision\", \"decline\", \"default\", \"define\", \"deliver\", \"democrat\", \"democratic\", \"demonstrate\", \"department\", \"describe\", \"destroy\", \"detail\", \"develop\", \"device\", \"die\", \"different\", \"difficult\", \"disappear\", \"discuss\", \"disney\", \"district\", \"do\", \"doctor\", \"document\", \"dollar\", \"domestic\", \"doubt\", \"draw\", \"dress\", \"drive\", \"drug\", \"due\", \"early\", \"earn\", \"easy\", \"eat\", \"economic\", \"economy\", \"effect\", \"effectively\", \"efficient\", \"elect\", \"election\", \"eliminate\", \"else\", \"employ\", \"employee\", \"employer\", \"enable\", \"end\", \"energy\", \"enforce\", \"engage\", \"enjoy\", \"enough\", \"entire\", \"especially\", \"europe\", \"european\", \"even\", \"event\", \"ever\", \"exactly\", \"exist\", \"expand\", \"expect\", \"explain\", \"extreme\", \"fact\", \"fail\", \"fair\", \"family\", \"fan\", \"fantasy\", \"fashion\", \"fast\", \"fault\", \"favor\", \"fear\", \"feature\", \"federal\", \"fee\", \"feed\", \"feel\", \"female\", \"few\", \"fifa\", \"fight\", \"fill\", \"final\", \"finance\", \"find\", \"fine\", \"firm\", \"first\", \"fiscal\", \"fit\", \"fix\", \"florida\", \"folk\", \"follow\", \"food\", \"foot\", \"football\", \"force\", \"foreign\", \"forget\", \"forgiveness\", \"form\", \"former\", \"forward\", \"fossil_fuel\", \"france\", \"free\", \"freedom\", \"french\", \"fresh\", \"friend\", \"fuel\", \"full\", \"function\", \"fund\", \"funding\", \"funny\", \"game\", \"gas\", \"gay\", \"gdp\", \"german\", \"germany\", \"get\", \"gift\", \"girl\", \"give\", \"global\", \"go\", \"goal\", \"god\", \"good\", \"gop\", \"gov\", \"government\", \"grant\", \"great\", \"greece\", \"greek\", \"ground\", \"group\", \"grow\", \"growth\", \"gun\", \"guy\", \"hack\", \"half\", \"hand\", \"handle\", \"happen\", \"hard\", \"hate\", \"head\", \"health\", \"health_care\", \"hear\", \"help\", \"high\", \"highly\", \"history\", \"hit\", \"hold\", \"honest\", \"honestly\", \"hope\", \"horse\", \"hot\", \"hour\", \"housing\", \"however\", \"http\", \"http_www\", \"https_www\", \"human\", \"husband\", \"idea\", \"ignore\", \"illegal\", \"imagine\", \"immigrant\", \"immigration\", \"impact\", \"imply\", \"impose\", \"improve\", \"include\", \"income\", \"increase\", \"incredibly\", \"indian\", \"individual\", \"industry\", \"inequality\", \"information\", \"infrastructure\", \"innocent\", \"institution\", \"interest\", \"interesting\", \"investment\", \"iphone\", \"iran\", \"iranian\", \"iraq\", \"irresponsible\", \"isis\", \"israel\", \"issue\", \"job\", \"join\", \"joke\", \"justice\", \"keep\", \"kick\", \"kid\", \"kill\", \"kind\", \"know\", \"kurt\", \"labor\", \"land\", \"last\", \"late\", \"law\", \"lead\", \"leader\", \"league\", \"learn\", \"leave\", \"left\", \"lend\", \"lender\", \"less\", \"let\", \"level\", \"liberal\", \"lie\", \"life\", \"light\", \"like\", \"likely\", \"limited\", \"line\", \"link\", \"list\", \"little\", \"live\", \"loan\", \"local\", \"lock\", \"logic\", \"long\", \"long_term\", \"look\", \"lose\", \"loss\", \"lot\", \"love\", \"low\", \"machine\", \"main\", \"major\", \"majority\", \"make\", \"male\", \"man\", \"manager\", \"manipulate\", \"manufacturer\", \"many\", \"market\", \"massive\", \"match\", \"matter\", \"may\", \"maybe\", \"mean\", \"measure\", \"meat\", \"medium\", \"member\", \"mention\", \"message\", \"mexican\", \"mexico\", \"middle_class\", \"migrant\", \"military\", \"milk\", \"million\", \"mind\", \"minority\", \"minute\", \"miss\", \"mistake\", \"model\", \"modern\", \"money\", \"moral\", \"morality\", \"mouth\", \"move\", \"movement\", \"movie\", \"much\", \"music\", \"muslim\", \"must\", \"name\", \"nation\", \"national\", \"nature\", \"ne\", \"nearly\", \"necessary\", \"need\", \"negotiate\", \"neighborhood\", \"never\", \"new\", \"new_orlean\", \"new_york\", \"news\", \"nice\", \"nobody\", \"non\", \"none\", \"normal\", \"north\", \"not\", \"note\", \"nothing\", \"nyc\", \"obama\", \"obviously\", \"ocean\", \"office\", \"officer\", \"oil\", \"one\", \"open\", \"operate\", \"oppose\", \"opposite\", \"option\", \"order\", \"organization\", \"original\", \"other\", \"otherwise\", \"overseas\", \"own\", \"owner\", \"page\", \"pain\", \"paper\", \"parent\", \"part\", \"party\", \"pay\", \"payment\", \"penalty\", \"pension\", \"people\", \"percent\", \"percentage\", \"perform\", \"performance\", \"perhaps\", \"person\", \"personal\", \"personally\", \"photo\", \"physical\", \"physician\", \"place\", \"plain\", \"plan\", \"planet\", \"plant\", \"play\", \"player\", \"plenty\", \"point\", \"police\", \"politic\", \"political\", \"pool\", \"poor\", \"population\", \"position\", \"poverty\", \"power\", \"powerful\", \"practice\", \"present\", \"president\", \"press\", \"pressure\", \"pretty\", \"prevent\", \"previous\", \"price\", \"primary\", \"priority\", \"prison\", \"privacy\", \"probably\", \"problem\", \"process\", \"prodigy\", \"produce\", \"productive\", \"professor\", \"profit\", \"program\", \"progressive\", \"project\", \"promise\", \"property\", \"prove\", \"provide\", \"public\", \"publish\", \"punishment\", \"put\", \"question\", \"quit\", \"quote\", \"race\", \"racial\", \"racism\", \"racist\", \"raise\", \"ranger\", \"rate\", \"rather\", \"ratio\", \"rational\", \"ray\", \"reach\", \"read\", \"reader\", \"reagan\", \"real\", \"really\", \"reasonable\", \"reddit\", \"reduce\", \"reference\", \"regard\", \"regulation\", \"relationship\", \"release\", \"relevant\", \"religion\", \"remain\", \"remark\", \"remember\", \"remove\", \"repay\", \"replace\", \"republican\", \"research\", \"response\", \"responsibility\", \"responsible\", \"rest\", \"restaurant\", \"restriction\", \"result\", \"retire\", \"return\", \"reveal\", \"review\", \"reward\", \"rich\", \"right\", \"rise\", \"risk\", \"room\", \"ruin\", \"rule\", \"run\", \"russia\", \"safe\", \"safety\", \"salary\", \"save\", \"say\", \"school\", \"science\", \"scientist\", \"season\", \"seat\", \"second\", \"security\", \"see\", \"seek\", \"seem\", \"self\", \"send\", \"serious\", \"serve\", \"service\", \"set\", \"several\", \"sex\", \"sexual\", \"shall\", \"short\", \"shot\", \"show\", \"shut\", \"sick\", \"side\", \"sign\", \"simple\", \"single\", \"sit\", \"site\", \"situation\", \"slow\", \"small\", \"smart\", \"smoke\", \"soccer\", \"social_security\", \"socialist\", \"society\", \"software\", \"solar\", \"somehow\", \"someone\", \"something\", \"sometimes\", \"somewhat\", \"son\", \"soon\", \"sorry\", \"sort\", \"source\", \"south\", \"space\", \"speak\", \"spending\", \"sport\", \"staff\", \"stand\", \"standard\", \"star\", \"starve\", \"state\", \"status\", \"stay\", \"step\", \"still\", \"stop\", \"store\", \"story\", \"strong\", \"student\", \"student_loan\", \"study\", \"subject\", \"success\", \"suffer\", \"summer\", \"sun\", \"supply\", \"support\", \"suppose\", \"sure\", \"surely\", \"survive\", \"suspect\", \"swim\", \"system\", \"tactic\", \"take\", \"talk\", \"taste\", \"tax\", \"taxpayer\", \"teach\", \"team\", \"tech\", \"technology\", \"tell\", \"thank\", \"theory\", \"thing\", \"think\", \"thousand\", \"threat\", \"throw\", \"time\", \"title\", \"today\", \"top\", \"total\", \"totally\", \"trade\", \"travel\", \"treat\", \"trial\", \"troop\", \"true\", \"trump\", \"truth\", \"try\", \"tuition\", \"turn\", \"tv\", \"twice\", \"unfair\", \"union\", \"unit\", \"united_state\", \"usa\", \"use\", \"user\", \"vacation\", \"value\", \"various\", \"varoufaki\", \"vegan\", \"victim\", \"victory\", \"video\", \"vietnam\", \"view\", \"violence\", \"vote\", \"voter\", \"voting\", \"wage\", \"wait\", \"walk\", \"wall_street\", \"want\", \"war\", \"warm\", \"warming\", \"watch\", \"water\", \"way\", \"wealth\", \"wear\", \"week\", \"welcome\", \"welfare\", \"well\", \"west\", \"whatev\", \"white\", \"whole\", \"whose\", \"willing\", \"win\", \"wine\", \"woman\", \"wonder\", \"wonderful\", \"word\", \"work\", \"worker\", \"world\", \"world_cup\", \"worldwide\", \"worry\", \"worth\", \"would\", \"write\", \"wrong\", \"year\", \"young\", \"youth\"]}, \"R\": 30, \"lambda.step\": 0.01, \"plot.opts\": {\"xlab\": \"PC1\", \"ylab\": \"PC2\"}, \"topic.order\": [20, 30, 4, 11, 10, 19, 12, 24, 22, 5, 3, 17, 7, 8, 6, 25, 1, 16, 29, 28, 26, 21, 13, 15, 2, 9, 18, 27, 14, 23]};\n",
       "\n",
       "function LDAvis_load_lib(url, callback){\n",
       "  var s = document.createElement('script');\n",
       "  s.src = url;\n",
       "  s.async = true;\n",
       "  s.onreadystatechange = s.onload = callback;\n",
       "  s.onerror = function(){console.warn(\"failed to load library \" + url);};\n",
       "  document.getElementsByTagName(\"head\")[0].appendChild(s);\n",
       "}\n",
       "\n",
       "if(typeof(LDAvis) !== \"undefined\"){\n",
       "   // already loaded: just create the visualization\n",
       "   !function(LDAvis){\n",
       "       new LDAvis(\"#\" + \"ldavis_el987191132346570962973803867\", ldavis_el987191132346570962973803867_data);\n",
       "   }(LDAvis);\n",
       "}else if(typeof define === \"function\" && define.amd){\n",
       "   // require.js is available: use it to load d3/LDAvis\n",
       "   require.config({paths: {d3: \"https://cdnjs.cloudflare.com/ajax/libs/d3/3.5.5/d3.min\"}});\n",
       "   require([\"d3\"], function(d3){\n",
       "      window.d3 = d3;\n",
       "      LDAvis_load_lib(\"https://cdn.rawgit.com/bmabey/pyLDAvis/files/ldavis.v1.0.0.js\", function(){\n",
       "        new LDAvis(\"#\" + \"ldavis_el987191132346570962973803867\", ldavis_el987191132346570962973803867_data);\n",
       "      });\n",
       "    });\n",
       "}else{\n",
       "    // require.js not available: dynamically load d3 & LDAvis\n",
       "    LDAvis_load_lib(\"https://cdnjs.cloudflare.com/ajax/libs/d3/3.5.5/d3.min.js\", function(){\n",
       "         LDAvis_load_lib(\"https://cdn.rawgit.com/bmabey/pyLDAvis/files/ldavis.v1.0.0.js\", function(){\n",
       "                 new LDAvis(\"#\" + \"ldavis_el987191132346570962973803867\", ldavis_el987191132346570962973803867_data);\n",
       "            })\n",
       "         });\n",
       "}\n",
       "</script>"
      ],
      "text/plain": [
       "PreparedData(topic_coordinates=            Freq  cluster  topics         x         y\n",
       "topic                                                \n",
       "19     13.164618        1       1 -0.281936 -0.346560\n",
       "29     11.172977        1       2 -0.252746  0.335945\n",
       "3       6.598396        1       3 -0.150216  0.027502\n",
       "10      6.336489        1       4 -0.143288  0.026882\n",
       "9       3.991899        1       5 -0.050483  0.001875\n",
       "18      3.588603        1       6 -0.023418  0.002105\n",
       "11      3.572186        1       7 -0.024742  0.004372\n",
       "23      3.065232        1       8 -0.002817  0.000584\n",
       "21      3.041180        1       9 -0.021390  0.001460\n",
       "4       3.037931        1      10 -0.080109  0.005891\n",
       "2       3.016767        1      11  0.006799  0.001287\n",
       "16      2.913600        1      12 -0.000689 -0.001057\n",
       "6       2.784465        1      13  0.021543 -0.000609\n",
       "7       2.620048        1      14  0.028748 -0.002591\n",
       "5       2.566198        1      15  0.031777 -0.000367\n",
       "24      2.399981        1      16  0.027911 -0.000834\n",
       "0       2.382333        1      17  0.030226 -0.002276\n",
       "15      2.179893        1      18  0.050974 -0.003700\n",
       "28      2.055064        1      19  0.033948 -0.002018\n",
       "27      2.028534        1      20  0.056572 -0.003427\n",
       "25      2.024144        1      21  0.058544 -0.003015\n",
       "20      1.992947        1      22  0.045943 -0.003726\n",
       "12      1.979052        1      23  0.063796 -0.003752\n",
       "14      1.923950        1      24  0.071567 -0.004451\n",
       "1       1.814026        1      25  0.066945 -0.004722\n",
       "8       1.691117        1      26  0.078371 -0.005100\n",
       "17      1.684581        1      27  0.077114 -0.003691\n",
       "26      1.576576        1      28  0.087342 -0.004434\n",
       "13      1.512800        1      29  0.089785 -0.004919\n",
       "22      1.284412        1      30  0.103928 -0.006653, topic_info=      Category          Freq         Term         Total  loglift  logprob\n",
       "term                                                                     \n",
       "92     Default  44287.000000       people  44287.000000  30.0000  30.0000\n",
       "249    Default  41189.000000        would  41189.000000  29.0000  29.0000\n",
       "51     Default  22589.000000          say  22589.000000  28.0000  28.0000\n",
       "7      Default  32661.000000         make  32661.000000  27.0000  27.0000\n",
       "77     Default  32628.000000          get  32628.000000  26.0000  26.0000\n",
       "3077   Default  18771.000000          pay  18771.000000  25.0000  25.0000\n",
       "1805   Default  17691.000000     american  17691.000000  24.0000  24.0000\n",
       "237    Default  17401.000000        right  17401.000000  23.0000  23.0000\n",
       "2521   Default  17109.000000        woman  17109.000000  22.0000  22.0000\n",
       "304    Default  20976.000000         know  20976.000000  21.0000  21.0000\n",
       "78     Default  27404.000000           go  27404.000000  20.0000  20.0000\n",
       "15     Default  24834.000000        think  24834.000000  19.0000  19.0000\n",
       "171    Default  23951.000000         time  23951.000000  18.0000  18.0000\n",
       "332    Default  17810.000000         even  17810.000000  17.0000  17.0000\n",
       "632    Default  17228.000000        money  17228.000000  16.0000  16.0000\n",
       "163    Default  23450.000000         good  23450.000000  15.0000  15.0000\n",
       "43     Default  12906.000000         live  12906.000000  14.0000  14.0000\n",
       "172    Default  16266.000000          way  16266.000000  13.0000  13.0000\n",
       "174    Default  22122.000000         work  22122.000000  12.0000  12.0000\n",
       "101    Default  21952.000000         want  21952.000000  11.0000  11.0000\n",
       "642    Default  12438.000000   government  12438.000000  10.0000  10.0000\n",
       "103    Default  21436.000000         year  21436.000000   9.0000   9.0000\n",
       "875    Default  11835.000000         look  11835.000000   8.0000   8.0000\n",
       "2114   Default  11694.000000          man  11694.000000   7.0000   7.0000\n",
       "90     Default  18570.000000         need  18570.000000   6.0000   6.0000\n",
       "631    Default  14452.000000          may  14452.000000   5.0000   5.0000\n",
       "1514   Default  10176.000000        greek  10176.000000   4.0000   4.0000\n",
       "224    Default  19166.000000         many  19166.000000   3.0000   3.0000\n",
       "96     Default  18920.000000         take  18920.000000   2.0000   2.0000\n",
       "379    Default   8961.000000        point   8961.000000   1.0000   1.0000\n",
       "...        ...           ...          ...           ...      ...      ...\n",
       "894    Topic30   2708.338172         grow   2709.273271   4.3545  -3.2085\n",
       "1359   Topic30   2264.750207          fix   2265.685307   4.3545  -3.3873\n",
       "4569   Topic30   2054.620816        cheap   2055.555916   4.3544  -3.4847\n",
       "2105   Topic30   1505.999858        local   1506.934957   4.3542  -3.7953\n",
       "4185   Topic30   1347.324771    austerity   1348.259870   4.3542  -3.9067\n",
       "2830   Topic30   1067.928607         http   1068.863707   4.3540  -4.1391\n",
       "4319   Topic30    817.898860     analysis    818.833960   4.3537  -4.4058\n",
       "890    Topic30    777.092760       bottom    778.027859   4.3537  -4.4570\n",
       "418    Topic30    768.103902         burn    769.039001   4.3537  -4.4686\n",
       "8148   Topic30    727.062348      manager    727.997447   4.3536  -4.5235\n",
       "4154   Topic30    724.739951          gdp    725.675050   4.3536  -4.5267\n",
       "10695  Topic30    721.735095       ranger    722.670194   4.3536  -4.5309\n",
       "5077   Topic30    686.941078     property    687.876178   4.3535  -4.5803\n",
       "4375   Topic30    677.457162      operate    678.392262   4.3535  -4.5942\n",
       "4585   Topic30    668.451954         ruin    669.387053   4.3535  -4.6076\n",
       "4208   Topic30    650.257568     spending    651.192667   4.3534  -4.6352\n",
       "16141  Topic30    634.932183   new_orlean    635.867282   4.3534  -4.6590\n",
       "4963   Topic30    631.311765         sick    632.246864   4.3534  -4.6647\n",
       "895    Topic30    626.807382        photo    627.742481   4.3534  -4.6719\n",
       "4583   Topic30    597.842978      fashion    598.778078   4.3533  -4.7192\n",
       "902    Topic30    593.688125        taste    594.623224   4.3533  -4.7262\n",
       "2100   Topic30    575.226771      release    576.161870   4.3532  -4.7578\n",
       "10653  Topic30    563.255023        horse    564.190122   4.3532  -4.7788\n",
       "7070   Topic30    533.383190  fossil_fuel    534.318289   4.3531  -4.8333\n",
       "16590  Topic30    529.012728          ray    529.947827   4.3531  -4.8415\n",
       "2984   Topic30    524.276761        youth    525.211860   4.3531  -4.8505\n",
       "4365   Topic30    471.802886      banking    472.737986   4.3529  -4.9560\n",
       "6981   Topic30    468.140095         kurt    469.075195   4.3529  -4.9638\n",
       "1796   Topic30    467.592087        smoke    468.527187   4.3529  -4.9650\n",
       "6235   Topic30    433.773584    disappear    434.708683   4.3527  -5.0400\n",
       "\n",
       "[930 rows x 6 columns], token_table=       Topic      Freq            Term\n",
       "term                                  \n",
       "670       23  0.999802            able\n",
       "3181       9  0.999633      absolutely\n",
       "270       12  0.999610           abuse\n",
       "154       15  0.999797          accept\n",
       "3412       7  0.999537          access\n",
       "2094      16  0.999411         account\n",
       "1343      14  0.999429         achieve\n",
       "2342       5  0.999697             act\n",
       "3182      12  0.999072        activity\n",
       "2852      24  0.999295          actual\n",
       "935        9  0.999811        actually\n",
       "4222      17  0.999157              ad\n",
       "708       22  0.999400             add\n",
       "636       12  0.998866  administration\n",
       "4596       7  0.999301           adult\n",
       "4678      25  0.997755     advertising\n",
       "6010      10  0.999505          afford\n",
       "2364       7  0.999775             age\n",
       "1215      14  0.999825             ago\n",
       "1538      27  0.999780           agree\n",
       "340       11  0.999644       agreement\n",
       "2652      15  0.999698              ai\n",
       "9218       9  0.998568         airline\n",
       "1912       2  0.999775           allow\n",
       "1483      14  0.999724          almost\n",
       "1596       4  0.999785         already\n",
       "445        2  0.999900            also\n",
       "1244      17  0.998915     alternative\n",
       "412        2  0.999803          always\n",
       "2547       5  0.999789         america\n",
       "...      ...       ...             ...\n",
       "4757      15  0.999488            wear\n",
       "324       18  0.999564            week\n",
       "4997      24  0.998483         welcome\n",
       "4694      22  0.999521         welfare\n",
       "248        1  0.999920            well\n",
       "3240      12  0.999441            west\n",
       "828       24  0.999571          whatev\n",
       "325       13  0.999832           white\n",
       "102       18  0.999701           whole\n",
       "2341       8  0.999539           whose\n",
       "2363       5  0.999498         willing\n",
       "2484       4  0.999622             win\n",
       "338       28  0.998358            wine\n",
       "2521       7  0.999964           woman\n",
       "492       18  0.999640          wonder\n",
       "269       23  0.998902       wonderful\n",
       "1378      14  0.999831            word\n",
       "174        1  0.999974            work\n",
       "4351      10  0.999827          worker\n",
       "326        1  0.999950           world\n",
       "14157     21  0.999466       world_cup\n",
       "3033      25  0.998575       worldwide\n",
       "2122      19  0.999315           worry\n",
       "669       16  0.999458           worth\n",
       "249        2  0.999976           would\n",
       "189        3  0.999814           write\n",
       "327       13  0.999821           wrong\n",
       "103        1  0.999957            year\n",
       "1106       7  0.999814           young\n",
       "2984      30  0.997693           youth\n",
       "\n",
       "[900 rows x 3 columns], R=30, lambda_step=0.01, plot_opts={'xlab': 'PC1', 'ylab': 'PC2'}, topic_order=[20, 30, 4, 11, 10, 19, 12, 24, 22, 5, 3, 17, 7, 8, 6, 25, 1, 16, 29, 28, 26, 21, 13, 15, 2, 9, 18, 27, 14, 23])"
      ]
     },
     "execution_count": 16,
     "metadata": {},
     "output_type": "execute_result"
    }
   ],
   "source": [
    "# Visualize the topics\n",
    "pyLDAvis.enable_notebook()\n",
    "vis = pyLDAvis.gensim.prepare(lda_model, corpus, id2word)\n",
    "vis"
   ]
  },
  {
   "cell_type": "code",
   "execution_count": null,
   "metadata": {
    "collapsed": true
   },
   "outputs": [],
   "source": []
  },
  {
   "cell_type": "code",
   "execution_count": null,
   "metadata": {
    "collapsed": true
   },
   "outputs": [],
   "source": []
  },
  {
   "cell_type": "code",
   "execution_count": 13,
   "metadata": {
    "collapsed": true
   },
   "outputs": [],
   "source": [
    "# Download File: http://mallet.cs.umass.edu/dist/mallet-2.0.8.zip\n",
    "mallet_path = 'mallet-2.0.8/bin/mallet' # update this path\n",
    "# ldamallet = gensim.models.wrappers.LdaMallet(mallet_path, corpus=corpus, num_topics=25, id2word=id2word)"
   ]
  },
  {
   "cell_type": "code",
   "execution_count": null,
   "metadata": {
    "collapsed": true
   },
   "outputs": [],
   "source": [
    "# Show Topics\n",
    "pprint(ldamallet.show_topics(formatted=False))\n",
    "\n",
    "# Compute Coherence Score\n",
    "coherence_model_ldamallet = CoherenceModel(model=ldamallet, texts=data_lemmatized, dictionary=id2word, coherence='c_v')\n",
    "coherence_ldamallet = coherence_model_ldamallet.get_coherence()\n",
    "print('\\nCoherence Score: ', coherence_ldamallet)"
   ]
  },
  {
   "cell_type": "code",
   "execution_count": null,
   "metadata": {
    "collapsed": true
   },
   "outputs": [],
   "source": []
  },
  {
   "cell_type": "code",
   "execution_count": 14,
   "metadata": {
    "collapsed": true
   },
   "outputs": [],
   "source": [
    "def compute_coherence_values(dictionary, corpus, texts, limit, start=2, step=3):\n",
    "    \"\"\"\n",
    "    Compute c_v coherence for various number of topics\n",
    "\n",
    "    Parameters:\n",
    "    ----------\n",
    "    dictionary : Gensim dictionary\n",
    "    corpus : Gensim corpus\n",
    "    texts : List of input texts\n",
    "    limit : Max num of topics\n",
    "\n",
    "    Returns:\n",
    "    -------\n",
    "    model_list : List of LDA topic models\n",
    "    coherence_values : Coherence values corresponding to the LDA model with respective number of topics\n",
    "    \"\"\"\n",
    "    coherence_values = []\n",
    "    model_list = []\n",
    "    for num_topics in range(start, limit, step):\n",
    "        model = gensim.models.wrappers.LdaMallet(mallet_path, corpus=corpus, num_topics=num_topics, id2word=id2word)\n",
    "        model_list.append(model)\n",
    "        coherencemodel = CoherenceModel(model=model, texts=texts, dictionary=dictionary, coherence='c_v')\n",
    "        coherence_values.append(coherencemodel.get_coherence())\n",
    "    return model_list, coherence_values"
   ]
  },
  {
   "cell_type": "code",
   "execution_count": 15,
   "metadata": {
    "collapsed": true
   },
   "outputs": [],
   "source": [
    "# Can take a long time to run.\n",
    "model_list, coherence_values = compute_coherence_values(dictionary=id2word, corpus=corpus, texts=data_lemmatized, start=81, limit= 101, step=1)\n",
    "\n",
    "\n",
    "\n",
    "\n",
    "\n"
   ]
  },
  {
   "cell_type": "code",
   "execution_count": 17,
   "metadata": {},
   "outputs": [
    {
     "ename": "ValueError",
     "evalue": "x and y must have same first dimension, but have shapes (26,) and (6,)",
     "output_type": "error",
     "traceback": [
      "\u001b[0;31m---------------------------------------------------------------------------\u001b[0m",
      "\u001b[0;31mValueError\u001b[0m                                Traceback (most recent call last)",
      "\u001b[0;32m<ipython-input-17-d5d8a239b801>\u001b[0m in \u001b[0;36m<module>\u001b[0;34m\u001b[0m\n\u001b[1;32m      2\u001b[0m \u001b[0mlimit\u001b[0m\u001b[0;34m=\u001b[0m\u001b[0;36m31\u001b[0m\u001b[0;34m;\u001b[0m \u001b[0mstart\u001b[0m\u001b[0;34m=\u001b[0m\u001b[0;36m5\u001b[0m\u001b[0;34m;\u001b[0m \u001b[0mstep\u001b[0m\u001b[0;34m=\u001b[0m\u001b[0;36m1\u001b[0m\u001b[0;34m;\u001b[0m\u001b[0;34m\u001b[0m\u001b[0m\n\u001b[1;32m      3\u001b[0m \u001b[0mx\u001b[0m \u001b[0;34m=\u001b[0m \u001b[0mrange\u001b[0m\u001b[0;34m(\u001b[0m\u001b[0mstart\u001b[0m\u001b[0;34m,\u001b[0m \u001b[0mlimit\u001b[0m\u001b[0;34m,\u001b[0m \u001b[0mstep\u001b[0m\u001b[0;34m)\u001b[0m\u001b[0;34m\u001b[0m\u001b[0m\n\u001b[0;32m----> 4\u001b[0;31m \u001b[0mplt\u001b[0m\u001b[0;34m.\u001b[0m\u001b[0mplot\u001b[0m\u001b[0;34m(\u001b[0m\u001b[0mx\u001b[0m\u001b[0;34m,\u001b[0m \u001b[0mcoherence_values\u001b[0m\u001b[0;34m)\u001b[0m\u001b[0;34m\u001b[0m\u001b[0m\n\u001b[0m\u001b[1;32m      5\u001b[0m \u001b[0mplt\u001b[0m\u001b[0;34m.\u001b[0m\u001b[0mxlabel\u001b[0m\u001b[0;34m(\u001b[0m\u001b[0;34m\"Num Topics\"\u001b[0m\u001b[0;34m)\u001b[0m\u001b[0;34m\u001b[0m\u001b[0m\n\u001b[1;32m      6\u001b[0m \u001b[0mplt\u001b[0m\u001b[0;34m.\u001b[0m\u001b[0mylabel\u001b[0m\u001b[0;34m(\u001b[0m\u001b[0;34m\"Coherence score\"\u001b[0m\u001b[0;34m)\u001b[0m\u001b[0;34m\u001b[0m\u001b[0m\n",
      "\u001b[0;32m~/anaconda/lib/python3.6/site-packages/matplotlib/pyplot.py\u001b[0m in \u001b[0;36mplot\u001b[0;34m(*args, **kwargs)\u001b[0m\n\u001b[1;32m   3315\u001b[0m                       mplDeprecation)\n\u001b[1;32m   3316\u001b[0m     \u001b[0;32mtry\u001b[0m\u001b[0;34m:\u001b[0m\u001b[0;34m\u001b[0m\u001b[0m\n\u001b[0;32m-> 3317\u001b[0;31m         \u001b[0mret\u001b[0m \u001b[0;34m=\u001b[0m \u001b[0max\u001b[0m\u001b[0;34m.\u001b[0m\u001b[0mplot\u001b[0m\u001b[0;34m(\u001b[0m\u001b[0;34m*\u001b[0m\u001b[0margs\u001b[0m\u001b[0;34m,\u001b[0m \u001b[0;34m**\u001b[0m\u001b[0mkwargs\u001b[0m\u001b[0;34m)\u001b[0m\u001b[0;34m\u001b[0m\u001b[0m\n\u001b[0m\u001b[1;32m   3318\u001b[0m     \u001b[0;32mfinally\u001b[0m\u001b[0;34m:\u001b[0m\u001b[0;34m\u001b[0m\u001b[0m\n\u001b[1;32m   3319\u001b[0m         \u001b[0max\u001b[0m\u001b[0;34m.\u001b[0m\u001b[0m_hold\u001b[0m \u001b[0;34m=\u001b[0m \u001b[0mwashold\u001b[0m\u001b[0;34m\u001b[0m\u001b[0m\n",
      "\u001b[0;32m~/anaconda/lib/python3.6/site-packages/matplotlib/__init__.py\u001b[0m in \u001b[0;36minner\u001b[0;34m(ax, *args, **kwargs)\u001b[0m\n\u001b[1;32m   1896\u001b[0m                     warnings.warn(msg % (label_namer, func.__name__),\n\u001b[1;32m   1897\u001b[0m                                   RuntimeWarning, stacklevel=2)\n\u001b[0;32m-> 1898\u001b[0;31m             \u001b[0;32mreturn\u001b[0m \u001b[0mfunc\u001b[0m\u001b[0;34m(\u001b[0m\u001b[0max\u001b[0m\u001b[0;34m,\u001b[0m \u001b[0;34m*\u001b[0m\u001b[0margs\u001b[0m\u001b[0;34m,\u001b[0m \u001b[0;34m**\u001b[0m\u001b[0mkwargs\u001b[0m\u001b[0;34m)\u001b[0m\u001b[0;34m\u001b[0m\u001b[0m\n\u001b[0m\u001b[1;32m   1899\u001b[0m         \u001b[0mpre_doc\u001b[0m \u001b[0;34m=\u001b[0m \u001b[0minner\u001b[0m\u001b[0;34m.\u001b[0m\u001b[0m__doc__\u001b[0m\u001b[0;34m\u001b[0m\u001b[0m\n\u001b[1;32m   1900\u001b[0m         \u001b[0;32mif\u001b[0m \u001b[0mpre_doc\u001b[0m \u001b[0;32mis\u001b[0m \u001b[0;32mNone\u001b[0m\u001b[0;34m:\u001b[0m\u001b[0;34m\u001b[0m\u001b[0m\n",
      "\u001b[0;32m~/anaconda/lib/python3.6/site-packages/matplotlib/axes/_axes.py\u001b[0m in \u001b[0;36mplot\u001b[0;34m(self, *args, **kwargs)\u001b[0m\n\u001b[1;32m   1404\u001b[0m         \u001b[0mkwargs\u001b[0m \u001b[0;34m=\u001b[0m \u001b[0mcbook\u001b[0m\u001b[0;34m.\u001b[0m\u001b[0mnormalize_kwargs\u001b[0m\u001b[0;34m(\u001b[0m\u001b[0mkwargs\u001b[0m\u001b[0;34m,\u001b[0m \u001b[0m_alias_map\u001b[0m\u001b[0;34m)\u001b[0m\u001b[0;34m\u001b[0m\u001b[0m\n\u001b[1;32m   1405\u001b[0m \u001b[0;34m\u001b[0m\u001b[0m\n\u001b[0;32m-> 1406\u001b[0;31m         \u001b[0;32mfor\u001b[0m \u001b[0mline\u001b[0m \u001b[0;32min\u001b[0m \u001b[0mself\u001b[0m\u001b[0;34m.\u001b[0m\u001b[0m_get_lines\u001b[0m\u001b[0;34m(\u001b[0m\u001b[0;34m*\u001b[0m\u001b[0margs\u001b[0m\u001b[0;34m,\u001b[0m \u001b[0;34m**\u001b[0m\u001b[0mkwargs\u001b[0m\u001b[0;34m)\u001b[0m\u001b[0;34m:\u001b[0m\u001b[0;34m\u001b[0m\u001b[0m\n\u001b[0m\u001b[1;32m   1407\u001b[0m             \u001b[0mself\u001b[0m\u001b[0;34m.\u001b[0m\u001b[0madd_line\u001b[0m\u001b[0;34m(\u001b[0m\u001b[0mline\u001b[0m\u001b[0;34m)\u001b[0m\u001b[0;34m\u001b[0m\u001b[0m\n\u001b[1;32m   1408\u001b[0m             \u001b[0mlines\u001b[0m\u001b[0;34m.\u001b[0m\u001b[0mappend\u001b[0m\u001b[0;34m(\u001b[0m\u001b[0mline\u001b[0m\u001b[0;34m)\u001b[0m\u001b[0;34m\u001b[0m\u001b[0m\n",
      "\u001b[0;32m~/anaconda/lib/python3.6/site-packages/matplotlib/axes/_base.py\u001b[0m in \u001b[0;36m_grab_next_args\u001b[0;34m(self, *args, **kwargs)\u001b[0m\n\u001b[1;32m    405\u001b[0m                 \u001b[0;32mreturn\u001b[0m\u001b[0;34m\u001b[0m\u001b[0m\n\u001b[1;32m    406\u001b[0m             \u001b[0;32mif\u001b[0m \u001b[0mlen\u001b[0m\u001b[0;34m(\u001b[0m\u001b[0mremaining\u001b[0m\u001b[0;34m)\u001b[0m \u001b[0;34m<=\u001b[0m \u001b[0;36m3\u001b[0m\u001b[0;34m:\u001b[0m\u001b[0;34m\u001b[0m\u001b[0m\n\u001b[0;32m--> 407\u001b[0;31m                 \u001b[0;32mfor\u001b[0m \u001b[0mseg\u001b[0m \u001b[0;32min\u001b[0m \u001b[0mself\u001b[0m\u001b[0;34m.\u001b[0m\u001b[0m_plot_args\u001b[0m\u001b[0;34m(\u001b[0m\u001b[0mremaining\u001b[0m\u001b[0;34m,\u001b[0m \u001b[0mkwargs\u001b[0m\u001b[0;34m)\u001b[0m\u001b[0;34m:\u001b[0m\u001b[0;34m\u001b[0m\u001b[0m\n\u001b[0m\u001b[1;32m    408\u001b[0m                     \u001b[0;32myield\u001b[0m \u001b[0mseg\u001b[0m\u001b[0;34m\u001b[0m\u001b[0m\n\u001b[1;32m    409\u001b[0m                 \u001b[0;32mreturn\u001b[0m\u001b[0;34m\u001b[0m\u001b[0m\n",
      "\u001b[0;32m~/anaconda/lib/python3.6/site-packages/matplotlib/axes/_base.py\u001b[0m in \u001b[0;36m_plot_args\u001b[0;34m(self, tup, kwargs)\u001b[0m\n\u001b[1;32m    383\u001b[0m             \u001b[0mx\u001b[0m\u001b[0;34m,\u001b[0m \u001b[0my\u001b[0m \u001b[0;34m=\u001b[0m \u001b[0mindex_of\u001b[0m\u001b[0;34m(\u001b[0m\u001b[0mtup\u001b[0m\u001b[0;34m[\u001b[0m\u001b[0;34m-\u001b[0m\u001b[0;36m1\u001b[0m\u001b[0;34m]\u001b[0m\u001b[0;34m)\u001b[0m\u001b[0;34m\u001b[0m\u001b[0m\n\u001b[1;32m    384\u001b[0m \u001b[0;34m\u001b[0m\u001b[0m\n\u001b[0;32m--> 385\u001b[0;31m         \u001b[0mx\u001b[0m\u001b[0;34m,\u001b[0m \u001b[0my\u001b[0m \u001b[0;34m=\u001b[0m \u001b[0mself\u001b[0m\u001b[0;34m.\u001b[0m\u001b[0m_xy_from_xy\u001b[0m\u001b[0;34m(\u001b[0m\u001b[0mx\u001b[0m\u001b[0;34m,\u001b[0m \u001b[0my\u001b[0m\u001b[0;34m)\u001b[0m\u001b[0;34m\u001b[0m\u001b[0m\n\u001b[0m\u001b[1;32m    386\u001b[0m \u001b[0;34m\u001b[0m\u001b[0m\n\u001b[1;32m    387\u001b[0m         \u001b[0;32mif\u001b[0m \u001b[0mself\u001b[0m\u001b[0;34m.\u001b[0m\u001b[0mcommand\u001b[0m \u001b[0;34m==\u001b[0m \u001b[0;34m'plot'\u001b[0m\u001b[0;34m:\u001b[0m\u001b[0;34m\u001b[0m\u001b[0m\n",
      "\u001b[0;32m~/anaconda/lib/python3.6/site-packages/matplotlib/axes/_base.py\u001b[0m in \u001b[0;36m_xy_from_xy\u001b[0;34m(self, x, y)\u001b[0m\n\u001b[1;32m    242\u001b[0m         \u001b[0;32mif\u001b[0m \u001b[0mx\u001b[0m\u001b[0;34m.\u001b[0m\u001b[0mshape\u001b[0m\u001b[0;34m[\u001b[0m\u001b[0;36m0\u001b[0m\u001b[0;34m]\u001b[0m \u001b[0;34m!=\u001b[0m \u001b[0my\u001b[0m\u001b[0;34m.\u001b[0m\u001b[0mshape\u001b[0m\u001b[0;34m[\u001b[0m\u001b[0;36m0\u001b[0m\u001b[0;34m]\u001b[0m\u001b[0;34m:\u001b[0m\u001b[0;34m\u001b[0m\u001b[0m\n\u001b[1;32m    243\u001b[0m             raise ValueError(\"x and y must have same first dimension, but \"\n\u001b[0;32m--> 244\u001b[0;31m                              \"have shapes {} and {}\".format(x.shape, y.shape))\n\u001b[0m\u001b[1;32m    245\u001b[0m         \u001b[0;32mif\u001b[0m \u001b[0mx\u001b[0m\u001b[0;34m.\u001b[0m\u001b[0mndim\u001b[0m \u001b[0;34m>\u001b[0m \u001b[0;36m2\u001b[0m \u001b[0;32mor\u001b[0m \u001b[0my\u001b[0m\u001b[0;34m.\u001b[0m\u001b[0mndim\u001b[0m \u001b[0;34m>\u001b[0m \u001b[0;36m2\u001b[0m\u001b[0;34m:\u001b[0m\u001b[0;34m\u001b[0m\u001b[0m\n\u001b[1;32m    246\u001b[0m             raise ValueError(\"x and y can be no greater than 2-D, but have \"\n",
      "\u001b[0;31mValueError\u001b[0m: x and y must have same first dimension, but have shapes (26,) and (6,)"
     ]
    },
    {
     "data": {
      "image/png": "[encoded data removed]",
      "text/plain": [
       "<matplotlib.figure.Figure at 0x1ac7db0e48>"
      ]
     },
     "metadata": {},
     "output_type": "display_data"
    }
   ],
   "source": [
    "# Show graph\n",
    "limit=31; start=5; step=1;\n",
    "x = range(start, limit, step)\n",
    "plt.plot(x, coherence_values)\n",
    "plt.xlabel(\"Num Topics\")\n",
    "plt.ylabel(\"Coherence score\")\n",
    "plt.legend((\"coherence_values\"), loc='best')\n",
    "plt.show()"
   ]
  },
  {
   "cell_type": "code",
   "execution_count": null,
   "metadata": {
    "collapsed": true
   },
   "outputs": [],
   "source": [
    "# Print the coherence scores\n",
    "for m, cv in zip(x, coherence_values):\n",
    "    print(\"Num Topics =\", m, \" has Coherence Value of\", round(cv, 4))"
   ]
  },
  {
   "cell_type": "code",
   "execution_count": 60,
   "metadata": {},
   "outputs": [
    {
     "ename": "KeyboardInterrupt",
     "evalue": "",
     "output_type": "error",
     "traceback": [
      "\u001b[0;31m---------------------------------------------------------------------------\u001b[0m",
      "\u001b[0;31mKeyboardInterrupt\u001b[0m                         Traceback (most recent call last)",
      "\u001b[0;32m<ipython-input-60-998494ef4d59>\u001b[0m in \u001b[0;36m<module>\u001b[0;34m\u001b[0m\n\u001b[1;32m      1\u001b[0m \u001b[0;31m# Can take a long time to run.\u001b[0m\u001b[0;34m\u001b[0m\u001b[0;34m\u001b[0m\u001b[0m\n\u001b[0;32m----> 2\u001b[0;31m \u001b[0mmodel_list\u001b[0m\u001b[0;34m,\u001b[0m \u001b[0mcoherence_values\u001b[0m \u001b[0;34m=\u001b[0m \u001b[0mcompute_coherence_values\u001b[0m\u001b[0;34m(\u001b[0m\u001b[0mdictionary\u001b[0m\u001b[0;34m=\u001b[0m\u001b[0mid2word\u001b[0m\u001b[0;34m,\u001b[0m \u001b[0mcorpus\u001b[0m\u001b[0;34m=\u001b[0m\u001b[0mcorpus\u001b[0m\u001b[0;34m,\u001b[0m \u001b[0mtexts\u001b[0m\u001b[0;34m=\u001b[0m\u001b[0mdata_lemmatized\u001b[0m\u001b[0;34m,\u001b[0m \u001b[0mstart\u001b[0m\u001b[0;34m=\u001b[0m\u001b[0;36m5\u001b[0m\u001b[0;34m,\u001b[0m \u001b[0mlimit\u001b[0m\u001b[0;34m=\u001b[0m\u001b[0;36m31\u001b[0m\u001b[0;34m,\u001b[0m \u001b[0mstep\u001b[0m\u001b[0;34m=\u001b[0m\u001b[0;36m1\u001b[0m\u001b[0;34m)\u001b[0m\u001b[0;34m\u001b[0m\u001b[0m\n\u001b[0m\u001b[1;32m      3\u001b[0m \u001b[0;34m\u001b[0m\u001b[0m\n\u001b[1;32m      4\u001b[0m \u001b[0;31m# Show graph\u001b[0m\u001b[0;34m\u001b[0m\u001b[0;34m\u001b[0m\u001b[0m\n\u001b[1;32m      5\u001b[0m \u001b[0mlimit\u001b[0m\u001b[0;34m=\u001b[0m\u001b[0;36m31\u001b[0m\u001b[0;34m;\u001b[0m \u001b[0mstart\u001b[0m\u001b[0;34m=\u001b[0m\u001b[0;36m5\u001b[0m\u001b[0;34m;\u001b[0m \u001b[0mstep\u001b[0m\u001b[0;34m=\u001b[0m\u001b[0;36m1\u001b[0m\u001b[0;34m;\u001b[0m\u001b[0;34m\u001b[0m\u001b[0m\n",
      "\u001b[0;32m<ipython-input-59-f518bbc89af4>\u001b[0m in \u001b[0;36mcompute_coherence_values\u001b[0;34m(dictionary, corpus, texts, limit, start, step)\u001b[0m\n\u001b[1;32m     18\u001b[0m     \u001b[0mmodel_list\u001b[0m \u001b[0;34m=\u001b[0m \u001b[0;34m[\u001b[0m\u001b[0;34m]\u001b[0m\u001b[0;34m\u001b[0m\u001b[0m\n\u001b[1;32m     19\u001b[0m     \u001b[0;32mfor\u001b[0m \u001b[0mnum_topics\u001b[0m \u001b[0;32min\u001b[0m \u001b[0mrange\u001b[0m\u001b[0;34m(\u001b[0m\u001b[0mstart\u001b[0m\u001b[0;34m,\u001b[0m \u001b[0mlimit\u001b[0m\u001b[0;34m,\u001b[0m \u001b[0mstep\u001b[0m\u001b[0;34m)\u001b[0m\u001b[0;34m:\u001b[0m\u001b[0;34m\u001b[0m\u001b[0m\n\u001b[0;32m---> 20\u001b[0;31m         \u001b[0mmodel\u001b[0m \u001b[0;34m=\u001b[0m \u001b[0mgensim\u001b[0m\u001b[0;34m.\u001b[0m\u001b[0mmodels\u001b[0m\u001b[0;34m.\u001b[0m\u001b[0mwrappers\u001b[0m\u001b[0;34m.\u001b[0m\u001b[0mLdaMallet\u001b[0m\u001b[0;34m(\u001b[0m\u001b[0mmallet_path\u001b[0m\u001b[0;34m,\u001b[0m \u001b[0mcorpus\u001b[0m\u001b[0;34m=\u001b[0m\u001b[0mcorpus\u001b[0m\u001b[0;34m,\u001b[0m \u001b[0mnum_topics\u001b[0m\u001b[0;34m=\u001b[0m\u001b[0mnum_topics\u001b[0m\u001b[0;34m,\u001b[0m \u001b[0mid2word\u001b[0m\u001b[0;34m=\u001b[0m\u001b[0mid2word\u001b[0m\u001b[0;34m)\u001b[0m\u001b[0;34m\u001b[0m\u001b[0m\n\u001b[0m\u001b[1;32m     21\u001b[0m         \u001b[0mmodel_list\u001b[0m\u001b[0;34m.\u001b[0m\u001b[0mappend\u001b[0m\u001b[0;34m(\u001b[0m\u001b[0mmodel\u001b[0m\u001b[0;34m)\u001b[0m\u001b[0;34m\u001b[0m\u001b[0m\n\u001b[1;32m     22\u001b[0m         \u001b[0mcoherencemodel\u001b[0m \u001b[0;34m=\u001b[0m \u001b[0mCoherenceModel\u001b[0m\u001b[0;34m(\u001b[0m\u001b[0mmodel\u001b[0m\u001b[0;34m=\u001b[0m\u001b[0mmodel\u001b[0m\u001b[0;34m,\u001b[0m \u001b[0mtexts\u001b[0m\u001b[0;34m=\u001b[0m\u001b[0mtexts\u001b[0m\u001b[0;34m,\u001b[0m \u001b[0mdictionary\u001b[0m\u001b[0;34m=\u001b[0m\u001b[0mdictionary\u001b[0m\u001b[0;34m,\u001b[0m \u001b[0mcoherence\u001b[0m\u001b[0;34m=\u001b[0m\u001b[0;34m'c_v'\u001b[0m\u001b[0;34m)\u001b[0m\u001b[0;34m\u001b[0m\u001b[0m\n",
      "\u001b[0;32m~/anaconda/lib/python3.6/site-packages/gensim/models/wrappers/ldamallet.py\u001b[0m in \u001b[0;36m__init__\u001b[0;34m(self, mallet_path, corpus, num_topics, alpha, id2word, workers, prefix, optimize_interval, iterations, topic_threshold)\u001b[0m\n\u001b[1;32m    124\u001b[0m         \u001b[0mself\u001b[0m\u001b[0;34m.\u001b[0m\u001b[0miterations\u001b[0m \u001b[0;34m=\u001b[0m \u001b[0miterations\u001b[0m\u001b[0;34m\u001b[0m\u001b[0m\n\u001b[1;32m    125\u001b[0m         \u001b[0;32mif\u001b[0m \u001b[0mcorpus\u001b[0m \u001b[0;32mis\u001b[0m \u001b[0;32mnot\u001b[0m \u001b[0;32mNone\u001b[0m\u001b[0;34m:\u001b[0m\u001b[0;34m\u001b[0m\u001b[0m\n\u001b[0;32m--> 126\u001b[0;31m             \u001b[0mself\u001b[0m\u001b[0;34m.\u001b[0m\u001b[0mtrain\u001b[0m\u001b[0;34m(\u001b[0m\u001b[0mcorpus\u001b[0m\u001b[0;34m)\u001b[0m\u001b[0;34m\u001b[0m\u001b[0m\n\u001b[0m\u001b[1;32m    127\u001b[0m \u001b[0;34m\u001b[0m\u001b[0m\n\u001b[1;32m    128\u001b[0m     \u001b[0;32mdef\u001b[0m \u001b[0mfinferencer\u001b[0m\u001b[0;34m(\u001b[0m\u001b[0mself\u001b[0m\u001b[0;34m)\u001b[0m\u001b[0;34m:\u001b[0m\u001b[0;34m\u001b[0m\u001b[0m\n",
      "\u001b[0;32m~/anaconda/lib/python3.6/site-packages/gensim/models/wrappers/ldamallet.py\u001b[0m in \u001b[0;36mtrain\u001b[0;34m(self, corpus)\u001b[0m\n\u001b[1;32m    276\u001b[0m         \u001b[0;31m# NOTE \"--keep-sequence-bigrams\" / \"--use-ngrams true\" poorer results + runs out of memory\u001b[0m\u001b[0;34m\u001b[0m\u001b[0;34m\u001b[0m\u001b[0m\n\u001b[1;32m    277\u001b[0m         \u001b[0mlogger\u001b[0m\u001b[0;34m.\u001b[0m\u001b[0minfo\u001b[0m\u001b[0;34m(\u001b[0m\u001b[0;34m\"training MALLET LDA with %s\"\u001b[0m\u001b[0;34m,\u001b[0m \u001b[0mcmd\u001b[0m\u001b[0;34m)\u001b[0m\u001b[0;34m\u001b[0m\u001b[0m\n\u001b[0;32m--> 278\u001b[0;31m         \u001b[0mcheck_output\u001b[0m\u001b[0;34m(\u001b[0m\u001b[0margs\u001b[0m\u001b[0;34m=\u001b[0m\u001b[0mcmd\u001b[0m\u001b[0;34m,\u001b[0m \u001b[0mshell\u001b[0m\u001b[0;34m=\u001b[0m\u001b[0;32mTrue\u001b[0m\u001b[0;34m)\u001b[0m\u001b[0;34m\u001b[0m\u001b[0m\n\u001b[0m\u001b[1;32m    279\u001b[0m         \u001b[0mself\u001b[0m\u001b[0;34m.\u001b[0m\u001b[0mword_topics\u001b[0m \u001b[0;34m=\u001b[0m \u001b[0mself\u001b[0m\u001b[0;34m.\u001b[0m\u001b[0mload_word_topics\u001b[0m\u001b[0;34m(\u001b[0m\u001b[0;34m)\u001b[0m\u001b[0;34m\u001b[0m\u001b[0m\n\u001b[1;32m    280\u001b[0m         \u001b[0;31m# NOTE - we are still keeping the wordtopics variable to not break backward compatibility.\u001b[0m\u001b[0;34m\u001b[0m\u001b[0;34m\u001b[0m\u001b[0m\n",
      "\u001b[0;32m~/anaconda/lib/python3.6/site-packages/gensim/utils.py\u001b[0m in \u001b[0;36mcheck_output\u001b[0;34m(stdout, *popenargs, **kwargs)\u001b[0m\n\u001b[1;32m   1796\u001b[0m         \u001b[0mlogger\u001b[0m\u001b[0;34m.\u001b[0m\u001b[0mdebug\u001b[0m\u001b[0;34m(\u001b[0m\u001b[0;34m\"COMMAND: %s %s\"\u001b[0m\u001b[0;34m,\u001b[0m \u001b[0mpopenargs\u001b[0m\u001b[0;34m,\u001b[0m \u001b[0mkwargs\u001b[0m\u001b[0;34m)\u001b[0m\u001b[0;34m\u001b[0m\u001b[0m\n\u001b[1;32m   1797\u001b[0m         \u001b[0mprocess\u001b[0m \u001b[0;34m=\u001b[0m \u001b[0msubprocess\u001b[0m\u001b[0;34m.\u001b[0m\u001b[0mPopen\u001b[0m\u001b[0;34m(\u001b[0m\u001b[0mstdout\u001b[0m\u001b[0;34m=\u001b[0m\u001b[0mstdout\u001b[0m\u001b[0;34m,\u001b[0m \u001b[0;34m*\u001b[0m\u001b[0mpopenargs\u001b[0m\u001b[0;34m,\u001b[0m \u001b[0;34m**\u001b[0m\u001b[0mkwargs\u001b[0m\u001b[0;34m)\u001b[0m\u001b[0;34m\u001b[0m\u001b[0m\n\u001b[0;32m-> 1798\u001b[0;31m         \u001b[0moutput\u001b[0m\u001b[0;34m,\u001b[0m \u001b[0munused_err\u001b[0m \u001b[0;34m=\u001b[0m \u001b[0mprocess\u001b[0m\u001b[0;34m.\u001b[0m\u001b[0mcommunicate\u001b[0m\u001b[0;34m(\u001b[0m\u001b[0;34m)\u001b[0m\u001b[0;34m\u001b[0m\u001b[0m\n\u001b[0m\u001b[1;32m   1799\u001b[0m         \u001b[0mretcode\u001b[0m \u001b[0;34m=\u001b[0m \u001b[0mprocess\u001b[0m\u001b[0;34m.\u001b[0m\u001b[0mpoll\u001b[0m\u001b[0;34m(\u001b[0m\u001b[0;34m)\u001b[0m\u001b[0;34m\u001b[0m\u001b[0m\n\u001b[1;32m   1800\u001b[0m         \u001b[0;32mif\u001b[0m \u001b[0mretcode\u001b[0m\u001b[0;34m:\u001b[0m\u001b[0;34m\u001b[0m\u001b[0m\n",
      "\u001b[0;32m~/anaconda/lib/python3.6/subprocess.py\u001b[0m in \u001b[0;36mcommunicate\u001b[0;34m(self, input, timeout)\u001b[0m\n\u001b[1;32m    821\u001b[0m                 \u001b[0mself\u001b[0m\u001b[0;34m.\u001b[0m\u001b[0m_stdin_write\u001b[0m\u001b[0;34m(\u001b[0m\u001b[0minput\u001b[0m\u001b[0;34m)\u001b[0m\u001b[0;34m\u001b[0m\u001b[0m\n\u001b[1;32m    822\u001b[0m             \u001b[0;32melif\u001b[0m \u001b[0mself\u001b[0m\u001b[0;34m.\u001b[0m\u001b[0mstdout\u001b[0m\u001b[0;34m:\u001b[0m\u001b[0;34m\u001b[0m\u001b[0m\n\u001b[0;32m--> 823\u001b[0;31m                 \u001b[0mstdout\u001b[0m \u001b[0;34m=\u001b[0m \u001b[0mself\u001b[0m\u001b[0;34m.\u001b[0m\u001b[0mstdout\u001b[0m\u001b[0;34m.\u001b[0m\u001b[0mread\u001b[0m\u001b[0;34m(\u001b[0m\u001b[0;34m)\u001b[0m\u001b[0;34m\u001b[0m\u001b[0m\n\u001b[0m\u001b[1;32m    824\u001b[0m                 \u001b[0mself\u001b[0m\u001b[0;34m.\u001b[0m\u001b[0mstdout\u001b[0m\u001b[0;34m.\u001b[0m\u001b[0mclose\u001b[0m\u001b[0;34m(\u001b[0m\u001b[0;34m)\u001b[0m\u001b[0;34m\u001b[0m\u001b[0m\n\u001b[1;32m    825\u001b[0m             \u001b[0;32melif\u001b[0m \u001b[0mself\u001b[0m\u001b[0;34m.\u001b[0m\u001b[0mstderr\u001b[0m\u001b[0;34m:\u001b[0m\u001b[0;34m\u001b[0m\u001b[0m\n",
      "\u001b[0;31mKeyboardInterrupt\u001b[0m: "
     ]
    }
   ],
   "source": [
    "# Can take a long time to run.\n",
    "model_list, coherence_values = compute_coherence_values(dictionary=id2word, corpus=corpus, texts=data_lemmatized, start=60, limit=81, step=1)\n",
    "\n",
    "# Show graph\n",
    "limit=31; start=5; step=1;\n",
    "x = range(start, limit, step)\n",
    "plt.plot(x, coherence_values)\n",
    "plt.xlabel(\"Num Topics\")\n",
    "plt.ylabel(\"Coherence score\")\n",
    "plt.legend((\"coherence_values\"), loc='best')\n",
    "plt.show()\n",
    "\n",
    "# Print the coherence scores\n",
    "for m, cv in zip(x, coherence_values):\n",
    "    print(\"Num Topics =\", m, \" has Coherence Value of\", round(cv, 4))"
   ]
  },
  {
   "cell_type": "code",
   "execution_count": 21,
   "metadata": {},
   "outputs": [
    {
     "name": "stdout",
     "output_type": "stream",
     "text": [
      "0.6317164559002475\n",
      "0.6216371138601658\n",
      "0.6275449796318195\n",
      "0.6329190619509659\n",
      "0.6309461108619336\n",
      "0.6262411100813084\n",
      "0.6288676722829649\n",
      "0.6312192350794088\n",
      "0.62709886361905\n",
      "0.6352162778776799\n",
      "0.625375167474984\n",
      "0.6220858551752033\n",
      "0.6281720873454977\n",
      "0.6256765761967382\n",
      "0.6308919887407856\n",
      "0.6272722843183737\n",
      "0.6240871814118875\n",
      "0.6275325013570491\n",
      "0.6283316843977197\n",
      "0.6245706090794814\n",
      "0.6233728079481532\n",
      "0.6278374984980511\n",
      "0.6275921192737834\n",
      "0.6284490396483512\n",
      "0.6279163784098488\n",
      "0.6262788937747021\n",
      "0.627922695259349\n",
      "0.6265077952175317\n",
      "0.6247939703451743\n",
      "0.6210656175358314\n",
      "0.6240118449421219\n",
      "0.626224684013091\n",
      "0.6299934903437256\n",
      "0.6222359904378925\n",
      "0.6177199312202407\n",
      "0.6244044001413798\n",
      "0.6219196684234247\n",
      "0.6250539946657538\n",
      "0.6223210679364115\n"
     ]
    },
    {
     "data": {
      "image/png": "[encoded data removed]",
      "text/plain": [
       "<matplotlib.figure.Figure at 0x1a8ba4cb70>"
      ]
     },
     "metadata": {},
     "output_type": "display_data"
    },
    {
     "name": "stdout",
     "output_type": "stream",
     "text": [
      "Num Topics = 61  has Coherence Value of 0.6317\n",
      "Num Topics = 62  has Coherence Value of 0.6216\n",
      "Num Topics = 63  has Coherence Value of 0.6275\n",
      "Num Topics = 64  has Coherence Value of 0.6329\n",
      "Num Topics = 65  has Coherence Value of 0.6309\n",
      "Num Topics = 66  has Coherence Value of 0.6262\n",
      "Num Topics = 67  has Coherence Value of 0.6289\n",
      "Num Topics = 68  has Coherence Value of 0.6312\n",
      "Num Topics = 69  has Coherence Value of 0.6271\n",
      "Num Topics = 70  has Coherence Value of 0.6352\n",
      "Num Topics = 71  has Coherence Value of 0.6254\n",
      "Num Topics = 72  has Coherence Value of 0.6221\n",
      "Num Topics = 73  has Coherence Value of 0.6282\n",
      "Num Topics = 74  has Coherence Value of 0.6257\n",
      "Num Topics = 75  has Coherence Value of 0.6309\n",
      "Num Topics = 76  has Coherence Value of 0.6273\n",
      "Num Topics = 77  has Coherence Value of 0.6241\n",
      "Num Topics = 78  has Coherence Value of 0.6275\n",
      "Num Topics = 79  has Coherence Value of 0.6283\n",
      "Num Topics = 80  has Coherence Value of 0.6246\n",
      "Num Topics = 81  has Coherence Value of 0.6234\n",
      "Num Topics = 82  has Coherence Value of 0.6278\n",
      "Num Topics = 83  has Coherence Value of 0.6276\n",
      "Num Topics = 84  has Coherence Value of 0.6284\n",
      "Num Topics = 85  has Coherence Value of 0.6279\n",
      "Num Topics = 86  has Coherence Value of 0.6263\n",
      "Num Topics = 87  has Coherence Value of 0.6279\n",
      "Num Topics = 88  has Coherence Value of 0.6265\n",
      "Num Topics = 89  has Coherence Value of 0.6248\n",
      "Num Topics = 90  has Coherence Value of 0.6211\n",
      "Num Topics = 91  has Coherence Value of 0.624\n",
      "Num Topics = 92  has Coherence Value of 0.6262\n",
      "Num Topics = 93  has Coherence Value of 0.63\n",
      "Num Topics = 94  has Coherence Value of 0.6222\n",
      "Num Topics = 95  has Coherence Value of 0.6177\n",
      "Num Topics = 96  has Coherence Value of 0.6244\n",
      "Num Topics = 97  has Coherence Value of 0.6219\n",
      "Num Topics = 98  has Coherence Value of 0.6251\n",
      "Num Topics = 99  has Coherence Value of 0.6223\n"
     ]
    }
   ],
   "source": [
    "# Can take a long time to run.\n",
    "model_list, coherence_values = compute_coherence_values(dictionary=id2word, corpus=corpus, texts=data_lemmatized, start=61, limit=81, step=1)\n",
    "\n",
    "# Show graph\n",
    "limit=100; start=61; step=1;\n",
    "x = range(start, limit, step)\n",
    "plt.plot(x, coherence_values)\n",
    "plt.xlabel(\"Num Topics\")\n",
    "plt.ylabel(\"Coherence score\")\n",
    "plt.legend((\"coherence_values\"), loc='best')\n",
    "plt.show()\n",
    "\n",
    "# Print the coherence scores\n",
    "for m, cv in zip(x, coherence_values):\n",
    "    print(\"Num Topics =\", m, \" has Coherence Value of\", round(cv, 4))"
   ]
  },
  {
   "cell_type": "code",
   "execution_count": 16,
   "metadata": {
    "collapsed": true
   },
   "outputs": [],
   "source": [
    "# the output zone\n",
    "\n",
    "for i, model in enumerate(model_list):\n",
    "    topics = [str(tn) + \",\" + \",\".join([w for w, n in words]) for tn, words in [list(r) for r in model.show_topics(100, formatted=False)]]\n",
    "    numtopics = len(topics)\n",
    "    fname = \"../topic_words/\" + str(numtopics).zfill(3) + \"questions.csv\"\n",
    "    \n",
    "    with open(fname, 'w') as fout:\n",
    "\n",
    "        print(\"\\n\".join(topics), file = fout)"
   ]
  },
  {
   "cell_type": "markdown",
   "metadata": {
    "collapsed": true
   },
   "source": [
    "# "
   ]
  }
 ],
 "metadata": {
  "kernelspec": {
   "display_name": "Python 3",
   "language": "python",
   "name": "python3"
  },
  "language_info": {
   "codemirror_mode": {
    "name": "ipython",
    "version": 3
   },
   "file_extension": ".py",
   "mimetype": "text/x-python",
   "name": "python",
   "nbconvert_exporter": "python",
   "pygments_lexer": "ipython3",
   "version": "3.6.1"
  }
 },
 "nbformat": 4,
 "nbformat_minor": 2
}
