{
 "cells": [
  {
   "cell_type": "markdown",
   "metadata": {},
   "source": [
    "This notebook serves to extract the comments out of the two excel files, clean up the text, and place the comments into separate text files within relevant folders.  This is the data structure expected for topic modeling systems.\n",
    "\n",
    "Folder names will be determined by my understanding of the meaning of these groups.\n",
    "\n",
    "There aren't any natural IDs for these comments, so I'll need to construct my own file names for these documents. I'm going to make a combination of the page id, type of comment (reply or comment), and a natural number id.  This should make things pretty easy to track down, and I'll reexport the excel file out with these embedded names."
   ]
  },
  {
   "cell_type": "code",
   "execution_count": 129,
   "metadata": {
    "collapsed": true
   },
   "outputs": [],
   "source": [
    "import pandas as pd\n",
    "from bs4 import BeautifulSoup\n",
    "import json"
   ]
  },
  {
   "cell_type": "code",
   "execution_count": 130,
   "metadata": {
    "collapsed": true
   },
   "outputs": [],
   "source": [
    "def clean_text(html):\n",
    "    if type(html) != str or len(html.strip()) == 0:\n",
    "        text = ''\n",
    "    else:\n",
    "        soup = BeautifulSoup(html)\n",
    "        text = soup.get_text()\n",
    "    return text"
   ]
  },
  {
   "cell_type": "code",
   "execution_count": 131,
   "metadata": {},
   "outputs": [],
   "source": [
    "vaxxdata = '../NYT data/NYTCommentsWithVaccin-vaccin-VACCIN-Vaxx-vaxx-VAXX.xlsx'\n",
    "questiondata = '../NYT data/NYTQuestionComments.xlsx'\n",
    "\n",
    "vaxxtarget = '../documents/vaxx/'\n",
    "questiontarget = '../documents/questions/'\n",
    "\n",
    "target = questiontarget"
   ]
  },
  {
   "cell_type": "code",
   "execution_count": 139,
   "metadata": {},
   "outputs": [],
   "source": [
    "df = pd.read_excel(questiondata, header = None, parse_cols = \"A:D\")\n",
    "df.columns = ['short_name', 'type', 'comment_text', 'full_url']"
   ]
  },
  {
   "cell_type": "code",
   "execution_count": 140,
   "metadata": {},
   "outputs": [
    {
     "data": {
      "text/html": [
       "<div>\n",
       "<style>\n",
       "    .dataframe thead tr:only-child th {\n",
       "        text-align: right;\n",
       "    }\n",
       "\n",
       "    .dataframe thead th {\n",
       "        text-align: left;\n",
       "    }\n",
       "\n",
       "    .dataframe tbody tr th {\n",
       "        vertical-align: top;\n",
       "    }\n",
       "</style>\n",
       "<table border=\"1\" class=\"dataframe\">\n",
       "  <thead>\n",
       "    <tr style=\"text-align: right;\">\n",
       "      <th></th>\n",
       "      <th>short_name</th>\n",
       "      <th>type</th>\n",
       "      <th>comment_text</th>\n",
       "      <th>full_url</th>\n",
       "    </tr>\n",
       "  </thead>\n",
       "  <tbody>\n",
       "    <tr>\n",
       "      <th>count</th>\n",
       "      <td>126170</td>\n",
       "      <td>126172</td>\n",
       "      <td>126164</td>\n",
       "      <td>126075</td>\n",
       "    </tr>\n",
       "    <tr>\n",
       "      <th>unique</th>\n",
       "      <td>4297</td>\n",
       "      <td>3</td>\n",
       "      <td>125522</td>\n",
       "      <td>4461</td>\n",
       "    </tr>\n",
       "    <tr>\n",
       "      <th>top</th>\n",
       "      <td>inside-amazon-wrestling-big-ideas-in-a-bruisin...</td>\n",
       "      <td>comment</td>\n",
       "      <td>Why?</td>\n",
       "      <td>http://www.nytimes.com/2015/08/16/technology/i...</td>\n",
       "    </tr>\n",
       "    <tr>\n",
       "      <th>freq</th>\n",
       "      <td>1019</td>\n",
       "      <td>72124</td>\n",
       "      <td>12</td>\n",
       "      <td>1019</td>\n",
       "    </tr>\n",
       "  </tbody>\n",
       "</table>\n",
       "</div>"
      ],
      "text/plain": [
       "                                               short_name     type  \\\n",
       "count                                              126170   126172   \n",
       "unique                                               4297        3   \n",
       "top     inside-amazon-wrestling-big-ideas-in-a-bruisin...  comment   \n",
       "freq                                                 1019    72124   \n",
       "\n",
       "       comment_text                                           full_url  \n",
       "count        126164                                             126075  \n",
       "unique       125522                                               4461  \n",
       "top            Why?  http://www.nytimes.com/2015/08/16/technology/i...  \n",
       "freq             12                                               1019  "
      ]
     },
     "execution_count": 140,
     "metadata": {},
     "output_type": "execute_result"
    }
   ],
   "source": [
    "df.describe()"
   ]
  },
  {
   "cell_type": "code",
   "execution_count": 145,
   "metadata": {},
   "outputs": [
    {
     "name": "stdout",
     "output_type": "stream",
     "text": [
      "126172\n"
     ]
    }
   ],
   "source": [
    "js = json.loads(df.to_json(orient = 'records'))\n",
    "print(len(js))"
   ]
  },
  {
   "cell_type": "code",
   "execution_count": 148,
   "metadata": {},
   "outputs": [
    {
     "data": {
      "text/plain": [
       "{'short_name': 'outlander-season-1-finale-jamie-rape',\n",
       " 'type': 'comment',\n",
       " 'comment_text': 'Unfortunately, rape is treated as a plot device in entertainment. How can we shock? How can we up the ante? Let\\'s rape Sansa. We are becoming accustomed to rape. It\\'s losing the ability to create horror, unless you happen to be a survivor. Its filmed in soft focus, the emotional impact is lost. Its romanticized. We forget that rape is not an act of sex, but of violence. <br/><br/>THAT is why the scene had to be explicit. That is why we had to see the blood on his thighs and the emptiness in his eyes. <br/><br/>With this extended scene, we see not just the physical horror, but the emotional twisting of the victim\\'s psyche as well. For Jamie, the true horror wasn\\'t so much the physical assault as it was his cooperation with the rapist.<br/><br/>We still hear people say, \"She was asking for it,\" or \"What did you do to make him so angry?\" Men are told \"You can\\'t rape the willing\" or \"You should have just enjoyed it.\" We have politicians debating what a \"real\" rape is. Well, Diana Gabaldon, Ron Moore, Sam Heughan and Tobias Menzies just reminded us what rape really is. Its ugly and horrible and on occasion, we need to see that, and not a soft focus of some young actress clutching the sheets and weeping softly before the scene cuts away.',\n",
       " 'full_url': 'http://artsbeat.blogs.nytimes.com/2015/05/30/outlander-season-1-finale-jamie-rape/'}"
      ]
     },
     "execution_count": 148,
     "metadata": {},
     "output_type": "execute_result"
    }
   ],
   "source": [
    "js[0]"
   ]
  },
  {
   "cell_type": "code",
   "execution_count": 149,
   "metadata": {},
   "outputs": [],
   "source": [
    "allshorts = [r['short_name'] for r in js]\n",
    "\n",
    "data = {sn: {'comment': [], 'userReply': [], 'reporterReply': []} for sn in allshorts}\n",
    "\n",
    "for record in js:\n",
    "    data[ record['short_name'] ][ record['type'] ].append(\\\n",
    "                                                    clean_text(record['comment_text']) )"
   ]
  },
  {
   "cell_type": "code",
   "execution_count": 152,
   "metadata": {},
   "outputs": [],
   "source": [
    "for sn, types in data.items():\n",
    "    for thetype, text in types.items():\n",
    "        if text == []:\n",
    "            continue\n",
    "        else:\n",
    "            for i, comment in enumerate(text):\n",
    "                filename = target + str(sn).replace('.', '-') + '_' + thetype + '_' + str(i).zfill(4) + '.txt'\n",
    "                with open(filename, 'w') as fout:\n",
    "                    fout.write(comment)"
   ]
  },
  {
   "cell_type": "code",
   "execution_count": null,
   "metadata": {
    "collapsed": true
   },
   "outputs": [],
   "source": []
  }
 ],
 "metadata": {
  "kernelspec": {
   "display_name": "Python 3",
   "language": "python",
   "name": "python3"
  },
  "language_info": {
   "codemirror_mode": {
    "name": "ipython",
    "version": 3
   },
   "file_extension": ".py",
   "mimetype": "text/x-python",
   "name": "python",
   "nbconvert_exporter": "python",
   "pygments_lexer": "ipython3",
   "version": "3.6.1"
  }
 },
 "nbformat": 4,
 "nbformat_minor": 2
}
