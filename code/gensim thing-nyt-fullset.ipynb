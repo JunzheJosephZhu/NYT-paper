{
 "cells": [
  {
   "cell_type": "markdown",
   "metadata": {},
   "source": [
    "https://www.machinelearningplus.com/nlp/topic-modeling-gensim-python/\n"
   ]
  },
  {
   "cell_type": "code",
   "execution_count": null,
   "metadata": {
    "collapsed": true
   },
   "outputs": [],
   "source": []
  },
  {
   "cell_type": "code",
   "execution_count": 1,
   "metadata": {
    "collapsed": true
   },
   "outputs": [],
   "source": [
    "import re\n",
    "import numpy as np\n",
    "import pandas as pd\n",
    "from pprint import pprint\n",
    "import glob\n",
    "\n",
    "# Gensim\n",
    "import gensim\n",
    "import gensim.corpora as corpora\n",
    "from gensim.utils import simple_preprocess\n",
    "from gensim.models import CoherenceModel\n",
    "\n",
    "# spacy for lemmatization\n",
    "import spacy\n",
    "\n",
    "# Plotting tools\n",
    "import pyLDAvis\n",
    "import pyLDAvis.gensim  # don't skip this\n",
    "import matplotlib.pyplot as plt\n",
    "%matplotlib inline\n",
    "\n",
    "import logging\n",
    "logging.basicConfig(format='%(asctime)s : %(levelname)s : %(message)s', level=logging.ERROR)\n",
    "\n",
    "import warnings\n",
    "warnings.filterwarnings(\"ignore\",category=DeprecationWarning)"
   ]
  },
  {
   "cell_type": "code",
   "execution_count": 2,
   "metadata": {
    "collapsed": true
   },
   "outputs": [],
   "source": [
    "files = glob.glob('../documents/comments/comments/*.txt')"
   ]
  },
  {
   "cell_type": "code",
   "execution_count": 3,
   "metadata": {},
   "outputs": [
    {
     "name": "stdout",
     "output_type": "stream",
     "text": [
      "445441\n"
     ]
    }
   ],
   "source": [
    "print(len(files))"
   ]
  },
  {
   "cell_type": "code",
   "execution_count": 4,
   "metadata": {
    "collapsed": true
   },
   "outputs": [],
   "source": [
    "from nltk.corpus import stopwords\n",
    "stop_words = stopwords.words('english')"
   ]
  },
  {
   "cell_type": "code",
   "execution_count": 5,
   "metadata": {
    "collapsed": true
   },
   "outputs": [],
   "source": [
    "def sent_to_words(sentences):\n",
    "    for sentence in sentences:\n",
    "        yield(gensim.utils.simple_preprocess(str(sentence), deacc=True))  # deacc=True removes punctuations"
   ]
  },
  {
   "cell_type": "code",
   "execution_count": null,
   "metadata": {
    "collapsed": true
   },
   "outputs": [],
   "source": []
  },
  {
   "cell_type": "code",
   "execution_count": 7,
   "metadata": {},
   "outputs": [],
   "source": [
    "data = []\n",
    "\n",
    "for f in files:\n",
    "    with open(f, 'r') as fin:\n",
    "        data.append(fin.read())"
   ]
  },
  {
   "cell_type": "code",
   "execution_count": 8,
   "metadata": {
    "collapsed": true
   },
   "outputs": [],
   "source": [
    "\n",
    "data_words = list(sent_to_words(data))\n",
    "\n"
   ]
  },
  {
   "cell_type": "code",
   "execution_count": 9,
   "metadata": {},
   "outputs": [
    {
     "name": "stderr",
     "output_type": "stream",
     "text": [
      "/Users/wickes1/anaconda/lib/python3.6/site-packages/gensim/models/phrases.py:494: UserWarning: For a faster implementation, use the gensim.models.phrases.Phraser class\n",
      "  warnings.warn(\"For a faster implementation, use the gensim.models.phrases.Phraser class\")\n"
     ]
    },
    {
     "name": "stdout",
     "output_type": "stream",
     "text": [
      "['as', 'much', 'as', 'rape', 'is', 'horrible', 'horrible', 'thing', 'you', 'have', 'to', 'remember', 'that', 'this', 'story', 'is', 'set', 'years', 'in', 'the', 'past', 'where', 'women', 'were', 'considered', 'property', 'and', 'were', 'subject', 'to', 'all', 'types', 'of', 'assault', 'you', 'can', 'use', 'the', 'mindset', 'of', 'the', 'current', 'era', 'when', 'looking', 'far', 'back', 'in', 'time', 'when', 'the', 'world', 'was', 'very', 'different', 'place']\n"
     ]
    }
   ],
   "source": [
    "# Build the bigram and trigram models\n",
    "bigram = gensim.models.Phrases(data_words, min_count=5, threshold=100) # higher threshold fewer phrases.\n",
    "trigram = gensim.models.Phrases(bigram[data_words], threshold=100)  \n",
    "\n",
    "# Faster way to get a sentence clubbed as a trigram/bigram\n",
    "bigram_mod = gensim.models.phrases.Phraser(bigram)\n",
    "trigram_mod = gensim.models.phrases.Phraser(trigram)\n",
    "\n",
    "# See trigram example\n",
    "print(trigram_mod[bigram_mod[data_words[0]]])"
   ]
  },
  {
   "cell_type": "code",
   "execution_count": 10,
   "metadata": {
    "collapsed": true
   },
   "outputs": [],
   "source": [
    "# Define functions for stopwords, bigrams, trigrams and lemmatization\n",
    "def remove_stopwords(texts):\n",
    "    return [[word for word in simple_preprocess(str(doc)) if word not in stop_words] for doc in texts]\n",
    "\n",
    "def make_bigrams(texts):\n",
    "    return [bigram_mod[doc] for doc in texts]\n",
    "\n",
    "def make_trigrams(texts):\n",
    "    return [trigram_mod[bigram_mod[doc]] for doc in texts]\n",
    "\n",
    "def lemmatization(texts, allowed_postags=['NOUN', 'ADJ', 'VERB', 'ADV']):\n",
    "    \"\"\"https://spacy.io/api/annotation\"\"\"\n",
    "    texts_out = []\n",
    "    for sent in texts:\n",
    "        doc = nlp(\" \".join(sent)) \n",
    "        texts_out.append([token.lemma_ for token in doc if token.pos_ in allowed_postags])\n",
    "    return texts_out\n",
    "\n"
   ]
  },
  {
   "cell_type": "code",
   "execution_count": 11,
   "metadata": {},
   "outputs": [
    {
     "name": "stdout",
     "output_type": "stream",
     "text": [
      "[['much', 'rape', 'horrible', 'horrible', 'thing', 'remember', 'story', 'set', 'year', 'woman', 'consider', 'property', 'subject', 'type', 'assault', 'use', 'mindset', 'current', 'era', 'look', 'far', 'back', 'time', 'world', 'different', 'place']]\n"
     ]
    }
   ],
   "source": [
    "# Remove Stop Words\n",
    "data_words_nostops = remove_stopwords(data_words)\n",
    "\n",
    "# Form Bigrams\n",
    "data_words_bigrams = make_bigrams(data_words_nostops)\n",
    "\n",
    "# Initialize spacy 'en' model, keeping only tagger component (for efficiency)\n",
    "# python3 -m spacy download en\n",
    "nlp = spacy.load('en', disable=['parser', 'ner'])\n",
    "nlp.max_length = 9297925\n",
    "# Do lemmatization keeping only noun, adj, vb, adv\n",
    "data_lemmatized = lemmatization(data_words_bigrams, allowed_postags=['NOUN', 'ADJ', 'VERB', 'ADV'])\n",
    "\n",
    "print(data_lemmatized[:1])"
   ]
  },
  {
   "cell_type": "code",
   "execution_count": 12,
   "metadata": {},
   "outputs": [
    {
     "name": "stdout",
     "output_type": "stream",
     "text": [
      "[[(0, 1), (1, 1), (2, 1), (3, 1), (4, 1), (5, 1), (6, 1), (7, 2), (8, 1), (9, 1), (10, 1), (11, 1), (12, 1), (13, 1), (14, 1), (15, 1), (16, 1), (17, 1), (18, 1), (19, 1), (20, 1), (21, 1), (22, 1), (23, 1), (24, 1)]]\n"
     ]
    }
   ],
   "source": [
    "# Create Dictionary\n",
    "id2word = corpora.Dictionary(data_lemmatized)\n",
    "\n",
    "# Create Corpus\n",
    "texts = data_lemmatized\n",
    "\n",
    "# Term Document Frequency\n",
    "corpus = [id2word.doc2bow(text) for text in texts]\n",
    "\n",
    "# View\n",
    "print(corpus[:1])"
   ]
  },
  {
   "cell_type": "code",
   "execution_count": 13,
   "metadata": {},
   "outputs": [
    {
     "data": {
      "text/plain": [
       "'assault'"
      ]
     },
     "execution_count": 13,
     "metadata": {},
     "output_type": "execute_result"
    }
   ],
   "source": [
    "id2word[0]"
   ]
  },
  {
   "cell_type": "code",
   "execution_count": 13,
   "metadata": {
    "collapsed": true
   },
   "outputs": [],
   "source": [
    "# Build LDA model\n",
    "lda_model = gensim.models.ldamodel.LdaModel(corpus=corpus,\n",
    "                                           id2word=id2word,\n",
    "                                           num_topics=30, \n",
    "                                           random_state=100,\n",
    "                                           update_every=1,\n",
    "                                           chunksize=100,\n",
    "                                           passes=10,\n",
    "                                           alpha='auto',\n",
    "                                           per_word_topics=True)"
   ]
  },
  {
   "cell_type": "code",
   "execution_count": 14,
   "metadata": {},
   "outputs": [
    {
     "name": "stdout",
     "output_type": "stream",
     "text": [
      "[(0,\n",
      "  '0.093*\"life\" + 0.066*\"day\" + 0.053*\"someone\" + 0.038*\"home\" + 0.036*\"wrong\" '\n",
      "  '+ 0.029*\"experience\" + 0.025*\"follow\" + 0.023*\"area\" + '\n",
      "  '0.020*\"responsibility\" + 0.018*\"officer\"'),\n",
      " (1,\n",
      "  '0.646*\"br\" + 0.023*\"write\" + 0.022*\"question\" + 0.013*\"line\" + '\n",
      "  '0.013*\"wonder\" + 0.012*\"book\" + 0.012*\"answer\" + 0.008*\"isis\" + '\n",
      "  '0.008*\"short\" + 0.007*\"response\"'),\n",
      " (2,\n",
      "  '0.067*\"american\" + 0.037*\"help\" + 0.036*\"president\" + 0.035*\"white\" + '\n",
      "  '0.034*\"support\" + 0.031*\"america\" + 0.030*\"gun\" + 0.028*\"understand\" + '\n",
      "  '0.023*\"anyone\" + 0.021*\"deal\"'),\n",
      " (3,\n",
      "  '0.094*\"police\" + 0.078*\"person\" + 0.046*\"thank\" + 0.041*\"guy\" + 0.030*\"cop\" '\n",
      "  '+ 0.019*\"murder\" + 0.017*\"religious\" + 0.015*\"prevent\" + 0.013*\"wear\" + '\n",
      "  '0.013*\"video\"'),\n",
      " (4,\n",
      "  '0.090*\"something\" + 0.031*\"possible\" + 0.028*\"mr\" + 0.028*\"interesting\" + '\n",
      "  '0.024*\"defense\" + 0.021*\"ability\" + 0.019*\"thousand\" + 0.018*\"ground\" + '\n",
      "  '0.017*\"texas\" + 0.017*\"train\"'),\n",
      " (5,\n",
      "  '0.081*\"state\" + 0.051*\"poor\" + 0.039*\"school\" + 0.033*\"free\" + 0.029*\"tax\" '\n",
      "  '+ 0.027*\"low\" + 0.023*\"college\" + 0.023*\"group\" + 0.023*\"example\" + '\n",
      "  '0.021*\"education\"'),\n",
      " (6,\n",
      "  '0.068*\"law\" + 0.045*\"human\" + 0.025*\"justice\" + 0.023*\"attack\" + '\n",
      "  '0.020*\"land\" + 0.020*\"arrest\" + 0.018*\"form\" + 0.017*\"church\" + '\n",
      "  '0.017*\"ignore\" + 0.015*\"religion\"'),\n",
      " (7,\n",
      "  '0.162*\"woman\" + 0.143*\"man\" + 0.028*\"game\" + 0.026*\"decision\" + '\n",
      "  '0.020*\"abortion\" + 0.018*\"shoot\" + 0.016*\"sport\" + 0.013*\"wife\" + '\n",
      "  '0.013*\"libido\" + 0.013*\"hate\"'),\n",
      " (8,\n",
      "  '0.056*\"care\" + 0.042*\"health\" + 0.040*\"population\" + 0.038*\"result\" + '\n",
      "  '0.036*\"increase\" + 0.022*\"medical\" + 0.022*\"rate\" + 0.021*\"decade\" + '\n",
      "  '0.019*\"rise\" + 0.017*\"industry\"'),\n",
      " (9,\n",
      "  '0.093*\"use\" + 0.051*\"call\" + 0.045*\"new\" + 0.045*\"choice\" + 0.036*\"maybe\" + '\n",
      "  '0.031*\"allow\" + 0.029*\"however\" + 0.020*\"sex\" + 0.016*\"date\" + '\n",
      "  '0.012*\"apparently\"'),\n",
      " (10,\n",
      "  '0.048*\"kid\" + 0.044*\"act\" + 0.041*\"pope\" + 0.034*\"climate_change\" + '\n",
      "  '0.033*\"company\" + 0.032*\"situation\" + 0.032*\"congress\" + 0.030*\"cause\" + '\n",
      "  '0.025*\"suggest\" + 0.021*\"usa\"'),\n",
      " (11,\n",
      "  '0.051*\"make\" + 0.041*\"good\" + 0.037*\"time\" + 0.028*\"may\" + 0.028*\"even\" + '\n",
      "  '0.026*\"much\" + 0.021*\"come\" + 0.020*\"also\" + 0.019*\"give\" + 0.019*\"look\"'),\n",
      " (12,\n",
      "  '0.078*\"com\" + 0.067*\"not\" + 0.060*\"can\" + 0.028*\"solution\" + 0.026*\"huge\" + '\n",
      "  '0.026*\"security\" + 0.024*\"http\" + 0.022*\"avoid\" + 0.021*\"pope_francis\" + '\n",
      "  '0.020*\"energy\"'),\n",
      " (13,\n",
      "  '0.145*\"want\" + 0.062*\"tell\" + 0.060*\"feel\" + 0.048*\"reason\" + '\n",
      "  '0.040*\"military\" + 0.029*\"hear\" + 0.022*\"position\" + 0.022*\"exactly\" + '\n",
      "  '0.018*\"garner\" + 0.013*\"desire\"'),\n",
      " (14,\n",
      "  '0.056*\"little\" + 0.047*\"idea\" + 0.044*\"today\" + 0.041*\"history\" + '\n",
      "  '0.027*\"community\" + 0.025*\"economy\" + 0.022*\"sell\" + 0.022*\"begin\" + '\n",
      "  '0.021*\"appear\" + 0.021*\"piece\"'),\n",
      " (15,\n",
      "  '0.057*\"worker\" + 0.046*\"perhaps\" + 0.042*\"hope\" + 0.036*\"trade\" + '\n",
      "  '0.032*\"threat\" + 0.018*\"campaign\" + 0.018*\"truly\" + 0.018*\"note\" + '\n",
      "  '0.017*\"illegal\" + 0.016*\"event\"'),\n",
      " (16,\n",
      "  '0.051*\"show\" + 0.040*\"lead\" + 0.029*\"kill\" + 0.025*\"water\" + 0.020*\"prison\" '\n",
      "  '+ 0.017*\"climate\" + 0.017*\"address\" + 0.017*\"earth\" + 0.016*\"serve\" + '\n",
      "  '0.015*\"wait\"'),\n",
      " (17,\n",
      "  '0.104*\"black\" + 0.069*\"become\" + 0.051*\"move\" + 0.041*\"citizen\" + '\n",
      "  '0.041*\"continue\" + 0.030*\"leader\" + 0.022*\"border\" + 0.019*\"room\" + '\n",
      "  '0.019*\"legal\" + 0.018*\"refugee\"'),\n",
      " (18,\n",
      "  '0.046*\"republican\" + 0.044*\"vote\" + 0.043*\"enough\" + 0.035*\"base\" + '\n",
      "  '0.030*\"party\" + 0.023*\"democrat\" + 0.023*\"liberal\" + 0.023*\"fail\" + '\n",
      "  '0.021*\"die\" + 0.019*\"culture\"'),\n",
      " (19,\n",
      "  '0.099*\"year\" + 0.095*\"work\" + 0.055*\"pay\" + 0.049*\"job\" + 0.047*\"money\" + '\n",
      "  '0.024*\"cost\" + 0.024*\"sure\" + 0.022*\"benefit\" + 0.019*\"ago\" + 0.017*\"buy\"'),\n",
      " (20,\n",
      "  '0.055*\"point\" + 0.045*\"leave\" + 0.042*\"course\" + 0.035*\"lose\" + '\n",
      "  '0.025*\"death\" + 0.024*\"rich\" + 0.022*\"patient\" + 0.021*\"post\" + 0.021*\"non\" '\n",
      "  '+ 0.019*\"present\"'),\n",
      " (21,\n",
      "  '0.035*\"need\" + 0.021*\"seem\" + 0.020*\"great\" + 0.018*\"obama\" + '\n",
      "  '0.015*\"public\" + 0.015*\"nothing\" + 0.013*\"force\" + 0.011*\"agree\" + '\n",
      "  '0.010*\"run\" + 0.010*\"often\"'),\n",
      " (22,\n",
      "  '0.086*\"try\" + 0.051*\"drug\" + 0.035*\"criminal\" + 0.025*\"african\" + '\n",
      "  '0.025*\"effect\" + 0.023*\"folk\" + 0.022*\"food\" + 0.022*\"indeed\" + '\n",
      "  '0.021*\"politic\" + 0.021*\"clearly\"'),\n",
      " (23,\n",
      "  '0.069*\"country\" + 0.068*\"world\" + 0.039*\"government\" + 0.026*\"power\" + '\n",
      "  '0.026*\"case\" + 0.024*\"nation\" + 0.024*\"crime\" + 0.023*\"control\" + '\n",
      "  '0.022*\"political\" + 0.021*\"create\"'),\n",
      " (24,\n",
      "  '0.059*\"lot\" + 0.056*\"real\" + 0.043*\"science\" + 0.041*\"building\" + '\n",
      "  '0.029*\"protect\" + 0.026*\"open\" + 0.026*\"certainly\" + 0.024*\"risk\" + '\n",
      "  '0.022*\"scientist\" + 0.021*\"like\"'),\n",
      " (25,\n",
      "  '0.054*\"http_www\" + 0.047*\"news\" + 0.046*\"target\" + 0.045*\"href_http\" + '\n",
      "  '0.043*\"title\" + 0.034*\"datum\" + 0.034*\"future\" + 0.023*\"street\" + '\n",
      "  '0.020*\"org\" + 0.019*\"www\"'),\n",
      " (26,\n",
      "  '0.094*\"union\" + 0.049*\"ask\" + 0.037*\"fight\" + 0.036*\"house\" + 0.022*\"focus\" '\n",
      "  '+ 0.018*\"speech\" + 0.017*\"anti\" + 0.015*\"figure\" + 0.014*\"oppose\" + '\n",
      "  '0.014*\"air\"'),\n",
      " (27,\n",
      "  '0.072*\"russia\" + 0.063*\"war\" + 0.041*\"russian\" + 0.037*\"putin\" + '\n",
      "  '0.028*\"ukraine\" + 0.028*\"nato\" + 0.025*\"city\" + 0.017*\"conservative\" + '\n",
      "  '0.016*\"expect\" + 0.016*\"send\"'),\n",
      " (28,\n",
      "  '0.068*\"happen\" + 0.052*\"different\" + 0.050*\"story\" + 0.035*\"able\" + '\n",
      "  '0.033*\"watch\" + 0.030*\"remember\" + 0.029*\"set\" + 0.027*\"opinion\" + '\n",
      "  '0.026*\"quite\" + 0.025*\"yet\"'),\n",
      " (29,\n",
      "  '0.060*\"people\" + 0.055*\"would\" + 0.041*\"get\" + 0.035*\"go\" + 0.034*\"think\" + '\n",
      "  '0.032*\"say\" + 0.029*\"see\" + 0.029*\"take\" + 0.029*\"know\" + 0.028*\"many\"')]\n"
     ]
    }
   ],
   "source": [
    "# Print the Keyword in the 10 topics\n",
    "pprint(lda_model.print_topics(30))\n",
    "doc_lda = lda_model[corpus]"
   ]
  },
  {
   "cell_type": "markdown",
   "metadata": {
    "collapsed": true
   },
   "source": []
  },
  {
   "cell_type": "code",
   "execution_count": null,
   "metadata": {
    "collapsed": true
   },
   "outputs": [],
   "source": []
  },
  {
   "cell_type": "code",
   "execution_count": null,
   "metadata": {
    "collapsed": true
   },
   "outputs": [],
   "source": []
  },
  {
   "cell_type": "code",
   "execution_count": null,
   "metadata": {
    "collapsed": true
   },
   "outputs": [],
   "source": []
  },
  {
   "cell_type": "code",
   "execution_count": null,
   "metadata": {
    "collapsed": true
   },
   "outputs": [],
   "source": []
  },
  {
   "cell_type": "code",
   "execution_count": null,
   "metadata": {
    "collapsed": true
   },
   "outputs": [],
   "source": []
  },
  {
   "cell_type": "code",
   "execution_count": 15,
   "metadata": {},
   "outputs": [
    {
     "name": "stdout",
     "output_type": "stream",
     "text": [
      "\n",
      "Perplexity:  -8.860890693813014\n",
      "\n",
      "Coherence Score:  0.42224533818964594\n"
     ]
    }
   ],
   "source": [
    "# Compute Perplexity\n",
    "print('\\nPerplexity: ', lda_model.log_perplexity(corpus))  # a measure of how good the model is. lower the better.\n",
    "\n",
    "# Compute Coherence Score\n",
    "coherence_model_lda = CoherenceModel(model=lda_model, texts=data_lemmatized, dictionary=id2word, coherence='c_v')\n",
    "coherence_lda = coherence_model_lda.get_coherence()\n",
    "print('\\nCoherence Score: ', coherence_lda)"
   ]
  },
  {
   "cell_type": "code",
   "execution_count": 16,
   "metadata": {},
   "outputs": [
    {
     "data": {
      "text/html": [
       "\n",
       "<link rel=\"stylesheet\" type=\"text/css\" href=\"https://cdn.rawgit.com/bmabey/pyLDAvis/files/ldavis.v1.0.0.css\">\n",
       "\n",
       "\n",
       "<div id=\"ldavis_el419721149263499127431516901\"></div>\n",
       "<script type=\"text/javascript\">\n",
       "\n",
       "var ldavis_el419721149263499127431516901_data = {\"mdsDat\": {\"Freq\": [12.661782815223368, 11.467079138274547, 9.180097859267075, 4.370142990183311, 4.25863760870225, 4.076137412533741, 3.996577210681756, 3.207838036691255, 2.86104155797118, 2.805046422004934, 2.65757291013604, 2.6487858263324005, 2.5928504040855684, 2.5085039491509593, 2.3766748606731074, 2.266753959731628, 2.2595285193020906, 2.240850602614466, 2.073147764065867, 2.0629198644760476, 2.0253868682175153, 1.9015717129345995, 1.891389414212958, 1.8570960892751145, 1.8285083563828013, 1.821858019334079, 1.7086205949530684, 1.6687127967714548, 1.3718218913836289, 1.3530645444331855], \"cluster\": [1, 1, 1, 1, 1, 1, 1, 1, 1, 1, 1, 1, 1, 1, 1, 1, 1, 1, 1, 1, 1, 1, 1, 1, 1, 1, 1, 1, 1, 1], \"topics\": [1, 2, 3, 4, 5, 6, 7, 8, 9, 10, 11, 12, 13, 14, 15, 16, 17, 18, 19, 20, 21, 22, 23, 24, 25, 26, 27, 28, 29, 30], \"x\": [-0.26792202783346897, -0.24647635542639992, -0.19758480421012145, -0.08380187044904214, -0.05698766735105356, -0.07451942685914639, -0.05393903221769189, -0.02295133553631135, 0.01916133756967796, 0.003673335233205166, 0.02769646223247729, 0.02973336560981408, -0.032429927787892256, 0.028653621974627255, 0.03163288526761414, 0.04678803052926731, 0.03134615444170041, 0.028454656768762656, 0.0606393199471746, 0.05466037608204665, 0.04303163580737381, 0.05556932734118032, 0.03856751281857931, 0.07502969300433837, 0.05707106590525646, 0.06436577025892389, 0.060385289849600496, 0.08634395872550638, 0.10210761973115565, 0.09170102857284484], \"y\": [0.36877449605084633, -0.3021311822486685, -0.08806727112509867, -0.007704932599121472, -0.007077280788950871, -0.01181279816141246, -0.010859528586714625, -0.005392626354526639, 0.0018212339132404251, -0.0027223055133963957, 0.001882827920991047, 0.0006410820537405855, -0.002954740760768902, 0.003412883588213912, 0.0030706798866730195, 0.0005023763335312084, 0.006320047693010225, 0.000902581616058925, 0.0040688339229712454, 0.003963544454896764, 0.0038702069358344244, 0.0019442565513951258, 0.004355300651619215, 0.0062972101614191455, 0.0015464136446824016, 0.000404541649652282, 0.005377687733480307, 0.006456954766773273, 0.00805145452326726, 0.005058052086361139]}, \"tinfo\": {\"Category\": [\"Default\", \"Default\", \"Default\", \"Default\", \"Default\", \"Default\", \"Default\", \"Default\", \"Default\", \"Default\", \"Default\", \"Default\", \"Default\", \"Default\", \"Default\", \"Default\", \"Default\", \"Default\", \"Default\", \"Default\", \"Default\", \"Default\", \"Default\", \"Default\", \"Default\", \"Default\", \"Default\", \"Default\", \"Default\", \"Default\", \"Topic1\", \"Topic1\", \"Topic1\", \"Topic1\", \"Topic1\", \"Topic1\", \"Topic1\", \"Topic1\", \"Topic1\", \"Topic1\", \"Topic1\", \"Topic1\", \"Topic1\", \"Topic1\", \"Topic1\", \"Topic1\", \"Topic1\", \"Topic1\", \"Topic1\", \"Topic1\", \"Topic1\", \"Topic1\", \"Topic1\", \"Topic1\", \"Topic1\", \"Topic1\", \"Topic1\", \"Topic1\", \"Topic1\", \"Topic1\", \"Topic2\", \"Topic2\", \"Topic2\", \"Topic2\", \"Topic2\", \"Topic2\", \"Topic2\", \"Topic2\", \"Topic2\", \"Topic2\", \"Topic2\", \"Topic2\", \"Topic2\", \"Topic2\", \"Topic2\", \"Topic2\", \"Topic2\", \"Topic2\", \"Topic2\", \"Topic2\", \"Topic2\", \"Topic2\", \"Topic2\", \"Topic2\", \"Topic2\", \"Topic2\", \"Topic2\", \"Topic2\", \"Topic2\", \"Topic2\", \"Topic3\", \"Topic3\", \"Topic3\", \"Topic3\", \"Topic3\", \"Topic3\", \"Topic3\", \"Topic3\", \"Topic3\", \"Topic3\", \"Topic3\", \"Topic3\", \"Topic3\", \"Topic3\", \"Topic3\", \"Topic3\", \"Topic3\", \"Topic3\", \"Topic3\", \"Topic3\", \"Topic3\", \"Topic3\", \"Topic3\", \"Topic3\", \"Topic3\", \"Topic3\", \"Topic3\", \"Topic3\", \"Topic3\", \"Topic3\", \"Topic4\", \"Topic4\", \"Topic4\", \"Topic4\", \"Topic4\", \"Topic4\", \"Topic4\", \"Topic4\", \"Topic4\", \"Topic4\", \"Topic4\", \"Topic4\", \"Topic4\", \"Topic4\", \"Topic4\", \"Topic4\", \"Topic4\", \"Topic4\", \"Topic4\", \"Topic4\", \"Topic4\", \"Topic4\", \"Topic4\", \"Topic4\", \"Topic4\", \"Topic4\", \"Topic4\", \"Topic4\", \"Topic4\", \"Topic4\", \"Topic5\", \"Topic5\", \"Topic5\", \"Topic5\", \"Topic5\", \"Topic5\", \"Topic5\", \"Topic5\", \"Topic5\", \"Topic5\", \"Topic5\", \"Topic5\", \"Topic5\", \"Topic5\", \"Topic5\", \"Topic5\", \"Topic5\", \"Topic5\", \"Topic5\", \"Topic5\", \"Topic5\", \"Topic5\", \"Topic5\", \"Topic5\", \"Topic5\", \"Topic5\", \"Topic5\", \"Topic5\", \"Topic5\", \"Topic5\", \"Topic6\", \"Topic6\", \"Topic6\", \"Topic6\", \"Topic6\", \"Topic6\", \"Topic6\", \"Topic6\", \"Topic6\", \"Topic6\", \"Topic6\", \"Topic6\", \"Topic6\", \"Topic6\", \"Topic6\", \"Topic6\", \"Topic6\", \"Topic6\", \"Topic6\", \"Topic6\", \"Topic6\", \"Topic6\", \"Topic6\", \"Topic6\", \"Topic6\", \"Topic6\", \"Topic6\", \"Topic6\", \"Topic6\", \"Topic6\", \"Topic7\", \"Topic7\", \"Topic7\", \"Topic7\", \"Topic7\", \"Topic7\", \"Topic7\", \"Topic7\", \"Topic7\", \"Topic7\", \"Topic7\", \"Topic7\", \"Topic7\", \"Topic7\", \"Topic7\", \"Topic7\", \"Topic7\", \"Topic7\", \"Topic7\", \"Topic7\", \"Topic7\", \"Topic7\", \"Topic7\", \"Topic7\", \"Topic7\", \"Topic7\", \"Topic7\", \"Topic7\", \"Topic7\", \"Topic7\", \"Topic8\", \"Topic8\", \"Topic8\", \"Topic8\", \"Topic8\", \"Topic8\", \"Topic8\", \"Topic8\", \"Topic8\", \"Topic8\", \"Topic8\", \"Topic8\", \"Topic8\", \"Topic8\", \"Topic8\", \"Topic8\", \"Topic8\", \"Topic8\", \"Topic8\", \"Topic8\", \"Topic8\", \"Topic8\", \"Topic8\", \"Topic8\", \"Topic8\", \"Topic8\", \"Topic8\", \"Topic8\", \"Topic8\", \"Topic8\", \"Topic9\", \"Topic9\", \"Topic9\", \"Topic9\", \"Topic9\", \"Topic9\", \"Topic9\", \"Topic9\", \"Topic9\", \"Topic9\", \"Topic9\", \"Topic9\", \"Topic9\", \"Topic9\", \"Topic9\", \"Topic9\", \"Topic9\", \"Topic9\", \"Topic9\", \"Topic9\", \"Topic9\", \"Topic9\", \"Topic9\", \"Topic9\", \"Topic9\", \"Topic9\", \"Topic9\", \"Topic9\", \"Topic9\", \"Topic9\", \"Topic10\", \"Topic10\", \"Topic10\", \"Topic10\", \"Topic10\", \"Topic10\", \"Topic10\", \"Topic10\", \"Topic10\", \"Topic10\", \"Topic10\", \"Topic10\", \"Topic10\", \"Topic10\", \"Topic10\", \"Topic10\", \"Topic10\", \"Topic10\", \"Topic10\", \"Topic10\", \"Topic10\", \"Topic10\", \"Topic10\", \"Topic10\", \"Topic10\", \"Topic10\", \"Topic10\", \"Topic10\", \"Topic10\", \"Topic10\", \"Topic11\", \"Topic11\", \"Topic11\", \"Topic11\", \"Topic11\", \"Topic11\", \"Topic11\", \"Topic11\", \"Topic11\", \"Topic11\", \"Topic11\", \"Topic11\", \"Topic11\", \"Topic11\", \"Topic11\", \"Topic11\", \"Topic11\", \"Topic11\", \"Topic11\", \"Topic11\", \"Topic11\", \"Topic11\", \"Topic11\", \"Topic11\", \"Topic11\", \"Topic11\", \"Topic11\", \"Topic11\", \"Topic11\", \"Topic11\", \"Topic12\", \"Topic12\", \"Topic12\", \"Topic12\", \"Topic12\", \"Topic12\", \"Topic12\", \"Topic12\", \"Topic12\", \"Topic12\", \"Topic12\", \"Topic12\", \"Topic12\", \"Topic12\", \"Topic12\", \"Topic12\", \"Topic12\", \"Topic12\", \"Topic12\", \"Topic12\", \"Topic12\", \"Topic12\", \"Topic12\", \"Topic12\", \"Topic12\", \"Topic12\", \"Topic12\", \"Topic12\", \"Topic12\", \"Topic12\", \"Topic13\", \"Topic13\", \"Topic13\", \"Topic13\", \"Topic13\", \"Topic13\", \"Topic13\", \"Topic13\", \"Topic13\", \"Topic13\", \"Topic13\", \"Topic13\", \"Topic13\", \"Topic13\", \"Topic13\", \"Topic13\", \"Topic13\", \"Topic13\", \"Topic13\", \"Topic13\", \"Topic13\", \"Topic13\", \"Topic13\", \"Topic13\", \"Topic13\", \"Topic13\", \"Topic13\", \"Topic13\", \"Topic13\", \"Topic13\", \"Topic14\", \"Topic14\", \"Topic14\", \"Topic14\", \"Topic14\", \"Topic14\", \"Topic14\", \"Topic14\", \"Topic14\", \"Topic14\", \"Topic14\", \"Topic14\", \"Topic14\", \"Topic14\", \"Topic14\", \"Topic14\", \"Topic14\", \"Topic14\", \"Topic14\", \"Topic14\", \"Topic14\", \"Topic14\", \"Topic14\", \"Topic14\", \"Topic14\", \"Topic14\", \"Topic14\", \"Topic14\", \"Topic14\", \"Topic14\", \"Topic15\", \"Topic15\", \"Topic15\", \"Topic15\", \"Topic15\", \"Topic15\", \"Topic15\", \"Topic15\", \"Topic15\", \"Topic15\", \"Topic15\", \"Topic15\", \"Topic15\", \"Topic15\", \"Topic15\", \"Topic15\", \"Topic15\", \"Topic15\", \"Topic15\", \"Topic15\", \"Topic15\", \"Topic15\", \"Topic15\", \"Topic15\", \"Topic15\", \"Topic15\", \"Topic15\", \"Topic15\", \"Topic15\", \"Topic15\", \"Topic16\", \"Topic16\", \"Topic16\", \"Topic16\", \"Topic16\", \"Topic16\", \"Topic16\", \"Topic16\", \"Topic16\", \"Topic16\", \"Topic16\", \"Topic16\", \"Topic16\", \"Topic16\", \"Topic16\", \"Topic16\", \"Topic16\", \"Topic16\", \"Topic16\", \"Topic16\", \"Topic16\", \"Topic16\", \"Topic16\", \"Topic16\", \"Topic16\", \"Topic16\", \"Topic16\", \"Topic16\", \"Topic16\", \"Topic16\", \"Topic17\", \"Topic17\", \"Topic17\", \"Topic17\", \"Topic17\", \"Topic17\", \"Topic17\", \"Topic17\", \"Topic17\", \"Topic17\", \"Topic17\", \"Topic17\", \"Topic17\", \"Topic17\", \"Topic17\", \"Topic17\", \"Topic17\", \"Topic17\", \"Topic17\", \"Topic17\", \"Topic17\", \"Topic17\", \"Topic17\", \"Topic17\", \"Topic17\", \"Topic17\", \"Topic17\", \"Topic17\", \"Topic17\", \"Topic17\", \"Topic18\", \"Topic18\", \"Topic18\", \"Topic18\", \"Topic18\", \"Topic18\", \"Topic18\", \"Topic18\", \"Topic18\", \"Topic18\", \"Topic18\", \"Topic18\", \"Topic18\", \"Topic18\", \"Topic18\", \"Topic18\", \"Topic18\", \"Topic18\", \"Topic18\", \"Topic18\", \"Topic18\", \"Topic18\", \"Topic18\", \"Topic18\", \"Topic18\", \"Topic18\", \"Topic18\", \"Topic18\", \"Topic18\", \"Topic18\", \"Topic19\", \"Topic19\", \"Topic19\", \"Topic19\", \"Topic19\", \"Topic19\", \"Topic19\", \"Topic19\", \"Topic19\", \"Topic19\", \"Topic19\", \"Topic19\", \"Topic19\", \"Topic19\", \"Topic19\", \"Topic19\", \"Topic19\", \"Topic19\", \"Topic19\", \"Topic19\", \"Topic19\", \"Topic19\", \"Topic19\", \"Topic19\", \"Topic19\", \"Topic19\", \"Topic19\", \"Topic19\", \"Topic19\", \"Topic19\", \"Topic20\", \"Topic20\", \"Topic20\", \"Topic20\", \"Topic20\", \"Topic20\", \"Topic20\", \"Topic20\", \"Topic20\", \"Topic20\", \"Topic20\", \"Topic20\", \"Topic20\", \"Topic20\", \"Topic20\", \"Topic20\", \"Topic20\", \"Topic20\", \"Topic20\", \"Topic20\", \"Topic20\", \"Topic20\", \"Topic20\", \"Topic20\", \"Topic20\", \"Topic20\", \"Topic20\", \"Topic20\", \"Topic20\", \"Topic20\", \"Topic21\", \"Topic21\", \"Topic21\", \"Topic21\", \"Topic21\", \"Topic21\", \"Topic21\", \"Topic21\", \"Topic21\", \"Topic21\", \"Topic21\", \"Topic21\", \"Topic21\", \"Topic21\", \"Topic21\", \"Topic21\", \"Topic21\", \"Topic21\", \"Topic21\", \"Topic21\", \"Topic21\", \"Topic21\", \"Topic21\", \"Topic21\", \"Topic21\", \"Topic21\", \"Topic21\", \"Topic21\", \"Topic21\", \"Topic21\", \"Topic22\", \"Topic22\", \"Topic22\", \"Topic22\", \"Topic22\", \"Topic22\", \"Topic22\", \"Topic22\", \"Topic22\", \"Topic22\", \"Topic22\", \"Topic22\", \"Topic22\", \"Topic22\", \"Topic22\", \"Topic22\", \"Topic22\", \"Topic22\", \"Topic22\", \"Topic22\", \"Topic22\", \"Topic22\", \"Topic22\", \"Topic22\", \"Topic22\", \"Topic22\", \"Topic22\", \"Topic22\", \"Topic22\", \"Topic22\", \"Topic23\", \"Topic23\", \"Topic23\", \"Topic23\", \"Topic23\", \"Topic23\", \"Topic23\", \"Topic23\", \"Topic23\", \"Topic23\", \"Topic23\", \"Topic23\", \"Topic23\", \"Topic23\", \"Topic23\", \"Topic23\", \"Topic23\", \"Topic23\", \"Topic23\", \"Topic23\", \"Topic23\", \"Topic23\", \"Topic23\", \"Topic23\", \"Topic23\", \"Topic23\", \"Topic23\", \"Topic23\", \"Topic23\", \"Topic23\", \"Topic24\", \"Topic24\", \"Topic24\", \"Topic24\", \"Topic24\", \"Topic24\", \"Topic24\", \"Topic24\", \"Topic24\", \"Topic24\", \"Topic24\", \"Topic24\", \"Topic24\", \"Topic24\", \"Topic24\", \"Topic24\", \"Topic24\", \"Topic24\", \"Topic24\", \"Topic24\", \"Topic24\", \"Topic24\", \"Topic24\", \"Topic24\", \"Topic24\", \"Topic24\", \"Topic24\", \"Topic24\", \"Topic24\", \"Topic24\", \"Topic25\", \"Topic25\", \"Topic25\", \"Topic25\", \"Topic25\", \"Topic25\", \"Topic25\", \"Topic25\", \"Topic25\", \"Topic25\", \"Topic25\", \"Topic25\", \"Topic25\", \"Topic25\", \"Topic25\", \"Topic25\", \"Topic25\", \"Topic25\", \"Topic25\", \"Topic25\", \"Topic25\", \"Topic25\", \"Topic25\", \"Topic25\", \"Topic25\", \"Topic25\", \"Topic25\", \"Topic25\", \"Topic25\", \"Topic25\", \"Topic26\", \"Topic26\", \"Topic26\", \"Topic26\", \"Topic26\", \"Topic26\", \"Topic26\", \"Topic26\", \"Topic26\", \"Topic26\", \"Topic26\", \"Topic26\", \"Topic26\", \"Topic26\", \"Topic26\", \"Topic26\", \"Topic26\", \"Topic26\", \"Topic26\", \"Topic26\", \"Topic26\", \"Topic26\", \"Topic26\", \"Topic26\", \"Topic26\", \"Topic26\", \"Topic26\", \"Topic26\", \"Topic26\", \"Topic26\", \"Topic27\", \"Topic27\", \"Topic27\", \"Topic27\", \"Topic27\", \"Topic27\", \"Topic27\", \"Topic27\", \"Topic27\", \"Topic27\", \"Topic27\", \"Topic27\", \"Topic27\", \"Topic27\", \"Topic27\", \"Topic27\", \"Topic27\", \"Topic27\", \"Topic27\", \"Topic27\", \"Topic27\", \"Topic27\", \"Topic27\", \"Topic27\", \"Topic27\", \"Topic27\", \"Topic27\", \"Topic27\", \"Topic27\", \"Topic27\", \"Topic28\", \"Topic28\", \"Topic28\", \"Topic28\", \"Topic28\", \"Topic28\", \"Topic28\", \"Topic28\", \"Topic28\", \"Topic28\", \"Topic28\", \"Topic28\", \"Topic28\", \"Topic28\", \"Topic28\", \"Topic28\", \"Topic28\", \"Topic28\", \"Topic28\", \"Topic28\", \"Topic28\", \"Topic28\", \"Topic28\", \"Topic28\", \"Topic28\", \"Topic28\", \"Topic28\", \"Topic28\", \"Topic28\", \"Topic28\", \"Topic29\", \"Topic29\", \"Topic29\", \"Topic29\", \"Topic29\", \"Topic29\", \"Topic29\", \"Topic29\", \"Topic29\", \"Topic29\", \"Topic29\", \"Topic29\", \"Topic29\", \"Topic29\", \"Topic29\", \"Topic29\", \"Topic29\", \"Topic29\", \"Topic29\", \"Topic29\", \"Topic29\", \"Topic29\", \"Topic29\", \"Topic29\", \"Topic29\", \"Topic29\", \"Topic29\", \"Topic29\", \"Topic29\", \"Topic29\", \"Topic30\", \"Topic30\", \"Topic30\", \"Topic30\", \"Topic30\", \"Topic30\", \"Topic30\", \"Topic30\", \"Topic30\", \"Topic30\", \"Topic30\", \"Topic30\", \"Topic30\", \"Topic30\", \"Topic30\", \"Topic30\", \"Topic30\", \"Topic30\", \"Topic30\", \"Topic30\", \"Topic30\", \"Topic30\", \"Topic30\", \"Topic30\", \"Topic30\", \"Topic30\", \"Topic30\", \"Topic30\", \"Topic30\", \"Topic30\"], \"Freq\": [447279.0, 123637.0, 112585.0, 95926.0, 64141.0, 53299.0, 61871.0, 49705.0, 44110.0, 84462.0, 76659.0, 43109.0, 69711.0, 71991.0, 47286.0, 45926.0, 42345.0, 44841.0, 69377.0, 38040.0, 66083.0, 34374.0, 60660.0, 51593.0, 59488.0, 59046.0, 58656.0, 57134.0, 35894.0, 52747.0, 123636.33524103225, 112584.10586473264, 84461.73649322023, 71990.28094509603, 69376.3523088962, 66082.75987011199, 60659.80638233638, 59487.44118769405, 59045.93672578313, 58655.828702440085, 57133.68304236653, 50074.23487577472, 40866.464686811225, 40777.813887352495, 38474.03643814498, 37412.36388676344, 32503.835188714584, 31331.21101679521, 29772.340460486095, 25936.08319867573, 25910.935545899298, 25363.91990461875, 25009.76560073072, 24442.359815170614, 24343.388291633986, 23949.207610815585, 22775.188798300554, 20004.03985308056, 19702.033981038938, 18637.70643298011, 95925.26496076195, 76658.19542873619, 69710.68149544694, 52746.85072183243, 52020.831999419264, 48708.93990709513, 39848.65182527981, 37871.11643839754, 35654.637169229565, 35441.110631003074, 34453.97604100798, 33403.78975924277, 30214.77306513681, 30018.105713974615, 28222.23397468001, 26571.536445018482, 26273.879019159223, 25006.43612140298, 22523.368350764737, 21975.271036766062, 21641.219726877247, 21541.391935377425, 20660.124144944348, 20583.081621205056, 20274.873304677883, 20226.861800708208, 20056.136471520866, 19832.45168239115, 19558.02602172395, 18148.845380947692, 51592.18445380108, 31657.39068866376, 30291.53967617558, 26165.474210571654, 22652.327199603635, 21758.36382707304, 19440.933474460413, 15979.71802651036, 14726.614890836381, 14443.440581357234, 14178.283344761872, 13912.565595554795, 11992.21183486262, 11937.607057850315, 10994.494518033112, 10333.634849468599, 10332.528428171776, 10167.82603931208, 9954.199105465506, 9553.984755599568, 9531.52530732665, 9386.061853210274, 8979.91552744119, 8930.451332594892, 8878.953019399627, 8713.939080105629, 8691.688259355682, 8629.342705816072, 8578.655258260089, 8424.916245732524, 47285.75532474838, 26262.533506435593, 25540.038868276195, 24816.900661372285, 23822.435990525224, 22271.440613103547, 21097.306380001464, 19784.12289583372, 16604.797954406535, 15185.130327331852, 13487.516482911067, 13299.152121527455, 13280.462143626015, 12855.803439978627, 12103.961537383086, 11959.54656501541, 11844.786075085372, 11534.771330401936, 10509.307436252924, 10393.160492669578, 10325.367941041743, 10321.409198733654, 10095.249739980482, 9304.23224533193, 9214.561004821593, 8120.322653233925, 8094.338234120207, 7187.541265696134, 6574.2361427585865, 6499.093532866477, 447279.00154434686, 15824.890410470436, 14910.996533900669, 8757.870918054154, 8668.42104338977, 8357.293092409955, 8342.33832456487, 5534.135141450261, 5287.307917621424, 4983.637026326203, 4856.929274829721, 4378.051515979887, 4127.321715858402, 4096.095943805995, 4044.048151281044, 3747.820770178455, 3179.5412051000153, 3143.91700987046, 3021.1466762173904, 2861.196859221444, 2604.9275751352525, 2572.697688946211, 2380.9464077928537, 2262.4470675710786, 2118.6403411261736, 2097.568945480097, 2059.1567809754274, 1762.2382144791873, 1727.019536187704, 1626.9549249971576, 45925.91935978329, 44840.60281335761, 26182.102515220755, 17148.618503299353, 17137.301028649184, 16185.648761298737, 15909.911454112109, 15328.20956077852, 14572.019949306365, 14146.912479856515, 12998.873681146128, 12765.203586565634, 10023.694494226442, 9796.102462807956, 9489.542545134052, 9138.236422982769, 8994.534879065826, 7971.323638664044, 6852.3863000616875, 6830.761685178449, 6496.775758052734, 5828.83416442871, 5212.38874788527, 4673.323152222213, 4615.5562320663375, 4600.770827758963, 4209.328306299248, 4206.399509860941, 4062.0640366780153, 3938.7652576172804, 64140.18497927018, 61870.63703790439, 35893.88500957373, 31747.08687300348, 30658.641674862254, 15888.841038309205, 15664.240466616713, 14090.632892849158, 12458.881837607572, 11289.62044575044, 11173.077957629688, 8718.171934895183, 8400.461502233107, 7592.828780716059, 7378.262113375668, 7175.6815142659125, 6578.023273099553, 6295.512341239864, 6141.831509655726, 5798.2585386624105, 5749.146237166146, 5726.311853784208, 5686.503211715259, 5331.892400975733, 4875.717600212006, 4688.25446371807, 4600.946598494175, 4454.388985231088, 4380.706303504326, 4310.607332048997, 42344.75074844604, 26436.436421073515, 20267.5291921063, 17012.541370938026, 15209.675507240641, 14118.256778862886, 12126.641042804398, 12039.859045387533, 11966.573553729328, 11107.25292751557, 10365.455421593966, 10196.557125546089, 10127.524223927072, 9863.56134309686, 9500.527208651962, 8839.625143512405, 8297.133653454895, 7690.926700363371, 7443.18246892719, 7307.428616639605, 6166.574865584576, 6130.263578773386, 6086.252430934666, 6058.012803023002, 5768.99900779508, 5428.688284468156, 5400.038463871568, 5390.842663170825, 5091.837468397116, 5044.051478634468, 43108.671642149086, 23671.761874958585, 21116.855484032574, 20791.081624610815, 16624.816316197383, 14621.120169284788, 13542.518756418722, 9457.87896948616, 7468.691001747924, 5502.876937374457, 5388.328209056718, 5339.318565490256, 5314.936415195114, 5254.048443755485, 4852.08215271755, 4804.082489954084, 4737.753192754798, 4610.699775078773, 4440.422213311641, 4405.779438300747, 4059.696295375668, 3923.6627179161005, 3912.5793706406557, 3769.773286714995, 3428.8148210617655, 3299.1211488488116, 3164.532104018421, 3150.8295254116033, 3127.11708341716, 3116.544361629238, 20827.738689145506, 19922.16812935732, 19514.516202749408, 16060.888210158957, 13882.172051748628, 10569.955099702976, 10340.788160977661, 10327.685889020853, 9363.373122472563, 8766.269058124215, 8406.93871847813, 8232.275191167564, 7202.216473394424, 6553.775982082254, 6224.954004322753, 5514.069266321328, 4756.970864449411, 4498.400948506977, 4401.619229638214, 4279.381364550157, 4207.213897617638, 4201.655950402227, 3656.5767878983365, 3626.223120367648, 3624.952841714424, 3387.4423949063303, 3352.344837958909, 3214.8840282878846, 3004.4144948780327, 2953.074668038257, 22238.213731568692, 17221.025655658643, 12393.330195490726, 10929.496678809557, 8636.261733063031, 7564.224685813374, 7217.4805463960965, 7212.988681082769, 7101.175217698856, 6505.538013088098, 6022.3947355023, 6008.277329477213, 5447.975514614776, 5297.072434861758, 5143.079889121902, 4524.096742005108, 4523.7025562627505, 4466.882634311684, 4342.5119995826, 4313.022960170377, 4310.975932270327, 4271.352413659784, 4024.342501394812, 3841.903354329521, 3787.3901638574844, 3685.545291494309, 3479.914413505539, 3320.0072697448763, 3213.274735761185, 3057.781948881364, 23907.04537317342, 19473.8599635526, 17944.48237421259, 14988.684053508745, 10709.117666511553, 10365.011280568178, 9642.275423052552, 9212.137022939654, 8966.341931546991, 8004.28732183707, 7106.897381874936, 6700.303031092184, 6436.656471329152, 6270.548283245594, 6257.295826352069, 6071.339251825822, 6070.570743363505, 5979.874705513019, 5930.396806386362, 5733.468419139619, 5181.078582272601, 5173.177994232058, 5009.256543804461, 4871.364454930052, 4153.8343894630825, 4126.9546522275705, 4118.4649412509025, 3775.870289708336, 3723.756587145387, 3460.847233672317, 30315.72767090241, 26458.77025263969, 17466.9905100989, 15453.308969796522, 11974.100392628567, 11679.811765369577, 10418.000466212192, 7155.556043661193, 6912.149014177109, 6788.354044364552, 6639.8513063109685, 6223.582215432268, 6029.2367778362195, 6001.970080532582, 5823.4704399274115, 5474.777660870727, 5292.608938680541, 4947.653201713606, 4933.51230987037, 4915.604913290824, 4359.8262625947045, 4055.682183643543, 3712.453743435636, 3658.882795282676, 3620.15630697282, 3519.459266393214, 3316.7861135379844, 3155.3437739502633, 3124.115725607729, 3081.31357119032, 38039.14088934729, 26838.209715409863, 21736.199995655137, 15469.976282304477, 14657.942125926067, 11823.277761007601, 10270.181903025254, 9363.28343895796, 8042.437644046332, 7445.163364445673, 7348.01719933604, 6596.429461235579, 6090.014837151509, 5614.248705093459, 5540.8317288449225, 5478.468687153772, 5282.376790830698, 4916.7623470232065, 4577.822147565386, 3933.2327714296794, 3850.3174306475958, 3833.710114905662, 3759.2343020858043, 3738.3555347196493, 3404.3294619191106, 2802.638929282288, 2799.7286489359517, 2774.1590379296194, 2615.18324000459, 2541.761513053562, 26114.699488989834, 17487.91369826569, 9480.537188235192, 8959.67186437839, 7847.637861453257, 7846.43014255374, 7017.126950886935, 6708.645873098419, 6662.955641815803, 5806.403877613776, 5733.871967760293, 5338.180550416474, 5253.208127665136, 5115.622514906642, 5002.735365784629, 4986.411716150819, 4756.945125242619, 4702.338514893266, 4563.19806307451, 4378.224066877729, 4030.4885240233702, 3875.5317797352122, 3737.408202744196, 3422.7923882558966, 3384.7812903218482, 3229.5073127747532, 3157.731217462144, 3068.314288337301, 2968.328558550646, 2827.0917026075654, 20644.965856680108, 17226.79287477068, 16290.962991690303, 15054.12964189554, 10118.491385991621, 9326.591372119941, 8295.902179874425, 8245.071200954131, 7762.237688207284, 7587.593558011103, 6800.411576626463, 6632.1641616074285, 6611.899082193006, 5998.549364007942, 5640.606683854811, 5246.666082078505, 5045.507831913657, 4995.311510442487, 4189.313721523998, 3990.397721621772, 3756.2874247884415, 3579.4130643570847, 2901.963630669304, 2878.8953091399103, 2855.072645030972, 2791.0546657148852, 2737.3275470389344, 2734.555213565966, 2668.9421766078594, 2627.3278113034294, 53298.95802637168, 22890.2145844884, 21982.37321828804, 17739.42690136295, 14643.479675765788, 10706.607237992679, 7963.370140909267, 7950.289533934935, 6753.788167555911, 4914.3227623543335, 4226.693979419033, 4224.23601663244, 4086.2193521573613, 3927.33499442569, 3833.571587814128, 3757.1782413406877, 3723.7906852663705, 3589.608168870656, 3450.6726781951293, 3411.510963580219, 3382.0712106890473, 3290.096160288789, 3229.828829835576, 2900.122905128713, 2681.104213955332, 2344.1137502323254, 2286.7259676871104, 2216.1509409241053, 2203.360633732925, 2181.9530787333724, 20487.082488561347, 15339.01484214764, 14668.869008497877, 13954.066069811488, 13083.247089520282, 8122.301594655937, 8103.247905560439, 7644.878383944996, 6747.668336547318, 6181.7742457177455, 6018.661874518937, 5997.289367553044, 5617.926010889198, 5572.564433366325, 5025.681933035483, 4975.18907977423, 4223.149592741289, 4138.072402729899, 3750.831515898153, 3618.8435879037725, 3570.876310943817, 3527.286269533348, 2944.4603946873344, 2794.589220439063, 2765.5931329051327, 2302.774909977141, 2150.918141832091, 2138.2340722791105, 2107.130678373066, 2068.7612024667037, 22855.159029966202, 17455.865442600963, 16932.08165622863, 11649.052824443572, 11233.602225318305, 10221.11799078586, 9822.906899799795, 9154.311998890116, 8731.694970844836, 8321.789433788028, 8299.509930976204, 8223.445147860837, 8216.951513941991, 7167.753779639869, 6973.958037832533, 6837.975551629857, 4428.863123662168, 3993.6322886832036, 3992.004011705584, 3840.3817115471606, 3631.4483963101598, 3537.3092361885965, 3252.1518908401536, 2901.7328021850317, 2490.838960052978, 2454.9157274275312, 2374.3711409955567, 2363.8619385928414, 2362.8560441057994, 2346.732835422321, 19965.909952499533, 18653.197383797487, 14380.420563112615, 13603.926197480623, 9876.177655818883, 8772.410909332228, 8572.271412505439, 8008.482809975581, 7352.939773021674, 7001.712536861642, 6581.355521382264, 6201.669627075801, 6173.0265661759895, 5563.849882551127, 5550.430362857593, 5317.100245704384, 4823.193723218259, 3755.206111640236, 3437.937736430034, 3384.409992781957, 3210.5160085139823, 3050.9163631034653, 3001.200130603671, 2693.4044310705613, 2664.7010485921014, 2354.38450091086, 2291.9177556558575, 1981.2672514627716, 1980.7418598891543, 1851.484281085875, 34373.56335904145, 22742.898970144328, 16690.93066919759, 13411.906262355225, 13391.130577465148, 9857.34197183218, 7135.982559187713, 6333.534311589951, 6266.320809941852, 5802.072137502588, 5698.75035804202, 5402.248218272912, 5271.394912634603, 5215.005609096107, 4275.052547150399, 4237.476555453533, 4109.607161546749, 3765.109581001805, 3666.1409249290814, 3656.3173989869506, 3592.108982446504, 3179.20666770083, 3053.4555319884835, 3006.4610702406435, 2955.8407445459, 2760.083983281182, 2606.4275652733454, 2546.4179212773706, 2505.389595259699, 2111.7625708739415, 17528.395730979864, 14319.781188731125, 12884.987740568566, 11239.398384519442, 9921.651416070825, 5689.812185151468, 5651.446265092427, 5603.30908959122, 5392.966077492927, 5040.968095444577, 4602.012105336179, 4460.066152723172, 4338.116182986065, 4016.5486492459863, 3865.567540897581, 3816.7092469752233, 3611.7445164135015, 3541.244026807233, 3085.4925750137318, 2898.126245425866, 2885.1060677162945, 2875.1746277586826, 2868.732963044937, 2842.025364212536, 2779.458329645509, 2726.3418933881117, 2688.5026231388447, 2628.1245848818066, 2560.120784143972, 2480.3264235237607, 49704.11395736865, 44109.4286038047, 8706.32360056149, 7869.03730382308, 6238.730618479684, 5692.099924341731, 4813.676943266886, 4083.3244192579346, 3957.688662839181, 3901.381260825393, 3225.108716067038, 3050.81352960501, 2969.4852323682703, 2716.3490804055755, 2526.327825009912, 2492.722196590039, 2156.9516116702107, 2071.4750869897625, 2060.8761308927424, 1967.5425894835473, 1955.3257215222566, 1932.4908412933871, 1926.5119319607493, 1766.0128398652537, 1584.9648916105339, 1535.01050164614, 1505.7375013580133, 1445.9294951405539, 1399.4721273928844, 1360.0960612806955, 26051.603268877094, 15302.255603646046, 10590.960400686377, 7636.215548353898, 7544.835510001283, 6868.2097347259305, 6582.97040127469, 6527.068020741489, 6465.346484996053, 6386.484298659313, 5098.148882455713, 5009.8137574435295, 4494.088946193853, 4120.757022871757, 3701.5133661142277, 3619.069706675441, 3369.994276066466, 3209.0879661386034, 3127.5429809937864, 2768.5349805369674, 2689.351758705732, 2604.9998935494436, 2604.9996121861705, 2601.470191289629, 2489.669369309049, 2400.7957149923395, 2339.0402749725067, 2279.3065707508326, 2122.1523807500926, 2089.2572157319314, 28067.66170686741, 14596.008623536727, 10985.913399733556, 10628.537651058541, 6584.239048438133, 5327.39238676125, 5030.50658140724, 4348.6831109092145, 4279.699642640747, 4134.823527324666, 3595.378728410003, 3402.231444401342, 3378.2005781616476, 3148.847701377326, 3116.607268018902, 3064.3881158948225, 3007.988827499753, 2837.5110743450314, 2772.404669308885, 2696.6635587806077, 2483.858082062725, 2472.295596308712, 2442.701372882059, 2403.8997129717013, 2400.084150849603, 2306.2581124993035, 2220.4755605669284, 1954.9515814944366, 1875.523728737096, 1827.565467720178, 14124.213299899235, 12971.58927809503, 12200.737991803715, 10088.07993888582, 9643.435457191725, 9629.363730493924, 9528.419379234629, 8926.183151552274, 7339.722661600052, 6124.102682610049, 5581.508714989555, 5352.450925400261, 5327.4696081570755, 5033.495835275473, 4510.688404661748, 4452.339043145443, 4320.69552806499, 3742.536913561313, 3284.465222271014, 3212.495158015799, 3165.879044017541, 2997.258740943942, 2956.7521522247953, 2888.3124407444893, 2869.6065394776556, 2540.4661469764674, 2526.9994658832497, 2403.7473702484585, 2210.611265174431, 2176.9246886806523, 26163.30154392303, 21738.56716513614, 12733.516561019625, 11273.244269526953, 8433.475359917202, 5267.683723745625, 4663.011665120907, 4144.116095354291, 3498.9811282698597, 3484.723963309757, 3294.7056595151344, 2864.703351482145, 2857.2383698034437, 2729.6691666499496, 2726.5648194470164, 2577.337410094939, 2566.5218975750463, 2546.4474468957715, 2215.6897624713006, 2130.9424040589356, 1954.014158039256, 1787.536808709305, 1784.676962501466, 1746.0691034126842, 1739.964732882967, 1667.265487824948, 1609.7702180918354, 1540.9587847805856, 1462.1497329610897, 1448.8165979660364, 24369.762368477786, 8335.705728353743, 7616.832546997831, 7492.237887459104, 6426.594743614153, 5659.71625243897, 5026.147696085009, 4944.017502402593, 4709.029693048057, 4557.813902558247, 4508.514144797272, 4388.078404914993, 4376.602314881833, 3855.3501242601915, 3803.5049559763524, 3660.522056653263, 3415.108884930747, 3278.6192095308525, 3037.0835667305823, 2693.8753586561356, 2408.784576479925, 2246.415043833061, 2022.009852045675, 1843.6993952542307, 1823.4584768533055, 1801.9129976361326, 1798.538204989683, 1723.0922421484222, 1710.153577634256, 1646.2185942433339, 17488.10887322402, 15042.441441953668, 13279.604128702867, 6278.506619176398, 5701.122857509611, 5693.571170655928, 5465.663780442001, 4929.265388973898, 4623.377385632297, 4448.403300622031, 4401.998274277681, 3772.403246272476, 3625.551265666472, 3430.8304361116575, 2743.1119029768224, 2568.0316113286344, 2541.427991653634, 2497.809278788683, 2441.0911930046964, 2245.9259998649977, 2056.1095891654254, 1807.747548714661, 1707.449512370953, 1677.9291591279125, 1629.5016341659266, 1621.573339821219, 1561.4415731672946, 1548.789577524434, 1400.877505026615, 1340.9618927825497, 11800.812110791194, 10357.746083663615, 10096.848894486178, 9886.384716454293, 9554.873603714175, 7589.9525185552, 7438.831424169965, 5033.990064191659, 4388.154127092659, 4182.730052192378, 3923.0386665868964, 2965.9194739146496, 2688.499782817382, 2394.6978090527855, 2341.972295128387, 2271.125902804978, 2250.640567010705, 2249.7426717973144, 2231.4559492824055, 2212.9416779805415, 2024.1590043662482, 1968.069048377428, 1679.914794505277, 1538.612942774426, 1517.532495152648, 1514.8225120993561, 1458.971482336839, 1377.0041042985372, 1262.2412060905951, 1202.235975973796], \"Term\": [\"br\", \"people\", \"would\", \"make\", \"year\", \"want\", \"work\", \"woman\", \"man\", \"get\", \"good\", \"use\", \"time\", \"go\", \"american\", \"country\", \"state\", \"world\", \"think\", \"life\", \"say\", \"black\", \"see\", \"need\", \"take\", \"know\", \"many\", \"right\", \"pay\", \"may\", \"people\", \"would\", \"get\", \"go\", \"think\", \"say\", \"see\", \"take\", \"know\", \"many\", \"right\", \"way\", \"could\", \"thing\", \"well\", \"live\", \"never\", \"really\", \"child\", \"mean\", \"believe\", \"fact\", \"let\", \"back\", \"still\", \"change\", \"keep\", \"stop\", \"family\", \"old\", \"make\", \"good\", \"time\", \"may\", \"even\", \"much\", \"come\", \"also\", \"give\", \"look\", \"article\", \"problem\", \"find\", \"bad\", \"issue\", \"first\", \"long\", \"read\", \"high\", \"comment\", \"put\", \"place\", \"part\", \"always\", \"system\", \"less\", \"start\", \"big\", \"must\", \"end\", \"need\", \"seem\", \"great\", \"obama\", \"public\", \"nothing\", \"force\", \"agree\", \"run\", \"often\", \"business\", \"amp\", \"simply\", \"action\", \"program\", \"self\", \"walker\", \"build\", \"personal\", \"lack\", \"blame\", \"market\", \"require\", \"head\", \"especially\", \"whole\", \"poverty\", \"sound\", \"politician\", \"decide\", \"american\", \"help\", \"president\", \"white\", \"support\", \"america\", \"gun\", \"understand\", \"anyone\", \"deal\", \"policy\", \"lie\", \"turn\", \"interest\", \"grow\", \"claim\", \"side\", \"term\", \"medium\", \"member\", \"hold\", \"pass\", \"stand\", \"break\", \"bill\", \"truth\", \"effort\", \"chance\", \"elect\", \"destroy\", \"br\", \"write\", \"question\", \"line\", \"wonder\", \"book\", \"answer\", \"isis\", \"short\", \"response\", \"willing\", \"color\", \"pill\", \"dead\", \"thought\", \"night\", \"conflict\", \"potential\", \"tend\", \"entirely\", \"achieve\", \"english\", \"ready\", \"alive\", \"series\", \"presence\", \"ocean\", \"narrative\", \"understanding\", \"british\", \"country\", \"world\", \"government\", \"power\", \"case\", \"nation\", \"crime\", \"control\", \"political\", \"create\", \"economic\", \"europe\", \"rule\", \"order\", \"individual\", \"china\", \"fear\", \"iraq\", \"court\", \"freedom\", \"concern\", \"west\", \"apply\", \"influence\", \"democracy\", \"statement\", \"western\", \"modern\", \"south\", \"manage\", \"year\", \"work\", \"pay\", \"job\", \"money\", \"cost\", \"sure\", \"benefit\", \"ago\", \"buy\", \"spend\", \"service\", \"new_york\", \"threaten\", \"month\", \"full\", \"employee\", \"check\", \"return\", \"save\", \"degree\", \"boy\", \"car\", \"worth\", \"absolutely\", \"movie\", \"visit\", \"germany\", \"bank\", \"fit\", \"state\", \"poor\", \"school\", \"free\", \"tax\", \"low\", \"college\", \"group\", \"example\", \"education\", \"rest\", \"carry\", \"student\", \"mention\", \"name\", \"add\", \"national\", \"accept\", \"income\", \"bush\", \"private\", \"receive\", \"wisconsin\", \"fund\", \"quality\", \"federal\", \"moral\", \"teacher\", \"debt\", \"otherwise\", \"use\", \"call\", \"new\", \"choice\", \"maybe\", \"allow\", \"however\", \"sex\", \"date\", \"apparently\", \"together\", \"sit\", \"dangerous\", \"describe\", \"correct\", \"marriage\", \"fine\", \"perfect\", \"natural\", \"test\", \"treatment\", \"success\", \"wonderful\", \"drop\", \"development\", \"owner\", \"photo\", \"strike\", \"particular\", \"eventually\", \"republican\", \"vote\", \"enough\", \"base\", \"party\", \"democrat\", \"liberal\", \"fail\", \"die\", \"culture\", \"win\", \"profit\", \"democratic\", \"election\", \"sometimes\", \"record\", \"sander\", \"voter\", \"minority\", \"favor\", \"former\", \"message\", \"reaction\", \"progressive\", \"direct\", \"depend\", \"extreme\", \"primary\", \"central\", \"cultural\", \"show\", \"lead\", \"kill\", \"water\", \"prison\", \"climate\", \"address\", \"earth\", \"serve\", \"wait\", \"produce\", \"involve\", \"god\", \"dollar\", \"explain\", \"catch\", \"responsible\", \"pick\", \"poland\", \"scientific\", \"light\", \"purpose\", \"organization\", \"character\", \"open_carry\", \"evil\", \"deep\", \"innocent\", \"remove\", \"tv\", \"point\", \"leave\", \"course\", \"lose\", \"death\", \"rich\", \"patient\", \"post\", \"non\", \"present\", \"doubt\", \"nyt\", \"relationship\", \"global\", \"half\", \"author\", \"attempt\", \"completely\", \"information\", \"practice\", \"assume\", \"reader\", \"column\", \"safe\", \"measure\", \"approach\", \"debate\", \"middle_east\", \"middle\", \"analysis\", \"russia\", \"war\", \"russian\", \"putin\", \"ukraine\", \"nato\", \"city\", \"conservative\", \"expect\", \"send\", \"weapon\", \"bear\", \"united_state\", \"evidence\", \"european\", \"wish\", \"troop\", \"step\", \"second\", \"push\", \"several\", \"crimea\", \"listen\", \"cold\", \"promise\", \"baltic\", \"throw\", \"violence\", \"wing\", \"agenda\", \"life\", \"day\", \"someone\", \"home\", \"wrong\", \"experience\", \"follow\", \"area\", \"responsibility\", \"officer\", \"stay\", \"forget\", \"miss\", \"happy\", \"prove\", \"research\", \"activity\", \"wealth\", \"seriously\", \"represent\", \"gender\", \"town\", \"interested\", \"travel\", \"prefer\", \"welcome\", \"basis\", \"mile\", \"daily\", \"hunt\", \"law\", \"human\", \"justice\", \"attack\", \"land\", \"arrest\", \"form\", \"church\", \"ignore\", \"religion\", \"remain\", \"recognize\", \"common\", \"body\", \"occur\", \"subject\", \"longer\", \"refuse\", \"finally\", \"challenge\", \"discussion\", \"writer\", \"constitution\", \"magna_carta\", \"harm\", \"king\", \"knowledge\", \"specific\", \"property\", \"grant\", \"little\", \"idea\", \"today\", \"history\", \"community\", \"economy\", \"sell\", \"begin\", \"appear\", \"piece\", \"exist\", \"cover\", \"defend\", \"past\", \"failure\", \"paper\", \"usually\", \"ally\", \"source\", \"growth\", \"hide\", \"special\", \"key\", \"advocate\", \"frame\", \"trend\", \"german\", \"usual\", \"racism\", \"racist\", \"want\", \"tell\", \"feel\", \"reason\", \"military\", \"hear\", \"position\", \"exactly\", \"garner\", \"desire\", \"none\", \"invade\", \"suspect\", \"bernie\", \"accord\", \"false\", \"fun\", \"bernie_sander\", \"honest\", \"feeling\", \"identity\", \"pre\", \"sexual\", \"various\", \"music\", \"instance\", \"bar\", \"strongly\", \"fantasy\", \"sunday\", \"care\", \"health\", \"population\", \"result\", \"increase\", \"medical\", \"rate\", \"decade\", \"rise\", \"industry\", \"average\", \"develop\", \"doctor\", \"insurance\", \"arm\", \"sign\", \"loss\", \"goal\", \"therapist\", \"nearly\", \"mental\", \"afraid\", \"argue\", \"progress\", \"healthcare\", \"muslim\", \"fossil_fuel\", \"spending\", \"aca\", \"hospital\", \"happen\", \"different\", \"story\", \"able\", \"watch\", \"remember\", \"set\", \"opinion\", \"quite\", \"yet\", \"whatev\", \"wage\", \"early\", \"top\", \"current\", \"price\", \"improve\", \"afford\", \"moment\", \"fix\", \"circumstance\", \"project\", \"professor\", \"wwii\", \"fool\", \"era\", \"sea\", \"performance\", \"fuel\", \"contract\", \"lot\", \"real\", \"science\", \"building\", \"protect\", \"open\", \"certainly\", \"risk\", \"scientist\", \"like\", \"imagine\", \"respect\", \"financial\", \"environment\", \"planet\", \"offer\", \"nyc\", \"excellent\", \"somehow\", \"art\", \"crisis\", \"fill\", \"easily\", \"space\", \"protection\", \"fast\", \"touch\", \"sister\", \"immediately\", \"discrimination\", \"black\", \"become\", \"move\", \"citizen\", \"continue\", \"leader\", \"border\", \"room\", \"legal\", \"refugee\", \"attention\", \"racial\", \"list\", \"million\", \"deny\", \"housing\", \"eastern_europe\", \"affect\", \"california\", \"cheap\", \"complete\", \"possibly\", \"complain\", \"educate\", \"pretend\", \"resident\", \"farmer\", \"feature\", \"naacp\", \"terrible\", \"worker\", \"perhaps\", \"hope\", \"trade\", \"threat\", \"campaign\", \"truly\", \"note\", \"illegal\", \"event\", \"agreement\", \"wealthy\", \"actual\", \"door\", \"refer\", \"equal\", \"movement\", \"define\", \"environmental\", \"forward\", \"foreign\", \"regardless\", \"intend\", \"privilege\", \"department\", \"conclusion\", \"representative\", \"amazing\", \"lawyer\", \"acknowledge\", \"woman\", \"man\", \"game\", \"decision\", \"abortion\", \"shoot\", \"sport\", \"wife\", \"libido\", \"hate\", \"cigarette\", \"foot\", \"brother\", \"birth_control\", \"version\", \"cry\", \"profile\", \"ball\", \"size\", \"intelligent\", \"fan\", \"dress\", \"joke\", \"somewhat\", \"fifa\", \"basketball\", \"feminist\", \"strength\", \"lady\", \"imply\", \"try\", \"drug\", \"criminal\", \"african\", \"effect\", \"folk\", \"food\", \"indeed\", \"politic\", \"clearly\", \"couple\", \"abuse\", \"fair\", \"oil\", \"remind\", \"bias\", \"outcome\", \"attitude\", \"road\", \"page\", \"homeless\", \"html_target\", \"html_title\", \"danger\", \"ridiculous\", \"stress\", \"bet\", \"prepare\", \"glad\", \"plant\", \"union\", \"ask\", \"fight\", \"house\", \"focus\", \"speech\", \"anti\", \"figure\", \"oppose\", \"air\", \"violent\", \"clean\", \"senator\", \"encourage\", \"army\", \"hillary\", \"fellow\", \"respond\", \"soviet\", \"divide\", \"presidency\", \"hopefully\", \"eliminate\", \"paint\", \"criticize\", \"institution\", \"ultimately\", \"logic\", \"commitment\", \"indicate\", \"kid\", \"act\", \"pope\", \"climate_change\", \"company\", \"situation\", \"congress\", \"cause\", \"suggest\", \"usa\", \"regard\", \"product\", \"alone\", \"university\", \"solve\", \"partner\", \"review\", \"discuss\", \"section\", \"training\", \"film\", \"heavy\", \"definitely\", \"hire\", \"damage\", \"technology\", \"management\", \"ukrainian\", \"ad\", \"firearm\", \"police\", \"person\", \"thank\", \"guy\", \"cop\", \"murder\", \"religious\", \"prevent\", \"wear\", \"video\", \"excuse\", \"steal\", \"eric_garner\", \"coup\", \"region\", \"surely\", \"agency\", \"organic\", \"attend\", \"chokehold\", \"glass\", \"emotional\", \"expose\", \"busy\", \"production\", \"stock\", \"quiet\", \"spot\", \"participate\", \"law_enforcement\", \"something\", \"possible\", \"mr\", \"interesting\", \"defense\", \"ability\", \"thousand\", \"ground\", \"texas\", \"train\", \"notice\", \"similar\", \"obviously\", \"beautiful\", \"disagree\", \"tucson\", \"account\", \"engage\", \"expert\", \"odd\", \"quickly\", \"highly\", \"criticism\", \"mine\", \"deeply\", \"beauty\", \"pentagon\", \"abandon\", \"southern\", \"invite\", \"com\", \"not\", \"can\", \"solution\", \"huge\", \"security\", \"http\", \"avoid\", \"pope_francis\", \"energy\", \"impact\", \"mexico\", \"faith\", \"exercise\", \"stick\", \"surprise\", \"shift\", \"extremely\", \"healthy\", \"comfortable\", \"noise\", \"height\", \"therapy\", \"cancer\", \"weight\", \"whole_food\", \"suggestion\", \"client\", \"inequality\", \"storage\", \"http_www\", \"news\", \"target\", \"href_http\", \"title\", \"datum\", \"future\", \"street\", \"org\", \"www\", \"worry\", \"particularly\", \"reveal\", \"blog\", \"gov\", \"funny\", \"target_https\", \"href_https\", \"express\", \"title_https\", \"cool\", \"ban\", \"editor\", \"en_wikipedia\", \"www_youtube\", \"email\", \"org_wiki\", \"hitler\", \"contact\", \"bomb\"], \"Total\": [447279.0, 123637.0, 112585.0, 95926.0, 64141.0, 53299.0, 61871.0, 49705.0, 44110.0, 84462.0, 76659.0, 43109.0, 69711.0, 71991.0, 47286.0, 45926.0, 42345.0, 44841.0, 69377.0, 38040.0, 66083.0, 34374.0, 60660.0, 51593.0, 59488.0, 59046.0, 58656.0, 57134.0, 35894.0, 52747.0, 123637.25556665864, 112585.02619035903, 84462.65681884662, 71991.20127072242, 69377.27263452258, 66083.68019573837, 60660.726707962756, 59488.36151332043, 59046.85705140951, 58656.749028066464, 57134.60336799291, 50075.155201401096, 40867.385012437604, 40778.734212978874, 38474.95676377136, 37413.28421238982, 32504.75551434096, 31332.131342421584, 29773.26078611247, 25937.003524302105, 25911.855871525673, 25364.840230245125, 25010.685926357095, 24443.28014079699, 24344.30861726036, 23950.12793644196, 22776.10912392693, 20004.960178706937, 19702.954306665313, 18638.626758606486, 95926.18544561364, 76659.11591358787, 69711.60198029863, 52747.77120668409, 52021.752484270924, 48709.86039194679, 39849.57231013147, 37872.0369232492, 35655.557654081225, 35442.031115854734, 34454.89652585964, 33404.71024409443, 30215.69354998847, 30019.026198826276, 28223.15445953167, 26572.456929870143, 26274.799504010884, 25007.35660625464, 22524.288835616397, 21976.191521617722, 21642.140211728907, 21542.312420229086, 20661.044629796008, 20584.002106056716, 20275.793789529544, 20227.782285559868, 20057.056956372526, 19833.37216724281, 19558.94650657561, 18149.765865799352, 51593.10398757999, 31658.310222442677, 30292.459209954497, 26166.39374435057, 22653.24673338255, 21759.283360851958, 19441.85300823933, 15980.637560289273, 14727.534424615294, 14444.360115136147, 14179.202878540786, 13913.485129333709, 11993.131368641534, 11938.526591629228, 10995.414051812026, 10334.554383247512, 10333.44796195069, 10168.745573090993, 9955.11863924442, 9554.90428937848, 9532.444841105564, 9386.981386989188, 8980.835061220103, 8931.370866373805, 8879.87255317854, 8714.858613884542, 8692.607793134595, 8630.262239594986, 8579.574792039002, 8425.835779511437, 47286.67569117679, 26263.453872864, 25540.959234704602, 24817.82102780069, 23823.35635695363, 22272.360979531953, 21098.22674642987, 19785.043262262127, 16605.71832083494, 15186.050693760257, 13488.436849339472, 13300.07248795586, 13281.38251005442, 12856.723806407032, 12104.88190381149, 11960.466931443814, 11845.706441513777, 11535.691696830341, 10510.22780268133, 10394.080859097983, 10326.288307470148, 10322.32956516206, 10096.170106408887, 9305.152611760335, 9215.481371249998, 8121.24301966233, 8095.258600548612, 7188.461632124539, 6575.156509186992, 6500.013899294882, 447279.92320724623, 15825.812073369847, 14911.91819680008, 8758.792580953565, 8669.34270628918, 8358.214755309366, 8343.25998746428, 5535.056804349671, 5288.229580520835, 4984.558689225614, 4857.850937729132, 4378.973178879298, 4128.243378757813, 4097.017606705406, 4044.9698141804565, 3748.7424330778676, 3180.462867999428, 3144.8386727698726, 3022.068339116803, 2862.1185221208566, 2605.849238034665, 2573.619351845624, 2381.8680706922664, 2263.3687304704913, 2119.5620040255862, 2098.49060837951, 2060.07844387484, 1763.1598773786004, 1727.9411990871172, 1627.8765878965708, 45926.8409974351, 44841.52445100942, 26183.02415287256, 17149.540140951158, 17138.22266630099, 16186.570398950544, 15910.833091763916, 15329.131198430327, 14572.941586958172, 14147.834117508322, 12999.795318797935, 12766.125224217441, 10024.616131878249, 9797.024100459763, 9490.46418278586, 9139.158060634576, 8995.456516717633, 7972.245276315851, 6853.3079377134945, 6831.683322830256, 6497.697395704541, 5829.755802080517, 5213.310385537077, 4674.24478987402, 4616.477869718145, 4601.69246541077, 4210.249943951055, 4207.321147512748, 4062.9856743298237, 3939.686895269089, 64141.10360510282, 61871.555663737025, 35894.803635406366, 31748.005498836115, 30659.560300694888, 15889.759664141837, 15665.159092449345, 14091.55151868179, 12459.800463440204, 11290.53907158307, 11173.99658346232, 8719.090560727815, 8401.380128065739, 7593.747406548691, 7379.180739208301, 7176.600140098545, 6578.941898932186, 6296.430967072497, 6142.750135488359, 5799.177164495043, 5750.064862998779, 5727.230479616841, 5687.421837547891, 5332.811026808366, 4876.6362260446385, 4689.173089550703, 4601.865224326808, 4455.30761106372, 4381.624929336958, 4311.525957881629, 42345.66929742091, 26437.354970048385, 20268.44774108117, 17013.459919912897, 15210.594056215512, 14119.175327837756, 12127.559591779269, 12040.777594362404, 11967.492102704198, 11108.17147649044, 10366.373970568837, 10197.47567452096, 10128.442772901943, 9864.479892071731, 9501.445757626832, 8840.543692487276, 8298.052202429766, 7691.845249338241, 7444.1010179020595, 7308.347165614475, 6167.493414559446, 6131.182127748256, 6087.170979909536, 6058.931351997871, 5769.917556769949, 5429.606833443026, 5400.9570128464375, 5391.761212145695, 5092.756017371986, 5044.970027609338, 43109.59201704621, 23672.682249855712, 21117.7758589297, 20792.001999507942, 16625.73669109451, 14622.040544181915, 13543.439131315848, 9458.799344383287, 7469.61137664505, 5503.797312271583, 5389.248583953844, 5340.238940387382, 5315.85679009224, 5254.968818652611, 4853.002527614676, 4805.00286485121, 4738.673567651924, 4611.620149975899, 4441.342588208767, 4406.699813197873, 4060.616670272796, 3924.5830928132286, 3913.499745537784, 3770.693661612123, 3429.7351959588937, 3300.0415237459397, 3165.452478915549, 3151.7499003087314, 3128.037458314288, 3117.4647365263663, 20828.657489823847, 19923.08693003566, 19515.43500342775, 16061.807010837296, 13883.090852426967, 10570.873900381315, 10341.706961656, 10328.604689699192, 9364.291923150902, 8767.187858802554, 8407.857519156469, 8233.193991845903, 7203.135274072763, 6554.694782760594, 6225.872805001092, 5514.988066999667, 4757.889665127751, 4499.319749185317, 4402.538030316554, 4280.300165228497, 4208.132698295978, 4202.574751080567, 3657.4955885766776, 3627.141921045989, 3625.871642392765, 3388.3611955846713, 3353.26363863725, 3215.8028289662257, 3005.3332955563737, 2953.9934687165983, 22239.134224054156, 17221.946148144107, 12394.25068797619, 10930.417171295021, 8637.182225548495, 7565.145178298838, 7218.40103888156, 7213.909173568233, 7102.09571018432, 6506.4585055735615, 6023.315227987764, 6009.197821962677, 5448.89600710024, 5297.992927347222, 5144.000381607366, 4525.017234490572, 4524.623048748214, 4467.803126797148, 4343.432492068064, 4313.943452655841, 4311.896424755791, 4272.272906145248, 4025.2629938802775, 3842.823846814986, 3788.3106563429496, 3686.465783979774, 3480.8349059910042, 3320.9277622303416, 3214.1952282466505, 3058.702441366829, 23907.96487361952, 19474.7794639987, 17945.401874658688, 14989.60355395484, 10710.037166957647, 10365.930781014273, 9643.194923498646, 9213.056523385749, 8967.261431993085, 8005.206822283164, 7107.816882321031, 6701.222531538278, 6437.575971775246, 6271.467783691688, 6258.215326798163, 6072.258752271917, 6071.4902438096, 5980.794205959113, 5931.316306832457, 5734.3879195857135, 5181.9980827186955, 5174.0974946781525, 5010.176044250556, 4872.283955376146, 4154.753889909177, 4127.874152673665, 4119.384441696997, 3776.7897901544325, 3724.676087591484, 3461.7667341184138, 30316.655292278618, 26459.697874015896, 17467.918131475108, 15454.236591172725, 11975.028014004769, 11680.73938674578, 10418.928087588394, 7156.4836650373945, 6913.076635553311, 6789.281665740753, 6640.77892768717, 6224.509836808469, 6030.164399212421, 6002.897701908783, 5824.398061303613, 5475.705282246929, 5293.536560056742, 4948.580823089807, 4934.439931246571, 4916.532534667025, 4360.753883970906, 4056.609805019746, 3713.3813648118394, 3659.810416658879, 3621.083928349023, 3520.386887769417, 3317.7137349141876, 3156.2713953264665, 3125.043346983932, 3082.2411925665233, 38040.06074355079, 26839.12956961337, 21737.119849858645, 15470.896136507983, 14658.861980129574, 11824.197615211107, 10271.10175722876, 9364.203293161467, 8043.357498249837, 7446.083218649178, 7348.937053539545, 6597.3493154390835, 6090.9346913550135, 5615.168559296963, 5541.751583048427, 5479.388541357277, 5283.296645034203, 4917.682201226711, 4578.742001768891, 3934.1526256331854, 3851.237284851102, 3834.629969109168, 3760.1541562893103, 3739.2753889231553, 3405.2493161226166, 2803.558783485794, 2800.6485031394577, 2775.0788921331255, 2616.103094208096, 2542.681367257068, 26115.620343603852, 17488.834552879707, 9481.45804284921, 8960.592718992408, 7848.558716067272, 7847.350997167755, 7018.047805500951, 6709.566727712434, 6663.876496429818, 5807.324732227791, 5734.792822374308, 5339.101405030489, 5254.128982279151, 5116.5433695206575, 5003.656220398644, 4987.332570764835, 4757.865979856634, 4703.259369507281, 4564.1189176885255, 4379.144921491744, 4031.409378637388, 3876.45263434923, 3738.3290573582135, 3423.716371313377, 3385.702144935866, 3230.428167388771, 3158.6520720761614, 3069.2351429513187, 2969.2494131646636, 2828.012557221583, 20645.884451286845, 17227.711469377417, 16291.881586297039, 15055.048236502276, 10119.409980598357, 9327.509966726677, 8296.82077448116, 8245.989795560867, 7763.156282814019, 7588.512152617837, 6801.330171233198, 6633.082756214163, 6612.81767679974, 5999.467958614677, 5641.525278461546, 5247.584676685239, 5046.426426520392, 4996.2301050492215, 4190.232316130732, 3991.3163162285077, 3757.2060193951775, 3580.3316589638207, 2902.88222527604, 2879.8139037466462, 2855.991239637708, 2791.973260321621, 2738.2461416456704, 2735.473808172702, 2669.8607712145954, 2628.2464059101653, 53299.87980035991, 22891.136358476637, 21983.29499227628, 17740.348675351186, 14644.401449754021, 10707.529011980912, 7964.2919148975, 7951.211307923168, 6754.7099415441435, 4915.244536342566, 4227.615753407265, 4225.157790620672, 4087.1411261455955, 3928.2567684139244, 3834.4933618023624, 3758.100015328922, 3724.7124592546047, 3590.52994285889, 3451.5944521833635, 3412.4327375684534, 3382.9929846772816, 3291.0179342770234, 3230.7506038238103, 2901.044679116947, 2682.025987943566, 2345.0355242205596, 2287.6477416753446, 2217.0727149123395, 2204.2824077211594, 2182.8748527216067, 20488.00221119643, 15339.934564782721, 14669.788731132958, 13954.985792446569, 13084.166812155363, 8123.221317291017, 8104.167628195519, 7645.798106580076, 6748.588059182398, 6182.693968352825, 6019.581597154017, 5998.209090188124, 5618.845733524277, 5573.484156001405, 5026.601655670563, 4976.10880240931, 4224.069315376369, 4138.992125364979, 3751.7512385332348, 3619.763310538854, 3571.7960335788985, 3528.2059921684295, 2945.380117322416, 2795.5089430741446, 2766.5128555402143, 2303.6946326122224, 2151.8378644671725, 2139.153794914192, 2108.0504010081477, 2069.6809251017853, 22856.077321343895, 17456.783733978657, 16932.999947606324, 11649.971115821263, 11234.520516695997, 10222.036282163552, 9823.825191177486, 9155.230290267808, 8732.613262222527, 8322.70772516572, 8300.428222353896, 8224.363439238528, 8217.869805319682, 7168.672071017559, 6974.876329210222, 6838.893843007547, 4429.781415039857, 3994.550580060895, 3992.9223030832754, 3841.300002924852, 3632.366687687851, 3538.227527566288, 3253.070182217845, 2902.651093562723, 2491.7572514306694, 2455.8340188052225, 2375.289432373248, 2364.7802299705327, 2363.7743354834906, 2347.651126800012, 19966.831632691767, 18654.11906398972, 14381.342243304847, 13604.847877672855, 9877.099336011115, 8773.33258952446, 8573.193092697671, 8009.4044901678135, 7353.861453213906, 7002.634217053874, 6582.277201574496, 6202.591307268033, 6173.948246368222, 5564.771562743359, 5551.352043049825, 5318.021925896616, 4824.115403410491, 3756.127791832469, 3438.859416622267, 3385.33167297419, 3211.4376887062153, 3051.8380432956983, 3002.121810795904, 2694.3261112627943, 2665.6227287843344, 2355.306181103093, 2292.8394358480905, 1982.1889316550044, 1981.663540081387, 1852.4059612781077, 34374.48325786672, 22743.818868969607, 16691.85056802287, 13412.8261611805, 13392.050476290422, 9858.261870657454, 7136.902458012989, 6334.454210415227, 6267.240708767127, 5802.992036327863, 5699.670256867295, 5403.168117098187, 5272.314811459879, 5215.925507921383, 4275.972445975674, 4238.396454278809, 4110.527060372025, 3766.029479827082, 3667.0608237543584, 3657.2372978122276, 3593.028881271781, 3180.126566526107, 3054.3754308137604, 3007.3809690659205, 2956.760643371177, 2761.003882106459, 2607.3474640986224, 2547.3378201026476, 2506.309494084976, 2112.6824696992185, 17529.315027263874, 14320.700485015126, 12885.907036852566, 11240.317680803442, 9922.570712354825, 5690.7314814354695, 5652.365561376429, 5604.228385875222, 5393.885373776929, 5041.887391728578, 4602.931401620181, 4460.985449007174, 4339.035479270066, 4017.4679455299893, 3866.4868371815837, 3817.6285432592263, 3612.6638126975045, 3542.1633230912357, 3086.4118712977347, 2899.0455417098688, 2886.0253640002975, 2876.0939240426856, 2869.65225932894, 2842.9446604965387, 2780.377625929512, 2727.2611896721146, 2689.4219194228476, 2629.0438811658096, 2561.0400804279748, 2481.2457198077636, 49705.03550467994, 44110.350151115985, 8707.24514787278, 7869.95885113437, 6239.652165790974, 5693.021471653021, 4814.598490578176, 4084.2459665692254, 3958.6102101504716, 3902.302808136684, 3226.030263378329, 3051.735076916301, 2970.406779679561, 2717.2706277168663, 2527.249372321203, 2493.64374390133, 2157.8731589815015, 2072.3966343010534, 2061.797678204033, 1968.4641367948375, 1956.2472688335467, 1933.4123886046773, 1927.4334792720394, 1766.9343871765439, 1585.886438921824, 1535.9320489574302, 1506.6590486693035, 1446.851042451844, 1400.3936747041746, 1361.0176085919857, 26052.52291638961, 15303.175251158558, 10591.88004819889, 7637.13519586641, 7545.755157513795, 6869.129382238442, 6583.8900487872015, 6527.987668254001, 6466.266132508565, 6387.403946171825, 5099.0685299682245, 5010.733404956041, 4495.008593706365, 4121.676670384269, 3702.433013626741, 3619.989354187954, 3370.9139235789794, 3210.0076136511166, 3128.4626285062996, 2769.4546280494806, 2690.2714062182454, 2605.919541061957, 2605.9192596986836, 2602.389838802142, 2490.5890168215624, 2401.7153625048527, 2339.95992248502, 2280.226218263346, 2123.0720282626057, 2090.1768632444446, 28068.582806930404, 14596.929723599718, 10986.834499796547, 10629.458751121532, 6585.160148501123, 5328.3134868242405, 5031.427681470231, 4349.604210972205, 4280.620742703737, 4135.744627387657, 3596.2998284729942, 3403.152544464333, 3379.121678224639, 3149.768801440317, 3117.528368081893, 3065.3092159578136, 3008.909927562744, 2838.4321744080225, 2773.325769371876, 2697.584658843599, 2484.779182125716, 2473.216696371703, 2443.62247294505, 2404.8208130346925, 2401.005250912594, 2307.1792125622947, 2221.3966606299196, 1955.8726815574273, 1876.4448288000867, 1828.4865677831688, 14125.133578483774, 12972.50955667957, 12201.658270388254, 10089.000217470359, 9644.355735776264, 9630.284009078463, 9529.339657819168, 8927.103430136813, 7340.642940184592, 6125.022961194589, 5582.428993574095, 5353.3712039848015, 5328.389886741616, 5034.416113860013, 4511.608683246288, 4453.259321729983, 4321.61580664953, 3743.457192145853, 3285.385500855554, 3213.4154366003386, 3166.799322602081, 2998.1790195284816, 2957.672430809335, 2889.232719329029, 2870.526818062195, 2541.386425561007, 2527.9197444677893, 2404.667648832998, 2211.5315437589707, 2177.844967265192, 26164.22387378211, 21739.48949499522, 12734.438890878704, 11274.166599386032, 8434.39768977628, 5268.606053604703, 4663.933994979986, 4145.03842521337, 3499.9034581289384, 3485.6462931688357, 3295.627989374213, 2865.6256813412238, 2858.1606996625223, 2730.5914965090283, 2727.487149306095, 2578.2597399540177, 2567.444227434125, 2547.36977675485, 2216.6120923303793, 2131.864734801872, 1954.9364878983345, 1788.4591385683834, 1785.5992923605445, 1746.9914332717626, 1740.8870627420454, 1668.1878176840264, 1610.6925479509139, 1541.881114639664, 1463.0720628201682, 1449.7389278251148, 24370.681706635867, 8336.62506651182, 7617.75188515591, 7493.157225617183, 6427.514081772232, 5660.635590597049, 5027.067034243088, 4944.936840560672, 4709.949031206136, 4558.733240716326, 4509.433482955351, 4388.997743073072, 4377.521653039912, 3856.2694624182705, 3804.4242941344314, 3661.441394811342, 3416.028223088826, 3279.5385476889314, 3038.0029048886613, 2694.7946968142146, 2409.703914638004, 2247.33438199114, 2022.929190203754, 1844.6187334123097, 1824.3778150113844, 1802.8323357942115, 1799.457543147762, 1724.0115803065012, 1711.072915792335, 1647.1379324014129, 17489.02898684734, 15043.361555576987, 13280.524242326186, 6279.426732799718, 5702.042971132931, 5694.491284279247, 5466.58389406532, 4930.185502597217, 4624.2974992556165, 4449.32341424535, 4402.918387901001, 3773.3233598957954, 3626.4713792897915, 3431.750549734977, 2744.032016600142, 2568.951724951954, 2542.3481052769534, 2498.7293924120027, 2442.011306628016, 2246.8461134883173, 2057.029702788745, 1808.6676623379803, 1708.3696259942724, 1678.8492727512319, 1630.421747789246, 1622.4934534445383, 1562.361686790614, 1549.7096911477533, 1401.7976186499343, 1341.882006405869, 11801.737054877103, 10358.671027749524, 10097.773838572088, 9887.309660540202, 9555.798547800085, 7590.87746264111, 7439.756368255875, 5034.915008277569, 4389.0790711785685, 4183.654996278287, 3923.9636106728053, 2966.8444180005586, 2689.424726903291, 2395.6227531386944, 2342.897239214296, 2272.050846890887, 2251.565511096614, 2250.6676158832233, 2232.3808933683144, 2213.8666220664504, 2025.0839484521573, 1968.9939924633372, 1680.8397385911862, 1539.5378868603352, 1518.457439238557, 1515.7474561852653, 1459.8964264227482, 1377.9290483844463, 1263.1661501765043, 1203.1609200597052], \"loglift\": [30.0, 29.0, 28.0, 27.0, 26.0, 25.0, 24.0, 23.0, 22.0, 21.0, 20.0, 19.0, 18.0, 17.0, 16.0, 15.0, 14.0, 13.0, 12.0, 11.0, 10.0, 9.0, 8.0, 7.0, 6.0, 5.0, 4.0, 3.0, 2.0, 1.0, 2.0666, 2.0666, 2.0666, 2.0666, 2.0666, 2.0666, 2.0666, 2.0666, 2.0666, 2.0666, 2.0666, 2.0666, 2.0666, 2.0666, 2.0666, 2.0666, 2.0666, 2.0666, 2.0666, 2.0665, 2.0665, 2.0665, 2.0665, 2.0665, 2.0665, 2.0665, 2.0665, 2.0665, 2.0665, 2.0665, 2.1657, 2.1657, 2.1657, 2.1657, 2.1657, 2.1657, 2.1657, 2.1657, 2.1657, 2.1657, 2.1657, 2.1657, 2.1657, 2.1657, 2.1657, 2.1657, 2.1657, 2.1657, 2.1656, 2.1656, 2.1656, 2.1656, 2.1656, 2.1656, 2.1656, 2.1656, 2.1656, 2.1656, 2.1656, 2.1656, 2.3881, 2.3881, 2.3881, 2.3881, 2.3881, 2.3881, 2.3881, 2.3881, 2.3881, 2.3881, 2.3881, 2.3881, 2.3881, 2.3881, 2.388, 2.388, 2.388, 2.388, 2.388, 2.388, 2.388, 2.388, 2.388, 2.388, 2.388, 2.388, 2.388, 2.388, 2.388, 2.388, 3.1304, 3.1303, 3.1303, 3.1303, 3.1303, 3.1303, 3.1303, 3.1303, 3.1303, 3.1303, 3.1303, 3.1303, 3.1303, 3.1303, 3.1303, 3.1303, 3.1303, 3.1303, 3.1303, 3.1303, 3.1303, 3.1303, 3.1303, 3.1303, 3.1303, 3.1303, 3.1303, 3.1302, 3.1302, 3.1302, 3.1562, 3.1562, 3.1562, 3.1561, 3.1561, 3.1561, 3.1561, 3.1561, 3.156, 3.156, 3.156, 3.156, 3.156, 3.156, 3.156, 3.156, 3.1559, 3.1559, 3.1559, 3.1559, 3.1559, 3.1559, 3.1558, 3.1558, 3.1558, 3.1558, 3.1558, 3.1557, 3.1557, 3.1557, 3.2, 3.2, 3.2, 3.2, 3.2, 3.2, 3.2, 3.2, 3.2, 3.2, 3.1999, 3.1999, 3.1999, 3.1999, 3.1999, 3.1999, 3.1999, 3.1999, 3.1999, 3.1999, 3.1999, 3.1999, 3.1998, 3.1998, 3.1998, 3.1998, 3.1998, 3.1998, 3.1998, 3.1998, 3.2197, 3.2197, 3.2197, 3.2197, 3.2197, 3.2197, 3.2197, 3.2197, 3.2197, 3.2197, 3.2196, 3.2196, 3.2196, 3.2196, 3.2196, 3.2196, 3.2196, 3.2196, 3.2196, 3.2196, 3.2196, 3.2196, 3.2196, 3.2196, 3.2195, 3.2195, 3.2195, 3.2195, 3.2195, 3.2195, 3.4396, 3.4395, 3.4395, 3.4395, 3.4395, 3.4395, 3.4395, 3.4395, 3.4395, 3.4395, 3.4395, 3.4395, 3.4395, 3.4395, 3.4395, 3.4395, 3.4395, 3.4395, 3.4394, 3.4394, 3.4394, 3.4394, 3.4394, 3.4394, 3.4394, 3.4394, 3.4394, 3.4394, 3.4394, 3.4394, 3.554, 3.5539, 3.5539, 3.5539, 3.5539, 3.5539, 3.5539, 3.5539, 3.5539, 3.5538, 3.5538, 3.5538, 3.5538, 3.5538, 3.5538, 3.5538, 3.5538, 3.5538, 3.5538, 3.5538, 3.5538, 3.5537, 3.5537, 3.5537, 3.5537, 3.5537, 3.5537, 3.5537, 3.5537, 3.5537, 3.5737, 3.5737, 3.5737, 3.5737, 3.5737, 3.5737, 3.5737, 3.5737, 3.5737, 3.5736, 3.5736, 3.5736, 3.5736, 3.5736, 3.5736, 3.5736, 3.5736, 3.5735, 3.5735, 3.5735, 3.5735, 3.5735, 3.5735, 3.5735, 3.5735, 3.5735, 3.5735, 3.5735, 3.5734, 3.5734, 3.6277, 3.6277, 3.6277, 3.6277, 3.6277, 3.6276, 3.6276, 3.6276, 3.6276, 3.6276, 3.6276, 3.6276, 3.6276, 3.6276, 3.6276, 3.6276, 3.6276, 3.6276, 3.6275, 3.6275, 3.6275, 3.6275, 3.6275, 3.6275, 3.6275, 3.6275, 3.6275, 3.6275, 3.6275, 3.6275, 3.631, 3.631, 3.631, 3.631, 3.631, 3.631, 3.631, 3.631, 3.631, 3.631, 3.6309, 3.6309, 3.6309, 3.6309, 3.6309, 3.6309, 3.6309, 3.6309, 3.6309, 3.6309, 3.6309, 3.6309, 3.6309, 3.6309, 3.6308, 3.6308, 3.6308, 3.6308, 3.6308, 3.6308, 3.6524, 3.6524, 3.6524, 3.6524, 3.6523, 3.6523, 3.6523, 3.6523, 3.6523, 3.6523, 3.6523, 3.6523, 3.6523, 3.6523, 3.6523, 3.6522, 3.6522, 3.6522, 3.6522, 3.6522, 3.6522, 3.6522, 3.6522, 3.6522, 3.6522, 3.6521, 3.6521, 3.6521, 3.6521, 3.6521, 3.6855, 3.6854, 3.6854, 3.6854, 3.6854, 3.6854, 3.6854, 3.6854, 3.6854, 3.6854, 3.6854, 3.6853, 3.6853, 3.6853, 3.6853, 3.6853, 3.6853, 3.6853, 3.6853, 3.6852, 3.6852, 3.6852, 3.6852, 3.6852, 3.6852, 3.6852, 3.6852, 3.6852, 3.6851, 3.6851, 3.7394, 3.7394, 3.7394, 3.7394, 3.7394, 3.7394, 3.7393, 3.7393, 3.7393, 3.7393, 3.7393, 3.7393, 3.7393, 3.7393, 3.7393, 3.7393, 3.7393, 3.7393, 3.7393, 3.7393, 3.7392, 3.7392, 3.7392, 3.7392, 3.7392, 3.7392, 3.7392, 3.7392, 3.7392, 3.7391, 3.7868, 3.7868, 3.7868, 3.7868, 3.7867, 3.7867, 3.7867, 3.7867, 3.7867, 3.7867, 3.7867, 3.7867, 3.7867, 3.7867, 3.7867, 3.7866, 3.7866, 3.7866, 3.7866, 3.7866, 3.7866, 3.7866, 3.7865, 3.7865, 3.7865, 3.7865, 3.7865, 3.7865, 3.7865, 3.7865, 3.79, 3.79, 3.79, 3.79, 3.79, 3.7899, 3.7899, 3.7899, 3.7899, 3.7898, 3.7898, 3.7898, 3.7898, 3.7898, 3.7898, 3.7898, 3.7898, 3.7898, 3.7897, 3.7897, 3.7897, 3.7897, 3.7897, 3.7897, 3.7897, 3.7896, 3.7896, 3.7896, 3.7896, 3.7896, 3.7983, 3.7983, 3.7983, 3.7982, 3.7982, 3.7982, 3.7982, 3.7982, 3.7982, 3.7982, 3.7982, 3.7982, 3.7982, 3.7981, 3.7981, 3.7981, 3.7981, 3.7981, 3.7981, 3.7981, 3.7981, 3.7981, 3.798, 3.798, 3.798, 3.7979, 3.7979, 3.7979, 3.7979, 3.7979, 3.8761, 3.876, 3.876, 3.876, 3.876, 3.876, 3.876, 3.876, 3.876, 3.876, 3.876, 3.876, 3.876, 3.876, 3.876, 3.876, 3.8759, 3.8759, 3.8759, 3.8759, 3.8758, 3.8758, 3.8758, 3.8758, 3.8757, 3.8757, 3.8757, 3.8757, 3.8757, 3.8757, 3.881, 3.881, 3.881, 3.881, 3.881, 3.8809, 3.8809, 3.8809, 3.8809, 3.8809, 3.8809, 3.8809, 3.8809, 3.8809, 3.8809, 3.8809, 3.8809, 3.8808, 3.8808, 3.8808, 3.8808, 3.8807, 3.8807, 3.8807, 3.8807, 3.8807, 3.8806, 3.8806, 3.8806, 3.8806, 3.8994, 3.8994, 3.8994, 3.8993, 3.8993, 3.8993, 3.8993, 3.8993, 3.8993, 3.8993, 3.8992, 3.8992, 3.8992, 3.8992, 3.8992, 3.8992, 3.8992, 3.8992, 3.8992, 3.8992, 3.8992, 3.8991, 3.8991, 3.8991, 3.8991, 3.8991, 3.8991, 3.899, 3.899, 3.899, 3.9624, 3.9624, 3.9624, 3.9624, 3.9624, 3.9623, 3.9623, 3.9623, 3.9623, 3.9623, 3.9623, 3.9623, 3.9623, 3.9623, 3.9623, 3.9622, 3.9622, 3.9622, 3.9622, 3.9622, 3.9622, 3.9622, 3.9622, 3.9622, 3.9622, 3.9622, 3.9621, 3.9621, 3.9621, 3.9621, 3.9678, 3.9678, 3.9678, 3.9677, 3.9677, 3.9677, 3.9677, 3.9676, 3.9676, 3.9676, 3.9676, 3.9676, 3.9675, 3.9675, 3.9675, 3.9675, 3.9674, 3.9674, 3.9674, 3.9674, 3.9674, 3.9674, 3.9674, 3.9673, 3.9673, 3.9673, 3.9672, 3.9672, 3.9672, 3.9672, 3.9861, 3.9861, 3.9861, 3.986, 3.986, 3.986, 3.986, 3.986, 3.986, 3.986, 3.986, 3.986, 3.986, 3.9859, 3.9859, 3.9859, 3.9859, 3.9859, 3.9859, 3.9858, 3.9858, 3.9858, 3.9858, 3.9858, 3.9858, 3.9858, 3.9858, 3.9858, 3.9857, 3.9857, 4.0016, 4.0016, 4.0016, 4.0016, 4.0015, 4.0015, 4.0015, 4.0015, 4.0015, 4.0014, 4.0014, 4.0014, 4.0014, 4.0014, 4.0014, 4.0014, 4.0014, 4.0013, 4.0013, 4.0013, 4.0013, 4.0013, 4.0013, 4.0013, 4.0013, 4.0013, 4.0013, 4.0012, 4.0012, 4.0012, 4.0052, 4.0052, 4.0052, 4.0052, 4.0052, 4.0052, 4.0052, 4.0052, 4.0052, 4.0052, 4.0051, 4.0051, 4.0051, 4.0051, 4.0051, 4.0051, 4.0051, 4.0051, 4.005, 4.005, 4.005, 4.005, 4.005, 4.005, 4.005, 4.005, 4.0049, 4.0049, 4.0049, 4.0049, 4.0694, 4.0694, 4.0694, 4.0694, 4.0694, 4.0693, 4.0693, 4.0693, 4.0692, 4.0692, 4.0692, 4.0692, 4.0692, 4.0691, 4.0691, 4.0691, 4.0691, 4.0691, 4.0691, 4.0691, 4.069, 4.069, 4.069, 4.069, 4.069, 4.0689, 4.0689, 4.0689, 4.0689, 4.0688, 4.0931, 4.093, 4.093, 4.093, 4.093, 4.093, 4.0929, 4.0929, 4.0929, 4.0929, 4.0929, 4.0929, 4.0929, 4.0929, 4.0929, 4.0929, 4.0928, 4.0928, 4.0928, 4.0928, 4.0927, 4.0927, 4.0927, 4.0926, 4.0926, 4.0926, 4.0926, 4.0926, 4.0926, 4.0926, 4.289, 4.289, 4.289, 4.2889, 4.2889, 4.2889, 4.2889, 4.2888, 4.2888, 4.2888, 4.2888, 4.2888, 4.2888, 4.2888, 4.2887, 4.2887, 4.2887, 4.2887, 4.2887, 4.2886, 4.2886, 4.2885, 4.2885, 4.2885, 4.2885, 4.2885, 4.2884, 4.2884, 4.2884, 4.2883, 4.3027, 4.3027, 4.3027, 4.3027, 4.3027, 4.3027, 4.3027, 4.3026, 4.3026, 4.3026, 4.3026, 4.3025, 4.3025, 4.3024, 4.3024, 4.3024, 4.3024, 4.3024, 4.3024, 4.3024, 4.3023, 4.3023, 4.3022, 4.3022, 4.3022, 4.3022, 4.3022, 4.3021, 4.3021, 4.302], \"logprob\": [30.0, 29.0, 28.0, 27.0, 26.0, 25.0, 24.0, 23.0, 22.0, 21.0, 20.0, 19.0, 18.0, 17.0, 16.0, 15.0, 14.0, 13.0, 12.0, 11.0, 10.0, 9.0, 8.0, 7.0, 6.0, 5.0, 4.0, 3.0, 2.0, 1.0, -2.812999963760376, -2.9066998958587646, -3.1940999031066895, -3.353800058364868, -3.3907999992370605, -3.439500093460083, -3.525099992752075, -3.544600009918213, -3.5520999431610107, -3.5587000846862793, -3.5850000381469727, -3.716900110244751, -3.920099973678589, -3.9221999645233154, -3.9804000854492188, -4.008399963378906, -4.14900016784668, -4.185800075531006, -4.236800193786621, -4.37470006942749, -4.375699996948242, -4.396999835968018, -4.411099910736084, -4.434100151062012, -4.4380998611450195, -4.454400062561035, -4.504700183868408, -4.634399890899658, -4.649600028991699, -4.7052001953125, -2.9677000045776367, -3.1919000148773193, -3.286900043487549, -3.5657999515533447, -3.5796000957489014, -3.645400047302246, -3.8461999893188477, -3.8970999717712402, -3.95740008354187, -3.963399887084961, -3.9916000366210938, -4.022600173950195, -4.122900009155273, -4.129499912261963, -4.191199779510498, -4.251399993896484, -4.262700080871582, -4.312099933624268, -4.4166998863220215, -4.441299915313721, -4.456699848175049, -4.461299896240234, -4.5030999183654785, -4.506800174713135, -4.521900177001953, -4.5243000984191895, -4.532700061798096, -4.543900012969971, -4.5578999519348145, -4.632699966430664, -3.3654000759124756, -3.853800058364868, -3.8980000019073486, -4.044400215148926, -4.188600063323975, -4.228799819946289, -4.341400146484375, -4.537499904632568, -4.619200229644775, -4.638599872589111, -4.657100200653076, -4.676000118255615, -4.8246002197265625, -4.829100131988525, -4.911399841308594, -4.973400115966797, -4.973499774932861, -4.98960018157959, -5.010799884796143, -5.0518999099731445, -5.054200172424316, -5.0696001052856445, -5.113800048828125, -5.1194000244140625, -5.125100135803223, -5.143899917602539, -5.146500110626221, -5.15369987487793, -5.1595001220703125, -5.177599906921387, -2.710400104522705, -3.2983999252319336, -3.3262999057769775, -3.35509991645813, -3.3959999084472656, -3.4632999897003174, -3.517400026321411, -3.581700086593628, -3.7569000720977783, -3.846299886703491, -3.9647998809814453, -3.9788999557495117, -3.980299949645996, -4.012800216674805, -4.072999954223633, -4.085000038146973, -4.094699859619141, -4.121200084686279, -4.214300155639648, -4.225399971008301, -4.23199987411499, -4.232399940490723, -4.254499912261963, -4.336100101470947, -4.345799922943115, -4.4721999168396, -4.475399971008301, -4.594200134277344, -4.6834001541137695, -4.694900035858154, -0.4375, -3.779099941253662, -3.838599920272827, -4.370800018310547, -4.38100004196167, -4.417600154876709, -4.419400215148926, -4.829800128936768, -4.875400066375732, -4.934599876403809, -4.960299968719482, -5.0640997886657715, -5.1230998039245605, -5.13070011138916, -5.143499851226807, -5.219600200653076, -5.383999824523926, -5.395299911499023, -5.435100078582764, -5.489500045776367, -5.5833001136779785, -5.595799922943115, -5.6732001304626465, -5.724299907684326, -5.789999961853027, -5.800000190734863, -5.818399906158447, -5.974100112915039, -5.99429988861084, -6.053999900817871, -2.6698999404907227, -2.6937999725341797, -3.2318999767303467, -3.6549999713897705, -3.6556999683380127, -3.7128000259399414, -3.7300000190734863, -3.767199993133545, -3.8178000450134277, -3.847399950027466, -3.9321000576019287, -3.950200080871582, -4.191999912261963, -4.214900016784668, -4.246699810028076, -4.2845001220703125, -4.300300121307373, -4.42110013961792, -4.572299957275391, -4.575500011444092, -4.6255998611450195, -4.734099864959717, -4.845900058746338, -4.955100059509277, -4.96750020980835, -4.970699787139893, -5.059599876403809, -5.060299873352051, -5.095200061798096, -5.126100063323975, -2.3160998821258545, -2.3522000312805176, -2.896699905395508, -3.019399881362915, -3.05430006980896, -3.7116000652313232, -3.725800037384033, -3.831700086593628, -3.9547998905181885, -4.053299903869629, -4.063700199127197, -4.311800003051758, -4.348899841308594, -4.449999809265137, -4.478700160980225, -4.506499767303467, -4.593500137329102, -4.637400150299072, -4.662099838256836, -4.719699859619141, -4.7281999588012695, -4.732100009918213, -4.739099979400635, -4.803500175476074, -4.89300012588501, -4.932199954986572, -4.951000213623047, -4.98330020904541, -5.0, -5.01609992980957, -2.5114998817443848, -2.982599973678589, -3.2483999729156494, -3.4233999252319336, -3.535399913787842, -3.6098999977111816, -3.76200008392334, -3.769200086593628, -3.7753000259399414, -3.8498001098632812, -3.9189000129699707, -3.93530011177063, -3.9421000480651855, -3.9684998989105225, -4.00600004196167, -4.078100204467773, -4.141499996185303, -4.217299938201904, -4.250100135803223, -4.268499851226807, -4.438199996948242, -4.4440999031066895, -4.451300144195557, -4.455999851226807, -4.504899978637695, -4.565700054168701, -4.571000099182129, -4.572700023651123, -4.629700183868408, -4.639200210571289, -2.379199981689453, -2.9786999225616455, -3.092900037765503, -3.1084001064300537, -3.3320999145507812, -3.4605000019073486, -3.537100076675415, -3.8961000442504883, -4.132199764251709, -4.437699794769287, -4.458700180053711, -4.467899799346924, -4.472400188446045, -4.484000205993652, -4.563600063323975, -4.573500156402588, -4.587399959564209, -4.61460018157959, -4.652200222015381, -4.660099983215332, -4.7418999671936035, -4.775899887084961, -4.778800010681152, -4.815999984741211, -4.910799980163574, -4.9492998123168945, -4.991000175476074, -4.995299816131592, -5.002900123596191, -5.006199836730957, -3.086899995803833, -3.1314001083374023, -3.1519999504089355, -3.3468000888824463, -3.4925999641418457, -3.765199899673462, -3.787100076675415, -3.7883999347686768, -3.886399984359741, -3.9523000717163086, -3.9941000938415527, -4.015100002288818, -4.148799896240234, -4.243199825286865, -4.294600009918213, -4.415900230407715, -4.563600063323975, -4.619500160217285, -4.641200065612793, -4.669400215148926, -4.686399936676025, -4.687699794769287, -4.826700210571289, -4.835000038146973, -4.835400104522705, -4.90310001373291, -4.91349983215332, -4.955399990081787, -5.023099899291992, -5.04040002822876, -2.967400074005127, -3.223099946975708, -3.552000045776367, -3.6777000427246094, -3.9131999015808105, -4.04580020904541, -4.092700004577637, -4.093299865722656, -4.10890007019043, -4.196499824523926, -4.27370023727417, -4.276100158691406, -4.374000072479248, -4.4019999504089355, -4.43149995803833, -4.559800148010254, -4.559899806976318, -4.572500228881836, -4.6006999015808105, -4.607600212097168, -4.607999801635742, -4.617300033569336, -4.676799774169922, -4.723199844360352, -4.737500190734863, -4.764800071716309, -4.822199821472168, -4.869200229644775, -4.901899814605713, -4.951499938964844, -2.891700029373169, -3.0968000888824463, -3.1786000728607178, -3.358599901199341, -3.6947999000549316, -3.727400064468384, -3.7997000217437744, -3.845400094985962, -3.8724000453948975, -3.9858999252319336, -4.104800224304199, -4.163700103759766, -4.20389986038208, -4.230000019073486, -4.232100009918213, -4.26230001449585, -4.262400150299072, -4.277500152587891, -4.285799980163574, -4.3196001052856445, -4.420899868011475, -4.422399997711182, -4.454599857330322, -4.482500076293945, -4.641900062561035, -4.6483001708984375, -4.650400161743164, -4.737299919128418, -4.751200199127197, -4.824399948120117, -2.6328999996185303, -2.7690000534057617, -3.1842000484466553, -3.3066999912261963, -3.561800003051758, -3.586699962615967, -3.7009999752044678, -4.076700210571289, -4.111299991607666, -4.129300117492676, -4.151500225067139, -4.21619987487793, -4.247900009155273, -4.252500057220459, -4.282599925994873, -4.344399929046631, -4.378200054168701, -4.4456000328063965, -4.448500156402588, -4.452099800109863, -4.5721001625061035, -4.644400119781494, -4.732800006866455, -4.747399806976318, -4.757999897003174, -4.786200046539307, -4.8454999923706055, -4.895400047302246, -4.905399799346924, -4.9191999435424805, -2.3729000091552734, -2.72160005569458, -2.932499885559082, -3.272599935531616, -3.3264999389648438, -3.5413999557495117, -3.6821999549865723, -3.7746999263763428, -3.9267001152038574, -4.003900051116943, -4.017000198364258, -4.124899864196777, -4.204800128936768, -4.286200046539307, -4.299300193786621, -4.3105998039245605, -4.347099781036377, -4.418799877166748, -4.490200042724609, -4.642000198364258, -4.663300037384033, -4.667600154876709, -4.687300205230713, -4.692800045013428, -4.786399841308594, -4.980899810791016, -4.981900215148926, -4.991099834442139, -5.050099849700928, -5.07859992980957, -2.694999933242798, -3.0959999561309814, -3.708199977874756, -3.7648000717163086, -3.8973000049591064, -3.89739990234375, -4.009099960327148, -4.054100036621094, -4.0609002113342285, -4.198500156402588, -4.211100101470947, -4.282599925994873, -4.298600196838379, -4.325200080871582, -4.347499847412109, -4.350800037384033, -4.397900104522705, -4.40939998626709, -4.439499855041504, -4.480800151824951, -4.563600063323975, -4.602799892425537, -4.639100074768066, -4.7270002365112305, -4.7382001876831055, -4.785200119018555, -4.807600021362305, -4.836400032043457, -4.869500160217285, -4.9182000160217285, -2.882699966430664, -3.063699960708618, -3.119499921798706, -3.198499917984009, -3.5957999229431152, -3.677299976348877, -3.7943999767303467, -3.80049991607666, -3.8608999252319336, -3.8835999965667725, -3.9930999279022217, -4.018199920654297, -4.021299839019775, -4.118599891662598, -4.180099964141846, -4.252500057220459, -4.291600227355957, -4.301599979400635, -4.47760009765625, -4.526199817657471, -4.586699962615967, -4.634900093078613, -4.844699859619141, -4.852700233459473, -4.861000061035156, -4.883699893951416, -4.90310001373291, -4.904200077056885, -4.928400039672852, -4.944200038909912, -1.930999994277954, -2.77620005607605, -2.816699981689453, -3.031100034713745, -3.222899913787842, -3.536099910736084, -3.8320999145507812, -3.833699941635132, -3.996799945831299, -4.314799785614014, -4.4654998779296875, -4.466100215911865, -4.499300003051758, -4.539000034332275, -4.5630998611450195, -4.5833001136779785, -4.592199802398682, -4.628900051116943, -4.668399810791016, -4.679800033569336, -4.688399791717529, -4.716000080108643, -4.734499931335449, -4.842199802398682, -4.9207000732421875, -5.054999828338623, -5.079800128936768, -5.111199855804443, -5.117000102996826, -5.126699924468994, -2.8787999153137207, -3.1682000160217285, -3.212899923324585, -3.2629001140594482, -3.3273000717163086, -3.803999900817871, -3.8064000606536865, -3.8645999431610107, -3.9893999099731445, -4.077000141143799, -4.103799819946289, -4.1072998046875, -4.172699928283691, -4.180799961090088, -4.28410005569458, -4.2941999435424805, -4.458099842071533, -4.478400230407715, -4.576700210571289, -4.612500190734863, -4.625800132751465, -4.6381001472473145, -4.818699836730957, -4.870999813079834, -4.881400108337402, -5.064499855041504, -5.132699966430664, -5.138700008392334, -5.153299808502197, -5.1717000007629395, -2.691699981689453, -2.961199998855591, -2.9916000366210938, -3.365600109100342, -3.401900053024292, -3.4964001178741455, -3.536099910736084, -3.606600046157837, -3.653899908065796, -3.7019999027252197, -3.704699993133545, -3.713900089263916, -3.7146999835968018, -3.851300001144409, -3.878700017929077, -3.898400068283081, -4.332699775695801, -4.436100006103516, -4.436600208282471, -4.475299835205078, -4.531199932098389, -4.557499885559082, -4.641499996185303, -4.755499839782715, -4.908199787139893, -4.922800064086914, -4.956099987030029, -4.960599899291992, -4.960999965667725, -4.967800140380859, -2.821899890899658, -2.889899969100952, -3.1500000953674316, -3.2054998874664307, -3.5257999897003174, -3.6442999839782715, -3.6673998832702637, -3.7353999614715576, -3.8208000659942627, -3.8696999549865723, -3.9316999912261963, -3.9911000728607178, -3.995699882507324, -4.099599838256836, -4.1020002365112305, -4.144999980926514, -4.242499828338623, -4.492800235748291, -4.580999851226807, -4.596700191497803, -4.649499893188477, -4.700500011444092, -4.716899871826172, -4.825099945068359, -4.8358001708984375, -4.95959997177124, -4.986499786376953, -5.132199764251709, -5.132400035858154, -5.199900150299072, -2.2602999210357666, -2.67330002784729, -2.9827001094818115, -3.2014000415802, -3.203000068664551, -3.5092999935150146, -3.83240008354187, -3.95169997215271, -3.962399959564209, -4.039299964904785, -4.057300090789795, -4.1107001304626465, -4.135200023651123, -4.145999908447266, -4.344699859619141, -4.353600025177002, -4.384200096130371, -4.471799850463867, -4.4984002113342285, -4.501100063323975, -4.518799781799316, -4.640900135040283, -4.681300163269043, -4.696800231933594, -4.713799953460693, -4.782299995422363, -4.839600086212158, -4.8628997802734375, -4.8790998458862305, -5.050000190734863, -2.8705999851226807, -3.0727999210357666, -3.1784000396728516, -3.315000057220459, -3.43969988822937, -3.995800018310547, -4.002600193023682, -4.011099815368652, -4.0493998527526855, -4.1168999671936035, -4.208000183105469, -4.239299774169922, -4.267000198364258, -4.343999862670898, -4.382400035858154, -4.395100116729736, -4.450300216674805, -4.46999979019165, -4.607800006866455, -4.670400142669678, -4.674900054931641, -4.678299903869629, -4.680600166320801, -4.689899921417236, -4.712200164794922, -4.731500148773193, -4.745500087738037, -4.768199920654297, -4.794400215148926, -4.826099872589111, -1.8229999542236328, -1.9423999786376953, -3.565000057220459, -3.6661999225616455, -3.8982999324798584, -3.990000009536743, -4.157599925994873, -4.322199821472168, -4.353400230407715, -4.367800235748291, -4.55810022354126, -4.613699913024902, -4.640699863433838, -4.729800224304199, -4.802299976348877, -4.815700054168701, -4.960400104522705, -5.000800132751465, -5.00600004196167, -5.052299976348877, -5.058499813079834, -5.070300102233887, -5.073400020599365, -5.160399913787842, -5.268499851226807, -5.300600051879883, -5.319799900054932, -5.360300064086914, -5.39300012588501, -5.421500205993652, -2.450700044631958, -2.982800006866455, -3.350800037384033, -3.6779000759124756, -3.6898999214172363, -3.783900022506714, -3.8262999057769775, -3.8348000049591064, -3.8443000316619873, -3.856600046157837, -4.081900119781494, -4.099400043487549, -4.208000183105469, -4.2947998046875, -4.402100086212158, -4.424600124359131, -4.4959001541137695, -4.5447998046875, -4.570499897003174, -4.692500114440918, -4.721499919891357, -4.753399848937988, -4.753399848937988, -4.754700183868408, -4.798600196838379, -4.835000038146973, -4.861100196838379, -4.886899948120117, -4.958399772644043, -4.973999977111816, -2.3606998920440674, -3.0144999027252197, -3.2987000942230225, -3.331700086593628, -3.8106000423431396, -4.02239990234375, -4.079800128936768, -4.225399971008301, -4.241399765014648, -4.2758002281188965, -4.415599822998047, -4.470900058746338, -4.47790002822876, -4.5482001304626465, -4.558499813079834, -4.575399875640869, -4.593999862670898, -4.652400016784668, -4.675600051879883, -4.7032999992370605, -4.7855000495910645, -4.79010009765625, -4.802199840545654, -4.81820011138916, -4.819799900054932, -4.8597002029418945, -4.897600173950195, -5.024899959564209, -5.066400051116943, -5.092299938201904, -3.0436999797821045, -3.1289000511169434, -3.1900999546051025, -3.3803000450134277, -3.4254000186920166, -3.426800012588501, -3.4374001026153564, -3.502700090408325, -3.6982998847961426, -3.8794000148773193, -3.9721999168395996, -4.014100074768066, -4.018799781799316, -4.075500011444092, -4.185200214385986, -4.198200225830078, -4.2281999588012695, -4.3719000816345215, -4.502399921417236, -4.524600028991699, -4.5391998291015625, -4.593900203704834, -4.607500076293945, -4.63100004196167, -4.637499809265137, -4.759300231933594, -4.764599800109863, -4.814599990844727, -4.898399829864502, -4.913700103759766, -2.363100051879883, -2.5483999252319336, -3.083199977874756, -3.2049999237060547, -3.495300054550171, -3.96589994430542, -4.087800025939941, -4.2058000564575195, -4.375, -4.3790998458862305, -4.435200214385986, -4.574999809265137, -4.577600002288818, -4.623300075531006, -4.6244001388549805, -4.680699825286865, -4.684899806976318, -4.692800045013428, -4.831900119781494, -4.8709001541137695, -4.957600116729736, -5.046599864959717, -5.0482001304626465, -5.070099830627441, -5.073599815368652, -5.116300106048584, -5.151400089263916, -5.195099830627441, -5.247600078582764, -5.256700038909912, -2.4105000495910645, -3.483299970626831, -3.573499917984009, -3.5899999141693115, -3.7434000968933105, -3.870500087738037, -3.9892001152038574, -4.00570011138916, -4.0543999671936035, -4.086999893188477, -4.097899913787842, -4.124899864196777, -4.127600193023682, -4.25439977645874, -4.267899990081787, -4.30620002746582, -4.3755998611450195, -4.416399955749512, -4.4928998947143555, -4.6128997802734375, -4.724699974060059, -4.79449987411499, -4.899700164794922, -4.992099761962891, -5.0030999183654785, -5.014999866485596, -5.016900062561035, -5.059700012207031, -5.067299842834473, -5.105400085449219, -2.5464000701904297, -2.697000026702881, -2.821700096130371, -3.5708000659942627, -3.66729998588562, -3.668600082397461, -3.709399938583374, -3.812700033187866, -3.876800060272217, -3.9154000282287598, -3.9258999824523926, -4.0802001953125, -4.119900226593018, -4.175099849700928, -4.398799896240234, -4.464799880981445, -4.475200176239014, -4.492499828338623, -4.515500068664551, -4.598800182342529, -4.687099933624268, -4.815800189971924, -4.872900009155273, -4.890399932861328, -4.919600009918213, -4.924499988555908, -4.962299823760986, -4.970399856567383, -5.070799827575684, -5.114500045776367, -2.9260001182556152, -3.0564000606536865, -3.081899881362915, -3.1029999256134033, -3.1370999813079834, -3.367300033569336, -3.387399911880493, -3.777899980545044, -3.9151999950408936, -3.963200092315674, -4.027299880981445, -4.307000160217285, -4.405200004577637, -4.520899772644043, -4.5432000160217285, -4.57390022277832, -4.582900047302246, -4.5833001136779785, -4.5914998054504395, -4.599800109863281, -4.689000129699707, -4.717100143432617, -4.875400066375732, -4.9633002281188965, -4.977099895477295, -4.978899955749512, -5.01639986038208, -5.07420015335083, -5.161300182342529, -5.210000038146973]}, \"token.table\": {\"Topic\": [28, 28, 19, 23, 7, 24, 18, 8, 17, 28, 5, 22, 26, 3, 14, 22, 26, 8, 11, 16, 21, 19, 18, 24, 27, 13, 7, 3, 22, 25, 5, 9, 16, 26, 2, 2, 22, 4, 4, 3, 12, 5, 25, 4, 9, 16, 6, 12, 14, 18, 18, 25, 15, 20, 2, 25, 12, 15, 12, 27, 21, 24, 12, 18, 29, 1, 2, 23, 13, 30, 7, 17, 10, 14, 23, 13, 28, 28, 21, 16, 1, 7, 17, 17, 24, 24, 2, 4, 23, 21, 3, 30, 15, 30, 5, 21, 7, 5, 4, 5, 23, 3, 20, 8, 3, 27, 7, 21, 9, 22, 29, 29, 7, 18, 8, 6, 11, 26, 10, 20, 15, 4, 1, 11, 21, 7, 1, 6, 9, 27, 15, 23, 19, 21, 13, 4, 25, 24, 29, 11, 26, 13, 8, 5, 12, 29, 2, 29, 2, 25, 15, 16, 26, 21, 21, 12, 6, 22, 5, 26, 13, 15, 30, 21, 19, 6, 30, 27, 9, 7, 1, 6, 27, 24, 12, 6, 16, 6, 6, 13, 24, 20, 28, 25, 23, 10, 10, 19, 14, 26, 24, 9, 9, 30, 14, 5, 4, 12, 12, 8, 18, 3, 23, 11, 28, 16, 28, 22, 26, 7, 6, 10, 10, 21, 22, 10, 9, 17, 4, 18, 9, 10, 19, 10, 28, 20, 26, 15, 25, 18, 11, 22, 12, 23, 9, 24, 19, 11, 20, 21, 6, 16, 30, 21, 8, 24, 4, 4, 10, 25, 30, 27, 7, 30, 25, 2, 29, 28, 5, 10, 5, 20, 22, 22, 19, 27, 3, 6, 13, 2, 22, 9, 13, 11, 17, 8, 20, 27, 29, 16, 13, 14, 28, 11, 27, 30, 10, 29, 1, 10, 16, 24, 29, 17, 1, 23, 17, 21, 20, 10, 6, 21, 8, 17, 17, 25, 23, 23, 25, 25, 20, 26, 15, 20, 2, 9, 26, 2, 7, 19, 25, 24, 14, 24, 19, 23, 3, 22, 14, 15, 10, 22, 18, 16, 8, 6, 19, 7, 17, 8, 30, 30, 23, 17, 14, 16, 7, 1, 2, 24, 27, 12, 1, 18, 11, 2, 30, 6, 15, 3, 28, 8, 4, 16, 4, 27, 12, 19, 14, 15, 23, 3, 18, 18, 29, 17, 26, 29, 4, 16, 2, 28, 25, 26, 16, 30, 4, 14, 24, 17, 22, 25, 18, 25, 21, 9, 30, 30, 24, 24, 29, 30, 29, 15, 14, 16, 17, 15, 22, 20, 20, 29, 23, 19, 8, 18, 24, 25, 6, 18, 29, 6, 12, 11, 17, 25, 18, 23, 22, 4, 14, 28, 17, 28, 11, 6, 5, 2, 7, 23, 15, 1, 16, 26, 11, 15, 1, 15, 3, 23, 15, 15, 27, 22, 11, 21, 12, 21, 2, 1, 10, 23, 4, 14, 11, 20, 5, 21, 13, 16, 1, 25, 2, 15, 2, 12, 18, 20, 8, 15, 2, 23, 6, 26, 1, 3, 9, 2, 9, 1, 12, 18, 4, 4, 18, 8, 10, 29, 12, 12, 14, 17, 21, 28, 10, 14, 6, 19, 7, 7, 8, 21, 22, 7, 28, 2, 27, 17, 18, 2, 21, 8, 5, 6, 8, 13, 9, 18, 3, 1, 9, 7, 30, 5, 29, 12, 17, 29, 22, 3, 28, 20, 12, 3, 28, 15, 5, 28, 20, 14, 3, 24, 1, 20, 11, 19, 25, 6, 30, 30, 27, 11, 8, 24, 9, 24, 25, 16, 2, 27, 9, 30, 26, 10, 4, 16, 12, 7, 28, 1, 9, 19, 22, 27, 3, 9, 11, 16, 5, 2, 20, 24, 12, 11, 27, 4, 24, 6, 3, 8, 26, 29, 18, 17, 28, 21, 12, 5, 3, 6, 12, 17, 14, 24, 5, 12, 25, 4, 21, 27, 19, 10, 11, 8, 22, 2, 11, 26, 27, 19, 23, 10, 3, 18, 10, 19, 13, 15, 20, 20, 14, 3, 11, 13, 2, 13, 8, 5, 28, 27, 19, 21, 16, 16, 18, 10, 2, 12, 5, 20, 1, 17, 8, 15, 10, 22, 21, 15, 26, 22, 27, 12, 15, 27, 15, 19, 24, 11, 14, 22, 10, 3, 14, 21, 20, 25, 5, 14, 11, 8, 18, 7, 30, 26, 12, 24, 1, 18, 20, 24, 21, 6, 3, 13, 13, 12, 10, 7, 1, 8, 20, 11, 20, 19, 13, 26, 29, 1, 3, 3, 16, 25, 13, 5, 14, 11, 7, 19, 13, 9, 17, 29, 23, 5, 11, 4, 18, 28, 3, 20, 9, 26, 23, 29, 26, 20, 14, 28, 10, 23, 3, 16, 6, 28, 25, 20, 16, 15, 25, 7, 18, 23, 27, 4, 2, 8, 6, 14, 27, 13, 29, 1, 27, 1, 29, 19, 30, 23, 24, 9, 17, 8, 15, 9, 26, 29, 17, 4, 7, 27, 29, 17, 2, 1, 30, 30, 8, 8, 26, 17, 5, 4, 21, 9, 28, 27, 18, 29, 1, 1, 5, 28, 22, 7, 13, 2, 30, 30, 16, 9, 19, 20, 14, 22, 28, 26, 14, 9, 16, 13, 22, 4, 24, 28, 4, 11, 13, 26, 25, 4, 5, 25, 13, 26, 26, 9, 16, 16, 17, 23, 27, 13, 25, 7, 10, 10, 19, 11, 3, 17, 13, 19, 11, 1, 14, 22, 13, 27, 29, 14, 1, 6, 6, 19, 4, 3, 29, 23, 5, 10, 13, 8, 13, 23, 5, 9, 7, 22, 6, 30, 7, 1, 5, 15, 14, 19, 30, 30, 7, 19], \"Freq\": [0.9994132404224795, 0.9998877174502976, 0.9999166422121043, 0.9998954804252471, 0.9998695358818768, 0.9998536332115942, 0.9995017192152307, 0.999890110979766, 0.9998713358569669, 0.9996990004116839, 0.9996741031590509, 0.9994979458109211, 0.9999607202694788, 0.9999558914054271, 0.9997545765227055, 0.999761357270524, 0.9997596490267251, 0.9999385001074382, 0.9998059073091099, 0.9997173762701863, 0.9997266405288125, 0.9998621672075845, 0.99965818544294, 0.9998513584168283, 0.9998269767929607, 0.9995973084230019, 0.9999357563194889, 0.9999601042019214, 0.999797650336511, 0.9998199532479047, 0.9993952684544658, 0.999928837279669, 0.9997537933555185, 0.9997391544591971, 0.9999726203464762, 0.999951316267286, 0.9996029426616696, 0.9999388937915831, 0.9999857107490236, 0.9999651324359642, 0.9997785136384676, 0.9998489813974186, 0.9999149979891779, 0.9999567425617452, 0.9998551341507789, 0.9998510550642168, 0.9997486461690996, 0.9997882317528749, 0.999871500743438, 0.9995314298095858, 0.9998803056793084, 0.9998305169931082, 0.9998278403542492, 0.9996066344149316, 0.9999739797256691, 0.9999363069071837, 0.9998073942323475, 0.9999338527024946, 0.9999192547809659, 0.9997238613230989, 0.9998824042730388, 0.9996861024108381, 0.9997927044410869, 0.9999033824619485, 0.999759541989527, 0.9999476281092547, 0.9999658150527776, 0.9993260777025319, 0.9996060410933141, 0.9994951775032621, 0.9998573749814198, 0.9997168525277977, 0.9999497559124729, 0.9997684453658748, 0.9993931704478314, 0.9999180920551439, 0.9996708055724212, 0.999538317691731, 0.9999639959773543, 0.9998799664339386, 0.9999669698870696, 0.9999608617488955, 0.9996800696879008, 0.9998524053921499, 0.9995897696897302, 0.9997266969343958, 0.9999308152324657, 0.9999477649370004, 0.9995323882340222, 0.9999859413779956, 0.9999533339963694, 0.9997400454066157, 0.9998938014433936, 0.9990351082383497, 0.9998546633049128, 0.9998735504627816, 0.9997851527677784, 0.9999979359519658, 0.9998761318799997, 0.9994615145256782, 0.9995264016736075, 0.9999266799345471, 0.9999376782687701, 0.9998156675396028, 0.9999151659969119, 0.999432491051255, 0.9999522545752995, 0.9997107155279545, 0.9999711798667971, 0.9998714609118606, 0.9999605254795202, 0.9994941340089214, 0.9999258297414997, 0.9999510830199011, 0.9999533536988817, 0.9999286585123326, 0.9997751976538743, 0.9998763955021416, 0.9995563568412378, 0.9998608345006614, 0.9997385513582515, 0.999935781513742, 0.9999529047842687, 0.999785614212926, 0.9996616851159842, 0.9999315537524749, 0.9999576537443605, 0.999873285851181, 0.9999518084161416, 0.9995943763280307, 0.9999155343801719, 0.9996806405104055, 0.9996237473236159, 0.9999384051376965, 0.9999109229298262, 0.9999609604335273, 0.9996613303549359, 0.9997802008165357, 0.9995420489709735, 0.9998486244121101, 0.9999008605958174, 0.9997785632132227, 0.9999538578413049, 0.9997777609408545, 0.9997652688767483, 0.9999411638663236, 0.9999856382365407, 0.9996234217006505, 0.9999457812507435, 0.9997629406453846, 0.999785124749895, 0.9998606657304072, 0.9998594270251527, 0.999549685084589, 0.99971364514292, 0.999867207275194, 0.9998926703319545, 0.9995375618305681, 0.9998544652087955, 0.9998594175601592, 0.9999324158259792, 0.9996444782313645, 0.9990768038105349, 0.9999215597124367, 0.9997226475464863, 0.9999262059659035, 0.9994647390035432, 0.9998342869487913, 0.9997934211637082, 0.999952191590188, 0.9999661095899045, 0.9999816883239335, 0.9997833815457989, 0.9997904460467741, 0.9999218811220568, 0.999809152350167, 0.9998367642536724, 0.9999410427418505, 0.9999476399658578, 0.9998496761953808, 0.999916912937563, 0.9998637094196925, 0.9995406709200433, 0.9995813208187646, 0.999741846082503, 0.9996636862176171, 0.9998645108532309, 0.9998743591758678, 0.9995783445191674, 0.9998164733877837, 0.9994659375081245, 0.9998388237068695, 0.999918151478809, 0.9998844056375, 0.9999579133291026, 0.9997516225696124, 0.9999308119153923, 0.9999031593502918, 0.9996639202491073, 0.9998515504435306, 0.99989561500723, 0.9999008075242257, 0.9998781631324245, 0.9997601420309917, 0.9992447753968243, 0.999876349713586, 0.9999200185692801, 0.9996715783590068, 0.9997726486536067, 0.9998148085240514, 0.9998964860805942, 0.9999173294100799, 0.9998423916767397, 0.9997725789892333, 0.9995045184090592, 0.9995982731751134, 0.9998156376020402, 0.999746800727133, 0.9998440158266443, 0.9997984248014792, 0.9997856406057938, 0.9998620372835977, 0.9999551043313247, 0.9997596047299154, 0.9998884734977942, 0.9992410080147132, 0.9998778690065397, 0.9996504005162918, 0.9997832658034727, 0.9998494826937085, 0.9998125842444794, 0.9998835222741453, 0.9998850726834195, 0.9992694840412725, 0.9998160387253983, 0.9999232021368591, 0.9998941568386592, 0.9998739693630239, 0.9996263273555824, 0.9998717779096735, 0.9999388206676774, 0.999945326595362, 0.9995004053200872, 0.9995408067417713, 0.9998945392144044, 0.999899922870802, 0.9998445262083997, 0.9998241092534641, 0.9998940022711018, 0.9997452663200057, 0.9995068728750194, 0.9997432770151232, 0.9998568312432826, 0.9996506179776893, 0.9997559181359706, 0.9999578029928863, 0.9997025583168189, 0.9998357855286345, 0.9997593459789693, 0.9999777097754843, 0.9996091978329298, 0.999861348712223, 0.9995425525313506, 0.9998353576697931, 0.9996603928446157, 0.9995938997892388, 0.9999017380966545, 0.9999118585947044, 0.9997599646712162, 0.9999855351995081, 0.999823996122953, 0.9998509248489899, 0.9998504552378932, 0.9998736502636758, 0.9998476574352941, 0.999958880047718, 0.9996997461494996, 0.9998094477361408, 0.9997812924558181, 0.9998044248404785, 0.9998442610128502, 0.9998987148853494, 0.999669880207472, 0.9998055245853125, 0.9996643746650726, 0.9993814257358963, 0.9996231615603706, 0.9997080946763512, 0.9999668742149567, 0.9999414548511286, 0.9999068907014294, 0.9997756191817347, 0.9998700170936179, 0.9997072948233322, 0.999951565300794, 0.9993624175975001, 0.9994182198629961, 0.9994832050130732, 0.9994454304440024, 0.9996962443804622, 0.9999492503002171, 0.9994748163780673, 0.9998882362090589, 0.9999410919847669, 0.9998731879565891, 0.999697588965888, 0.9995625761051343, 0.9994410451466962, 0.9999240454749216, 0.9998610882869111, 0.9997253971921809, 0.9997475929098583, 0.9997548447556462, 0.9998464116752551, 0.9999770466963691, 0.9998578573429235, 0.9996120167973881, 0.9999828043800636, 0.999878011199105, 0.9996615721438414, 0.9998238237985165, 0.9998355858252775, 0.9998927323227048, 0.999864814147775, 0.9996960974307451, 0.9997591282015726, 0.9999561251574648, 0.9996447141410857, 0.9997954761261578, 0.9998506984378007, 0.9997308311364713, 0.9996393496773934, 0.999610628439527, 0.9996529262331233, 0.9999729672908942, 0.9998999773850799, 0.9996724156482001, 0.9999163754303111, 0.9998087210053398, 0.9998462844446052, 0.9995374897122902, 0.9998983342708503, 0.9998569986428963, 0.9998948968126999, 0.9996787305586263, 0.9995449124800295, 0.9997065048751127, 0.9999922235592467, 0.9999843599674801, 0.999495057987513, 0.9995209624946224, 0.9999254108116596, 0.9999833136452619, 0.9997602978370268, 0.9998355617176263, 0.9999854431717015, 0.9996170385967944, 0.9999608848517046, 0.9996419544817801, 0.9999848407832684, 0.9998105454951441, 0.9999354199214868, 0.999927144781874, 0.9996702049839659, 0.9999418554722814, 0.9998965245567601, 0.9998058029750176, 0.999952864993903, 0.9997918923920763, 0.9997926146761268, 0.9996661437615842, 0.9998465110905912, 0.9999390763514163, 0.999814620221559, 0.9995858714391407, 0.9999505943920095, 0.9996067547932255, 0.9996308540524702, 0.9999827184624613, 0.9996790116408438, 0.9999427801860559, 0.9994062378959566, 0.9995728926951324, 0.9995733402433172, 0.9999303730890922, 0.9993257647151458, 0.9998752400250905, 0.9999420759793048, 0.9995274059653213, 0.999827774615008, 0.9999296101663645, 0.9995080510440156, 0.99967099996259, 0.9999568415351832, 0.9996705229692708, 0.9999675760852476, 0.9998675412639871, 0.9997033698452353, 0.9996471337478124, 0.9996472416805462, 0.9998931884927341, 0.9999375469158756, 0.9998170881667833, 0.9999522808179594, 0.9997320280606756, 0.999958702037779, 0.9997064774648428, 0.9998684704870675, 0.9998358560266718, 0.9998059635692356, 0.9996651600698271, 0.9997914138259922, 0.9992523178351539, 0.9998235996392048, 0.9998520952497271, 0.9999108225864043, 0.9998487024939088, 0.9997338958941554, 0.9999510895592756, 0.9998877563152281, 0.9994310029926413, 0.9997336917662685, 0.999778075090863, 0.999720631613583, 0.9995584185357261, 0.9994888942497947, 0.9999131322548243, 0.9997642137409761, 0.9997727044010927, 0.999943702111212, 0.999693056124473, 0.9998455623467732, 0.99972597695091, 0.9993091456525721, 0.9998006685753796, 0.999843798544489, 0.999809070730974, 0.9999590953047673, 0.9999683287557654, 0.9997751002684652, 0.9999516906738246, 0.9999513031869977, 0.9996960864383824, 0.9999197474149554, 0.9998990912796848, 0.9998674580066218, 0.9999854852323679, 0.9997935600182349, 0.9999053586146869, 0.9990047979155083, 0.9999288129085244, 0.9999762462619808, 0.9994903028325084, 0.9995938835803768, 0.9999450614851557, 0.9998719986673097, 0.9999599757214124, 0.99980203269273, 0.9999613261825333, 0.9999725746683192, 0.9999316397516753, 0.9998458524284843, 0.9999193622473237, 0.9999721150931398, 0.9997921042929871, 0.9999094316461183, 0.9999095102497018, 0.9997506196980079, 0.9996280035158981, 0.9999571608913664, 0.9999656749623334, 0.9995538147417998, 0.9999695714515058, 0.9998179898592562, 0.9999709069762012, 0.9999597351622632, 0.9997468518396523, 0.9999583492911112, 0.9999167566227867, 0.9997907620738157, 0.9999876421061868, 0.9999693915121654, 0.9998256472437154, 0.9996361654796193, 0.9999872303174165, 0.9998954523345973, 0.9997912873562375, 0.9999853793503224, 0.999955689717202, 0.9999613091658347, 0.9998185476374406, 0.999849651112125, 0.9998831802027149, 0.9998960120560312, 0.9997771335285064, 0.9999513515079373, 0.9998632383444414, 0.9996492853197103, 0.9998184841914882, 0.9997908832107916, 0.9996112210949447, 0.9999043013291578, 0.9998225611312935, 0.9996645738216238, 0.9998777908758882, 0.9998465438553561, 0.9996859884314918, 0.999769015519645, 0.9999817250903342, 0.9998399904745485, 0.9998228068018018, 0.9999490429165176, 0.9998162539522301, 0.9997498301879031, 0.9999012982875729, 0.9999823363906225, 0.9998849688895816, 0.9996174578664867, 0.9996984701868082, 0.9999516074868711, 0.9994775209972805, 0.9999530852842606, 0.9993421598384346, 0.9999647609755196, 0.999873198865939, 0.9999367003473583, 0.999697706677181, 0.9997891269474356, 0.999978602032158, 0.9999767568059195, 0.9999632603861844, 0.9998357260301639, 0.9999352206718675, 0.9998019514300804, 0.9994994224986887, 0.9998593291828668, 0.9998543497225902, 0.9999094912681613, 0.9997808108823121, 0.999941020077239, 0.9999038719703951, 0.999768785918823, 0.9998175658945029, 0.9999467353291329, 0.9998808337042605, 0.9998688518216002, 0.9994765034904148, 0.9997050993104766, 0.999807837216383, 0.9998545250412371, 0.999905837633145, 0.999835826427354, 0.99996637313389, 0.9998481090838787, 0.9996540261710705, 0.9998656188616997, 0.9998549876896253, 0.9998954682106258, 0.9997541463343291, 0.999385965739402, 0.9994622780063775, 0.9996862332021044, 0.9998077238112358, 0.9997288795858634, 0.9996843907149515, 0.9998358420300965, 0.9996586801685001, 0.9998885817530803, 0.999949439642829, 0.999267252210324, 0.9996683357126909, 0.9997153817721498, 0.9997172134746706, 0.9999214258237907, 0.9998711952419591, 0.9999219999810142, 0.999876086348132, 0.9999776113719822, 0.999745732735121, 0.9999898447546989, 0.9998655244890665, 0.9996700623759264, 0.9999510858413764, 0.999977483602118, 0.9998876317515685, 0.9998570571131418, 0.9998202412294465, 0.9999325094817618, 0.9996988116630403, 0.9999390770961128, 0.9997564479717121, 0.999436955185401, 0.9999596421684314, 0.9999004262023518, 0.9999532233867126, 0.9999676130492843, 0.9998041941852348, 0.9999353879961329, 0.9999330046007017, 0.9999487478966818, 0.9999460507437868, 0.9997194170020797, 0.9999462343222923, 0.9998377865965606, 0.9999250216356339, 0.9996457478963368, 0.99988532324934, 0.9997333177128817, 0.999930079310023, 0.9999685040562768, 0.9997579655221837, 0.9996906931844943, 0.9996331205128794, 0.9994622383281428, 0.9997662089229512, 0.999849245333699, 0.9996864179596637, 0.9999624432780387, 0.9997427443533915, 0.9997494775423423, 0.9998693000610821, 0.9997503488214532, 0.9998631236996485, 0.9999199975539039, 0.9996677175923735, 0.999978738205204, 0.9997816438393174, 0.9997438615906589, 0.999490453596313, 0.9996710239380341, 0.9995953613038527, 0.9998549782931041, 0.999871396219791, 0.9998179426056191, 0.9996851733208003, 0.999653067091722, 0.9997006619093975, 0.9995792158250081, 0.9998886984960142, 0.9997663852511423, 0.999864378069431, 0.9999449644725444, 0.999702054111895, 0.9998916849093807, 0.9999473152046077, 0.9999199836779106, 0.9998409757572926, 0.9999384253059894, 0.9997078833487684, 0.9995700309461325, 0.9999297733445749, 0.9997838088556803, 0.9996775969654014, 0.9995257651994263, 0.999855922501966, 0.9998645005674852, 0.9999457517131458, 0.9997878867417397, 0.9996355504727791, 0.9999400098184277, 0.9999638919418147, 0.9999239769535613, 0.9998071941554458, 0.9997937096625564, 0.9998208396849343, 0.9998740879764798, 0.9998290474428272, 0.9997322347316319, 0.9999231528829853, 0.9996196494024271, 0.9998213926301288, 0.9999105297121508, 0.9997718859735121, 0.9997997409523824, 0.999861752220374, 0.9998986227269258, 0.9998830461955295, 0.9996281407438644, 0.9997070206108234, 0.9998431189171916, 0.9999684334036331, 0.9999070174193814, 0.9997465882649502, 0.9996364068471744, 0.9999046677043931, 0.9998477418583684, 0.999887916010133, 0.9998312274134113, 0.9998622981977722, 0.9998674589038812, 0.9999293591221639, 0.9998778827932419, 0.9994702484553523, 0.9998575054615956, 0.9999102076760943, 0.9997635030036733, 0.9999894395347593, 0.9999128618938894, 0.9998246448697231, 0.999852122732078, 0.9999282952563647, 0.99993853810758, 0.9999637125536505, 0.9999783850734093, 0.9999474389868216, 0.9997364777201195, 0.9998130126609972, 0.9997970118067352, 0.9999897070542022, 0.9999779094538027, 0.99990666773086, 0.9997813015710116, 0.9998828570242468, 0.9994571472614351, 0.9999108447457663, 0.9995782836275399, 0.9999137263971931, 0.9999880201243507, 0.9999586136330881, 0.9999463563471677, 0.9999010736156089, 0.9996680562786872, 0.9998112221875813, 0.9997348489808183, 0.9998379463685431, 0.9998457201607761, 0.9998749226515978, 0.9999160010320393, 0.9998271207247726, 0.9999154919822079, 0.9997676689055102, 0.9994697400902122, 0.9998205747759591, 0.9997674873032434, 0.9999489987315725, 0.9999403630743962, 0.9997771748059904, 0.9997726717734938, 0.9999056652840065, 0.9994001925669055, 0.9997679990724736, 0.9998666696561335, 0.9996131151894943, 0.9999320427137897, 0.9998650850973516, 0.9997500867240711, 0.999948482141775, 0.9999720275926594, 0.9998598100172571, 0.9994711817352556, 0.9998537426140779, 0.9997059074443227, 0.999757401475459, 0.9993729572933845, 0.9995219568553693, 0.9995078133796608, 0.9996280626794765, 0.9995975730454686, 0.9997534891992582, 0.9999108122635553, 0.9994606302188579, 0.9998756925256909, 0.9994285456697678, 0.9998841039328227, 0.9999473025192667, 0.9999841944304574, 0.9998495194070497, 0.999872491282383, 0.9997816597801668, 0.999882628351325, 0.9996239050441471, 0.9999462454538786, 0.9992879592624795, 0.9999520029683459, 0.9993427094173268, 0.9999409468133574, 0.9998182673836471, 0.9994117967732173, 0.9997021451767263, 0.9997620685865151, 0.9995161570907782, 0.9999562842075658, 0.999732808922219, 0.9998514255401303, 0.9999124136414439, 0.9991284433034127, 0.9995992199367197, 0.999943066084673, 0.9999260082554857, 0.999511399129228, 0.9996295278954797, 0.9997208008947145, 0.9999608503845628, 0.9999771129463682, 0.9999233654284143, 0.9997488364900657, 0.9999609445749905, 0.9998588193883697, 0.9994544609402717, 0.9999503581447927, 0.9996464874394219, 0.9999400385474474, 0.9996769653229926, 0.9998411933584002, 0.99979850499446, 0.9999655351223194, 0.999799763234428, 0.9991982847426971, 0.9999819951993841, 0.9999816563195084, 0.9997602419239183, 0.9997877421892688, 0.9999424834177181, 0.9999015760587392, 0.9997848714593195, 0.9999913647042741, 0.9999164331692333, 0.999608548203486, 0.9999458879999606, 0.9997683194726698, 0.9999062488825126, 0.9996338880800085, 0.9998357158019827, 0.9998827719250594, 0.9998391569153955, 0.9995595226859817, 0.9996589208361242, 0.9998481338370818, 0.9996514077210363, 0.9998986386415482, 0.9997584088711884, 0.9998469421910758, 0.9999799283780965, 0.9998794478010853, 0.9998959061638821, 0.99977034661583, 0.9999141535198443, 0.9997223529691007, 0.9993712691413142, 0.9999472701551219, 0.9994553060673509, 0.9999792363250253, 0.999806904234224, 0.9997187133864215, 0.9998329865535085, 0.9999862671619352, 0.9998267911864898, 0.9999154993089464, 0.9996398955436753, 0.9995056394770987, 0.9998145844086067, 0.9995971844093163, 0.9996385650432417, 0.9998119839924399, 0.9999454436935663, 0.9997066780627103, 0.9998342194811062, 0.9999295307004311, 0.9999566493243747, 0.9999834933894185, 0.9999736250194836, 0.9999536680986765, 0.9998703460926686, 0.9999769306476146, 0.9998612758615144, 0.9997790961171162, 0.9998827053730215, 0.9997418619856956, 0.9997413259545772, 0.9998006877939977, 0.9999751328175042, 0.9998703544185766, 0.9997031188248454, 0.9999484096070197, 0.999966917812818, 0.9999014770149943, 0.9996958672199936, 0.9996949335129608, 0.999824832474269, 0.9998980097897098, 0.9996661335962143, 0.999807631506754, 0.9998711979168756, 0.9999791670065332, 0.9998451201740812, 0.9998723021412347, 0.9999910190760348, 0.999924981252158, 0.9999883043447821, 0.999754429253578, 0.9998479175796239, 0.9999908851967819, 0.9999486867804267, 0.9998832349078075, 0.9999411973364138, 0.9997756900358549, 0.9998434392226725, 0.9996987474085632, 0.9999827941048596, 0.9999149645537138], \"Term\": [\"abandon\", \"ability\", \"able\", \"abortion\", \"absolutely\", \"abuse\", \"aca\", \"accept\", \"accord\", \"account\", \"achieve\", \"acknowledge\", \"act\", \"action\", \"activity\", \"actual\", \"ad\", \"add\", \"address\", \"advocate\", \"affect\", \"afford\", \"afraid\", \"african\", \"agency\", \"agenda\", \"ago\", \"agree\", \"agreement\", \"air\", \"alive\", \"allow\", \"ally\", \"alone\", \"also\", \"always\", \"amazing\", \"america\", \"american\", \"amp\", \"analysis\", \"answer\", \"anti\", \"anyone\", \"apparently\", \"appear\", \"apply\", \"approach\", \"area\", \"argue\", \"arm\", \"army\", \"arrest\", \"art\", \"article\", \"ask\", \"assume\", \"attack\", \"attempt\", \"attend\", \"attention\", \"attitude\", \"author\", \"average\", \"avoid\", \"back\", \"bad\", \"ball\", \"baltic\", \"ban\", \"bank\", \"bar\", \"base\", \"basis\", \"basketball\", \"bear\", \"beautiful\", \"beauty\", \"become\", \"begin\", \"believe\", \"benefit\", \"bernie\", \"bernie_sander\", \"bet\", \"bias\", \"big\", \"bill\", \"birth_control\", \"black\", \"blame\", \"blog\", \"body\", \"bomb\", \"book\", \"border\", \"boy\", \"br\", \"break\", \"british\", \"brother\", \"build\", \"building\", \"bush\", \"business\", \"busy\", \"buy\", \"california\", \"call\", \"campaign\", \"can\", \"cancer\", \"car\", \"care\", \"carry\", \"case\", \"catch\", \"cause\", \"central\", \"certainly\", \"challenge\", \"chance\", \"change\", \"character\", \"cheap\", \"check\", \"child\", \"china\", \"choice\", \"chokehold\", \"church\", \"cigarette\", \"circumstance\", \"citizen\", \"city\", \"claim\", \"clean\", \"clearly\", \"client\", \"climate\", \"climate_change\", \"cold\", \"college\", \"color\", \"column\", \"com\", \"come\", \"comfortable\", \"comment\", \"commitment\", \"common\", \"community\", \"company\", \"complain\", \"complete\", \"completely\", \"concern\", \"conclusion\", \"conflict\", \"congress\", \"conservative\", \"constitution\", \"contact\", \"continue\", \"contract\", \"control\", \"cool\", \"cop\", \"correct\", \"cost\", \"could\", \"country\", \"coup\", \"couple\", \"course\", \"court\", \"cover\", \"create\", \"crime\", \"crimea\", \"criminal\", \"crisis\", \"criticism\", \"criticize\", \"cry\", \"cultural\", \"culture\", \"current\", \"daily\", \"damage\", \"danger\", \"dangerous\", \"date\", \"datum\", \"day\", \"dead\", \"deal\", \"death\", \"debate\", \"debt\", \"decade\", \"decide\", \"decision\", \"deep\", \"deeply\", \"defend\", \"defense\", \"define\", \"definitely\", \"degree\", \"democracy\", \"democrat\", \"democratic\", \"deny\", \"department\", \"depend\", \"describe\", \"desire\", \"destroy\", \"develop\", \"development\", \"die\", \"different\", \"direct\", \"disagree\", \"discrimination\", \"discuss\", \"discussion\", \"divide\", \"doctor\", \"dollar\", \"door\", \"doubt\", \"dress\", \"drop\", \"drug\", \"early\", \"earth\", \"easily\", \"eastern_europe\", \"economic\", \"economy\", \"editor\", \"educate\", \"education\", \"effect\", \"effort\", \"elect\", \"election\", \"eliminate\", \"email\", \"emotional\", \"employee\", \"en_wikipedia\", \"encourage\", \"end\", \"energy\", \"engage\", \"english\", \"enough\", \"entirely\", \"environment\", \"environmental\", \"equal\", \"era\", \"eric_garner\", \"especially\", \"europe\", \"european\", \"even\", \"event\", \"eventually\", \"evidence\", \"evil\", \"exactly\", \"example\", \"excellent\", \"excuse\", \"exercise\", \"exist\", \"expect\", \"experience\", \"expert\", \"explain\", \"expose\", \"express\", \"extreme\", \"extremely\", \"fact\", \"fail\", \"failure\", \"fair\", \"faith\", \"false\", \"family\", \"fan\", \"fantasy\", \"farmer\", \"fast\", \"favor\", \"fear\", \"feature\", \"federal\", \"feel\", \"feeling\", \"fellow\", \"feminist\", \"fifa\", \"fight\", \"figure\", \"fill\", \"film\", \"finally\", \"financial\", \"find\", \"fine\", \"firearm\", \"first\", \"fit\", \"fix\", \"focus\", \"folk\", \"follow\", \"food\", \"fool\", \"foot\", \"force\", \"foreign\", \"forget\", \"form\", \"former\", \"forward\", \"fossil_fuel\", \"frame\", \"free\", \"freedom\", \"fuel\", \"full\", \"fun\", \"fund\", \"funny\", \"future\", \"game\", \"garner\", \"gender\", \"german\", \"germany\", \"get\", \"give\", \"glad\", \"glass\", \"global\", \"go\", \"goal\", \"god\", \"good\", \"gov\", \"government\", \"grant\", \"great\", \"ground\", \"group\", \"grow\", \"growth\", \"gun\", \"guy\", \"half\", \"happen\", \"happy\", \"harm\", \"hate\", \"head\", \"health\", \"healthcare\", \"healthy\", \"hear\", \"heavy\", \"height\", \"help\", \"hide\", \"high\", \"highly\", \"hillary\", \"hire\", \"history\", \"hitler\", \"hold\", \"home\", \"homeless\", \"honest\", \"hope\", \"hopefully\", \"hospital\", \"house\", \"housing\", \"however\", \"href_http\", \"href_https\", \"html_target\", \"html_title\", \"http\", \"http_www\", \"huge\", \"human\", \"hunt\", \"idea\", \"identity\", \"ignore\", \"illegal\", \"imagine\", \"immediately\", \"impact\", \"imply\", \"improve\", \"income\", \"increase\", \"indeed\", \"indicate\", \"individual\", \"industry\", \"inequality\", \"influence\", \"information\", \"innocent\", \"instance\", \"institution\", \"insurance\", \"intelligent\", \"intend\", \"interest\", \"interested\", \"interesting\", \"invade\", \"invite\", \"involve\", \"iraq\", \"isis\", \"issue\", \"job\", \"joke\", \"justice\", \"keep\", \"key\", \"kid\", \"kill\", \"king\", \"know\", \"knowledge\", \"lack\", \"lady\", \"land\", \"law\", \"law_enforcement\", \"lawyer\", \"lead\", \"leader\", \"leave\", \"legal\", \"less\", \"let\", \"liberal\", \"libido\", \"lie\", \"life\", \"light\", \"like\", \"line\", \"list\", \"listen\", \"little\", \"live\", \"logic\", \"long\", \"longer\", \"look\", \"lose\", \"loss\", \"lot\", \"low\", \"magna_carta\", \"make\", \"man\", \"manage\", \"management\", \"many\", \"market\", \"marriage\", \"may\", \"maybe\", \"mean\", \"measure\", \"medical\", \"medium\", \"member\", \"mental\", \"mention\", \"message\", \"mexico\", \"middle\", \"middle_east\", \"mile\", \"military\", \"million\", \"mine\", \"minority\", \"miss\", \"modern\", \"moment\", \"money\", \"month\", \"moral\", \"move\", \"movement\", \"movie\", \"mr\", \"much\", \"murder\", \"music\", \"muslim\", \"must\", \"naacp\", \"name\", \"narrative\", \"nation\", \"national\", \"nato\", \"natural\", \"nearly\", \"need\", \"never\", \"new\", \"new_york\", \"news\", \"night\", \"noise\", \"non\", \"none\", \"not\", \"note\", \"nothing\", \"notice\", \"nyc\", \"nyt\", \"obama\", \"obviously\", \"occur\", \"ocean\", \"odd\", \"offer\", \"officer\", \"often\", \"oil\", \"old\", \"open\", \"open_carry\", \"opinion\", \"oppose\", \"order\", \"org\", \"org_wiki\", \"organic\", \"organization\", \"otherwise\", \"outcome\", \"owner\", \"page\", \"paint\", \"paper\", \"part\", \"participate\", \"particular\", \"particularly\", \"partner\", \"party\", \"pass\", \"past\", \"patient\", \"pay\", \"pentagon\", \"people\", \"perfect\", \"performance\", \"perhaps\", \"person\", \"personal\", \"photo\", \"pick\", \"piece\", \"pill\", \"place\", \"planet\", \"plant\", \"point\", \"poland\", \"police\", \"policy\", \"politic\", \"political\", \"politician\", \"poor\", \"pope\", \"pope_francis\", \"population\", \"position\", \"possible\", \"possibly\", \"post\", \"potential\", \"poverty\", \"power\", \"practice\", \"pre\", \"prefer\", \"prepare\", \"presence\", \"present\", \"presidency\", \"president\", \"pretend\", \"prevent\", \"price\", \"primary\", \"prison\", \"private\", \"privilege\", \"problem\", \"produce\", \"product\", \"production\", \"professor\", \"profile\", \"profit\", \"program\", \"progress\", \"progressive\", \"project\", \"promise\", \"property\", \"protect\", \"protection\", \"prove\", \"public\", \"purpose\", \"push\", \"put\", \"putin\", \"quality\", \"question\", \"quickly\", \"quiet\", \"quite\", \"racial\", \"racism\", \"racist\", \"rate\", \"reaction\", \"read\", \"reader\", \"ready\", \"real\", \"really\", \"reason\", \"receive\", \"recognize\", \"record\", \"refer\", \"refugee\", \"refuse\", \"regard\", \"regardless\", \"region\", \"relationship\", \"religion\", \"religious\", \"remain\", \"remember\", \"remind\", \"remove\", \"represent\", \"representative\", \"republican\", \"require\", \"research\", \"resident\", \"respect\", \"respond\", \"response\", \"responsibility\", \"responsible\", \"rest\", \"result\", \"return\", \"reveal\", \"review\", \"rich\", \"ridiculous\", \"right\", \"rise\", \"risk\", \"road\", \"room\", \"rule\", \"run\", \"russia\", \"russian\", \"safe\", \"sander\", \"save\", \"say\", \"school\", \"science\", \"scientific\", \"scientist\", \"sea\", \"second\", \"section\", \"security\", \"see\", \"seem\", \"self\", \"sell\", \"senator\", \"send\", \"series\", \"seriously\", \"serve\", \"service\", \"set\", \"several\", \"sex\", \"sexual\", \"shift\", \"shoot\", \"short\", \"show\", \"side\", \"sign\", \"similar\", \"simply\", \"sister\", \"sit\", \"situation\", \"size\", \"solution\", \"solve\", \"somehow\", \"someone\", \"something\", \"sometimes\", \"somewhat\", \"sound\", \"source\", \"south\", \"southern\", \"soviet\", \"space\", \"special\", \"specific\", \"speech\", \"spend\", \"spending\", \"sport\", \"spot\", \"stand\", \"start\", \"state\", \"statement\", \"stay\", \"steal\", \"step\", \"stick\", \"still\", \"stock\", \"stop\", \"storage\", \"story\", \"street\", \"strength\", \"stress\", \"strike\", \"strongly\", \"student\", \"subject\", \"success\", \"suggest\", \"suggestion\", \"sunday\", \"support\", \"sure\", \"surely\", \"surprise\", \"suspect\", \"system\", \"take\", \"target\", \"target_https\", \"tax\", \"teacher\", \"technology\", \"tell\", \"tend\", \"term\", \"terrible\", \"test\", \"texas\", \"thank\", \"therapist\", \"therapy\", \"thing\", \"think\", \"thought\", \"thousand\", \"threat\", \"threaten\", \"throw\", \"time\", \"title\", \"title_https\", \"today\", \"together\", \"top\", \"touch\", \"town\", \"trade\", \"train\", \"training\", \"travel\", \"treatment\", \"trend\", \"troop\", \"truly\", \"truth\", \"try\", \"tucson\", \"turn\", \"tv\", \"ukraine\", \"ukrainian\", \"ultimately\", \"understand\", \"understanding\", \"union\", \"united_state\", \"university\", \"usa\", \"use\", \"usual\", \"usually\", \"various\", \"version\", \"video\", \"violence\", \"violent\", \"visit\", \"vote\", \"voter\", \"wage\", \"wait\", \"walker\", \"want\", \"war\", \"watch\", \"water\", \"way\", \"wealth\", \"wealthy\", \"weapon\", \"wear\", \"weight\", \"welcome\", \"well\", \"west\", \"western\", \"whatev\", \"white\", \"whole\", \"whole_food\", \"wife\", \"willing\", \"win\", \"wing\", \"wisconsin\", \"wish\", \"woman\", \"wonder\", \"wonderful\", \"work\", \"worker\", \"world\", \"worry\", \"worth\", \"would\", \"write\", \"writer\", \"wrong\", \"wwii\", \"www\", \"www_youtube\", \"year\", \"yet\"]}, \"R\": 30, \"lambda.step\": 0.01, \"plot.opts\": {\"xlab\": \"PC1\", \"ylab\": \"PC2\"}, \"topic.order\": [30, 12, 22, 3, 2, 24, 20, 6, 10, 19, 17, 21, 28, 1, 7, 15, 14, 9, 29, 25, 18, 16, 8, 23, 27, 11, 4, 5, 13, 26]};\n",
       "\n",
       "function LDAvis_load_lib(url, callback){\n",
       "  var s = document.createElement('script');\n",
       "  s.src = url;\n",
       "  s.async = true;\n",
       "  s.onreadystatechange = s.onload = callback;\n",
       "  s.onerror = function(){console.warn(\"failed to load library \" + url);};\n",
       "  document.getElementsByTagName(\"head\")[0].appendChild(s);\n",
       "}\n",
       "\n",
       "if(typeof(LDAvis) !== \"undefined\"){\n",
       "   // already loaded: just create the visualization\n",
       "   !function(LDAvis){\n",
       "       new LDAvis(\"#\" + \"ldavis_el419721149263499127431516901\", ldavis_el419721149263499127431516901_data);\n",
       "   }(LDAvis);\n",
       "}else if(typeof define === \"function\" && define.amd){\n",
       "   // require.js is available: use it to load d3/LDAvis\n",
       "   require.config({paths: {d3: \"https://cdnjs.cloudflare.com/ajax/libs/d3/3.5.5/d3.min\"}});\n",
       "   require([\"d3\"], function(d3){\n",
       "      window.d3 = d3;\n",
       "      LDAvis_load_lib(\"https://cdn.rawgit.com/bmabey/pyLDAvis/files/ldavis.v1.0.0.js\", function(){\n",
       "        new LDAvis(\"#\" + \"ldavis_el419721149263499127431516901\", ldavis_el419721149263499127431516901_data);\n",
       "      });\n",
       "    });\n",
       "}else{\n",
       "    // require.js not available: dynamically load d3 & LDAvis\n",
       "    LDAvis_load_lib(\"https://cdnjs.cloudflare.com/ajax/libs/d3/3.5.5/d3.min.js\", function(){\n",
       "         LDAvis_load_lib(\"https://cdn.rawgit.com/bmabey/pyLDAvis/files/ldavis.v1.0.0.js\", function(){\n",
       "                 new LDAvis(\"#\" + \"ldavis_el419721149263499127431516901\", ldavis_el419721149263499127431516901_data);\n",
       "            })\n",
       "         });\n",
       "}\n",
       "</script>"
      ],
      "text/plain": [
       "PreparedData(topic_coordinates=            Freq  cluster  topics         x         y\n",
       "topic                                                \n",
       "29     12.661783        1       1 -0.267922  0.368774\n",
       "11     11.467079        1       2 -0.246476 -0.302131\n",
       "21      9.180098        1       3 -0.197585 -0.088067\n",
       "2       4.370143        1       4 -0.083802 -0.007705\n",
       "1       4.258638        1       5 -0.056988 -0.007077\n",
       "23      4.076137        1       6 -0.074519 -0.011813\n",
       "19      3.996577        1       7 -0.053939 -0.010860\n",
       "5       3.207838        1       8 -0.022951 -0.005393\n",
       "9       2.861042        1       9  0.019161  0.001821\n",
       "18      2.805046        1      10  0.003673 -0.002722\n",
       "16      2.657573        1      11  0.027696  0.001883\n",
       "20      2.648786        1      12  0.029733  0.000641\n",
       "27      2.592850        1      13 -0.032430 -0.002955\n",
       "0       2.508504        1      14  0.028654  0.003413\n",
       "6       2.376675        1      15  0.031633  0.003071\n",
       "14      2.266754        1      16  0.046788  0.000502\n",
       "13      2.259529        1      17  0.031346  0.006320\n",
       "8       2.240851        1      18  0.028455  0.000903\n",
       "28      2.073148        1      19  0.060639  0.004069\n",
       "24      2.062920        1      20  0.054660  0.003964\n",
       "17      2.025387        1      21  0.043032  0.003870\n",
       "15      1.901572        1      22  0.055569  0.001944\n",
       "7       1.891389        1      23  0.038568  0.004355\n",
       "22      1.857096        1      24  0.075030  0.006297\n",
       "26      1.828508        1      25  0.057071  0.001546\n",
       "10      1.821858        1      26  0.064366  0.000405\n",
       "3       1.708621        1      27  0.060385  0.005378\n",
       "4       1.668713        1      28  0.086344  0.006457\n",
       "12      1.371822        1      29  0.102108  0.008051\n",
       "25      1.353065        1      30  0.091701  0.005058, topic_info=     Category           Freq          Term          Total  loglift  logprob\n",
       "term                                                                       \n",
       "106   Default  447279.000000            br  447279.000000  30.0000  30.0000\n",
       "430   Default  123637.000000        people  123637.000000  29.0000  29.0000\n",
       "98    Default  112585.000000         would  112585.000000  28.0000  28.0000\n",
       "59    Default   95926.000000          make   95926.000000  27.0000  27.0000\n",
       "24    Default   64141.000000          year   64141.000000  26.0000  26.0000\n",
       "891   Default   53299.000000          want   53299.000000  25.0000  25.0000\n",
       "164   Default   61871.000000          work   61871.000000  24.0000  24.0000\n",
       "22    Default   49705.000000         woman   49705.000000  23.0000  23.0000\n",
       "60    Default   44110.000000           man   44110.000000  22.0000  22.0000\n",
       "125   Default   84462.000000           get   84462.000000  21.0000  21.0000\n",
       "306   Default   76659.000000          good   76659.000000  20.0000  20.0000\n",
       "21    Default   43109.000000           use   43109.000000  19.0000  19.0000\n",
       "19    Default   69711.000000          time   69711.000000  18.0000  18.0000\n",
       "126   Default   71991.000000            go   71991.000000  17.0000  17.0000\n",
       "299   Default   47286.000000      american   47286.000000  16.0000  16.0000\n",
       "528   Default   45926.000000       country   45926.000000  15.0000  15.0000\n",
       "859   Default   42345.000000         state   42345.000000  14.0000  14.0000\n",
       "23    Default   44841.000000         world   44841.000000  13.0000  13.0000\n",
       "264   Default   69377.000000         think   69377.000000  12.0000  12.0000\n",
       "586   Default   38040.000000          life   38040.000000  11.0000  11.0000\n",
       "856   Default   66083.000000           say   66083.000000  10.0000  10.0000\n",
       "559   Default   34374.000000         black   34374.000000   9.0000   9.0000\n",
       "394   Default   60660.000000           see   60660.000000   8.0000   8.0000\n",
       "381   Default   51593.000000          need   51593.000000   7.0000   7.0000\n",
       "82    Default   59488.000000          take   59488.000000   6.0000   6.0000\n",
       "329   Default   59046.000000          know   59046.000000   5.0000   5.0000\n",
       "61    Default   58656.000000          many   58656.000000   4.0000   4.0000\n",
       "95    Default   57134.000000         right   57134.000000   3.0000   3.0000\n",
       "429   Default   35894.000000           pay   35894.000000   2.0000   2.0000\n",
       "62    Default   52747.000000           may   52747.000000   1.0000   1.0000\n",
       "...       ...            ...           ...            ...      ...      ...\n",
       "826   Topic30   11800.812111      http_www   11801.737055   4.3027  -2.9260\n",
       "489   Topic30   10357.746084          news   10358.671028   4.3027  -3.0564\n",
       "769   Topic30   10096.848894        target   10097.773839   4.3027  -3.0819\n",
       "825   Topic30    9886.384716     href_http    9887.309661   4.3027  -3.1030\n",
       "836   Topic30    9554.873604         title    9555.798548   4.3027  -3.1371\n",
       "2716  Topic30    7589.952519         datum    7590.877463   4.3027  -3.3673\n",
       "1459  Topic30    7438.831424        future    7439.756368   4.3027  -3.3874\n",
       "78    Topic30    5033.990064        street    5034.915008   4.3026  -3.7779\n",
       "6087  Topic30    4388.154127           org    4389.079071   4.3026  -3.9152\n",
       "838   Topic30    4182.730052           www    4183.654996   4.3026  -3.9632\n",
       "1288  Topic30    3923.038667         worry    3923.963611   4.3026  -4.0273\n",
       "2249  Topic30    2965.919474  particularly    2966.844418   4.3025  -4.3070\n",
       "1337  Topic30    2688.499783        reveal    2689.424727   4.3025  -4.4052\n",
       "3530  Topic30    2394.697809          blog    2395.622753   4.3024  -4.5209\n",
       "2329  Topic30    2341.972295           gov    2342.897239   4.3024  -4.5432\n",
       "1481  Topic30    2271.125903         funny    2272.050847   4.3024  -4.5739\n",
       "4610  Topic30    2250.640567  target_https    2251.565511   4.3024  -4.5829\n",
       "4596  Topic30    2249.742672    href_https    2250.667616   4.3024  -4.5833\n",
       "574   Topic30    2231.455949       express    2232.380893   4.3024  -4.5915\n",
       "4612  Topic30    2212.941678   title_https    2213.866622   4.3024  -4.5998\n",
       "4318  Topic30    2024.159004          cool    2025.083948   4.3023  -4.6890\n",
       "8551  Topic30    1968.069048           ban    1968.993992   4.3023  -4.7171\n",
       "5574  Topic30    1679.914795        editor    1680.839739   4.3022  -4.8754\n",
       "8606  Topic30    1538.612943  en_wikipedia    1539.537887   4.3022  -4.9633\n",
       "7576  Topic30    1517.532495   www_youtube    1518.457439   4.3022  -4.9771\n",
       "9672  Topic30    1514.822512         email    1515.747456   4.3022  -4.9789\n",
       "8610  Topic30    1458.971482      org_wiki    1459.896426   4.3022  -5.0164\n",
       "7382  Topic30    1377.004104        hitler    1377.929048   4.3021  -5.0742\n",
       "4585  Topic30    1262.241206       contact    1263.166150   4.3021  -5.1613\n",
       "5671  Topic30    1202.235976          bomb    1203.160920   4.3020  -5.2100\n",
       "\n",
       "[930 rows x 6 columns], token_table=       Topic      Freq         Term\n",
       "term                               \n",
       "3326      28  0.999413      abandon\n",
       "3327      28  0.999888      ability\n",
       "25        19  0.999917         able\n",
       "4917      23  0.999895     abortion\n",
       "1299       7  0.999870   absolutely\n",
       "796       24  0.999854        abuse\n",
       "99        18  0.999502          aca\n",
       "1426       8  0.999890       accept\n",
       "2156      17  0.999871       accord\n",
       "1065      28  0.999699      account\n",
       "2947       5  0.999674      achieve\n",
       "346       22  0.999498  acknowledge\n",
       "1226      26  0.999961          act\n",
       "1804       3  0.999956       action\n",
       "2650      14  0.999755     activity\n",
       "347       22  0.999761       actual\n",
       "2849      26  0.999760           ad\n",
       "1263       8  0.999939          add\n",
       "2763      11  0.999806      address\n",
       "446       16  0.999717     advocate\n",
       "1605      21  0.999727       affect\n",
       "101       19  0.999862       afford\n",
       "1021      18  0.999658       afraid\n",
       "556       24  0.999851      african\n",
       "254       27  0.999827       agency\n",
       "1525      13  0.999597       agenda\n",
       "1759       7  0.999936          ago\n",
       "2032       3  0.999960        agree\n",
       "1032      22  0.999798    agreement\n",
       "2415      25  0.999820          air\n",
       "...      ...       ...          ...\n",
       "298        1  0.999975         well\n",
       "611        6  0.999870         west\n",
       "402        6  0.999703      western\n",
       "162       19  0.999948       whatev\n",
       "163        4  0.999967        white\n",
       "2438       3  0.999901        whole\n",
       "13967     29  0.999696   whole_food\n",
       "2065      23  0.999695         wife\n",
       "3094       5  0.999825      willing\n",
       "2295      10  0.999898          win\n",
       "1536      13  0.999666         wing\n",
       "6833       8  0.999808    wisconsin\n",
       "1537      13  0.999871         wish\n",
       "22        23  0.999979        woman\n",
       "2502       5  0.999845       wonder\n",
       "91         9  0.999872    wonderful\n",
       "164        7  0.999991         work\n",
       "614       22  0.999925       worker\n",
       "23         6  0.999988        world\n",
       "1288      30  0.999754        worry\n",
       "1137       7  0.999848        worth\n",
       "98         1  0.999991        would\n",
       "319        5  0.999949        write\n",
       "253       15  0.999883       writer\n",
       "715       14  0.999941        wrong\n",
       "165       19  0.999776         wwii\n",
       "838       30  0.999843          www\n",
       "7576      30  0.999699  www_youtube\n",
       "24         7  0.999983         year\n",
       "166       19  0.999915          yet\n",
       "\n",
       "[900 rows x 3 columns], R=30, lambda_step=0.01, plot_opts={'xlab': 'PC1', 'ylab': 'PC2'}, topic_order=[30, 12, 22, 3, 2, 24, 20, 6, 10, 19, 17, 21, 28, 1, 7, 15, 14, 9, 29, 25, 18, 16, 8, 23, 27, 11, 4, 5, 13, 26])"
      ]
     },
     "execution_count": 16,
     "metadata": {},
     "output_type": "execute_result"
    }
   ],
   "source": [
    "# Visualize the topics\n",
    "pyLDAvis.enable_notebook()\n",
    "vis = pyLDAvis.gensim.prepare(lda_model, corpus, id2word)\n",
    "vis"
   ]
  },
  {
   "cell_type": "code",
   "execution_count": null,
   "metadata": {
    "collapsed": true
   },
   "outputs": [],
   "source": []
  },
  {
   "cell_type": "code",
   "execution_count": null,
   "metadata": {
    "collapsed": true
   },
   "outputs": [],
   "source": []
  },
  {
   "cell_type": "code",
   "execution_count": 15,
   "metadata": {},
   "outputs": [],
   "source": [
    "# Download File: http://mallet.cs.umass.edu/dist/mallet-2.0.8.zip\n",
    "mallet_path = 'mallet-2.0.8/bin/mallet' # update this path\n",
    "# ldamallet = gensim.models.wrappers.LdaMallet(mallet_path, corpus=corpus, num_topics=25, id2word=id2word)"
   ]
  },
  {
   "cell_type": "code",
   "execution_count": 18,
   "metadata": {},
   "outputs": [
    {
     "name": "stdout",
     "output_type": "stream",
     "text": [
      "[(16,\n",
      "  [('war', 0.04002728118366057),\n",
      "   ('deal', 0.03455497569153694),\n",
      "   ('iran', 0.024142419205381963),\n",
      "   ('military', 0.014294054737338264),\n",
      "   ('israel', 0.012622903696350428),\n",
      "   ('iraq', 0.012317597256169958),\n",
      "   ('isis', 0.01218904717609397),\n",
      "   ('support', 0.011908736584817165),\n",
      "   ('russia', 0.011194569473283901),\n",
      "   ('attack', 0.00987693115250503)]),\n",
      " (13,\n",
      "  [('president', 0.048172014575660824),\n",
      "   ('obama', 0.033351351981986535),\n",
      "   ('congress', 0.018369299333828523),\n",
      "   ('run', 0.01723762449395468),\n",
      "   ('bill', 0.015892059220427704),\n",
      "   ('public', 0.015752058209309288),\n",
      "   ('lie', 0.015592612613313319),\n",
      "   ('office', 0.014311214469882283),\n",
      "   ('politician', 0.011015357333136295),\n",
      "   ('give', 0.010910356574797485)]),\n",
      " (19,\n",
      "  [('life', 0.06241036555246037),\n",
      "   ('child', 0.05536264192312142),\n",
      "   ('family', 0.039429057261377264),\n",
      "   ('live', 0.03842643685970476),\n",
      "   ('parent', 0.022698517921380605),\n",
      "   ('love', 0.021319455793805422),\n",
      "   ('friend', 0.020124023776426667),\n",
      "   ('kid', 0.01896899038329113),\n",
      "   ('young', 0.01840891854719202),\n",
      "   ('age', 0.017353045413562553)]),\n",
      " (6,\n",
      "  [('woman', 0.083722100434535),\n",
      "   ('man', 0.06502812385417724),\n",
      "   ('play', 0.018639367154770912),\n",
      "   ('game', 0.018262952185547226),\n",
      "   ('abortion', 0.015945952271362036),\n",
      "   ('sex', 0.015448616431196025),\n",
      "   ('team', 0.012809810973374004),\n",
      "   ('male', 0.011584999570925942),\n",
      "   ('make', 0.011358760522066108),\n",
      "   ('sport', 0.010898481077834034)]),\n",
      " (12,\n",
      "  [('state', 0.054708602664352735),\n",
      "   ('history', 0.026965424994851637),\n",
      "   ('today', 0.015281140597290062),\n",
      "   ('great', 0.014949246139727567),\n",
      "   ('flag', 0.014815288738181259),\n",
      "   ('south', 0.013113829802122924),\n",
      "   ('stand', 0.010098788585229897),\n",
      "   ('part', 0.010064799393792774),\n",
      "   ('fight', 0.009940838813257384),\n",
      "   ('slavery', 0.00993284135644865)]),\n",
      " (14,\n",
      "  [('show', 0.03759923181502714),\n",
      "   ('watch', 0.025178973788539973),\n",
      "   ('great', 0.01667189564853636),\n",
      "   ('love', 0.01036669423766198),\n",
      "   ('tv', 0.008094463934285959),\n",
      "   ('movie', 0.007849177148398506),\n",
      "   ('character', 0.007223600771987869),\n",
      "   ('play', 0.006565699780382761),\n",
      "   ('remember', 0.00595153209168782),\n",
      "   ('enjoy', 0.005696738066037287)]),\n",
      " (24,\n",
      "  [('money', 0.0447272878754378),\n",
      "   ('government', 0.03513165357661287),\n",
      "   ('tax', 0.033978062543860495),\n",
      "   ('greece', 0.03149623961367518),\n",
      "   ('pay', 0.025140273465163152),\n",
      "   ('greek', 0.021924638461365917),\n",
      "   ('debt', 0.01939795365768468),\n",
      "   ('economy', 0.019356296203724175),\n",
      "   ('economic', 0.01748010856573386),\n",
      "   ('bank', 0.013122097997558233)]),\n",
      " (3,\n",
      "  [('question', 0.035030526437046426),\n",
      "   ('word', 0.022188303958837308),\n",
      "   ('point', 0.021639212072341898),\n",
      "   ('understand', 0.02098068578888761),\n",
      "   ('feel', 0.019166378681411512),\n",
      "   ('talk', 0.019056944284452634),\n",
      "   ('hear', 0.01873632070038014),\n",
      "   ('answer', 0.0184598548554314),\n",
      "   ('speak', 0.017906923165533925),\n",
      "   ('agree', 0.017749491226049227)]),\n",
      " (10,\n",
      "  [('care', 0.0461952548929933),\n",
      "   ('health', 0.031125472805041254),\n",
      "   ('insurance', 0.015410913971037528),\n",
      "   ('cost', 0.01530407596369757),\n",
      "   ('drug', 0.014679917078711496),\n",
      "   ('medical', 0.01396016629242125),\n",
      "   ('patient', 0.013231043751101181),\n",
      "   ('doctor', 0.013165441465892434),\n",
      "   ('risk', 0.011182378101582327),\n",
      "   ('system', 0.010423265944166833)]),\n",
      " (18,\n",
      "  [('article', 0.05206217118480493),\n",
      "   ('read', 0.04578722253724225),\n",
      "   ('time', 0.036964366853550736),\n",
      "   ('comment', 0.03240179198413801),\n",
      "   ('write', 0.029401382666721744),\n",
      "   ('story', 0.02493081033582804),\n",
      "   ('find', 0.0161455067086749),\n",
      "   ('fact', 0.015854478270502483),\n",
      "   ('medium', 0.01565732997367601),\n",
      "   ('news', 0.015231114131965437)])]\n",
      "\n",
      "Coherence Score:  0.6416949956576758\n"
     ]
    }
   ],
   "source": [
    "# Show Topics\n",
    "pprint(ldamallet.show_topics(formatted=False))\n",
    "\n",
    "# Compute Coherence Score\n",
    "coherence_model_ldamallet = CoherenceModel(model=ldamallet, texts=data_lemmatized, dictionary=id2word, coherence='c_v')\n",
    "coherence_ldamallet = coherence_model_ldamallet.get_coherence()\n",
    "print('\\nCoherence Score: ', coherence_ldamallet)"
   ]
  },
  {
   "cell_type": "code",
   "execution_count": null,
   "metadata": {
    "collapsed": true
   },
   "outputs": [],
   "source": []
  },
  {
   "cell_type": "code",
   "execution_count": 16,
   "metadata": {
    "collapsed": true
   },
   "outputs": [],
   "source": [
    "def compute_coherence_values(dictionary, corpus, texts, limit, start=2, step=3):\n",
    "    \"\"\"\n",
    "    Compute c_v coherence for various number of topics\n",
    "\n",
    "    Parameters:\n",
    "    ----------\n",
    "    dictionary : Gensim dictionary\n",
    "    corpus : Gensim corpus\n",
    "    texts : List of input texts\n",
    "    limit : Max num of topics\n",
    "\n",
    "    Returns:\n",
    "    -------\n",
    "    model_list : List of LDA topic models\n",
    "    coherence_values : Coherence values corresponding to the LDA model with respective number of topics\n",
    "    \"\"\"\n",
    "    coherence_values = []\n",
    "    model_list = []\n",
    "    for num_topics in range(start, limit, step):\n",
    "        model = gensim.models.wrappers.LdaMallet(mallet_path, corpus=corpus, num_topics=num_topics, id2word=id2word)\n",
    "        model_list.append(model)\n",
    "        coherencemodel = CoherenceModel(model=model, texts=texts, dictionary=dictionary, coherence='c_v')\n",
    "        coherence_values.append(coherencemodel.get_coherence())\n",
    "\n",
    "    return model_list, coherence_values"
   ]
  },
  {
   "cell_type": "code",
   "execution_count": 30,
   "metadata": {},
   "outputs": [],
   "source": [
    "# Can take a long time to run.\n",
    "model_list, coherence_values = compute_coherence_values(dictionary=id2word, corpus=corpus, texts=data_lemmatized, start=62, limit=65, step=1)\n",
    "\n",
    "for i, model in enumerate(model_list):\n",
    "    topics = [str(tn) + \",\" + \",\".join([w for w, n in words]) for tn, words in [list(r) for r in model.show_topics(100, formatted=False)]]\n",
    "    numtopics = len(topics)\n",
    "    fname = \"../topic_words/\" + str(numtopics).zfill(3) + \"fullset.csv\"\n",
    "    \n",
    "    with open(fname, 'w') as fout:\n",
    "\n",
    "        print(\"\\n\".join(topics), file = fout)"
   ]
  },
  {
   "cell_type": "code",
   "execution_count": 21,
   "metadata": {},
   "outputs": [
    {
     "data": {
      "image/png": "[encoded data removed]",
      "text/plain": [
       "<matplotlib.figure.Figure at 0x1bec377438>"
      ]
     },
     "metadata": {},
     "output_type": "display_data"
    }
   ],
   "source": [
    "# Show graph\n",
    "limit=31; start=5; step=1;\n",
    "x = range(start, limit, step)\n",
    "plt.plot(x, coherence_values)\n",
    "plt.xlabel(\"Num Topics\")\n",
    "plt.ylabel(\"Coherence score\")\n",
    "plt.legend((\"coherence_values\"), loc='best')\n",
    "plt.show()"
   ]
  },
  {
   "cell_type": "code",
   "execution_count": 22,
   "metadata": {},
   "outputs": [
    {
     "name": "stdout",
     "output_type": "stream",
     "text": [
      "Num Topics = 5  has Coherence Value of 0.5401\n",
      "Num Topics = 6  has Coherence Value of 0.5514\n",
      "Num Topics = 7  has Coherence Value of 0.565\n",
      "Num Topics = 8  has Coherence Value of 0.5634\n",
      "Num Topics = 9  has Coherence Value of 0.585\n",
      "Num Topics = 10  has Coherence Value of 0.6051\n",
      "Num Topics = 11  has Coherence Value of 0.6\n",
      "Num Topics = 12  has Coherence Value of 0.5882\n",
      "Num Topics = 13  has Coherence Value of 0.6013\n",
      "Num Topics = 14  has Coherence Value of 0.6204\n",
      "Num Topics = 15  has Coherence Value of 0.6176\n",
      "Num Topics = 16  has Coherence Value of 0.6319\n",
      "Num Topics = 17  has Coherence Value of 0.624\n",
      "Num Topics = 18  has Coherence Value of 0.624\n",
      "Num Topics = 19  has Coherence Value of 0.6306\n",
      "Num Topics = 20  has Coherence Value of 0.6209\n",
      "Num Topics = 21  has Coherence Value of 0.6185\n",
      "Num Topics = 22  has Coherence Value of 0.641\n",
      "Num Topics = 23  has Coherence Value of 0.638\n",
      "Num Topics = 24  has Coherence Value of 0.6289\n",
      "Num Topics = 25  has Coherence Value of 0.6278\n",
      "Num Topics = 26  has Coherence Value of 0.6328\n",
      "Num Topics = 27  has Coherence Value of 0.6266\n",
      "Num Topics = 28  has Coherence Value of 0.6403\n",
      "Num Topics = 29  has Coherence Value of 0.6328\n",
      "Num Topics = 30  has Coherence Value of 0.6381\n"
     ]
    }
   ],
   "source": [
    "# Print the coherence scores\n",
    "for m, cv in zip(x, coherence_values):\n",
    "    print(\"Num Topics =\", m, \" has Coherence Value of\", round(cv, 4))"
   ]
  },
  {
   "cell_type": "code",
   "execution_count": null,
   "metadata": {
    "collapsed": true
   },
   "outputs": [],
   "source": []
  },
  {
   "cell_type": "code",
   "execution_count": 23,
   "metadata": {
    "scrolled": true
   },
   "outputs": [
    {
     "data": {
      "image/png": "[encoded data removed]",
      "text/plain": [
       "<matplotlib.figure.Figure at 0x1bf86c47f0>"
      ]
     },
     "metadata": {},
     "output_type": "display_data"
    },
    {
     "name": "stdout",
     "output_type": "stream",
     "text": [
      "Num Topics = 31  has Coherence Value of 0.6368\n",
      "Num Topics = 32  has Coherence Value of 0.6325\n",
      "Num Topics = 33  has Coherence Value of 0.6433\n",
      "Num Topics = 34  has Coherence Value of 0.643\n",
      "Num Topics = 35  has Coherence Value of 0.6396\n",
      "Num Topics = 36  has Coherence Value of 0.6377\n",
      "Num Topics = 37  has Coherence Value of 0.6424\n",
      "Num Topics = 38  has Coherence Value of 0.6457\n",
      "Num Topics = 39  has Coherence Value of 0.6476\n",
      "Num Topics = 40  has Coherence Value of 0.6486\n",
      "Num Topics = 41  has Coherence Value of 0.6438\n",
      "Num Topics = 42  has Coherence Value of 0.6487\n",
      "Num Topics = 43  has Coherence Value of 0.651\n",
      "Num Topics = 44  has Coherence Value of 0.6513\n",
      "Num Topics = 45  has Coherence Value of 0.6447\n",
      "Num Topics = 46  has Coherence Value of 0.6406\n",
      "Num Topics = 47  has Coherence Value of 0.6471\n",
      "Num Topics = 48  has Coherence Value of 0.6474\n",
      "Num Topics = 49  has Coherence Value of 0.6594\n",
      "Num Topics = 50  has Coherence Value of 0.6444\n"
     ]
    }
   ],
   "source": [
    "# Can take a long time to run.\n",
    "model_list, coherence_values = compute_coherence_values(dictionary=id2word, corpus=corpus, texts=data_lemmatized, start=31, limit=51, step=1)\n",
    "\n",
    "# Show graph\n",
    "limit=51; start=31; step=1;\n",
    "x = range(start, limit, step)\n",
    "plt.plot(x, coherence_values)\n",
    "plt.xlabel(\"Num Topics\")\n",
    "plt.ylabel(\"Coherence score\")\n",
    "plt.legend((\"coherence_values\"), loc='best')\n",
    "plt.show()\n",
    "\n",
    "# Print the coherence scores\n",
    "for m, cv in zip(x, coherence_values):\n",
    "    print(\"Num Topics =\", m, \" has Coherence Value of\", round(cv, 4))"
   ]
  },
  {
   "cell_type": "code",
   "execution_count": 24,
   "metadata": {},
   "outputs": [
    {
     "name": "stdout",
     "output_type": "stream",
     "text": [
      "Num Topics = 31  has Coherence Value of 0.6368\n",
      "Num Topics = 32  has Coherence Value of 0.6325\n",
      "Num Topics = 33  has Coherence Value of 0.6433\n",
      "Num Topics = 34  has Coherence Value of 0.643\n",
      "Num Topics = 35  has Coherence Value of 0.6396\n",
      "Num Topics = 36  has Coherence Value of 0.6377\n",
      "Num Topics = 37  has Coherence Value of 0.6424\n",
      "Num Topics = 38  has Coherence Value of 0.6457\n",
      "Num Topics = 39  has Coherence Value of 0.6476\n",
      "Num Topics = 40  has Coherence Value of 0.6486\n",
      "Num Topics = 41  has Coherence Value of 0.6438\n",
      "Num Topics = 42  has Coherence Value of 0.6487\n",
      "Num Topics = 43  has Coherence Value of 0.651\n",
      "Num Topics = 44  has Coherence Value of 0.6513\n",
      "Num Topics = 45  has Coherence Value of 0.6447\n",
      "Num Topics = 46  has Coherence Value of 0.6406\n",
      "Num Topics = 47  has Coherence Value of 0.6471\n",
      "Num Topics = 48  has Coherence Value of 0.6474\n",
      "Num Topics = 49  has Coherence Value of 0.6594\n",
      "Num Topics = 50  has Coherence Value of 0.6444\n"
     ]
    }
   ],
   "source": [
    "# Print the coherence scores\n",
    "for m, cv in zip(x, coherence_values):\n",
    "    print(\"Num Topics =\", m, \" has Coherence Value of\", round(cv, 4))"
   ]
  },
  {
   "cell_type": "code",
   "execution_count": 25,
   "metadata": {},
   "outputs": [
    {
     "name": "stdout",
     "output_type": "stream",
     "text": [
      "make github see this change\n"
     ]
    }
   ],
   "source": [
    "print(\"make github see this change\")"
   ]
  },
  {
   "cell_type": "code",
   "execution_count": 39,
   "metadata": {},
   "outputs": [
    {
     "name": "stdout",
     "output_type": "stream",
     "text": [
      "Num Topics = 51  has Coherence Value of 0.6368\n",
      "Num Topics = 52  has Coherence Value of 0.6325\n",
      "Num Topics = 53  has Coherence Value of 0.6433\n",
      "Num Topics = 54  has Coherence Value of 0.643\n",
      "Num Topics = 55  has Coherence Value of 0.6396\n",
      "Num Topics = 56  has Coherence Value of 0.6377\n"
     ]
    }
   ],
   "source": [
    "# Can take a long time to run.\n",
    "# model_list, coherence_values = compute_coherence_values(dictionary=id2word, corpus=corpus, texts=data_lemmatized, start=51, limit=61, step=1)\n",
    "\n",
    "# # Show graph\n",
    "# limit=57; start=51; step=1;\n",
    "# x = range(start, limit, step)\n",
    "# plt.plot(x, coherence_values)\n",
    "# plt.xlabel(\"Num Topics\")\n",
    "# plt.ylabel(\"Coherence score\")\n",
    "# plt.legend((\"coherence_values\"), loc='best')\n",
    "# plt.show()\n",
    "\n",
    "# Print the coherence scores\n",
    "for m, cv in zip(x, coherence_values):\n",
    "    print(\"Num Topics =\", m, \" has Coherence Value of\", round(cv, 4))"
   ]
  },
  {
   "cell_type": "code",
   "execution_count": 32,
   "metadata": {},
   "outputs": [
    {
     "ename": "KeyboardInterrupt",
     "evalue": "",
     "output_type": "error",
     "traceback": [
      "\u001b[0;31m--------------------------------------------------------------------------\u001b[0m",
      "\u001b[0;31mKeyboardInterrupt\u001b[0m                        Traceback (most recent call last)",
      "\u001b[0;32m<ipython-input-32-2bbf9cb59aef>\u001b[0m in \u001b[0;36m<module>\u001b[0;34m\u001b[0m\n\u001b[1;32m      1\u001b[0m \u001b[0;31m# Can take a long time to run.\u001b[0m\u001b[0;34m\u001b[0m\u001b[0;34m\u001b[0m\u001b[0m\n\u001b[0;32m----> 2\u001b[0;31m \u001b[0mmodel_list\u001b[0m\u001b[0;34m,\u001b[0m \u001b[0mcoherence_values\u001b[0m \u001b[0;34m=\u001b[0m \u001b[0mcompute_coherence_values\u001b[0m\u001b[0;34m(\u001b[0m\u001b[0mdictionary\u001b[0m\u001b[0;34m=\u001b[0m\u001b[0mid2word\u001b[0m\u001b[0;34m,\u001b[0m \u001b[0mcorpus\u001b[0m\u001b[0;34m=\u001b[0m\u001b[0mcorpus\u001b[0m\u001b[0;34m,\u001b[0m \u001b[0mtexts\u001b[0m\u001b[0;34m=\u001b[0m\u001b[0mdata_lemmatized\u001b[0m\u001b[0;34m,\u001b[0m \u001b[0mstart\u001b[0m\u001b[0;34m=\u001b[0m\u001b[0;36m61\u001b[0m\u001b[0;34m,\u001b[0m \u001b[0mlimit\u001b[0m\u001b[0;34m=\u001b[0m\u001b[0;36m65\u001b[0m\u001b[0;34m,\u001b[0m \u001b[0mstep\u001b[0m\u001b[0;34m=\u001b[0m\u001b[0;36m1\u001b[0m\u001b[0;34m)\u001b[0m\u001b[0;34m\u001b[0m\u001b[0m\n\u001b[0m\u001b[1;32m      3\u001b[0m \u001b[0;34m\u001b[0m\u001b[0m\n\u001b[1;32m      4\u001b[0m \u001b[0;31m# # Show graph\u001b[0m\u001b[0;34m\u001b[0m\u001b[0;34m\u001b[0m\u001b[0m\n\u001b[1;32m      5\u001b[0m \u001b[0;31m# limit=61; start=51; step=1;\u001b[0m\u001b[0;34m\u001b[0m\u001b[0;34m\u001b[0m\u001b[0m\n",
      "\u001b[0;32m<ipython-input-19-f6c10e56a163>\u001b[0m in \u001b[0;36mcompute_coherence_values\u001b[0;34m(dictionary, corpus, texts, limit, start, step)\u001b[0m\n\u001b[1;32m     18\u001b[0m     \u001b[0mmodel_list\u001b[0m \u001b[0;34m=\u001b[0m \u001b[0;34m[\u001b[0m\u001b[0;34m]\u001b[0m\u001b[0;34m\u001b[0m\u001b[0m\n\u001b[1;32m     19\u001b[0m     \u001b[0;32mfor\u001b[0m \u001b[0mnum_topics\u001b[0m \u001b[0;32min\u001b[0m \u001b[0mrange\u001b[0m\u001b[0;34m(\u001b[0m\u001b[0mstart\u001b[0m\u001b[0;34m,\u001b[0m \u001b[0mlimit\u001b[0m\u001b[0;34m,\u001b[0m \u001b[0mstep\u001b[0m\u001b[0;34m)\u001b[0m\u001b[0;34m:\u001b[0m\u001b[0;34m\u001b[0m\u001b[0m\n\u001b[0;32m---> 20\u001b[0;31m         \u001b[0mmodel\u001b[0m \u001b[0;34m=\u001b[0m \u001b[0mgensim\u001b[0m\u001b[0;34m.\u001b[0m\u001b[0mmodels\u001b[0m\u001b[0;34m.\u001b[0m\u001b[0mwrappers\u001b[0m\u001b[0;34m.\u001b[0m\u001b[0mLdaMallet\u001b[0m\u001b[0;34m(\u001b[0m\u001b[0mmallet_path\u001b[0m\u001b[0;34m,\u001b[0m \u001b[0mcorpus\u001b[0m\u001b[0;34m=\u001b[0m\u001b[0mcorpus\u001b[0m\u001b[0;34m,\u001b[0m \u001b[0mnum_topics\u001b[0m\u001b[0;34m=\u001b[0m\u001b[0mnum_topics\u001b[0m\u001b[0;34m,\u001b[0m \u001b[0mid2word\u001b[0m\u001b[0;34m=\u001b[0m\u001b[0mid2word\u001b[0m\u001b[0;34m)\u001b[0m\u001b[0;34m\u001b[0m\u001b[0m\n\u001b[0m\u001b[1;32m     21\u001b[0m         \u001b[0mmodel_list\u001b[0m\u001b[0;34m.\u001b[0m\u001b[0mappend\u001b[0m\u001b[0;34m(\u001b[0m\u001b[0mmodel\u001b[0m\u001b[0;34m)\u001b[0m\u001b[0;34m\u001b[0m\u001b[0m\n\u001b[1;32m     22\u001b[0m         \u001b[0mcoherencemodel\u001b[0m \u001b[0;34m=\u001b[0m \u001b[0mCoherenceModel\u001b[0m\u001b[0;34m(\u001b[0m\u001b[0mmodel\u001b[0m\u001b[0;34m=\u001b[0m\u001b[0mmodel\u001b[0m\u001b[0;34m,\u001b[0m \u001b[0mtexts\u001b[0m\u001b[0;34m=\u001b[0m\u001b[0mtexts\u001b[0m\u001b[0;34m,\u001b[0m \u001b[0mdictionary\u001b[0m\u001b[0;34m=\u001b[0m\u001b[0mdictionary\u001b[0m\u001b[0;34m,\u001b[0m \u001b[0mcoherence\u001b[0m\u001b[0;34m=\u001b[0m\u001b[0;34m'c_v'\u001b[0m\u001b[0;34m)\u001b[0m\u001b[0;34m\u001b[0m\u001b[0m\n",
      "\u001b[0;32m~/anaconda/lib/python3.6/site-packages/gensim/models/wrappers/ldamallet.py\u001b[0m in \u001b[0;36m__init__\u001b[0;34m(self, mallet_path, corpus, num_topics, alpha, id2word, workers, prefix, optimize_interval, iterations, topic_threshold)\u001b[0m\n\u001b[1;32m    124\u001b[0m         \u001b[0mself\u001b[0m\u001b[0;34m.\u001b[0m\u001b[0miterations\u001b[0m \u001b[0;34m=\u001b[0m \u001b[0miterations\u001b[0m\u001b[0;34m\u001b[0m\u001b[0m\n\u001b[1;32m    125\u001b[0m         \u001b[0;32mif\u001b[0m \u001b[0mcorpus\u001b[0m \u001b[0;32mis\u001b[0m \u001b[0;32mnot\u001b[0m \u001b[0;32mNone\u001b[0m\u001b[0;34m:\u001b[0m\u001b[0;34m\u001b[0m\u001b[0m\n\u001b[0;32m--> 126\u001b[0;31m             \u001b[0mself\u001b[0m\u001b[0;34m.\u001b[0m\u001b[0mtrain\u001b[0m\u001b[0;34m(\u001b[0m\u001b[0mcorpus\u001b[0m\u001b[0;34m)\u001b[0m\u001b[0;34m\u001b[0m\u001b[0m\n\u001b[0m\u001b[1;32m    127\u001b[0m \u001b[0;34m\u001b[0m\u001b[0m\n\u001b[1;32m    128\u001b[0m     \u001b[0;32mdef\u001b[0m \u001b[0mfinferencer\u001b[0m\u001b[0;34m(\u001b[0m\u001b[0mself\u001b[0m\u001b[0;34m)\u001b[0m\u001b[0;34m:\u001b[0m\u001b[0;34m\u001b[0m\u001b[0m\n",
      "\u001b[0;32m~/anaconda/lib/python3.6/site-packages/gensim/models/wrappers/ldamallet.py\u001b[0m in \u001b[0;36mtrain\u001b[0;34m(self, corpus)\u001b[0m\n\u001b[1;32m    265\u001b[0m \u001b[0;34m\u001b[0m\u001b[0m\n\u001b[1;32m    266\u001b[0m         \"\"\"\n\u001b[0;32m--> 267\u001b[0;31m         \u001b[0mself\u001b[0m\u001b[0;34m.\u001b[0m\u001b[0mconvert_input\u001b[0m\u001b[0;34m(\u001b[0m\u001b[0mcorpus\u001b[0m\u001b[0;34m,\u001b[0m \u001b[0minfer\u001b[0m\u001b[0;34m=\u001b[0m\u001b[0;32mFalse\u001b[0m\u001b[0;34m)\u001b[0m\u001b[0;34m\u001b[0m\u001b[0m\n\u001b[0m\u001b[1;32m    268\u001b[0m         \u001b[0mcmd\u001b[0m \u001b[0;34m=\u001b[0m \u001b[0mself\u001b[0m\u001b[0;34m.\u001b[0m\u001b[0mmallet_path\u001b[0m \u001b[0;34m+\u001b[0m \u001b[0;34m' train-topics --input %s --num-topics %s  --alpha %s --optimize-interval %s '\u001b[0m\u001b[0;31m\\\u001b[0m\u001b[0;34m\u001b[0m\u001b[0m\n\u001b[1;32m    269\u001b[0m             \u001b[0;34m'--num-threads %s --output-state %s --output-doc-topics %s --output-topic-keys %s '\u001b[0m\u001b[0;31m\\\u001b[0m\u001b[0;34m\u001b[0m\u001b[0m\n",
      "\u001b[0;32m~/anaconda/lib/python3.6/site-packages/gensim/models/wrappers/ldamallet.py\u001b[0m in \u001b[0;36mconvert_input\u001b[0;34m(self, corpus, infer, serialize_corpus)\u001b[0m\n\u001b[1;32m    241\u001b[0m             \u001b[0mlogger\u001b[0m\u001b[0;34m.\u001b[0m\u001b[0minfo\u001b[0m\u001b[0;34m(\u001b[0m\u001b[0;34m\"serializing temporary corpus to %s\"\u001b[0m\u001b[0;34m,\u001b[0m \u001b[0mself\u001b[0m\u001b[0;34m.\u001b[0m\u001b[0mfcorpustxt\u001b[0m\u001b[0;34m(\u001b[0m\u001b[0;34m)\u001b[0m\u001b[0;34m)\u001b[0m\u001b[0;34m\u001b[0m\u001b[0m\n\u001b[1;32m    242\u001b[0m             \u001b[0;32mwith\u001b[0m \u001b[0msmart_open\u001b[0m\u001b[0;34m(\u001b[0m\u001b[0mself\u001b[0m\u001b[0;34m.\u001b[0m\u001b[0mfcorpustxt\u001b[0m\u001b[0;34m(\u001b[0m\u001b[0;34m)\u001b[0m\u001b[0;34m,\u001b[0m \u001b[0;34m'wb'\u001b[0m\u001b[0;34m)\u001b[0m \u001b[0;32mas\u001b[0m \u001b[0mfout\u001b[0m\u001b[0;34m:\u001b[0m\u001b[0;34m\u001b[0m\u001b[0m\n\u001b[0;32m--> 243\u001b[0;31m                 \u001b[0mself\u001b[0m\u001b[0;34m.\u001b[0m\u001b[0mcorpus2mallet\u001b[0m\u001b[0;34m(\u001b[0m\u001b[0mcorpus\u001b[0m\u001b[0;34m,\u001b[0m \u001b[0mfout\u001b[0m\u001b[0;34m)\u001b[0m\u001b[0;34m\u001b[0m\u001b[0m\n\u001b[0m\u001b[1;32m    244\u001b[0m \u001b[0;34m\u001b[0m\u001b[0m\n\u001b[1;32m    245\u001b[0m         \u001b[0;31m# convert the text file above into MALLET's internal format\u001b[0m\u001b[0;34m\u001b[0m\u001b[0;34m\u001b[0m\u001b[0m\n",
      "\u001b[0;32m~/anaconda/lib/python3.6/site-packages/gensim/models/wrappers/ldamallet.py\u001b[0m in \u001b[0;36mcorpus2mallet\u001b[0;34m(self, corpus, file_like)\u001b[0m\n\u001b[1;32m    220\u001b[0m         \u001b[0;32mfor\u001b[0m \u001b[0mdocno\u001b[0m\u001b[0;34m,\u001b[0m \u001b[0mdoc\u001b[0m \u001b[0;32min\u001b[0m \u001b[0menumerate\u001b[0m\u001b[0;34m(\u001b[0m\u001b[0mcorpus\u001b[0m\u001b[0;34m)\u001b[0m\u001b[0;34m:\u001b[0m\u001b[0;34m\u001b[0m\u001b[0m\n\u001b[1;32m    221\u001b[0m             \u001b[0;32mif\u001b[0m \u001b[0mself\u001b[0m\u001b[0;34m.\u001b[0m\u001b[0mid2word\u001b[0m\u001b[0;34m:\u001b[0m\u001b[0;34m\u001b[0m\u001b[0m\n\u001b[0;32m--> 222\u001b[0;31m                 \u001b[0mtokens\u001b[0m \u001b[0;34m=\u001b[0m \u001b[0msum\u001b[0m\u001b[0;34m(\u001b[0m\u001b[0;34m(\u001b[0m\u001b[0;34m[\u001b[0m\u001b[0mself\u001b[0m\u001b[0;34m.\u001b[0m\u001b[0mid2word\u001b[0m\u001b[0;34m[\u001b[0m\u001b[0mtokenid\u001b[0m\u001b[0;34m]\u001b[0m\u001b[0;34m]\u001b[0m \u001b[0;34m*\u001b[0m \u001b[0mint\u001b[0m\u001b[0;34m(\u001b[0m\u001b[0mcnt\u001b[0m\u001b[0;34m)\u001b[0m \u001b[0;32mfor\u001b[0m \u001b[0mtokenid\u001b[0m\u001b[0;34m,\u001b[0m \u001b[0mcnt\u001b[0m \u001b[0;32min\u001b[0m \u001b[0mdoc\u001b[0m\u001b[0;34m)\u001b[0m\u001b[0;34m,\u001b[0m \u001b[0;34m[\u001b[0m\u001b[0;34m]\u001b[0m\u001b[0;34m)\u001b[0m\u001b[0;34m\u001b[0m\u001b[0m\n\u001b[0m\u001b[1;32m    223\u001b[0m             \u001b[0;32melse\u001b[0m\u001b[0;34m:\u001b[0m\u001b[0;34m\u001b[0m\u001b[0m\n\u001b[1;32m    224\u001b[0m                 \u001b[0mtokens\u001b[0m \u001b[0;34m=\u001b[0m \u001b[0msum\u001b[0m\u001b[0;34m(\u001b[0m\u001b[0;34m(\u001b[0m\u001b[0;34m[\u001b[0m\u001b[0mstr\u001b[0m\u001b[0;34m(\u001b[0m\u001b[0mtokenid\u001b[0m\u001b[0;34m)\u001b[0m\u001b[0;34m]\u001b[0m \u001b[0;34m*\u001b[0m \u001b[0mint\u001b[0m\u001b[0;34m(\u001b[0m\u001b[0mcnt\u001b[0m\u001b[0;34m)\u001b[0m \u001b[0;32mfor\u001b[0m \u001b[0mtokenid\u001b[0m\u001b[0;34m,\u001b[0m \u001b[0mcnt\u001b[0m \u001b[0;32min\u001b[0m \u001b[0mdoc\u001b[0m\u001b[0;34m)\u001b[0m\u001b[0;34m,\u001b[0m \u001b[0;34m[\u001b[0m\u001b[0;34m]\u001b[0m\u001b[0;34m)\u001b[0m\u001b[0;34m\u001b[0m\u001b[0m\n",
      "\u001b[0;32m~/anaconda/lib/python3.6/site-packages/gensim/models/wrappers/ldamallet.py\u001b[0m in \u001b[0;36m<genexpr>\u001b[0;34m(.0)\u001b[0m\n\u001b[1;32m    220\u001b[0m         \u001b[0;32mfor\u001b[0m \u001b[0mdocno\u001b[0m\u001b[0;34m,\u001b[0m \u001b[0mdoc\u001b[0m \u001b[0;32min\u001b[0m \u001b[0menumerate\u001b[0m\u001b[0;34m(\u001b[0m\u001b[0mcorpus\u001b[0m\u001b[0;34m)\u001b[0m\u001b[0;34m:\u001b[0m\u001b[0;34m\u001b[0m\u001b[0m\n\u001b[1;32m    221\u001b[0m             \u001b[0;32mif\u001b[0m \u001b[0mself\u001b[0m\u001b[0;34m.\u001b[0m\u001b[0mid2word\u001b[0m\u001b[0;34m:\u001b[0m\u001b[0;34m\u001b[0m\u001b[0m\n\u001b[0;32m--> 222\u001b[0;31m                 \u001b[0mtokens\u001b[0m \u001b[0;34m=\u001b[0m \u001b[0msum\u001b[0m\u001b[0;34m(\u001b[0m\u001b[0;34m(\u001b[0m\u001b[0;34m[\u001b[0m\u001b[0mself\u001b[0m\u001b[0;34m.\u001b[0m\u001b[0mid2word\u001b[0m\u001b[0;34m[\u001b[0m\u001b[0mtokenid\u001b[0m\u001b[0;34m]\u001b[0m\u001b[0;34m]\u001b[0m \u001b[0;34m*\u001b[0m \u001b[0mint\u001b[0m\u001b[0;34m(\u001b[0m\u001b[0mcnt\u001b[0m\u001b[0;34m)\u001b[0m \u001b[0;32mfor\u001b[0m \u001b[0mtokenid\u001b[0m\u001b[0;34m,\u001b[0m \u001b[0mcnt\u001b[0m \u001b[0;32min\u001b[0m \u001b[0mdoc\u001b[0m\u001b[0;34m)\u001b[0m\u001b[0;34m,\u001b[0m \u001b[0;34m[\u001b[0m\u001b[0;34m]\u001b[0m\u001b[0;34m)\u001b[0m\u001b[0;34m\u001b[0m\u001b[0m\n\u001b[0m\u001b[1;32m    223\u001b[0m             \u001b[0;32melse\u001b[0m\u001b[0;34m:\u001b[0m\u001b[0;34m\u001b[0m\u001b[0m\n\u001b[1;32m    224\u001b[0m                 \u001b[0mtokens\u001b[0m \u001b[0;34m=\u001b[0m \u001b[0msum\u001b[0m\u001b[0;34m(\u001b[0m\u001b[0;34m(\u001b[0m\u001b[0;34m[\u001b[0m\u001b[0mstr\u001b[0m\u001b[0;34m(\u001b[0m\u001b[0mtokenid\u001b[0m\u001b[0;34m)\u001b[0m\u001b[0;34m]\u001b[0m \u001b[0;34m*\u001b[0m \u001b[0mint\u001b[0m\u001b[0;34m(\u001b[0m\u001b[0mcnt\u001b[0m\u001b[0;34m)\u001b[0m \u001b[0;32mfor\u001b[0m \u001b[0mtokenid\u001b[0m\u001b[0;34m,\u001b[0m \u001b[0mcnt\u001b[0m \u001b[0;32min\u001b[0m \u001b[0mdoc\u001b[0m\u001b[0;34m)\u001b[0m\u001b[0;34m,\u001b[0m \u001b[0;34m[\u001b[0m\u001b[0;34m]\u001b[0m\u001b[0;34m)\u001b[0m\u001b[0;34m\u001b[0m\u001b[0m\n",
      "\u001b[0;31mKeyboardInterrupt\u001b[0m: "
     ]
    }
   ],
   "source": [
    "# Can take a long time to run.\n",
    "model_list, coherence_values = compute_coherence_values(dictionary=id2word, corpus=corpus, texts=data_lemmatized, start=61, limit=65, step=1)\n",
    "\n",
    "# # Show graph\n",
    "# limit=61; start=51; step=1;\n",
    "# x = range(start, limit, step)\n",
    "# plt.plot(x, coherence_values)\n",
    "# plt.xlabel(\"Num Topics\")\n",
    "# plt.ylabel(\"Coherence score\")\n",
    "# plt.legend((\"coherence_values\"), loc='best')\n",
    "# plt.show()\n",
    "\n",
    "# Print the coherence scores\n",
    "for m, cv in zip(x, coherence_values):\n",
    "    print(\"Num Topics =\", m, \" has Coherence Value of\", round(cv, 4))"
   ]
  },
  {
   "cell_type": "code",
   "execution_count": null,
   "metadata": {
    "collapsed": true
   },
   "outputs": [],
   "source": []
  }
 ],
 "metadata": {
  "kernelspec": {
   "display_name": "Python 3",
   "language": "python",
   "name": "python3"
  },
  "language_info": {
   "codemirror_mode": {
    "name": "ipython",
    "version": 3
   },
   "file_extension": ".py",
   "mimetype": "text/x-python",
   "name": "python",
   "nbconvert_exporter": "python",
   "pygments_lexer": "ipython3",
   "version": "3.6.8"
  }
 },
 "nbformat": 4,
 "nbformat_minor": 2
}
